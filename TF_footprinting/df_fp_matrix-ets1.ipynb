{
 "cells": [
  {
   "cell_type": "code",
   "execution_count": 1,
   "id": "63edc207",
   "metadata": {
    "ExecuteTime": {
     "end_time": "2022-08-12T23:52:37.750218Z",
     "start_time": "2022-08-12T23:52:37.725243Z"
    }
   },
   "outputs": [
    {
     "data": {
      "text/plain": [
       "'\\ncompare footprints\\n'"
      ]
     },
     "execution_count": 1,
     "metadata": {},
     "output_type": "execute_result"
    }
   ],
   "source": [
    "\"\"\"\n",
    "compare footprints\n",
    "\"\"\""
   ]
  },
  {
   "cell_type": "code",
   "execution_count": 2,
   "id": "33e25e38",
   "metadata": {
    "ExecuteTime": {
     "end_time": "2022-08-12T23:52:38.323380Z",
     "start_time": "2022-08-12T23:52:37.754116Z"
    }
   },
   "outputs": [],
   "source": [
    "from functools import partial\n",
    "import glob\n",
    "from multiprocessing import Pool\n",
    "import numpy as np\n",
    "import os\n",
    "import pandas as pd\n",
    "import pybedtools as pbt\n",
    "import re\n",
    "import subprocess\n",
    "import sys\n",
    "\n",
    "sys.path.append(\"/dors/capra_lab/users/fongsl/tools/py_/\")\n",
    "sys.path.append(\"/dors/capra_lab/users/fongsl/tools/genome/\")\n",
    "import config_readwrite as crw\n",
    "import chr_functions\n",
    "import split_filename"
   ]
  },
  {
   "cell_type": "code",
   "execution_count": 3,
   "id": "af237839",
   "metadata": {
    "ExecuteTime": {
     "end_time": "2022-08-12T23:52:38.339992Z",
     "start_time": "2022-08-12T23:52:38.327744Z"
    }
   },
   "outputs": [],
   "source": [
    "name = \"/data/hodges_lab/ATAC-STARR_B-cells/bin_human-evolution/config\"\n",
    "config, configfile_name = crw.read_config(name)\n",
    "\n",
    "SHUF = config[\"SHUFFLES\"][\"shuf-all\"]\n",
    "REGIONS = config[\"CIS_TRANS\"][\"regions\"]\n",
    "ANNOT = config[\"CIS_TRANS\"][\"regions_annotations\"]\n",
    "\n",
    "ID_TAG = config[\"TF_FOOTPRINTING_JASPAR\"][\"ID_TAG\"]\n",
    "\n",
    "PATH = config[\"TF_FOOTPRINTING\"][\"PATH\"]\n",
    "RE = config[\"TF_FOOTPRINTING\"][\"results\"]\n",
    "\n",
    "RNA = config[\"RNASEQ\"][\"dif_exp\"]\n",
    "FPKM = config[\"RNASEQ\"][\"GM12878_FPKM\"]\n",
    "\n",
    "path, region_file, region = split_filename.split_filename(REGIONS)"
   ]
  },
  {
   "cell_type": "markdown",
   "id": "8e6c45d0",
   "metadata": {},
   "source": [
    "0. string split to get TF name\n",
    "1. intersect regions w footprint files\n",
    "2. create matrix w/ region_id (should be 17605 regions x 693 archetypes) "
   ]
  },
  {
   "cell_type": "markdown",
   "id": "6dc90147",
   "metadata": {},
   "source": [
    "# functions"
   ]
  },
  {
   "cell_type": "markdown",
   "id": "87dc10b5",
   "metadata": {
    "ExecuteTime": {
     "end_time": "2022-08-08T22:10:07.251494Z",
     "start_time": "2022-08-08T22:10:06.676106Z"
    }
   },
   "source": [
    "## load human footprint matrix and raw data"
   ]
  },
  {
   "cell_type": "code",
   "execution_count": 4,
   "id": "8de3103a",
   "metadata": {
    "ExecuteTime": {
     "end_time": "2022-08-12T23:52:38.349106Z",
     "start_time": "2022-08-12T23:52:38.342491Z"
    }
   },
   "outputs": [],
   "source": [
    "def load_data(cell_line, raw):\n",
    "    \n",
    "    MATRIX = config[f\"TF_FOOTPRINTING_JASPAR_{cell_line}\"][\"matrix\"]\n",
    "    \n",
    "    FP = config[f\"TF_FOOTPRINTING_JASPAR_{cell_line}\"][\"FP\"] # write\n",
    "    \n",
    "    if raw is True:\n",
    "        \n",
    "        cols= [\n",
    "            \"#chr\",\n",
    "            \"start\", \"end\", \"region_id\",\n",
    "            \"#chr_tf\",\n",
    "            \"start_tf\",\n",
    "            \"end_tf\",\n",
    "            \"tfid\",\n",
    "            \"score\", \n",
    "            \"strand\",\n",
    "            \"overlap\"\n",
    "            ]\n",
    "        FP = FP.strip('.bed') + \"_clean.bed\"\n",
    "        print(FP)\n",
    "        df = pd.read_csv(FP, sep='\\t',\n",
    "                        )\n",
    "        df=df.drop_duplicates().reset_index()\n",
    "        df[\"len\"] = df[\"end_tf\"] - df['start_tf']\n",
    "        df = df.drop(columns=[\"level_0\", \"index\"])\n",
    "    else:\n",
    "        df = pd.read_csv(MATRIX, sep='\\t').fillna(0)\n",
    "        \n",
    "    return df"
   ]
  },
  {
   "cell_type": "code",
   "execution_count": 5,
   "id": "e2a195e0",
   "metadata": {
    "ExecuteTime": {
     "end_time": "2022-08-12T23:52:39.886103Z",
     "start_time": "2022-08-12T23:52:38.351709Z"
    }
   },
   "outputs": [
    {
     "name": "stdout",
     "output_type": "stream",
     "text": [
      "/data/hodges_lab/ATAC-STARR_B-cells/data/hansen-fong/TF_footprint/GM12878_1.8-JASPAR_0.05-pval_morethan5bp_clean.bed\n"
     ]
    }
   ],
   "source": [
    "CL = \"GM12878\"\n",
    "#RAW = True\n",
    "#hu_raw = load_data(CL, RAW)\n",
    "\n",
    "RAW = False\n",
    "hu = load_data(CL, RAW)"
   ]
  },
  {
   "cell_type": "markdown",
   "id": "7147d720",
   "metadata": {},
   "source": [
    "## describe the rhesus footprints"
   ]
  },
  {
   "cell_type": "code",
   "execution_count": 8,
   "id": "1e0d0232",
   "metadata": {
    "ExecuteTime": {
     "end_time": "2022-08-12T23:52:40.021362Z",
     "start_time": "2022-08-12T23:52:40.016444Z"
    }
   },
   "outputs": [],
   "source": [
    "def load_liftedover_fp(path):\n",
    "    LIFTOVER = os.path.join(path, \"LCL8664_1.liftOver.to.Hg38.bed\")\n",
    "    cols = [\"#chr_tf_lifted\", \"start_tf_lifted\", \"end_tf_lifted\", \"tfid2\", \"region_id\"]\n",
    "    liftover = pd.read_csv(LIFTOVER, sep = '\\t', header=None, names =cols)\n",
    "    return liftover"
   ]
  },
  {
   "cell_type": "code",
   "execution_count": 9,
   "id": "2270eac6",
   "metadata": {
    "ExecuteTime": {
     "end_time": "2022-08-12T23:52:42.074524Z",
     "start_time": "2022-08-12T23:52:40.025110Z"
    }
   },
   "outputs": [
    {
     "name": "stdout",
     "output_type": "stream",
     "text": [
      "/data/hodges_lab/ATAC-STARR_B-cells/data/hansen-fong/TF_footprint/LCL8664_1.8-JASPAR_0.05-pval_morethan5bp_clean.bed\n"
     ]
    }
   ],
   "source": [
    "#CL, RAW = \"LCL8664\", True\n",
    "#rh_raw = load_data(CL, RAW)\n",
    "\n",
    "CL, RAW = \"LCL8664\", False\n",
    "rh = load_data(CL, RAW)\n",
    "lifted = load_liftedover_fp(PATH) # 288802/290592 TF FP liftover\n",
    "\n",
    "#rh_raw = pd.merge(rh_raw, lifted) # merge raw rhe FP data w/ liftover coordinates to hg38"
   ]
  },
  {
   "cell_type": "markdown",
   "id": "6035df61",
   "metadata": {},
   "source": [
    "# Find the TF you're looking for "
   ]
  },
  {
   "cell_type": "code",
   "execution_count": 36,
   "id": "3c7f0c89",
   "metadata": {
    "ExecuteTime": {
     "end_time": "2022-08-13T00:01:43.246958Z",
     "start_time": "2022-08-13T00:01:43.242194Z"
    }
   },
   "outputs": [],
   "source": [
    "def find_tf_name(tfname, df):\n",
    "    names = []\n",
    "    for n, i in enumerate(list(df)):\n",
    "        if tfname in i:\n",
    "            print(n, i)\n",
    "            names.append(i)\n",
    "    return names"
   ]
  },
  {
   "cell_type": "markdown",
   "id": "15c48343",
   "metadata": {},
   "source": [
    "# get hu, rhe ETS1 dataframes"
   ]
  },
  {
   "cell_type": "code",
   "execution_count": 24,
   "id": "f3e2538c",
   "metadata": {
    "ExecuteTime": {
     "end_time": "2022-08-12T23:56:15.745104Z",
     "start_time": "2022-08-12T23:56:15.735744Z"
    }
   },
   "outputs": [],
   "source": [
    "def get_FP_df(tf, df, species):\n",
    "    \n",
    "    # get the human ETS1 FP data\n",
    "    tfdf = df[[\"region_id\", tf]]\n",
    "    \n",
    "    # if there is >1 TFBS predicted in the region, reassign to one. \n",
    "    # Don't care about dose rn\n",
    "\n",
    "    #tfdf.loc[tfdf[tf] >1, tf]=1\n",
    "    \n",
    "    # rename the column to mark that this is human FP data. \n",
    "    tfdf = tfdf.rename(columns={tf:f\"{tf}-{species}_N_FP\"})\n",
    "    \n",
    "    #annotations\n",
    "    tfdf = add_annotations(ANNOT, tfdf)\n",
    "\n",
    "    return tfdf\n"
   ]
  },
  {
   "cell_type": "code",
   "execution_count": 25,
   "id": "599ee5a5",
   "metadata": {
    "ExecuteTime": {
     "end_time": "2022-08-12T23:56:16.108067Z",
     "start_time": "2022-08-12T23:56:16.098167Z"
    }
   },
   "outputs": [],
   "source": [
    "def add_annotations(annot_file, df):\n",
    "    annot = pd.read_csv(annot_file, sep='\\t')\n",
    "\n",
    "    annot_cols = [\n",
    "            '#chr',\n",
    "            'start',\n",
    "            'end',\n",
    "            'region_id',\n",
    "            'conserved_active.regions',\n",
    "\n",
    "            'trans_only',\n",
    "            'cis_only',\n",
    "            'cis+trans',\n",
    "\n",
    "            'HH-active_MM-inactive_cis-only',\n",
    "            'HH-active_MM-inactive_trans-only',\n",
    "            'HH-active_MM-inactive_cis+trans',\n",
    "\n",
    "            'MM-active_HH-inactive_cis-only',\n",
    "            'MM-active_HH-inactive_trans-only',\n",
    "            'MM-active_HH-inactive_cis+trans',\n",
    "            ]\n",
    "    # merge the annotations\n",
    "    annot_df = pd.merge(annot[annot_cols], df, how=\"left\")\n",
    "    \n",
    "    # fill na for regions that did not footprint at all...\n",
    "    annot_df = annot_df.fillna(0)\n",
    "    \n",
    "    \n",
    "    return annot_df"
   ]
  },
  {
   "cell_type": "code",
   "execution_count": 29,
   "id": "49b2f42c",
   "metadata": {
    "ExecuteTime": {
     "end_time": "2022-08-12T23:56:26.692230Z",
     "start_time": "2022-08-12T23:56:26.679852Z"
    }
   },
   "outputs": [],
   "source": [
    "def dif_fp(tf, hutf, rhtf):\n",
    "    annot_cols = [\n",
    "            '#chr',\n",
    "            'start',\n",
    "            'end',\n",
    "            'region_id',\n",
    "            'conserved_active.regions',\n",
    "\n",
    "            'trans_only',\n",
    "            'cis_only',\n",
    "            'cis+trans',\n",
    "\n",
    "            'HH-active_MM-inactive_cis-only',\n",
    "            'HH-active_MM-inactive_trans-only',\n",
    "            'HH-active_MM-inactive_cis+trans',\n",
    "\n",
    "            'MM-active_HH-inactive_cis-only',\n",
    "            'MM-active_HH-inactive_trans-only',\n",
    "            'MM-active_HH-inactive_cis+trans',\n",
    "            ]\n",
    "    # merge the two columns on the region id\n",
    "    merged = pd.merge(hutf, rhtf, on=annot_cols, how = \"left\")\n",
    "\n",
    "    # fill the na's\n",
    "    merged = merged.fillna(0) \n",
    "    \n",
    "    # calculate the differential fp column \n",
    "    merged[f\"{tf}_difFP\"]= merged[f\"{tf}-human_N_FP\"]-merged[f\"{tf}-rhesus_N_FP\"]\n",
    "    \n",
    "    # reorder columns\n",
    "    order_cols = [\n",
    "                '#chr',\n",
    "                'start',\n",
    "                'end',\n",
    "                'region_id',\n",
    "                f'{tf}-human_N_FP',\n",
    "                f'{tf}-rhesus_N_FP',\n",
    "                f'{tf}_difFP',\n",
    "                'conserved_active.regions',\n",
    "                'trans_only',\n",
    "                'cis_only',\n",
    "                'cis+trans',\n",
    "                'HH-active_MM-inactive_cis-only',\n",
    "                'HH-active_MM-inactive_trans-only',\n",
    "                'HH-active_MM-inactive_cis+trans',\n",
    "                'MM-active_HH-inactive_cis-only',\n",
    "                'MM-active_HH-inactive_trans-only',\n",
    "                'MM-active_HH-inactive_cis+trans',\n",
    "               \n",
    "    ]\n",
    "\n",
    "    merged = merged[order_cols]\n",
    "\n",
    "    return merged"
   ]
  },
  {
   "cell_type": "code",
   "execution_count": 38,
   "id": "4ab4e6b5",
   "metadata": {
    "ExecuteTime": {
     "end_time": "2022-08-13T00:02:34.918262Z",
     "start_time": "2022-08-13T00:02:34.760669Z"
    }
   },
   "outputs": [
    {
     "name": "stdout",
     "output_type": "stream",
     "text": [
      "124 ETS1_MA0098.3\n"
     ]
    }
   ],
   "source": [
    "TFNAMES = find_tf_name(\"ETS1\", hu)\n",
    "TF = TFNAMES[0]\n",
    "\n",
    "\n",
    "# get the human ETS1 FP data\n",
    "hu_ets1 = get_FP_df(TF, hu, \"human\")\n",
    "\n",
    "# get the rhesus ETS1 FP data\n",
    "rhe_ets1 = get_FP_df(TF, rh, \"rhesus\")"
   ]
  },
  {
   "cell_type": "code",
   "execution_count": 39,
   "id": "b617514e",
   "metadata": {
    "ExecuteTime": {
     "end_time": "2022-08-13T00:02:38.143030Z",
     "start_time": "2022-08-13T00:02:38.028545Z"
    }
   },
   "outputs": [
    {
     "name": "stdout",
     "output_type": "stream",
     "text": [
      "(17604, 17)\n"
     ]
    },
    {
     "data": {
      "text/html": [
       "<div>\n",
       "<style scoped>\n",
       "    .dataframe tbody tr th:only-of-type {\n",
       "        vertical-align: middle;\n",
       "    }\n",
       "\n",
       "    .dataframe tbody tr th {\n",
       "        vertical-align: top;\n",
       "    }\n",
       "\n",
       "    .dataframe thead th {\n",
       "        text-align: right;\n",
       "    }\n",
       "</style>\n",
       "<table border=\"1\" class=\"dataframe\">\n",
       "  <thead>\n",
       "    <tr style=\"text-align: right;\">\n",
       "      <th></th>\n",
       "      <th>#chr</th>\n",
       "      <th>start</th>\n",
       "      <th>end</th>\n",
       "      <th>region_id</th>\n",
       "      <th>ETS1_MA0098.3-human_N_FP</th>\n",
       "      <th>ETS1_MA0098.3-rhesus_N_FP</th>\n",
       "      <th>ETS1_MA0098.3_difFP</th>\n",
       "      <th>conserved_active.regions</th>\n",
       "      <th>trans_only</th>\n",
       "      <th>cis_only</th>\n",
       "      <th>cis+trans</th>\n",
       "      <th>HH-active_MM-inactive_cis-only</th>\n",
       "      <th>HH-active_MM-inactive_trans-only</th>\n",
       "      <th>HH-active_MM-inactive_cis+trans</th>\n",
       "      <th>MM-active_HH-inactive_cis-only</th>\n",
       "      <th>MM-active_HH-inactive_trans-only</th>\n",
       "      <th>MM-active_HH-inactive_cis+trans</th>\n",
       "    </tr>\n",
       "  </thead>\n",
       "  <tbody>\n",
       "    <tr>\n",
       "      <th>5</th>\n",
       "      <td>chr1</td>\n",
       "      <td>1375433</td>\n",
       "      <td>1375553</td>\n",
       "      <td>chr1:1375433-1375553</td>\n",
       "      <td>1.0</td>\n",
       "      <td>0.0</td>\n",
       "      <td>1.0</td>\n",
       "      <td>0.0</td>\n",
       "      <td>0</td>\n",
       "      <td>0</td>\n",
       "      <td>1</td>\n",
       "      <td>0.0</td>\n",
       "      <td>0.0</td>\n",
       "      <td>0.0</td>\n",
       "      <td>0.0</td>\n",
       "      <td>0.0</td>\n",
       "      <td>1.0</td>\n",
       "    </tr>\n",
       "    <tr>\n",
       "      <th>9</th>\n",
       "      <td>chr1</td>\n",
       "      <td>1658947</td>\n",
       "      <td>1659167</td>\n",
       "      <td>chr1:1658947-1659167</td>\n",
       "      <td>2.0</td>\n",
       "      <td>2.0</td>\n",
       "      <td>0.0</td>\n",
       "      <td>1.0</td>\n",
       "      <td>0</td>\n",
       "      <td>0</td>\n",
       "      <td>0</td>\n",
       "      <td>0.0</td>\n",
       "      <td>0.0</td>\n",
       "      <td>0.0</td>\n",
       "      <td>0.0</td>\n",
       "      <td>0.0</td>\n",
       "      <td>0.0</td>\n",
       "    </tr>\n",
       "    <tr>\n",
       "      <th>10</th>\n",
       "      <td>chr1</td>\n",
       "      <td>1659227</td>\n",
       "      <td>1659317</td>\n",
       "      <td>chr1:1659227-1659317</td>\n",
       "      <td>1.0</td>\n",
       "      <td>0.0</td>\n",
       "      <td>1.0</td>\n",
       "      <td>1.0</td>\n",
       "      <td>0</td>\n",
       "      <td>0</td>\n",
       "      <td>0</td>\n",
       "      <td>0.0</td>\n",
       "      <td>0.0</td>\n",
       "      <td>0.0</td>\n",
       "      <td>0.0</td>\n",
       "      <td>0.0</td>\n",
       "      <td>0.0</td>\n",
       "    </tr>\n",
       "    <tr>\n",
       "      <th>17</th>\n",
       "      <td>chr1</td>\n",
       "      <td>2195083</td>\n",
       "      <td>2195323</td>\n",
       "      <td>chr1:2195083-2195323</td>\n",
       "      <td>1.0</td>\n",
       "      <td>1.0</td>\n",
       "      <td>0.0</td>\n",
       "      <td>0.0</td>\n",
       "      <td>1</td>\n",
       "      <td>0</td>\n",
       "      <td>0</td>\n",
       "      <td>0.0</td>\n",
       "      <td>0.0</td>\n",
       "      <td>0.0</td>\n",
       "      <td>0.0</td>\n",
       "      <td>1.0</td>\n",
       "      <td>0.0</td>\n",
       "    </tr>\n",
       "    <tr>\n",
       "      <th>24</th>\n",
       "      <td>chr1</td>\n",
       "      <td>6026008</td>\n",
       "      <td>6026158</td>\n",
       "      <td>chr1:6026008-6026158</td>\n",
       "      <td>1.0</td>\n",
       "      <td>0.0</td>\n",
       "      <td>1.0</td>\n",
       "      <td>0.0</td>\n",
       "      <td>0</td>\n",
       "      <td>1</td>\n",
       "      <td>0</td>\n",
       "      <td>1.0</td>\n",
       "      <td>0.0</td>\n",
       "      <td>0.0</td>\n",
       "      <td>0.0</td>\n",
       "      <td>0.0</td>\n",
       "      <td>0.0</td>\n",
       "    </tr>\n",
       "    <tr>\n",
       "      <th>...</th>\n",
       "      <td>...</td>\n",
       "      <td>...</td>\n",
       "      <td>...</td>\n",
       "      <td>...</td>\n",
       "      <td>...</td>\n",
       "      <td>...</td>\n",
       "      <td>...</td>\n",
       "      <td>...</td>\n",
       "      <td>...</td>\n",
       "      <td>...</td>\n",
       "      <td>...</td>\n",
       "      <td>...</td>\n",
       "      <td>...</td>\n",
       "      <td>...</td>\n",
       "      <td>...</td>\n",
       "      <td>...</td>\n",
       "      <td>...</td>\n",
       "    </tr>\n",
       "    <tr>\n",
       "      <th>17476</th>\n",
       "      <td>chr9</td>\n",
       "      <td>129824009</td>\n",
       "      <td>129824299</td>\n",
       "      <td>chr9:129824009-129824299</td>\n",
       "      <td>1.0</td>\n",
       "      <td>1.0</td>\n",
       "      <td>0.0</td>\n",
       "      <td>1.0</td>\n",
       "      <td>0</td>\n",
       "      <td>0</td>\n",
       "      <td>0</td>\n",
       "      <td>0.0</td>\n",
       "      <td>0.0</td>\n",
       "      <td>0.0</td>\n",
       "      <td>0.0</td>\n",
       "      <td>0.0</td>\n",
       "      <td>0.0</td>\n",
       "    </tr>\n",
       "    <tr>\n",
       "      <th>17497</th>\n",
       "      <td>chr9</td>\n",
       "      <td>131125554</td>\n",
       "      <td>131125784</td>\n",
       "      <td>chr9:131125554-131125784</td>\n",
       "      <td>1.0</td>\n",
       "      <td>1.0</td>\n",
       "      <td>0.0</td>\n",
       "      <td>1.0</td>\n",
       "      <td>0</td>\n",
       "      <td>0</td>\n",
       "      <td>0</td>\n",
       "      <td>0.0</td>\n",
       "      <td>0.0</td>\n",
       "      <td>0.0</td>\n",
       "      <td>0.0</td>\n",
       "      <td>0.0</td>\n",
       "      <td>0.0</td>\n",
       "    </tr>\n",
       "    <tr>\n",
       "      <th>17499</th>\n",
       "      <td>chr9</td>\n",
       "      <td>131256280</td>\n",
       "      <td>131256790</td>\n",
       "      <td>chr9:131256280-131256790</td>\n",
       "      <td>1.0</td>\n",
       "      <td>0.0</td>\n",
       "      <td>1.0</td>\n",
       "      <td>0.0</td>\n",
       "      <td>0</td>\n",
       "      <td>0</td>\n",
       "      <td>0</td>\n",
       "      <td>0.0</td>\n",
       "      <td>0.0</td>\n",
       "      <td>0.0</td>\n",
       "      <td>0.0</td>\n",
       "      <td>0.0</td>\n",
       "      <td>0.0</td>\n",
       "    </tr>\n",
       "    <tr>\n",
       "      <th>17539</th>\n",
       "      <td>chr9</td>\n",
       "      <td>133133960</td>\n",
       "      <td>133134070</td>\n",
       "      <td>chr9:133133960-133134070</td>\n",
       "      <td>1.0</td>\n",
       "      <td>1.0</td>\n",
       "      <td>0.0</td>\n",
       "      <td>0.0</td>\n",
       "      <td>0</td>\n",
       "      <td>0</td>\n",
       "      <td>0</td>\n",
       "      <td>0.0</td>\n",
       "      <td>0.0</td>\n",
       "      <td>0.0</td>\n",
       "      <td>0.0</td>\n",
       "      <td>0.0</td>\n",
       "      <td>0.0</td>\n",
       "    </tr>\n",
       "    <tr>\n",
       "      <th>17596</th>\n",
       "      <td>chr9</td>\n",
       "      <td>137223512</td>\n",
       "      <td>137223752</td>\n",
       "      <td>chr9:137223512-137223752</td>\n",
       "      <td>1.0</td>\n",
       "      <td>0.0</td>\n",
       "      <td>1.0</td>\n",
       "      <td>0.0</td>\n",
       "      <td>1</td>\n",
       "      <td>0</td>\n",
       "      <td>0</td>\n",
       "      <td>0.0</td>\n",
       "      <td>0.0</td>\n",
       "      <td>0.0</td>\n",
       "      <td>0.0</td>\n",
       "      <td>1.0</td>\n",
       "      <td>0.0</td>\n",
       "    </tr>\n",
       "  </tbody>\n",
       "</table>\n",
       "<p>1055 rows × 17 columns</p>\n",
       "</div>"
      ],
      "text/plain": [
       "       #chr      start        end                 region_id  \\\n",
       "5      chr1    1375433    1375553      chr1:1375433-1375553   \n",
       "9      chr1    1658947    1659167      chr1:1658947-1659167   \n",
       "10     chr1    1659227    1659317      chr1:1659227-1659317   \n",
       "17     chr1    2195083    2195323      chr1:2195083-2195323   \n",
       "24     chr1    6026008    6026158      chr1:6026008-6026158   \n",
       "...     ...        ...        ...                       ...   \n",
       "17476  chr9  129824009  129824299  chr9:129824009-129824299   \n",
       "17497  chr9  131125554  131125784  chr9:131125554-131125784   \n",
       "17499  chr9  131256280  131256790  chr9:131256280-131256790   \n",
       "17539  chr9  133133960  133134070  chr9:133133960-133134070   \n",
       "17596  chr9  137223512  137223752  chr9:137223512-137223752   \n",
       "\n",
       "       ETS1_MA0098.3-human_N_FP  ETS1_MA0098.3-rhesus_N_FP  \\\n",
       "5                           1.0                        0.0   \n",
       "9                           2.0                        2.0   \n",
       "10                          1.0                        0.0   \n",
       "17                          1.0                        1.0   \n",
       "24                          1.0                        0.0   \n",
       "...                         ...                        ...   \n",
       "17476                       1.0                        1.0   \n",
       "17497                       1.0                        1.0   \n",
       "17499                       1.0                        0.0   \n",
       "17539                       1.0                        1.0   \n",
       "17596                       1.0                        0.0   \n",
       "\n",
       "       ETS1_MA0098.3_difFP  conserved_active.regions  trans_only  cis_only  \\\n",
       "5                      1.0                       0.0           0         0   \n",
       "9                      0.0                       1.0           0         0   \n",
       "10                     1.0                       1.0           0         0   \n",
       "17                     0.0                       0.0           1         0   \n",
       "24                     1.0                       0.0           0         1   \n",
       "...                    ...                       ...         ...       ...   \n",
       "17476                  0.0                       1.0           0         0   \n",
       "17497                  0.0                       1.0           0         0   \n",
       "17499                  1.0                       0.0           0         0   \n",
       "17539                  0.0                       0.0           0         0   \n",
       "17596                  1.0                       0.0           1         0   \n",
       "\n",
       "       cis+trans  HH-active_MM-inactive_cis-only  \\\n",
       "5              1                             0.0   \n",
       "9              0                             0.0   \n",
       "10             0                             0.0   \n",
       "17             0                             0.0   \n",
       "24             0                             1.0   \n",
       "...          ...                             ...   \n",
       "17476          0                             0.0   \n",
       "17497          0                             0.0   \n",
       "17499          0                             0.0   \n",
       "17539          0                             0.0   \n",
       "17596          0                             0.0   \n",
       "\n",
       "       HH-active_MM-inactive_trans-only  HH-active_MM-inactive_cis+trans  \\\n",
       "5                                   0.0                              0.0   \n",
       "9                                   0.0                              0.0   \n",
       "10                                  0.0                              0.0   \n",
       "17                                  0.0                              0.0   \n",
       "24                                  0.0                              0.0   \n",
       "...                                 ...                              ...   \n",
       "17476                               0.0                              0.0   \n",
       "17497                               0.0                              0.0   \n",
       "17499                               0.0                              0.0   \n",
       "17539                               0.0                              0.0   \n",
       "17596                               0.0                              0.0   \n",
       "\n",
       "       MM-active_HH-inactive_cis-only  MM-active_HH-inactive_trans-only  \\\n",
       "5                                 0.0                               0.0   \n",
       "9                                 0.0                               0.0   \n",
       "10                                0.0                               0.0   \n",
       "17                                0.0                               1.0   \n",
       "24                                0.0                               0.0   \n",
       "...                               ...                               ...   \n",
       "17476                             0.0                               0.0   \n",
       "17497                             0.0                               0.0   \n",
       "17499                             0.0                               0.0   \n",
       "17539                             0.0                               0.0   \n",
       "17596                             0.0                               1.0   \n",
       "\n",
       "       MM-active_HH-inactive_cis+trans  \n",
       "5                                  1.0  \n",
       "9                                  0.0  \n",
       "10                                 0.0  \n",
       "17                                 0.0  \n",
       "24                                 0.0  \n",
       "...                                ...  \n",
       "17476                              0.0  \n",
       "17497                              0.0  \n",
       "17499                              0.0  \n",
       "17539                              0.0  \n",
       "17596                              0.0  \n",
       "\n",
       "[1055 rows x 17 columns]"
      ]
     },
     "execution_count": 39,
     "metadata": {},
     "output_type": "execute_result"
    }
   ],
   "source": [
    "merged = dif_fp(TF, hu_ets1, rhe_ets1)\n",
    "print(merged.shape)\n",
    "merged.loc[merged[f\"{TF}-human_N_FP\"]>0]"
   ]
  },
  {
   "cell_type": "code",
   "execution_count": 41,
   "id": "a17e19ca",
   "metadata": {
    "ExecuteTime": {
     "end_time": "2022-08-13T00:04:51.956329Z",
     "start_time": "2022-08-13T00:04:51.757653Z"
    }
   },
   "outputs": [
    {
     "data": {
      "text/plain": [
       "'/data/hodges_lab/ATAC-STARR_B-cells/results/results_human-evolution/TF_footprinting/ETS1_MA0098.3-differential_footprints.tsv'"
      ]
     },
     "execution_count": 41,
     "metadata": {},
     "output_type": "execute_result"
    }
   ],
   "source": [
    "out = os.path.join(RE, f\"{TF}-differential_footprints.tsv\")\n",
    "merged.to_csv(out, sep='\\t', index=False)\n",
    "out"
   ]
  },
  {
   "cell_type": "code",
   "execution_count": 42,
   "id": "4500cedd",
   "metadata": {
    "ExecuteTime": {
     "end_time": "2022-08-13T00:18:47.691729Z",
     "start_time": "2022-08-13T00:18:47.683276Z"
    }
   },
   "outputs": [
    {
     "data": {
      "text/plain": [
       "'/gpfs52/data/hodges_lab/ATAC-STARR_B-cells/bin_human-evolution/TF_FP'"
      ]
     },
     "execution_count": 42,
     "metadata": {},
     "output_type": "execute_result"
    }
   ],
   "source": [
    "os.getcwd()"
   ]
  },
  {
   "cell_type": "code",
   "execution_count": null,
   "id": "f2ff321f",
   "metadata": {},
   "outputs": [],
   "source": []
  }
 ],
 "metadata": {
  "kernelspec": {
   "display_name": "Python (sfenv)",
   "language": "python",
   "name": "sfenv"
  },
  "language_info": {
   "codemirror_mode": {
    "name": "ipython",
    "version": 3
   },
   "file_extension": ".py",
   "mimetype": "text/x-python",
   "name": "python",
   "nbconvert_exporter": "python",
   "pygments_lexer": "ipython3",
   "version": "3.6.10"
  },
  "toc": {
   "base_numbering": 1,
   "nav_menu": {},
   "number_sections": true,
   "sideBar": true,
   "skip_h1_title": false,
   "title_cell": "Table of Contents",
   "title_sidebar": "Contents",
   "toc_cell": false,
   "toc_position": {},
   "toc_section_display": true,
   "toc_window_display": false
  }
 },
 "nbformat": 4,
 "nbformat_minor": 5
}
