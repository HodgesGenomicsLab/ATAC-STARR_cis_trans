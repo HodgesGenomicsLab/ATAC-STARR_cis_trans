{
 "cells": [
  {
   "cell_type": "code",
   "execution_count": 1,
   "id": "51c16e83",
   "metadata": {
    "ExecuteTime": {
     "end_time": "2022-09-20T15:26:56.267094Z",
     "start_time": "2022-09-20T15:26:55.061Z"
    }
   },
   "outputs": [],
   "source": [
    "suppressPackageStartupMessages(library(tidyverse))\n",
    "\n",
    "ini <- ini::read.ini(\"../config.ini\")"
   ]
  },
  {
   "cell_type": "code",
   "execution_count": 2,
   "id": "db57db0c",
   "metadata": {
    "ExecuteTime": {
     "end_time": "2022-09-20T15:27:01.370173Z",
     "start_time": "2022-09-20T15:26:55.064Z"
    },
    "scrolled": true
   },
   "outputs": [
    {
     "name": "stderr",
     "output_type": "stream",
     "text": [
      "\u001b[1mRows: \u001b[22m\u001b[34m1114\u001b[39m \u001b[1mColumns: \u001b[22m\u001b[34m3\u001b[39m\n",
      "\n",
      "\u001b[36m──\u001b[39m \u001b[1mColumn specification\u001b[22m \u001b[36m────────────────────────────────────────────────────────\u001b[39m\n",
      "\u001b[1mDelimiter:\u001b[22m \"\\t\"\n",
      "\u001b[31mchr\u001b[39m (1): chr\n",
      "\u001b[32mdbl\u001b[39m (2): start, end\n",
      "\n",
      "\n",
      "\u001b[36mℹ\u001b[39m Use `spec()` to retrieve the full column specification for this data.\n",
      "\u001b[36mℹ\u001b[39m Specify the column types or set `show_col_types = FALSE` to quiet this message.\n",
      "\n",
      "\u001b[1mRows: \u001b[22m\u001b[34m1040\u001b[39m \u001b[1mColumns: \u001b[22m\u001b[34m3\u001b[39m\n",
      "\n",
      "\u001b[36m──\u001b[39m \u001b[1mColumn specification\u001b[22m \u001b[36m────────────────────────────────────────────────────────\u001b[39m\n",
      "\u001b[1mDelimiter:\u001b[22m \"\\t\"\n",
      "\u001b[31mchr\u001b[39m (1): chr\n",
      "\u001b[32mdbl\u001b[39m (2): start, end\n",
      "\n",
      "\n",
      "\u001b[36mℹ\u001b[39m Use `spec()` to retrieve the full column specification for this data.\n",
      "\u001b[36mℹ\u001b[39m Specify the column types or set `show_col_types = FALSE` to quiet this message.\n",
      "\n",
      "\u001b[1mRows: \u001b[22m\u001b[34m812\u001b[39m \u001b[1mColumns: \u001b[22m\u001b[34m3\u001b[39m\n",
      "\n",
      "\u001b[36m──\u001b[39m \u001b[1mColumn specification\u001b[22m \u001b[36m────────────────────────────────────────────────────────\u001b[39m\n",
      "\u001b[1mDelimiter:\u001b[22m \"\\t\"\n",
      "\u001b[31mchr\u001b[39m (1): chr\n",
      "\u001b[32mdbl\u001b[39m (2): start, end\n",
      "\n",
      "\n",
      "\u001b[36mℹ\u001b[39m Use `spec()` to retrieve the full column specification for this data.\n",
      "\u001b[36mℹ\u001b[39m Specify the column types or set `show_col_types = FALSE` to quiet this message.\n",
      "\n",
      "\u001b[1mRows: \u001b[22m\u001b[34m1171\u001b[39m \u001b[1mColumns: \u001b[22m\u001b[34m3\u001b[39m\n",
      "\n",
      "\u001b[36m──\u001b[39m \u001b[1mColumn specification\u001b[22m \u001b[36m────────────────────────────────────────────────────────\u001b[39m\n",
      "\u001b[1mDelimiter:\u001b[22m \"\\t\"\n",
      "\u001b[31mchr\u001b[39m (1): chr\n",
      "\u001b[32mdbl\u001b[39m (2): start, end\n",
      "\n",
      "\n",
      "\u001b[36mℹ\u001b[39m Use `spec()` to retrieve the full column specification for this data.\n",
      "\u001b[36mℹ\u001b[39m Specify the column types or set `show_col_types = FALSE` to quiet this message.\n",
      "\n",
      "\u001b[1mRows: \u001b[22m\u001b[34m4631\u001b[39m \u001b[1mColumns: \u001b[22m\u001b[34m3\u001b[39m\n",
      "\n",
      "\u001b[36m──\u001b[39m \u001b[1mColumn specification\u001b[22m \u001b[36m────────────────────────────────────────────────────────\u001b[39m\n",
      "\u001b[1mDelimiter:\u001b[22m \"\\t\"\n",
      "\u001b[31mchr\u001b[39m (1): chr\n",
      "\u001b[32mdbl\u001b[39m (2): start, end\n",
      "\n",
      "\n",
      "\u001b[36mℹ\u001b[39m Use `spec()` to retrieve the full column specification for this data.\n",
      "\u001b[36mℹ\u001b[39m Specify the column types or set `show_col_types = FALSE` to quiet this message.\n",
      "\n",
      "\u001b[1mRows: \u001b[22m\u001b[34m3994\u001b[39m \u001b[1mColumns: \u001b[22m\u001b[34m3\u001b[39m\n",
      "\n",
      "\u001b[36m──\u001b[39m \u001b[1mColumn specification\u001b[22m \u001b[36m────────────────────────────────────────────────────────\u001b[39m\n",
      "\u001b[1mDelimiter:\u001b[22m \"\\t\"\n",
      "\u001b[31mchr\u001b[39m (1): chr\n",
      "\u001b[32mdbl\u001b[39m (2): start, end\n",
      "\n",
      "\n",
      "\u001b[36mℹ\u001b[39m Use `spec()` to retrieve the full column specification for this data.\n",
      "\u001b[36mℹ\u001b[39m Specify the column types or set `show_col_types = FALSE` to quiet this message.\n",
      "\n"
     ]
    }
   ],
   "source": [
    "#read in results: \n",
    "columns <- c(\"chr\", \"start\", \"end\")\n",
    "\n",
    "#cis\n",
    "h_cis <- read_tsv(ini$CIS_TRANS$`hh-active_mm-inactive_cis-only`, col_names = columns)\n",
    "m_cis <- read_tsv(ini$CIS_TRANS$`mm-active_hh-inactive_cis-only`, col_names = columns)\n",
    "\n",
    "#trans\n",
    "h_trans <- read_tsv(ini$CIS_TRANS$`hh-active_mm-inactive_trans-only`, col_names = columns)\n",
    "m_trans <- read_tsv(ini$CIS_TRANS$`mm-active_hh-inactive_trans-only`, col_names = columns)\n",
    "\n",
    "#cis&trans\n",
    "h_ct <- read_tsv(ini$CIS_TRANS$`hh-active_mm-inactive_cis+trans`, col_names = columns)\n",
    "m_ct <- read_tsv(ini$CIS_TRANS$`mm-active_hh-inactive_cis+trans`, col_names = columns)"
   ]
  },
  {
   "cell_type": "code",
   "execution_count": 3,
   "id": "bdbe115e",
   "metadata": {
    "ExecuteTime": {
     "end_time": "2022-09-20T15:27:01.441126Z",
     "start_time": "2022-09-20T15:26:55.065Z"
    }
   },
   "outputs": [],
   "source": [
    "#merge\n",
    "cis <- bind_rows(h_cis, m_cis) %>% mutate(category = \"cis only\")\n",
    "trans <- bind_rows(h_trans, m_trans) %>% mutate(category = \"trans only\")\n",
    "ct <- bind_rows(h_ct, m_ct) %>% mutate(category = \"cis & trans\")\n",
    "\n",
    "all <- bind_rows(cis, trans, ct)"
   ]
  },
  {
   "cell_type": "code",
   "execution_count": 4,
   "id": "a4f95f83",
   "metadata": {
    "ExecuteTime": {
     "end_time": "2022-09-20T15:27:02.291116Z",
     "start_time": "2022-09-20T15:26:55.067Z"
    }
   },
   "outputs": [
    {
     "data": {
      "image/png": "[encoded data removed]",
      "text/plain": [
       "plot without title"
      ]
     },
     "metadata": {
      "image/png": {
       "height": 240,
       "width": 240
      }
     },
     "output_type": "display_data"
    }
   ],
   "source": [
    "#plot\n",
    "p <- ggplot(all, aes(x = category, y = abs(end-start), fill = category)) +\n",
    "    geom_boxplot(outlier.alpha = 0.25) +\n",
    "    geom_violin(alpha = 0.25) +\n",
    "    scale_fill_brewer(palette = \"Blues\") +\n",
    "    labs(y = \"region size (in bp)\", title = \"Region Size Comparison of Region Sets\") +\n",
    "    theme_bw(base_size = 10) +\n",
    "    theme(legend.position = \"none\", axis.title.x = element_blank(), plot.title = element_text(hjust = 0.5))\n",
    "\n",
    "options(repr.plot.width = 4, repr.plot.height = 4)\n",
    "p"
   ]
  },
  {
   "cell_type": "code",
   "execution_count": 5,
   "id": "3dcd2dbc",
   "metadata": {
    "ExecuteTime": {
     "end_time": "2022-09-20T15:27:19.216669Z",
     "start_time": "2022-09-20T15:27:19.685Z"
    }
   },
   "outputs": [],
   "source": [
    "ggsave(plot = p, filename = paste0(ini$DELTA_ACTIVITY$plots, \"/region_size.pdf\"), device = cairo_pdf, width = 4, height = 4)"
   ]
  }
 ],
 "metadata": {
  "kernelspec": {
   "display_name": "R",
   "language": "R",
   "name": "ir"
  },
  "language_info": {
   "codemirror_mode": "r",
   "file_extension": ".r",
   "mimetype": "text/x-r-source",
   "name": "R",
   "pygments_lexer": "r",
   "version": "4.1.2"
  },
  "toc": {
   "base_numbering": 1,
   "nav_menu": {},
   "number_sections": true,
   "sideBar": true,
   "skip_h1_title": true,
   "title_cell": "Table of Contents",
   "title_sidebar": "Contents",
   "toc_cell": false,
   "toc_position": {},
   "toc_section_display": true,
   "toc_window_display": true
  },
  "varInspector": {
   "cols": {
    "lenName": 16,
    "lenType": 16,
    "lenVar": 40
   },
   "kernels_config": {
    "python": {
     "delete_cmd_postfix": "",
     "delete_cmd_prefix": "del ",
     "library": "var_list.py",
     "varRefreshCmd": "print(var_dic_list())"
    },
    "r": {
     "delete_cmd_postfix": ") ",
     "delete_cmd_prefix": "rm(",
     "library": "var_list.r",
     "varRefreshCmd": "cat(var_dic_list()) "
    }
   },
   "types_to_exclude": [
    "module",
    "function",
    "builtin_function_or_method",
    "instance",
    "_Feature"
   ],
   "window_display": false
  }
 },
 "nbformat": 4,
 "nbformat_minor": 5
}
