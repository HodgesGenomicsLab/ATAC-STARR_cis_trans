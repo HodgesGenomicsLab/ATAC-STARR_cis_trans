{
 "cells": [
  {
   "cell_type": "markdown",
   "id": "39cc3e78",
   "metadata": {
    "ExecuteTime": {
     "end_time": "2022-10-03T13:59:21.185935Z",
     "start_time": "2022-10-03T13:59:21.175557Z"
    }
   },
   "source": [
    "## Introduction\n",
    "\n",
    "Sarah performed TF footprint enrichment for each of our region sets against a background. I will present the results as I did for the Motif enrichment. "
   ]
  },
  {
   "cell_type": "code",
   "execution_count": 1,
   "id": "135c9636",
   "metadata": {
    "ExecuteTime": {
     "end_time": "2022-10-03T14:02:09.508196Z",
     "start_time": "2022-10-03T14:01:53.806Z"
    }
   },
   "outputs": [],
   "source": [
    "#r kernel\n",
    "suppressPackageStartupMessages(library(tidyverse))\n",
    "suppressPackageStartupMessages(library(magrittr))\n",
    "\n",
    "ini <- ini::read.ini(\"../config.ini\")\n",
    "\n",
    "fp_res <- read_tsv(ini$TF_FOOTPRINTING_JASPAR_GM12878$fp_shuf_or, show_col_types = FALSE)"
   ]
  },
  {
   "cell_type": "code",
   "execution_count": 2,
   "id": "212157cc",
   "metadata": {
    "ExecuteTime": {
     "end_time": "2022-10-03T14:02:16.299545Z",
     "start_time": "2022-10-03T14:02:20.361Z"
    }
   },
   "outputs": [
    {
     "data": {
      "text/html": [
       "<table class=\"dataframe\">\n",
       "<caption>A tibble: 6 × 21</caption>\n",
       "<thead>\n",
       "\t<tr><th scope=col>a</th><th scope=col>b</th><th scope=col>c</th><th scope=col>d</th><th scope=col>OR</th><th scope=col>P</th><th scope=col>ci_lower</th><th scope=col>ci_lower_diff</th><th scope=col>ci_upper</th><th scope=col>ci_upper_diff</th><th scope=col>⋯</th><th scope=col>ci_lower_log2</th><th scope=col>ci_upper_log2</th><th scope=col>comparison</th><th scope=col>tf_id</th><th scope=col>sid</th><th scope=col>TF</th><th scope=col>reject_null</th><th scope=col>FDR_P</th><th scope=col>asterisks</th><th scope=col>-log10p</th></tr>\n",
       "\t<tr><th scope=col>&lt;dbl&gt;</th><th scope=col>&lt;dbl&gt;</th><th scope=col>&lt;dbl&gt;</th><th scope=col>&lt;dbl&gt;</th><th scope=col>&lt;dbl&gt;</th><th scope=col>&lt;dbl&gt;</th><th scope=col>&lt;dbl&gt;</th><th scope=col>&lt;dbl&gt;</th><th scope=col>&lt;dbl&gt;</th><th scope=col>&lt;dbl&gt;</th><th scope=col>⋯</th><th scope=col>&lt;dbl&gt;</th><th scope=col>&lt;dbl&gt;</th><th scope=col>&lt;chr&gt;</th><th scope=col>&lt;chr&gt;</th><th scope=col>&lt;chr&gt;</th><th scope=col>&lt;chr&gt;</th><th scope=col>&lt;lgl&gt;</th><th scope=col>&lt;dbl&gt;</th><th scope=col>&lt;chr&gt;</th><th scope=col>&lt;dbl&gt;</th></tr>\n",
       "</thead>\n",
       "<tbody>\n",
       "\t<tr><td>27</td><td>785</td><td> 52</td><td>8068</td><td>5.336502</td><td>5.161729e-10</td><td>3.333127</td><td>0.6790178</td><td> 8.544003</td><td>0.6790178</td><td>⋯</td><td>1.7368765</td><td>3.094912</td><td>HH-active_MM-inactive_trans-only-ATF3_MA0605.2   </td><td>ATF3_MA0605.2   </td><td>HH-active_MM-inactive_trans-only</td><td>ATF3   </td><td>TRUE</td><td>3.156270e-09</td><td>*</td><td>8.500826</td></tr>\n",
       "\t<tr><td>35</td><td>777</td><td>149</td><td>7971</td><td>2.409759</td><td>2.223044e-05</td><td>1.655455</td><td>0.5416613</td><td> 3.507760</td><td>0.5416613</td><td>⋯</td><td>0.7272274</td><td>1.810550</td><td>HH-active_MM-inactive_trans-only-ARNT_MA0004.1   </td><td>ARNT_MA0004.1   </td><td>HH-active_MM-inactive_trans-only</td><td>ARNT   </td><td>TRUE</td><td>5.118489e-05</td><td>*</td><td>4.290858</td></tr>\n",
       "\t<tr><td>21</td><td>791</td><td> 64</td><td>8056</td><td>3.341814</td><td>1.639424e-05</td><td>2.030403</td><td>0.7188657</td><td> 5.500250</td><td>0.7188657</td><td>⋯</td><td>1.0217658</td><td>2.459497</td><td>HH-active_MM-inactive_trans-only-BHLHE40_MA0464.2</td><td>BHLHE40_MA0464.2</td><td>HH-active_MM-inactive_trans-only</td><td>BHLHE40</td><td>TRUE</td><td>3.970812e-05</td><td>*</td><td>4.401121</td></tr>\n",
       "\t<tr><td>16</td><td>796</td><td> 28</td><td>8092</td><td>5.809045</td><td>6.841748e-07</td><td>3.129522</td><td>0.8923589</td><td>10.782800</td><td>0.8923589</td><td>⋯</td><td>1.6459422</td><td>3.430660</td><td>HH-active_MM-inactive_trans-only-GATA1_MA0035.4  </td><td>GATA1_MA0035.4  </td><td>HH-active_MM-inactive_trans-only</td><td>GATA1  </td><td>TRUE</td><td>2.220126e-06</td><td>*</td><td>5.653622</td></tr>\n",
       "\t<tr><td>26</td><td>786</td><td>114</td><td>8006</td><td>2.323066</td><td>4.830909e-04</td><td>1.507827</td><td>0.6235591</td><td> 3.579081</td><td>0.6235591</td><td>⋯</td><td>0.5924710</td><td>1.839589</td><td>HH-active_MM-inactive_trans-only-RFX3_MA0798.2   </td><td>RFX3_MA0798.2   </td><td>HH-active_MM-inactive_trans-only</td><td>RFX3   </td><td>TRUE</td><td>8.061516e-04</td><td>*</td><td>3.093583</td></tr>\n",
       "\t<tr><td>14</td><td>798</td><td> 57</td><td>8063</td><td>2.481687</td><td>5.322970e-03</td><td>1.376864</td><td>0.8499350</td><td> 4.473041</td><td>0.8499350</td><td>⋯</td><td>0.4613860</td><td>2.161256</td><td>HH-active_MM-inactive_trans-only-DUXA_MA0884.1   </td><td>DUXA_MA0884.1   </td><td>HH-active_MM-inactive_trans-only</td><td>DUXA   </td><td>TRUE</td><td>7.219882e-03</td><td>*</td><td>2.141470</td></tr>\n",
       "</tbody>\n",
       "</table>\n"
      ],
      "text/latex": [
       "A tibble: 6 × 21\n",
       "\\begin{tabular}{lllllllllllllllllllll}\n",
       " a & b & c & d & OR & P & ci\\_lower & ci\\_lower\\_diff & ci\\_upper & ci\\_upper\\_diff & ⋯ & ci\\_lower\\_log2 & ci\\_upper\\_log2 & comparison & tf\\_id & sid & TF & reject\\_null & FDR\\_P & asterisks & -log10p\\\\\n",
       " <dbl> & <dbl> & <dbl> & <dbl> & <dbl> & <dbl> & <dbl> & <dbl> & <dbl> & <dbl> & ⋯ & <dbl> & <dbl> & <chr> & <chr> & <chr> & <chr> & <lgl> & <dbl> & <chr> & <dbl>\\\\\n",
       "\\hline\n",
       "\t 27 & 785 &  52 & 8068 & 5.336502 & 5.161729e-10 & 3.333127 & 0.6790178 &  8.544003 & 0.6790178 & ⋯ & 1.7368765 & 3.094912 & HH-active\\_MM-inactive\\_trans-only-ATF3\\_MA0605.2    & ATF3\\_MA0605.2    & HH-active\\_MM-inactive\\_trans-only & ATF3    & TRUE & 3.156270e-09 & * & 8.500826\\\\\n",
       "\t 35 & 777 & 149 & 7971 & 2.409759 & 2.223044e-05 & 1.655455 & 0.5416613 &  3.507760 & 0.5416613 & ⋯ & 0.7272274 & 1.810550 & HH-active\\_MM-inactive\\_trans-only-ARNT\\_MA0004.1    & ARNT\\_MA0004.1    & HH-active\\_MM-inactive\\_trans-only & ARNT    & TRUE & 5.118489e-05 & * & 4.290858\\\\\n",
       "\t 21 & 791 &  64 & 8056 & 3.341814 & 1.639424e-05 & 2.030403 & 0.7188657 &  5.500250 & 0.7188657 & ⋯ & 1.0217658 & 2.459497 & HH-active\\_MM-inactive\\_trans-only-BHLHE40\\_MA0464.2 & BHLHE40\\_MA0464.2 & HH-active\\_MM-inactive\\_trans-only & BHLHE40 & TRUE & 3.970812e-05 & * & 4.401121\\\\\n",
       "\t 16 & 796 &  28 & 8092 & 5.809045 & 6.841748e-07 & 3.129522 & 0.8923589 & 10.782800 & 0.8923589 & ⋯ & 1.6459422 & 3.430660 & HH-active\\_MM-inactive\\_trans-only-GATA1\\_MA0035.4   & GATA1\\_MA0035.4   & HH-active\\_MM-inactive\\_trans-only & GATA1   & TRUE & 2.220126e-06 & * & 5.653622\\\\\n",
       "\t 26 & 786 & 114 & 8006 & 2.323066 & 4.830909e-04 & 1.507827 & 0.6235591 &  3.579081 & 0.6235591 & ⋯ & 0.5924710 & 1.839589 & HH-active\\_MM-inactive\\_trans-only-RFX3\\_MA0798.2    & RFX3\\_MA0798.2    & HH-active\\_MM-inactive\\_trans-only & RFX3    & TRUE & 8.061516e-04 & * & 3.093583\\\\\n",
       "\t 14 & 798 &  57 & 8063 & 2.481687 & 5.322970e-03 & 1.376864 & 0.8499350 &  4.473041 & 0.8499350 & ⋯ & 0.4613860 & 2.161256 & HH-active\\_MM-inactive\\_trans-only-DUXA\\_MA0884.1    & DUXA\\_MA0884.1    & HH-active\\_MM-inactive\\_trans-only & DUXA    & TRUE & 7.219882e-03 & * & 2.141470\\\\\n",
       "\\end{tabular}\n"
      ],
      "text/markdown": [
       "\n",
       "A tibble: 6 × 21\n",
       "\n",
       "| a &lt;dbl&gt; | b &lt;dbl&gt; | c &lt;dbl&gt; | d &lt;dbl&gt; | OR &lt;dbl&gt; | P &lt;dbl&gt; | ci_lower &lt;dbl&gt; | ci_lower_diff &lt;dbl&gt; | ci_upper &lt;dbl&gt; | ci_upper_diff &lt;dbl&gt; | ⋯ ⋯ | ci_lower_log2 &lt;dbl&gt; | ci_upper_log2 &lt;dbl&gt; | comparison &lt;chr&gt; | tf_id &lt;chr&gt; | sid &lt;chr&gt; | TF &lt;chr&gt; | reject_null &lt;lgl&gt; | FDR_P &lt;dbl&gt; | asterisks &lt;chr&gt; | -log10p &lt;dbl&gt; |\n",
       "|---|---|---|---|---|---|---|---|---|---|---|---|---|---|---|---|---|---|---|---|---|\n",
       "| 27 | 785 |  52 | 8068 | 5.336502 | 5.161729e-10 | 3.333127 | 0.6790178 |  8.544003 | 0.6790178 | ⋯ | 1.7368765 | 3.094912 | HH-active_MM-inactive_trans-only-ATF3_MA0605.2    | ATF3_MA0605.2    | HH-active_MM-inactive_trans-only | ATF3    | TRUE | 3.156270e-09 | * | 8.500826 |\n",
       "| 35 | 777 | 149 | 7971 | 2.409759 | 2.223044e-05 | 1.655455 | 0.5416613 |  3.507760 | 0.5416613 | ⋯ | 0.7272274 | 1.810550 | HH-active_MM-inactive_trans-only-ARNT_MA0004.1    | ARNT_MA0004.1    | HH-active_MM-inactive_trans-only | ARNT    | TRUE | 5.118489e-05 | * | 4.290858 |\n",
       "| 21 | 791 |  64 | 8056 | 3.341814 | 1.639424e-05 | 2.030403 | 0.7188657 |  5.500250 | 0.7188657 | ⋯ | 1.0217658 | 2.459497 | HH-active_MM-inactive_trans-only-BHLHE40_MA0464.2 | BHLHE40_MA0464.2 | HH-active_MM-inactive_trans-only | BHLHE40 | TRUE | 3.970812e-05 | * | 4.401121 |\n",
       "| 16 | 796 |  28 | 8092 | 5.809045 | 6.841748e-07 | 3.129522 | 0.8923589 | 10.782800 | 0.8923589 | ⋯ | 1.6459422 | 3.430660 | HH-active_MM-inactive_trans-only-GATA1_MA0035.4   | GATA1_MA0035.4   | HH-active_MM-inactive_trans-only | GATA1   | TRUE | 2.220126e-06 | * | 5.653622 |\n",
       "| 26 | 786 | 114 | 8006 | 2.323066 | 4.830909e-04 | 1.507827 | 0.6235591 |  3.579081 | 0.6235591 | ⋯ | 0.5924710 | 1.839589 | HH-active_MM-inactive_trans-only-RFX3_MA0798.2    | RFX3_MA0798.2    | HH-active_MM-inactive_trans-only | RFX3    | TRUE | 8.061516e-04 | * | 3.093583 |\n",
       "| 14 | 798 |  57 | 8063 | 2.481687 | 5.322970e-03 | 1.376864 | 0.8499350 |  4.473041 | 0.8499350 | ⋯ | 0.4613860 | 2.161256 | HH-active_MM-inactive_trans-only-DUXA_MA0884.1    | DUXA_MA0884.1    | HH-active_MM-inactive_trans-only | DUXA    | TRUE | 7.219882e-03 | * | 2.141470 |\n",
       "\n"
      ],
      "text/plain": [
       "  a  b   c   d    OR       P            ci_lower ci_lower_diff ci_upper \n",
       "1 27 785  52 8068 5.336502 5.161729e-10 3.333127 0.6790178      8.544003\n",
       "2 35 777 149 7971 2.409759 2.223044e-05 1.655455 0.5416613      3.507760\n",
       "3 21 791  64 8056 3.341814 1.639424e-05 2.030403 0.7188657      5.500250\n",
       "4 16 796  28 8092 5.809045 6.841748e-07 3.129522 0.8923589     10.782800\n",
       "5 26 786 114 8006 2.323066 4.830909e-04 1.507827 0.6235591      3.579081\n",
       "6 14 798  57 8063 2.481687 5.322970e-03 1.376864 0.8499350      4.473041\n",
       "  ci_upper_diff ⋯ ci_lower_log2 ci_upper_log2\n",
       "1 0.6790178     ⋯ 1.7368765     3.094912     \n",
       "2 0.5416613     ⋯ 0.7272274     1.810550     \n",
       "3 0.7188657     ⋯ 1.0217658     2.459497     \n",
       "4 0.8923589     ⋯ 1.6459422     3.430660     \n",
       "5 0.6235591     ⋯ 0.5924710     1.839589     \n",
       "6 0.8499350     ⋯ 0.4613860     2.161256     \n",
       "  comparison                                        tf_id           \n",
       "1 HH-active_MM-inactive_trans-only-ATF3_MA0605.2    ATF3_MA0605.2   \n",
       "2 HH-active_MM-inactive_trans-only-ARNT_MA0004.1    ARNT_MA0004.1   \n",
       "3 HH-active_MM-inactive_trans-only-BHLHE40_MA0464.2 BHLHE40_MA0464.2\n",
       "4 HH-active_MM-inactive_trans-only-GATA1_MA0035.4   GATA1_MA0035.4  \n",
       "5 HH-active_MM-inactive_trans-only-RFX3_MA0798.2    RFX3_MA0798.2   \n",
       "6 HH-active_MM-inactive_trans-only-DUXA_MA0884.1    DUXA_MA0884.1   \n",
       "  sid                              TF      reject_null FDR_P        asterisks\n",
       "1 HH-active_MM-inactive_trans-only ATF3    TRUE        3.156270e-09 *        \n",
       "2 HH-active_MM-inactive_trans-only ARNT    TRUE        5.118489e-05 *        \n",
       "3 HH-active_MM-inactive_trans-only BHLHE40 TRUE        3.970812e-05 *        \n",
       "4 HH-active_MM-inactive_trans-only GATA1   TRUE        2.220126e-06 *        \n",
       "5 HH-active_MM-inactive_trans-only RFX3    TRUE        8.061516e-04 *        \n",
       "6 HH-active_MM-inactive_trans-only DUXA    TRUE        7.219882e-03 *        \n",
       "  -log10p \n",
       "1 8.500826\n",
       "2 4.290858\n",
       "3 4.401121\n",
       "4 5.653622\n",
       "5 3.093583\n",
       "6 2.141470"
      ]
     },
     "metadata": {},
     "output_type": "display_data"
    }
   ],
   "source": [
    "head(fp_res)"
   ]
  }
 ],
 "metadata": {
  "kernelspec": {
   "display_name": "R",
   "language": "R",
   "name": "ir"
  },
  "language_info": {
   "codemirror_mode": "r",
   "file_extension": ".r",
   "mimetype": "text/x-r-source",
   "name": "R",
   "pygments_lexer": "r",
   "version": "4.1.2"
  },
  "toc": {
   "base_numbering": 1,
   "nav_menu": {},
   "number_sections": true,
   "sideBar": true,
   "skip_h1_title": true,
   "title_cell": "Table of Contents",
   "title_sidebar": "Contents",
   "toc_cell": false,
   "toc_position": {
    "height": "calc(100% - 180px)",
    "left": "10px",
    "top": "150px",
    "width": "406.237px"
   },
   "toc_section_display": true,
   "toc_window_display": true
  },
  "varInspector": {
   "cols": {
    "lenName": 16,
    "lenType": 16,
    "lenVar": 40
   },
   "kernels_config": {
    "python": {
     "delete_cmd_postfix": "",
     "delete_cmd_prefix": "del ",
     "library": "var_list.py",
     "varRefreshCmd": "print(var_dic_list())"
    },
    "r": {
     "delete_cmd_postfix": ") ",
     "delete_cmd_prefix": "rm(",
     "library": "var_list.r",
     "varRefreshCmd": "cat(var_dic_list()) "
    }
   },
   "types_to_exclude": [
    "module",
    "function",
    "builtin_function_or_method",
    "instance",
    "_Feature"
   ],
   "window_display": false
  }
 },
 "nbformat": 4,
 "nbformat_minor": 5
}
