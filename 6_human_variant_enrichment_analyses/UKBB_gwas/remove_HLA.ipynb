{
 "cells": [
  {
   "cell_type": "code",
   "execution_count": 1,
   "id": "fbb0c7c9",
   "metadata": {
    "ExecuteTime": {
     "end_time": "2022-08-08T17:31:59.878021Z",
     "start_time": "2022-08-08T17:31:56.172758Z"
    }
   },
   "outputs": [],
   "source": [
    "#!/usr/bin/env python\n",
    "# coding: utf-8\n",
    "\n",
    "import glob\n",
    "import numpy as np\n",
    "import os\n",
    "import pandas as pd\n",
    "import pybedtools as pbt\n",
    "import subprocess\n",
    "import sys\n",
    "\n",
    "sys.path.append(os.getcwd())\n",
    "import UKBB_traits\n",
    "\n",
    "sys.path.append(\"/dors/capra_lab/users/fongsl/tools/py_/\")\n",
    "import config_readwrite as crw\n",
    "\n",
    "import split_filename\n",
    "\n",
    "name = \"/data/hodges_lab/ATAC-STARR_B-cells/bin_human-evolution/config\"\n",
    "config, configfile_name = crw.read_config(name)\n",
    "PATH =config[\"UKBB\"][\"path\"] \n",
    "\n",
    "LD_PY = config[\"GWAS_CATALOG\"]['bin_ld_expand']\n",
    "ANC = config[\"GWAS_CATALOG\"][\"ANC\"]\n",
    "NOMINAL_P = float(config[\"GWAS_CATALOG\"][\"NOMINAL_P\"])\n",
    "\n",
    "#hg38 6p21\n",
    "HLA_BED=\"/data/hodges_lab/ATAC-STARR_B-cells/bin_human-evolution/GWAS_catalog/ukbb/hla.bed\""
   ]
  },
  {
   "cell_type": "markdown",
   "id": "de479323",
   "metadata": {},
   "source": [
    "# subtract hla from traits "
   ]
  },
  {
   "cell_type": "code",
   "execution_count": null,
   "id": "b65db59b",
   "metadata": {},
   "outputs": [],
   "source": [
    "dl_dict = UKBB_traits.dl_dict() # second round of traits\n",
    "\n",
    "\n",
    "for f in dl_dict.values():\n",
    "\n",
    "    f=(f.strip(\".bgz\")).split(\"/\")[-1]\n",
    "    path, filename, sid = split_filename.split_filename(f)\n",
    "    out_uniq = os.path.join(PATH, (sid + \"clean_LD_exp_uniq.bed\")) #intersect this\n",
    "    out_nohla = os.path.join(PATH, (sid + \"clean_LD_exp_uniq_nohla.bed\")) # write this\n",
    "\n",
    "    hla = pbt.BedTool(HLA_BED)\n",
    "    bed = pbt.BedTool(out_uniq)\n",
    "\n",
    "    no_hla = bed.intersect(hla, v=True).saveas(out_nohla)  # subtract \n",
    "    \n",
    "    w_hla=sum(1 for lin in bed)\n",
    "    wo_hla=sum(1 for lin in no_hla)\n",
    "    \n",
    "    print(sid, w_hla, wo_hla)"
   ]
  },
  {
   "cell_type": "markdown",
   "id": "b87f817f",
   "metadata": {},
   "source": [
    "categorical-20002-both_sexes-1381 46300 24982\n",
    "categorical-20002-both_sexes-1464 77191 34851\n",
    "categorical-20002-both_sexes-1452 53112 41303\n",
    "categorical-20002-both_sexes-1111 185347 132894\n",
    "categorical-20002-both_sexes-1463 49484 29672\n",
    "phecode-202.2-both_sexes 37994 25855\n",
    "continuous-30000-both_sexes-irnt 563041 495837\n",
    "categorical-20002-both_sexes-1387 91521 58995\n",
    "continuous-30200-both_sexes-irnt 465498 421485\n",
    "continuous-845-both_sexes 151361 146053\n",
    "phecode-290.11-both_sexes 22850 22654\n",
    "categorical-22506-both_sexes-111 17203 16759\n",
    "continuous-30120-both_sexes-irnt 631201 558985\n",
    "continuous-30080-both_sexes-irnt 854496 788223\n",
    "continuous-30100-both_sexes-irnt 946121 876737\n",
    "phecode-174-both_sexes 72256 71113"
   ]
  },
  {
   "cell_type": "markdown",
   "id": "c49c7daf",
   "metadata": {},
   "source": [
    "# subtract regions"
   ]
  },
  {
   "cell_type": "code",
   "execution_count": 2,
   "id": "68b6f2ff",
   "metadata": {
    "ExecuteTime": {
     "end_time": "2022-08-08T17:33:30.579116Z",
     "start_time": "2022-08-08T17:33:30.568908Z"
    }
   },
   "outputs": [],
   "source": [
    "BKGD = config[\"BKGD\"][\"merged_sharedacc_0000\"]  # background to shuffle in\n",
    "REGIONS_PATH = config[\"CIS_TRANS\"][\"regions_dir\"]\n",
    "\n",
    "RE = config[\"UKBB\"][\"results\"]\n",
    "PATH = config[\"UKBB\"][\"path\"]"
   ]
  },
  {
   "cell_type": "code",
   "execution_count": 6,
   "id": "6076d84c",
   "metadata": {
    "ExecuteTime": {
     "end_time": "2022-08-08T17:35:19.475099Z",
     "start_time": "2022-08-08T17:35:18.607046Z"
    }
   },
   "outputs": [
    {
     "name": "stdout",
     "output_type": "stream",
     "text": [
      "\n",
      " cis_only 2058 2054 4 \n",
      "\n",
      "chr6\t32609870\t32610120\tchr6:32609870-32610120\n",
      "\n",
      "chr6\t32637259\t32637389\tchr6:32637259-32637389\n",
      "\n",
      "chr6\t33571421\t33571601\tchr6:33571421-33571601\n",
      "\n",
      "chr6\t33744613\t33744753\tchr6:33744613-33744753\n",
      "\n",
      "\n",
      " cis+trans 10176 10175 1 \n",
      "\n",
      "chr6\t33556917\t33557037\tchr6:33556917-33557037\n",
      "\n",
      "\n",
      " trans_only 2047 2046 1 \n",
      "\n",
      "chr6\t33789133\t33789253\tchr6:33789133-33789253\n",
      "\n",
      "\n",
      " conserved_active.regions 2397 2397 0 \n",
      "\n",
      "\n",
      " HH-active_MM-inactive_cis-only 1074 1072 2 \n",
      "\n",
      "chr6\t32637259\t32637389\tchr6:32637259-32637389\n",
      "\n",
      "chr6\t33571421\t33571601\tchr6:33571421-33571601\n",
      "\n",
      "\n",
      " HH-active_MM-inactive_cis+trans 5435 5435 0 \n",
      "\n",
      "\n",
      " HH-active_MM-inactive_trans-only 791 791 0 \n",
      "\n",
      "\n",
      " MM-active_HH-inactive_cis-only 984 982 2 \n",
      "\n",
      "chr6\t32609870\t32610120\tchr6:32609870-32610120\n",
      "\n",
      "chr6\t33744613\t33744753\tchr6:33744613-33744753\n",
      "\n",
      "\n",
      " MM-active_HH-inactive_cis+trans 4741 4740 1 \n",
      "\n",
      "chr6\t33556917\t33557037\tchr6:33556917-33557037\n",
      "\n",
      "\n",
      " MM-active_HH-inactive_trans-only 1256 1255 1 \n",
      "\n",
      "chr6\t33789133\t33789253\tchr6:33789133-33789253\n",
      "\n"
     ]
    }
   ],
   "source": [
    "## file names to test for enrichment:\n",
    "\n",
    "test_filenames = [\n",
    "\n",
    "                \"cis_only.bed\",\n",
    "                \"cis+trans.bed\",\n",
    "                \"trans_only.bed\",\n",
    "                \"conserved_active.regions.bed\",\n",
    "    \n",
    "                \"HH-active_MM-inactive_cis-only.bed\",\n",
    "                \"HH-active_MM-inactive_cis+trans.bed\",\n",
    "                \"HH-active_MM-inactive_trans-only.bed\",\n",
    "    \n",
    "                \"MM-active_HH-inactive_cis-only.bed\",\n",
    "                \"MM-active_HH-inactive_cis+trans.bed\", \n",
    "                \"MM-active_HH-inactive_trans-only.bed\",\n",
    "\n",
    "]\n",
    "    \n",
    "for f in test_filenames:\n",
    "    full_bed = os.path.join(REGIONS_PATH, f)\n",
    "    sid = f.split(\".bed\")[0]\n",
    "    out_nohla = os.path.join(REGIONS_PATH, (sid + \"_nohla.bed\")) # write this\n",
    "    \n",
    "    \n",
    "    hla = pbt.BedTool(HLA_BED)\n",
    "    bed = pbt.BedTool(full_bed)\n",
    "\n",
    "    no_hla = bed.intersect(hla, v=True).saveas(out_nohla)  # subtract \n",
    "    yes_hla = bed.intersect(hla)  # find overlap\n",
    "    \n",
    "    w_hla=sum(1 for lin in bed)\n",
    "    wo_hla=sum(1 for lin in no_hla)\n",
    "    dif = w_hla-wo_hla\n",
    "    print(\"\\n\", sid, w_hla, wo_hla, dif,\"\\n\")\n",
    "    \n",
    "    for i in yes_hla:\n",
    "        print(i)"
   ]
  },
  {
   "cell_type": "markdown",
   "id": "0f7a1e45",
   "metadata": {},
   "source": [
    "# for peaks "
   ]
  },
  {
   "cell_type": "code",
   "execution_count": 7,
   "id": "8c71f315",
   "metadata": {
    "ExecuteTime": {
     "end_time": "2022-08-08T17:35:53.875695Z",
     "start_time": "2022-08-08T17:35:53.409035Z"
    }
   },
   "outputs": [
    {
     "name": "stdout",
     "output_type": "stream",
     "text": [
      "\n",
      " peaks-cis_only 1821 1817 4 \n",
      "\n",
      "\n",
      " peaks-cis+trans 7298 7297 1 \n",
      "\n",
      "\n",
      " peaks-trans_only 1796 1795 1 \n",
      "\n",
      "\n",
      " peaks-conserved_active.regions 2045 2045 0 \n",
      "\n",
      "\n",
      " peaks-HH-active_MM-inactive_cis-only 984 982 2 \n",
      "\n",
      "\n",
      " peaks-HH-active_MM-inactive_cis+trans 4525 4525 0 \n",
      "\n",
      "\n",
      " peaks-HH-active_MM-inactive_trans-only 753 753 0 \n",
      "\n",
      "\n",
      " peaks-MM-active_HH-inactive_cis-only 890 888 2 \n",
      "\n",
      "\n",
      " peaks-MM-active_HH-inactive_cis+trans 3791 3790 1 \n",
      "\n",
      "\n",
      " peaks-MM-active_HH-inactive_trans-only 1131 1130 1 \n",
      "\n"
     ]
    }
   ],
   "source": [
    "## file names to test for enrichment:\n",
    "\n",
    "test_filenames = [\n",
    "\n",
    "                \"cis_only.bed\",\n",
    "                \"cis+trans.bed\",\n",
    "                \"trans_only.bed\",\n",
    "                \"conserved_active.regions.bed\",\n",
    "    \n",
    "                \"HH-active_MM-inactive_cis-only.bed\",\n",
    "                \"HH-active_MM-inactive_cis+trans.bed\",\n",
    "                \"HH-active_MM-inactive_trans-only.bed\",\n",
    "    \n",
    "                \"MM-active_HH-inactive_cis-only.bed\",\n",
    "                \"MM-active_HH-inactive_cis+trans.bed\", \n",
    "                \"MM-active_HH-inactive_trans-only.bed\",\n",
    "\n",
    "]\n",
    "    \n",
    "for f in test_filenames:\n",
    "    \n",
    "    peak_f = f\"peaks-{f}\"\n",
    "    full_bed = os.path.join(REGIONS_PATH, peak_f)\n",
    "\n",
    "    sid = peak_f.split(\".bed\")[0]\n",
    "    out_nohla = os.path.join(REGIONS_PATH, (sid + \"_nohla.bed\")) # write this\n",
    "    \n",
    "    \n",
    "    hla = pbt.BedTool(HLA_BED)\n",
    "    bed = pbt.BedTool(full_bed)\n",
    "\n",
    "    no_hla = bed.intersect(hla, v=True).saveas(out_nohla)  # subtract \n",
    "    \n",
    "    w_hla=sum(1 for lin in bed)\n",
    "    wo_hla=sum(1 for lin in no_hla)\n",
    "    \n",
    "    dif = w_hla-wo_hla\n",
    "    print(\"\\n\", sid, w_hla, wo_hla, dif,\"\\n\")"
   ]
  },
  {
   "cell_type": "markdown",
   "id": "0cf5c9d1",
   "metadata": {},
   "source": [
    "# subtract hla frm bkgd"
   ]
  },
  {
   "cell_type": "code",
   "execution_count": 9,
   "id": "b8ed06a4",
   "metadata": {
    "ExecuteTime": {
     "end_time": "2022-08-08T17:46:53.544632Z",
     "start_time": "2022-08-08T17:46:51.425764Z"
    }
   },
   "outputs": [
    {
     "name": "stdout",
     "output_type": "stream",
     "text": [
      "\n",
      "bkgd 50683 50656 27 \n",
      "\n"
     ]
    }
   ],
   "source": [
    "bkgd=pbt.BedTool(BKGD)\n",
    "out_nohla = os.path.join(REGIONS_PATH, \"bkgd_nohla.bed\") # write this\n",
    "\n",
    "no_hla = bkgd.intersect(hla, v=True).saveas(out_nohla)  # subtract \n",
    "\n",
    "w_hla=sum(1 for lin in bkgd)\n",
    "wo_hla=sum(1 for lin in no_hla)\n",
    "dif = w_hla-wo_hla\n",
    "print(\"\\nbkgd\", w_hla, wo_hla, dif,\"\\n\")\n"
   ]
  },
  {
   "cell_type": "code",
   "execution_count": null,
   "id": "d629e785",
   "metadata": {},
   "outputs": [],
   "source": [
    "def main(argv):\n",
    "\n",
    "    dl_dict = UKBB_traits.dl_dict() # second round of traits\n",
    "\n",
    "\n",
    "    for f in dl_dict.values():\n",
    "\n",
    "        f=(f.strip(\".bgz\")).split(\"/\")[-1]\n",
    "        path, filename, sid = split_filename.split_filename(f)\n",
    "        out_uniq = os.path.join(PATH, (sid + \"clean_LD_exp_uniq.bed\")) #intersect this\n",
    "        out_nohla = os.path.join(PATH, (sid + \"clean_LD_exp_uniq_nohla.bed\")) # write this\n",
    "\n",
    "        hla = pbt.BedTool(HLA_BED)\n",
    "        bed = pbt.BedTool(out_uniq)\n",
    "\n",
    "        no_hla = bed.intersect(hla, v=True).saveas(out_nohla)  # subtract \n",
    "\n",
    "        w_hla=sum(1 for lin in bed)\n",
    "        wo_hla=sum(1 for lin in no_hla)\n",
    "\n",
    "        print(sid, w_hla, wo_hla)\n",
    "if __name__ == \"__main__\":\n",
    "    main(sys.argv[1:])"
   ]
  }
 ],
 "metadata": {
  "kernelspec": {
   "display_name": "Python (sfenv)",
   "language": "python",
   "name": "sfenv"
  },
  "language_info": {
   "codemirror_mode": {
    "name": "ipython",
    "version": 3
   },
   "file_extension": ".py",
   "mimetype": "text/x-python",
   "name": "python",
   "nbconvert_exporter": "python",
   "pygments_lexer": "ipython3",
   "version": "3.6.10"
  },
  "toc": {
   "base_numbering": 1,
   "nav_menu": {},
   "number_sections": true,
   "sideBar": true,
   "skip_h1_title": false,
   "title_cell": "Table of Contents",
   "title_sidebar": "Contents",
   "toc_cell": false,
   "toc_position": {},
   "toc_section_display": true,
   "toc_window_display": false
  }
 },
 "nbformat": 4,
 "nbformat_minor": 5
}
