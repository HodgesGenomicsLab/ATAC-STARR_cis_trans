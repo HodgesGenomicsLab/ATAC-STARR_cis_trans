{
 "cells": [
  {
   "cell_type": "markdown",
   "id": "70bf2155",
   "metadata": {},
   "source": [
    "# Shuffle Analysis\n",
    "\n",
    "Because we are identifying overlaps between human and macaque, overlaps could arise by chance rather than be influenced by biology. To address this possibility, I am doing an analysis here that I am calling \"shuffle analysis\". For this analysis I will compare the number of overlaps we obtain for HH vs MM (2,397) with that of overlaps when I shuffle MM regions in the analytic genomic space (shared accessible chromatin). The hypothesis is we should see greater a greater observed overlap than is expected by chance.  "
   ]
  },
  {
   "cell_type": "markdown",
   "id": "732dfae6",
   "metadata": {},
   "source": [
    "## Make new config section"
   ]
  },
  {
   "cell_type": "code",
   "execution_count": 2,
   "id": "a070eb08",
   "metadata": {
    "ExecuteTime": {
     "end_time": "2022-05-02T16:48:01.779582Z",
     "start_time": "2022-05-02T16:48:01.565Z"
    }
   },
   "outputs": [],
   "source": [
    "#function\n",
    "append_section_to_ini <- function(ini_file, new_section) {\n",
    "    if (is.list(new_section)) {\n",
    "        ini <- ini::read.ini(ini_file)\n",
    "        ini <- c(ini,new_section)\n",
    "        ini::write.ini(x=ini, filepath=ini_file)\n",
    "    } else {\n",
    "        print('new_section is not a list')\n",
    "    }\n",
    "}\n",
    "\n",
    "#list of key-value pairs\n",
    "TH_SHUFFLE <- list(dir='/data/hodges_lab/ATAC-STARR_B-cells/results/results_human-evolution/TH_shuffle', \n",
    "               mm_shuffles_dir='/data/hodges_lab/ATAC-STARR_B-cells/results/results_human-evolution/TH_shuffle/mm_shuffles', \n",
    "               shuffle_overlap='/data/hodges_lab/ATAC-STARR_B-cells/results/results_human-evolution/TH_shuffle/expected_overlap.txt', \n",
    "               plots='/data/hodges_lab/ATAC-STARR_B-cells/results/results_human-evolution/TH_shuffle/plots', \n",
    "               bin='/data/hodges_lab/ATAC-STARR_B-cells/bin_human-evolution/processing-and-region-calling/shuffle_analysis.ipynb')\n",
    "\n",
    "#list of section, resulting in list of list.\n",
    "new_section <- list(TH_SHUFFLE =TH_SHUFFLE)\n",
    "\n",
    "#write ini\n",
    "append_section_to_ini(\"../config.ini\", new_section)"
   ]
  },
  {
   "cell_type": "markdown",
   "id": "7c3d7363",
   "metadata": {},
   "source": [
    "## Make MM shuffles"
   ]
  },
  {
   "cell_type": "code",
   "execution_count": 1,
   "id": "6ce992fc",
   "metadata": {
    "ExecuteTime": {
     "end_time": "2022-09-16T17:54:19.092386Z",
     "start_time": "2022-09-16T17:54:18.511123Z"
    }
   },
   "outputs": [],
   "source": [
    "# bash kernel\n",
    "#input\n",
    "MM=$(read-ini ../config.ini ACTIVITY mm_active_regions)\n",
    "SHARED_ACC=$(read-ini ../config.ini CHRACC shared_peaks)\n",
    "\n",
    "#ouput\n",
    "out_dir=$(read-ini ../config.ini TH_SHUFFLE mm_shuffles_dir)"
   ]
  },
  {
   "cell_type": "code",
   "execution_count": 2,
   "id": "8ccacfe8",
   "metadata": {
    "ExecuteTime": {
     "end_time": "2022-09-16T17:57:23.142091Z",
     "start_time": "2022-09-16T17:54:19.095787Z"
    }
   },
   "outputs": [],
   "source": [
    "for i in {1..1000}\n",
    "do\n",
    "    bedtools shuffle -noOverlapping -incl $SHARED_ACC -i $MM -g /home/hansetj1/chrom.sizes/hg38.chrom.sizes \\\n",
    "    > ${out_dir}/mm_shuffle_${i}.bed\n",
    "done"
   ]
  },
  {
   "cell_type": "markdown",
   "id": "bd3493fe",
   "metadata": {},
   "source": [
    "## Intersect shuffles with HH"
   ]
  },
  {
   "cell_type": "code",
   "execution_count": 6,
   "id": "109e416e",
   "metadata": {
    "ExecuteTime": {
     "end_time": "2022-09-16T17:57:42.073207Z",
     "start_time": "2022-09-16T17:57:41.546034Z"
    }
   },
   "outputs": [],
   "source": [
    "#input\n",
    "HH=$(read-ini ../config.ini ACTIVITY hh_active_regions)\n",
    "in_dir=$(read-ini ../config.ini TH_SHUFFLE mm_shuffles_dir)\n",
    "\n",
    "#ouput\n",
    "EXPECTED=$(read-ini ../config.ini TH_SHUFFLE shuffle_overlap)"
   ]
  },
  {
   "cell_type": "code",
   "execution_count": 9,
   "id": "85cbf132",
   "metadata": {
    "ExecuteTime": {
     "end_time": "2022-09-16T17:58:22.448662Z",
     "start_time": "2022-09-16T17:57:58.033790Z"
    }
   },
   "outputs": [],
   "source": [
    "rm $EXPECTED # need to delete otherwise will continue to write the previous file, if re-run. \n",
    "\n",
    "for i in {1..1000}\n",
    "do\n",
    "   bedtools intersect -f 0.5 -F 0.5 -e -a $HH -b ${in_dir}/mm_shuffle_${i}.bed | wc -l >> $EXPECTED \n",
    "done"
   ]
  },
  {
   "cell_type": "code",
   "execution_count": 10,
   "id": "b2e87c11",
   "metadata": {
    "ExecuteTime": {
     "end_time": "2022-09-16T17:58:22.589957Z",
     "start_time": "2022-09-16T17:58:22.452536Z"
    }
   },
   "outputs": [
    {
     "name": "stdout",
     "output_type": "stream",
     "text": [
      "3104\n"
     ]
    }
   ],
   "source": [
    "bedtools intersect -f 0.5 -F 0.5 -e -a $HH -b $MM | wc -l "
   ]
  },
  {
   "cell_type": "markdown",
   "id": "764978a8",
   "metadata": {},
   "source": [
    "## Plot results"
   ]
  },
  {
   "cell_type": "code",
   "execution_count": 1,
   "id": "5b811665",
   "metadata": {
    "ExecuteTime": {
     "end_time": "2022-09-16T17:58:51.938105Z",
     "start_time": "2022-09-16T17:58:47.312Z"
    }
   },
   "outputs": [],
   "source": [
    "suppressPackageStartupMessages(library(tidyverse))\n",
    "\n",
    "ini <- ini::read.ini(\"../config.ini\")"
   ]
  },
  {
   "cell_type": "code",
   "execution_count": 2,
   "id": "af884159",
   "metadata": {
    "ExecuteTime": {
     "end_time": "2022-09-16T17:58:52.637769Z",
     "start_time": "2022-09-16T17:58:47.316Z"
    }
   },
   "outputs": [
    {
     "name": "stderr",
     "output_type": "stream",
     "text": [
      "\u001b[1mRows: \u001b[22m\u001b[34m1000\u001b[39m \u001b[1mColumns: \u001b[22m\u001b[34m1\u001b[39m\n",
      "\n",
      "\u001b[36m──\u001b[39m \u001b[1mColumn specification\u001b[22m \u001b[36m────────────────────────────────────────────────────────\u001b[39m\n",
      "\u001b[1mDelimiter:\u001b[22m \"\\t\"\n",
      "\u001b[32mdbl\u001b[39m (1): count\n",
      "\n",
      "\n",
      "\u001b[36mℹ\u001b[39m Use `spec()` to retrieve the full column specification for this data.\n",
      "\u001b[36mℹ\u001b[39m Specify the column types or set `show_col_types = FALSE` to quiet this message.\n",
      "\n"
     ]
    }
   ],
   "source": [
    "expected <- read_tsv(ini$TH_SHUFFLE$shuffle_overlap, col_names = c(\"count\"))\n",
    "observed <- 3104"
   ]
  },
  {
   "cell_type": "code",
   "execution_count": 6,
   "id": "d2ee6416",
   "metadata": {
    "ExecuteTime": {
     "end_time": "2022-09-16T17:59:03.136477Z",
     "start_time": "2022-09-16T17:59:02.448Z"
    }
   },
   "outputs": [],
   "source": [
    "p <- ggplot(expected, aes(x = count)) +\n",
    "    geom_density(fill = \"steelblue\", color = \"white\") +\n",
    "    geom_vline(xintercept = observed, color = \"firebrick\") +\n",
    "    scale_y_continuous(breaks = c(0, 0.01, 0.02)) +\n",
    "    labs(x = \"number of overlaps\", title = \"Observed vs. Expected HH-MM active overlaps\") +\n",
    "    theme_bw(base_size = 10) +\n",
    "    theme(plot.title = element_text(hjust = 0.5, size = 10)) +\n",
    "    coord_cartesian(xlim = c(0, 3500))"
   ]
  },
  {
   "cell_type": "code",
   "execution_count": 7,
   "id": "df0bc645",
   "metadata": {
    "ExecuteTime": {
     "end_time": "2022-09-16T17:59:05.463586Z",
     "start_time": "2022-09-16T17:59:04.555Z"
    }
   },
   "outputs": [
    {
     "data": {
      "image/png": "[encoded data removed]",
      "text/plain": [
       "plot without title"
      ]
     },
     "metadata": {
      "image/png": {
       "height": 90,
       "width": 240
      }
     },
     "output_type": "display_data"
    }
   ],
   "source": [
    "options(repr.plot.width = 4, repr.plot.height = 1.5)\n",
    "p"
   ]
  },
  {
   "cell_type": "code",
   "execution_count": 8,
   "id": "a7c8d977",
   "metadata": {
    "ExecuteTime": {
     "end_time": "2022-09-16T17:59:10.573846Z",
     "start_time": "2022-09-16T17:59:09.769Z"
    }
   },
   "outputs": [],
   "source": [
    "ggsave(p, filename = paste0(ini$TH_SHUFFLE$plots, \"/HH-vs-MM_observed-expected_density.pdf\"), \n",
    "       device = cairo_pdf, width = 4, height = 1.5)"
   ]
  },
  {
   "cell_type": "markdown",
   "id": "f28d8acb",
   "metadata": {},
   "source": [
    "## Stats: Grubb's Test for Outliers"
   ]
  },
  {
   "cell_type": "code",
   "execution_count": 9,
   "id": "6998756a",
   "metadata": {
    "ExecuteTime": {
     "end_time": "2022-09-16T17:59:15.096235Z",
     "start_time": "2022-09-16T17:59:14.429Z"
    }
   },
   "outputs": [],
   "source": [
    "# do the stats\n",
    "all <- as.integer(expected$count) %>% append(values = observed)"
   ]
  },
  {
   "cell_type": "code",
   "execution_count": 10,
   "id": "aceeb104",
   "metadata": {
    "ExecuteTime": {
     "end_time": "2022-09-16T17:59:18.082068Z",
     "start_time": "2022-09-16T17:59:17.374Z"
    }
   },
   "outputs": [
    {
     "data": {
      "text/plain": [
       "\n",
       "\tGrubbs test for one outlier\n",
       "\n",
       "data:  all\n",
       "G = 29.43111, U = 0.13294, p-value < 2.2e-16\n",
       "alternative hypothesis: highest value 3104 is an outlier\n"
      ]
     },
     "metadata": {},
     "output_type": "display_data"
    }
   ],
   "source": [
    "outliers::grubbs.test(all, type = 10, opposite = FALSE, two.sided = FALSE)"
   ]
  },
  {
   "cell_type": "markdown",
   "id": "049492d4",
   "metadata": {
    "ExecuteTime": {
     "end_time": "2022-06-30T19:38:18.386008Z",
     "start_time": "2022-06-30T19:38:18.977Z"
    }
   },
   "source": [
    "## Repeat for cis and trans effects"
   ]
  },
  {
   "cell_type": "markdown",
   "id": "8fb2de23",
   "metadata": {},
   "source": [
    "### Make HM and MH shuffles"
   ]
  },
  {
   "cell_type": "code",
   "execution_count": 1,
   "id": "e814f89b",
   "metadata": {
    "ExecuteTime": {
     "end_time": "2022-09-16T18:00:41.886264Z",
     "start_time": "2022-09-16T18:00:41.197684Z"
    }
   },
   "outputs": [],
   "source": [
    "# bash kernel\n",
    "#input\n",
    "HM=$(read-ini ../config.ini ACTIVITY hm_active_regions)\n",
    "MH=$(read-ini ../config.ini ACTIVITY mh_active_regions)\n",
    "SHARED_ACC=$(read-ini ../config.ini CHRACC shared_peaks)\n",
    "\n",
    "#ouput\n",
    "out_dir=$(read-ini ../config.ini TH_SHUFFLE dir)"
   ]
  },
  {
   "cell_type": "code",
   "execution_count": 2,
   "id": "0f86d54f",
   "metadata": {
    "ExecuteTime": {
     "end_time": "2022-09-16T18:06:56.730193Z",
     "start_time": "2022-09-16T18:00:41.889690Z"
    }
   },
   "outputs": [
    {
     "name": "stdout",
     "output_type": "stream",
     "text": [
      "mkdir: cannot create directory ‘/data/hodges_lab/ATAC-STARR_B-cells/results/results_human-evolution/TH_shuffle/hm_shuffles’: File exists\n",
      "mkdir: cannot create directory ‘/data/hodges_lab/ATAC-STARR_B-cells/results/results_human-evolution/TH_shuffle/mh_shuffles’: File exists\n"
     ]
    }
   ],
   "source": [
    "mkdir ${out_dir}/hm_shuffles\n",
    "mkdir ${out_dir}/mh_shuffles\n",
    "\n",
    "#HM\n",
    "for i in {1..1000}\n",
    "do\n",
    "    bedtools shuffle -noOverlapping -incl $SHARED_ACC -i $HM -g /home/hansetj1/chrom.sizes/hg38.chrom.sizes \\\n",
    "    > ${out_dir}/hm_shuffles/hm_shuffle_${i}.bed\n",
    "done\n",
    "\n",
    "#MH\n",
    "for i in {1..1000}\n",
    "do\n",
    "    bedtools shuffle -noOverlapping -incl $SHARED_ACC -i $MH -g /home/hansetj1/chrom.sizes/hg38.chrom.sizes \\\n",
    "    > ${out_dir}/mh_shuffles/mh_shuffle_${i}.bed\n",
    "done"
   ]
  },
  {
   "cell_type": "markdown",
   "id": "e20e30dc",
   "metadata": {},
   "source": [
    "### Intersect MH shuffles with HH_specific - HH_cis"
   ]
  },
  {
   "cell_type": "code",
   "execution_count": 3,
   "id": "6a50f2b1",
   "metadata": {
    "ExecuteTime": {
     "end_time": "2022-09-16T18:06:57.351798Z",
     "start_time": "2022-09-16T18:06:56.733256Z"
    }
   },
   "outputs": [],
   "source": [
    "#input\n",
    "HH_specific=$(read-ini ../config.ini HH-VS-MM hh-active_mm-inactive)\n",
    "MH=$(read-ini ../config.ini ACTIVITY mh_active_regions)\n",
    "out_dir=$(read-ini ../config.ini TH_SHUFFLE dir)\n",
    "\n",
    "#ouput\n",
    "EXPECTED=$(read-ini ../config.ini TH_SHUFFLE dir)"
   ]
  },
  {
   "cell_type": "code",
   "execution_count": 4,
   "id": "6078a5f9",
   "metadata": {
    "ExecuteTime": {
     "end_time": "2022-09-16T18:07:18.304398Z",
     "start_time": "2022-09-16T18:06:57.354740Z"
    }
   },
   "outputs": [],
   "source": [
    "rm ${EXPECTED}/HH_cis_expected.txt # need to delete otherwise will continue to write the previous file, if re-run. \n",
    "\n",
    "for i in {1..1000}\n",
    "do\n",
    "   bedtools intersect -f 0.5 -F 0.5 -e -a $HH_specific -b ${out_dir}/mh_shuffles/mh_shuffle_${i}.bed | wc -l >> ${EXPECTED}/HH_cis_expected.txt\n",
    "done"
   ]
  },
  {
   "cell_type": "code",
   "execution_count": 6,
   "id": "45826e48",
   "metadata": {
    "ExecuteTime": {
     "end_time": "2022-09-16T18:17:08.293817Z",
     "start_time": "2022-09-16T18:17:08.105916Z"
    }
   },
   "outputs": [
    {
     "name": "stdout",
     "output_type": "stream",
     "text": [
      "1187\n"
     ]
    }
   ],
   "source": [
    "#calcuate observed\n",
    "bedtools intersect -f 0.5 -F 0.5 -e -a $HH_specific -b $MH | wc -l "
   ]
  },
  {
   "cell_type": "code",
   "execution_count": 1,
   "id": "6eefb1a5",
   "metadata": {
    "ExecuteTime": {
     "end_time": "2022-09-16T18:59:28.455172Z",
     "start_time": "2022-09-16T18:59:25.652Z"
    }
   },
   "outputs": [],
   "source": [
    "suppressPackageStartupMessages(library(tidyverse))\n",
    "ini <- ini::read.ini(\"../config.ini\")\n",
    "expected <- read_tsv(paste0(ini$TH_SHUFFLE$dir, \"/HH_cis_expected.txt\"), col_names = c(\"count\"), show_col_types = FALSE)\n",
    "observed <- 1187"
   ]
  },
  {
   "cell_type": "code",
   "execution_count": 3,
   "id": "65c3ff4d",
   "metadata": {
    "ExecuteTime": {
     "end_time": "2022-09-16T18:59:46.698913Z",
     "start_time": "2022-09-16T18:59:45.640Z"
    }
   },
   "outputs": [
    {
     "data": {
      "image/png": "[encoded data removed]",
      "text/plain": [
       "plot without title"
      ]
     },
     "metadata": {
      "image/png": {
       "height": 90,
       "width": 240
      }
     },
     "output_type": "display_data"
    }
   ],
   "source": [
    "p <- ggplot(expected, aes(x = count)) +\n",
    "    geom_density(fill = \"steelblue\", color = \"white\") +\n",
    "    geom_vline(xintercept = observed, color = \"firebrick\") +\n",
    "    scale_y_continuous(breaks = c(0, 0.01, 0.02)) +\n",
    "    labs(x = \"number of overlaps\", title = \"Observed vs. Expected HH-skewed & MH active overlaps\") +\n",
    "    theme_bw(base_size = 10) +\n",
    "    theme(plot.title = element_text(hjust = 0.5, size = 10)) +\n",
    "    coord_cartesian(xlim = c(0, 3500))\n",
    "\n",
    "options(repr.plot.width = 4, repr.plot.height = 1.5)\n",
    "p\n",
    "\n",
    "ggsave(p, filename = paste0(ini$TH_SHUFFLE$plots, \"/HH-cis_observed-expected_density.pdf\"), \n",
    "       device = cairo_pdf, width = 4, height = 1.5)"
   ]
  },
  {
   "cell_type": "code",
   "execution_count": 4,
   "id": "962dc7f8",
   "metadata": {
    "ExecuteTime": {
     "end_time": "2022-09-16T18:59:52.432824Z",
     "start_time": "2022-09-16T18:59:51.720Z"
    }
   },
   "outputs": [
    {
     "data": {
      "text/plain": [
       "\n",
       "\tGrubbs test for one outlier\n",
       "\n",
       "data:  all\n",
       "G = 22.45283, U = 0.49537, p-value < 2.2e-16\n",
       "alternative hypothesis: highest value 1187 is an outlier\n"
      ]
     },
     "metadata": {},
     "output_type": "display_data"
    }
   ],
   "source": [
    "# do the stats\n",
    "all <- as.integer(expected$count) %>% append(values = observed)\n",
    "outliers::grubbs.test(all, type = 10, opposite = FALSE, two.sided = FALSE)"
   ]
  },
  {
   "cell_type": "markdown",
   "id": "e0a6caa9",
   "metadata": {},
   "source": [
    "### Intersect HM shuffles with MM_specific - MM_cis"
   ]
  },
  {
   "cell_type": "code",
   "execution_count": 1,
   "id": "ccb9da66",
   "metadata": {
    "ExecuteTime": {
     "end_time": "2022-09-16T19:00:14.883225Z",
     "start_time": "2022-09-16T19:00:14.254788Z"
    }
   },
   "outputs": [],
   "source": [
    "#input\n",
    "MM_specific=$(read-ini ../config.ini HH-VS-MM mm-active_hh-inactive)\n",
    "HM=$(read-ini ../config.ini ACTIVITY hm_active_regions)\n",
    "out_dir=$(read-ini ../config.ini TH_SHUFFLE dir)\n",
    "\n",
    "#ouput\n",
    "EXPECTED=$(read-ini ../config.ini TH_SHUFFLE dir)"
   ]
  },
  {
   "cell_type": "code",
   "execution_count": 2,
   "id": "fb795992",
   "metadata": {
    "ExecuteTime": {
     "end_time": "2022-09-16T19:04:08.435495Z",
     "start_time": "2022-09-16T19:00:14.886495Z"
    }
   },
   "outputs": [],
   "source": [
    "rm ${EXPECTED}/MM_cis_expected.txt # need to delete otherwise will continue to write the previous file, if re-run. \n",
    "\n",
    "for i in {1..1000}\n",
    "do\n",
    "   bedtools intersect -f 0.5 -F 0.5 -e -a $MM_specific -b ${out_dir}/hm_shuffles/hm_shuffle_${i}.bed | wc -l >> ${EXPECTED}/MM_cis_expected.txt\n",
    "done"
   ]
  },
  {
   "cell_type": "code",
   "execution_count": 3,
   "id": "6f9589cd",
   "metadata": {
    "ExecuteTime": {
     "end_time": "2022-09-16T19:04:08.631596Z",
     "start_time": "2022-09-16T19:04:08.439512Z"
    }
   },
   "outputs": [
    {
     "name": "stdout",
     "output_type": "stream",
     "text": [
      "1921\n"
     ]
    }
   ],
   "source": [
    "#calcuate observed\n",
    "bedtools intersect -f 0.5 -F 0.5 -e -a $MM_specific -b $HM | wc -l "
   ]
  },
  {
   "cell_type": "code",
   "execution_count": 1,
   "id": "5c584628",
   "metadata": {
    "ExecuteTime": {
     "end_time": "2022-09-16T19:16:58.716959Z",
     "start_time": "2022-09-16T19:16:55.721Z"
    },
    "scrolled": true
   },
   "outputs": [],
   "source": [
    "suppressPackageStartupMessages(library(tidyverse))\n",
    "ini <- ini::read.ini(\"../config.ini\")\n",
    "expected <- read_tsv(paste0(ini$TH_SHUFFLE$dir, \"/MM_cis_expected.txt\"), col_names = c(\"count\"), show_col_types = FALSE)\n",
    "observed <- 1921"
   ]
  },
  {
   "cell_type": "code",
   "execution_count": 2,
   "id": "b3a0f38c",
   "metadata": {
    "ExecuteTime": {
     "end_time": "2022-09-16T19:16:59.712889Z",
     "start_time": "2022-09-16T19:16:58.136Z"
    }
   },
   "outputs": [
    {
     "data": {
      "image/png": "[encoded data removed]",
      "text/plain": [
       "plot without title"
      ]
     },
     "metadata": {
      "image/png": {
       "height": 90,
       "width": 240
      }
     },
     "output_type": "display_data"
    }
   ],
   "source": [
    "p <- ggplot(expected, aes(x = count)) +\n",
    "    geom_density(fill = \"steelblue\", color = \"white\") +\n",
    "    geom_vline(xintercept = observed, color = \"firebrick\") +\n",
    "    scale_y_continuous(breaks = c(0, 0.01, 0.02)) +\n",
    "    labs(x = \"number of overlaps\", title = \"Observed vs. Expected MM-skewed & HM active overlaps\") +\n",
    "    theme_bw(base_size = 10) +\n",
    "    theme(plot.title = element_text(hjust = 0.5, size = 10)) +\n",
    "    coord_cartesian(xlim = c(0, 3500))\n",
    "\n",
    "options(repr.plot.width = 4, repr.plot.height = 1.5)\n",
    "p\n",
    "\n",
    "ggsave(p, filename = paste0(ini$TH_SHUFFLE$plots, \"/MM-cis_observed-expected_density.pdf\"), \n",
    "       device = cairo_pdf, width = 4, height = 1.5)"
   ]
  },
  {
   "cell_type": "code",
   "execution_count": 3,
   "id": "f09eaf82",
   "metadata": {
    "ExecuteTime": {
     "end_time": "2022-09-16T19:17:03.653841Z",
     "start_time": "2022-09-16T19:17:02.948Z"
    }
   },
   "outputs": [
    {
     "data": {
      "text/plain": [
       "\n",
       "\tGrubbs test for one outlier\n",
       "\n",
       "data:  all\n",
       "G = 28.16288, U = 0.20606, p-value < 2.2e-16\n",
       "alternative hypothesis: highest value 1921 is an outlier\n"
      ]
     },
     "metadata": {},
     "output_type": "display_data"
    }
   ],
   "source": [
    "# do the stats\n",
    "all <- as.integer(expected$count) %>% append(values = observed)\n",
    "outliers::grubbs.test(all, type = 10, opposite = FALSE, two.sided = FALSE)"
   ]
  },
  {
   "cell_type": "markdown",
   "id": "74d97d87",
   "metadata": {},
   "source": [
    "### Intersect HM shuffles with HH_specific - HH_trans"
   ]
  },
  {
   "cell_type": "code",
   "execution_count": 4,
   "id": "cfb41079",
   "metadata": {
    "ExecuteTime": {
     "end_time": "2022-09-16T19:04:09.262758Z",
     "start_time": "2022-09-16T19:04:08.634985Z"
    }
   },
   "outputs": [],
   "source": [
    "#input\n",
    "HH_specific=$(read-ini ../config.ini HH-VS-MM hh-active_mm-inactive)\n",
    "HM=$(read-ini ../config.ini ACTIVITY hm_active_regions)\n",
    "out_dir=$(read-ini ../config.ini TH_SHUFFLE dir)\n",
    "\n",
    "#ouput\n",
    "EXPECTED=$(read-ini ../config.ini TH_SHUFFLE dir)"
   ]
  },
  {
   "cell_type": "code",
   "execution_count": 5,
   "id": "c6202c0f",
   "metadata": {
    "ExecuteTime": {
     "end_time": "2022-09-16T19:05:49.567836Z",
     "start_time": "2022-09-16T19:04:09.265962Z"
    }
   },
   "outputs": [],
   "source": [
    "rm ${EXPECTED}/HH_trans_expected.txt # need to delete otherwise will continue to write the previous file, if re-run. \n",
    "\n",
    "for i in {1..1000}\n",
    "do\n",
    "   bedtools intersect -f 0.5 -F 0.5 -e -a $HH_specific -b ${out_dir}/hm_shuffles/hm_shuffle_${i}.bed | wc -l >> ${EXPECTED}/HH_trans_expected.txt\n",
    "done"
   ]
  },
  {
   "cell_type": "code",
   "execution_count": 6,
   "id": "ec8d1299",
   "metadata": {
    "ExecuteTime": {
     "end_time": "2022-09-16T19:05:49.759467Z",
     "start_time": "2022-09-16T19:05:49.572347Z"
    }
   },
   "outputs": [
    {
     "name": "stdout",
     "output_type": "stream",
     "text": [
      "1489\n"
     ]
    }
   ],
   "source": [
    "#calcuate observed\n",
    "bedtools intersect -f 0.5 -F 0.5 -e -a $HH_specific -b $HM | wc -l "
   ]
  },
  {
   "cell_type": "code",
   "execution_count": 4,
   "id": "6a94b42e",
   "metadata": {
    "ExecuteTime": {
     "end_time": "2022-09-16T19:17:24.065292Z",
     "start_time": "2022-09-16T19:17:23.192Z"
    }
   },
   "outputs": [],
   "source": [
    "suppressPackageStartupMessages(library(tidyverse))\n",
    "ini <- ini::read.ini(\"../config.ini\")\n",
    "expected <- read_tsv(paste0(ini$TH_SHUFFLE$dir, \"/HH_trans_expected.txt\"), col_names = c(\"count\"), show_col_types = FALSE)\n",
    "observed <- 1489"
   ]
  },
  {
   "cell_type": "code",
   "execution_count": 5,
   "id": "43418c6c",
   "metadata": {
    "ExecuteTime": {
     "end_time": "2022-09-16T19:17:25.864603Z",
     "start_time": "2022-09-16T19:17:24.783Z"
    }
   },
   "outputs": [
    {
     "data": {
      "image/png": "[encoded data removed]",
      "text/plain": [
       "plot without title"
      ]
     },
     "metadata": {
      "image/png": {
       "height": 90,
       "width": 240
      }
     },
     "output_type": "display_data"
    }
   ],
   "source": [
    "p <- ggplot(expected, aes(x = count)) +\n",
    "    geom_density(fill = \"steelblue\", color = \"white\") +\n",
    "    geom_vline(xintercept = observed, color = \"firebrick\") +\n",
    "    scale_y_continuous(breaks = c(0, 0.01, 0.02)) +\n",
    "    labs(x = \"number of overlaps\", title = \"Observed vs. Expected HH-skewed & HM active overlaps\") +\n",
    "    theme_bw(base_size = 10) +\n",
    "    theme(plot.title = element_text(hjust = 0.5, size = 10)) +\n",
    "    coord_cartesian(xlim = c(0, 3500))\n",
    "\n",
    "options(repr.plot.width = 4, repr.plot.height = 1.5)\n",
    "p\n",
    "\n",
    "ggsave(p, filename = paste0(ini$TH_SHUFFLE$plots, \"/HH-trans_observed-expected_density.pdf\"), \n",
    "       device = cairo_pdf, width = 4, height = 1.5)"
   ]
  },
  {
   "cell_type": "code",
   "execution_count": 6,
   "id": "acd3c767",
   "metadata": {
    "ExecuteTime": {
     "end_time": "2022-09-16T19:17:28.982917Z",
     "start_time": "2022-09-16T19:17:28.285Z"
    }
   },
   "outputs": [
    {
     "data": {
      "text/plain": [
       "\n",
       "\tGrubbs test for one outlier\n",
       "\n",
       "data:  all\n",
       "G = 25.62984, U = 0.34245, p-value < 2.2e-16\n",
       "alternative hypothesis: highest value 1489 is an outlier\n"
      ]
     },
     "metadata": {},
     "output_type": "display_data"
    }
   ],
   "source": [
    "# do the stats\n",
    "all <- as.integer(expected$count) %>% append(values = observed)\n",
    "outliers::grubbs.test(all, type = 10, opposite = FALSE, two.sided = FALSE)"
   ]
  },
  {
   "cell_type": "markdown",
   "id": "150f7e94",
   "metadata": {},
   "source": [
    "### Intersect MH shuffles with MM_specific - MM_trans"
   ]
  },
  {
   "cell_type": "code",
   "execution_count": null,
   "id": "3b0e0053",
   "metadata": {
    "ExecuteTime": {
     "end_time": "2022-09-16T19:17:33.400315Z",
     "start_time": "2022-09-16T19:17:32.712Z"
    }
   },
   "outputs": [],
   "source": [
    "#input\n",
    "MM_specific=$(read-ini ../config.ini HH-VS-MM mm-active_hh-inactive)\n",
    "MH=$(read-ini ../config.ini ACTIVITY mh_active_regions)\n",
    "out_dir=$(read-ini ../config.ini TH_SHUFFLE dir)\n",
    "\n",
    "#ouput\n",
    "EXPECTED=$(read-ini ../config.ini TH_SHUFFLE dir)"
   ]
  },
  {
   "cell_type": "code",
   "execution_count": 8,
   "id": "b2c5de72",
   "metadata": {
    "ExecuteTime": {
     "end_time": "2022-09-16T19:07:06.609539Z",
     "start_time": "2022-09-16T19:05:50.381995Z"
    }
   },
   "outputs": [],
   "source": [
    "rm ${EXPECTED}/MM_trans_expected.txt # need to delete otherwise will continue to write the previous file, if re-run. \n",
    "\n",
    "for i in {1..1000}\n",
    "do\n",
    "   bedtools intersect -f 0.5 -F 0.5 -e -a $MM_specific -b ${out_dir}/mh_shuffles/mh_shuffle_${i}.bed | wc -l >> ${EXPECTED}/MM_trans_expected.txt\n",
    "done"
   ]
  },
  {
   "cell_type": "code",
   "execution_count": 9,
   "id": "107d1b12",
   "metadata": {
    "ExecuteTime": {
     "end_time": "2022-09-16T19:07:06.796496Z",
     "start_time": "2022-09-16T19:07:06.612837Z"
    }
   },
   "outputs": [
    {
     "name": "stdout",
     "output_type": "stream",
     "text": [
      "1800\n"
     ]
    }
   ],
   "source": [
    "#calcuate observed\n",
    "bedtools intersect -f 0.5 -F 0.5 -e -a $MM_specific -b $MH | wc -l "
   ]
  },
  {
   "cell_type": "code",
   "execution_count": 8,
   "id": "501dd95f",
   "metadata": {
    "ExecuteTime": {
     "end_time": "2022-09-16T19:18:20.823907Z",
     "start_time": "2022-09-16T19:18:19.974Z"
    }
   },
   "outputs": [],
   "source": [
    "suppressPackageStartupMessages(library(tidyverse))\n",
    "ini <- ini::read.ini(\"../config.ini\")\n",
    "expected <- read_tsv(paste0(ini$TH_SHUFFLE$dir, \"/MM_trans_expected.txt\"), col_names = c(\"count\"), show_col_types = FALSE)\n",
    "observed <- 1800"
   ]
  },
  {
   "cell_type": "code",
   "execution_count": 9,
   "id": "c7236660",
   "metadata": {
    "ExecuteTime": {
     "end_time": "2022-09-16T19:18:25.983063Z",
     "start_time": "2022-09-16T19:18:24.972Z"
    }
   },
   "outputs": [
    {
     "data": {
      "image/png": "[encoded data removed]",
      "text/plain": [
       "plot without title"
      ]
     },
     "metadata": {
      "image/png": {
       "height": 90,
       "width": 240
      }
     },
     "output_type": "display_data"
    }
   ],
   "source": [
    "p <- ggplot(expected, aes(x = count)) +\n",
    "    geom_density(fill = \"steelblue\", color = \"white\") +\n",
    "    geom_vline(xintercept = observed, color = \"firebrick\") +\n",
    "    scale_y_continuous(breaks = c(0, 0.01, 0.02)) +\n",
    "    labs(x = \"number of overlaps\", title = \"Observed vs. Expected MM-skewed & MH active overlaps\") +\n",
    "    theme_bw(base_size = 10) +\n",
    "    theme(plot.title = element_text(hjust = 0.5, size = 10)) +\n",
    "    coord_cartesian(xlim = c(0, 3500))\n",
    "\n",
    "options(repr.plot.width = 4, repr.plot.height = 1.5)\n",
    "p\n",
    "\n",
    "ggsave(p, filename = paste0(ini$TH_SHUFFLE$plots, \"/MM-trans_observed-expected_density.pdf\"), \n",
    "       device = cairo_pdf, width = 4, height = 1.5)"
   ]
  },
  {
   "cell_type": "code",
   "execution_count": 10,
   "id": "6a062d4d",
   "metadata": {
    "ExecuteTime": {
     "end_time": "2022-09-16T19:18:28.274581Z",
     "start_time": "2022-09-16T19:18:27.576Z"
    }
   },
   "outputs": [
    {
     "data": {
      "text/plain": [
       "\n",
       "\tGrubbs test for one outlier\n",
       "\n",
       "data:  all\n",
       "G = 27.62658, U = 0.23601, p-value < 2.2e-16\n",
       "alternative hypothesis: highest value 1800 is an outlier\n"
      ]
     },
     "metadata": {},
     "output_type": "display_data"
    }
   ],
   "source": [
    "# do the stats\n",
    "all <- as.integer(expected$count) %>% append(values = observed)\n",
    "outliers::grubbs.test(all, type = 10, opposite = FALSE, two.sided = FALSE)"
   ]
  }
 ],
 "metadata": {
  "kernelspec": {
   "display_name": "R",
   "language": "R",
   "name": "ir"
  },
  "language_info": {
   "codemirror_mode": "r",
   "file_extension": ".r",
   "mimetype": "text/x-r-source",
   "name": "R",
   "pygments_lexer": "r",
   "version": "4.1.2"
  },
  "toc": {
   "base_numbering": 1,
   "nav_menu": {},
   "number_sections": true,
   "sideBar": true,
   "skip_h1_title": true,
   "title_cell": "Table of Contents",
   "title_sidebar": "Contents",
   "toc_cell": false,
   "toc_position": {
    "height": "calc(100% - 180px)",
    "left": "10px",
    "top": "150px",
    "width": "406.237px"
   },
   "toc_section_display": true,
   "toc_window_display": true
  },
  "varInspector": {
   "cols": {
    "lenName": 16,
    "lenType": 16,
    "lenVar": 40
   },
   "kernels_config": {
    "python": {
     "delete_cmd_postfix": "",
     "delete_cmd_prefix": "del ",
     "library": "var_list.py",
     "varRefreshCmd": "print(var_dic_list())"
    },
    "r": {
     "delete_cmd_postfix": ") ",
     "delete_cmd_prefix": "rm(",
     "library": "var_list.r",
     "varRefreshCmd": "cat(var_dic_list()) "
    }
   },
   "types_to_exclude": [
    "module",
    "function",
    "builtin_function_or_method",
    "instance",
    "_Feature"
   ],
   "window_display": false
  }
 },
 "nbformat": 4,
 "nbformat_minor": 5
}
