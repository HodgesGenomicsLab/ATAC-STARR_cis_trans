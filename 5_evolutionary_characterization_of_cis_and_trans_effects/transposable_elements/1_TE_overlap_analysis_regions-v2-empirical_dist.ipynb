{
 "cells": [
  {
   "cell_type": "code",
   "execution_count": 1,
   "metadata": {
    "ExecuteTime": {
     "end_time": "2023-07-23T20:12:14.037837Z",
     "start_time": "2023-07-23T20:12:14.020736Z"
    }
   },
   "outputs": [
    {
     "data": {
      "text/plain": [
       "'\\nintersect regions, shuffled x TE\\n\\nevaluate enrichment of TE per activity v. shuffled intersections\\n'"
      ]
     },
     "execution_count": 1,
     "metadata": {},
     "output_type": "execute_result"
    }
   ],
   "source": [
    "\"\"\"\n",
    "intersect regions, shuffled x TE\n",
    "\n",
    "evaluate enrichment of TE per activity v. shuffled intersections\n",
    "\"\"\""
   ]
  },
  {
   "cell_type": "code",
   "execution_count": 2,
   "metadata": {
    "ExecuteTime": {
     "end_time": "2023-07-23T20:12:15.391298Z",
     "start_time": "2023-07-23T20:12:14.040646Z"
    },
    "collapsed": true
   },
   "outputs": [],
   "source": [
    "import configparser\n",
    "import datetime\n",
    "import glob\n",
    "import matplotlib.pyplot as plt \n",
    "import numpy as np\n",
    "import os\n",
    "import pandas as pd\n",
    "from scipy import stats\n",
    "import seaborn as sns\n",
    "import subprocess\n",
    "import sys\n",
    "import matplotlib\n",
    "import matplotlib.pyplot as plt\n",
    "import matplotlib.colors as mcolors\n",
    "from matplotlib import cm\n",
    "from matplotlib.colors import LinearSegmentedColormap\n",
    "import matplotlib as mpl\n",
    "from matplotlib.ticker import MultipleLocator\n",
    "import matplotlib.ticker as ticker\n",
    "\n",
    "sys.path.append(\"/dors/capra_lab/users/fongsl/tools/py_\")\n",
    "\n",
    "import config_readwrite as crw\n",
    "import fet"
   ]
  },
  {
   "cell_type": "markdown",
   "metadata": {},
   "source": [
    "# get plotting scripts"
   ]
  },
  {
   "cell_type": "code",
   "execution_count": 3,
   "metadata": {
    "ExecuteTime": {
     "end_time": "2023-07-23T20:12:15.397973Z",
     "start_time": "2023-07-23T20:12:15.394361Z"
    },
    "collapsed": true
   },
   "outputs": [],
   "source": [
    "import plot_params as pp\n",
    "\n",
    "pp.fonts()  # load font parameters\n",
    "summary_labels = pp.summary_labels()  # get categorical labels for activity codes"
   ]
  },
  {
   "cell_type": "markdown",
   "metadata": {},
   "source": [
    "# load config "
   ]
  },
  {
   "cell_type": "code",
   "execution_count": 4,
   "metadata": {
    "ExecuteTime": {
     "end_time": "2023-07-23T20:12:15.445124Z",
     "start_time": "2023-07-23T20:12:15.399624Z"
    },
    "collapsed": true
   },
   "outputs": [],
   "source": [
    "name = os.path.join(\"/data/hodges_lab/ATAC-STARR_B-cells/bin_human-evolution/\", \"config\")\n",
    "config, config_name_ = crw.read_config(name)\n",
    "\n",
    "# TE data\n",
    "FILE = config[\"REPEATMASKER\"][\"te_data_hg38\"]\n",
    "BIN =config['REPEATMASKER'][\"BIN\"] # script to intersect regions w TE\n",
    "PATH = config[\"REPEATMASKER\"][\"path\"]\n",
    "\n",
    "ANNOT =config[\"CIS_TRANS\"][\"regions_annotations\"] ## human shared accessibility regions\n",
    "REGIONS =config[\"CIS_TRANS\"][\"regions\"]\n",
    "SHUFFLE = config[\"SHUFFLES\"][\"shuf-all\"]\n",
    "\n",
    "RE = config[\"REPEATMASKER\"][\"results\"]\n",
    "REGIONS_X_TE = config[\"REPEATMASKER\"][\"hh_regions_x_te\"]  # write\n",
    "REGIONS_X_TE_OR = config[\"REPEATMASKER\"][\"hh_regions_OR\"]  # write"
   ]
  },
  {
   "cell_type": "markdown",
   "metadata": {
    "ExecuteTime": {
     "end_time": "2022-04-18T16:42:07.678839Z",
     "start_time": "2022-04-18T16:42:07.635208Z"
    }
   },
   "source": [
    "# functions"
   ]
  },
  {
   "cell_type": "markdown",
   "metadata": {},
   "source": [
    "## intersect regions x TE"
   ]
  },
  {
   "cell_type": "code",
   "execution_count": 5,
   "metadata": {
    "ExecuteTime": {
     "end_time": "2023-07-23T20:12:15.451934Z",
     "start_time": "2023-07-23T20:12:15.447655Z"
    },
    "collapsed": true
   },
   "outputs": [],
   "source": [
    "\"\"\"\n",
    "intersect regions w/ te\n",
    "\"\"\"\n",
    "\n",
    "def te_intersect(bin_, bed, genome_build, outdir):\n",
    "    cmd = f\"python {bin_} {bed} {genome_build} {outdir}\"\n",
    "    print(cmd)\n",
    "    subprocess.call(cmd, shell=True)"
   ]
  },
  {
   "cell_type": "markdown",
   "metadata": {},
   "source": [
    "## add TE -bool col"
   ]
  },
  {
   "cell_type": "code",
   "execution_count": 6,
   "metadata": {
    "ExecuteTime": {
     "end_time": "2023-07-23T20:12:15.458717Z",
     "start_time": "2023-07-23T20:12:15.454553Z"
    },
    "collapsed": true
   },
   "outputs": [],
   "source": [
    "\"\"\"\n",
    "Add TE overlap - boolean column\n",
    "\"\"\"\n",
    "def add_te_binary_col(df):\n",
    "    df[\"te_bin\"] = False\n",
    "    df.loc[df[\"te_count-hg38\"] >0, \"te_bin\"] = True\n",
    "    \n",
    "    return df"
   ]
  },
  {
   "cell_type": "markdown",
   "metadata": {},
   "source": [
    "## plotting bar charts"
   ]
  },
  {
   "cell_type": "code",
   "execution_count": 28,
   "metadata": {
    "ExecuteTime": {
     "end_time": "2023-07-23T20:18:34.963907Z",
     "start_time": "2023-07-23T20:18:34.946205Z"
    },
    "collapsed": true
   },
   "outputs": [],
   "source": [
    "\"\"\"\n",
    "plotting OR bar charts\n",
    "\"\"\"\n",
    "def plot_OR_bar(x, y, data, ci_upper, ci_lower, ytick_multiple, ylim, title, order):\n",
    "    fig, ax = plt.subplots(figsize=(6,6))\n",
    "    \n",
    "    # get difference between y and upper/lower CI for plotting. \n",
    "    l = np.array(data[y]-data[ci_lower])\n",
    "    u = np.array(data[ci_upper]- data[y])\n",
    "             \n",
    "    yerr = [l, u]\n",
    "\n",
    "    sns.barplot(\n",
    "            x=x, y=y, data=data,\n",
    "            linewidth=2.5, \n",
    "            order = order,\n",
    "            edgecolor=\".2\",\n",
    "            yerr=yerr\n",
    "            )\n",
    "   \n",
    "    plt.axhline(0, color = \"grey\", linewidth = 2.5)  # plot a line at zero\n",
    "\n",
    "    ax.set_xlabel(\"\")\n",
    "\n",
    "\n",
    "    # set the y ticks\n",
    "    ticks = ticker.FuncFormatter(lambda x, pos: '{0:g}'.format(2**x))\n",
    "    ax.yaxis.set_major_formatter(ticks)\n",
    "    ax.yaxis.set_major_locator(MultipleLocator(ytick_multiple))\n",
    "    ax.set(\n",
    "        xlabel = \"\",\n",
    "        ylabel=\"Odds ratio, log2-scaled\",  # y label\n",
    "        title = title,\n",
    "        ylim=ylim)\n",
    "    return fig, ax\n",
    "\n",
    "def annotate_bar(graph, ax, annot, height):\n",
    "\n",
    "    if ax == \"x\":\n",
    "    \n",
    "        for p, a in zip(graph.patches, annot):\n",
    "\n",
    "            graph.annotate(a, \n",
    "                            (p.get_x() + p.get_width() / 2.0, height),\n",
    "                            #p.get_height()-1), \n",
    "                            ha = 'center', \n",
    "                            va = 'center', \n",
    "                            xytext = (0, 5),\n",
    "                            textcoords = 'offset points')"
   ]
  },
  {
   "cell_type": "markdown",
   "metadata": {},
   "source": [
    "## compute fraction overlap "
   ]
  },
  {
   "cell_type": "code",
   "execution_count": 29,
   "metadata": {
    "ExecuteTime": {
     "end_time": "2023-07-23T20:58:11.200689Z",
     "start_time": "2023-07-23T20:58:11.188598Z"
    },
    "collapsed": true
   },
   "outputs": [],
   "source": [
    "def computeFracExpectation(df, size, col, cutoff):\n",
    "    \"\"\"\n",
    "    compute expected fraction of overlap\n",
    "    \n",
    "    input\n",
    "        df (pd dataframe): dataframe with \n",
    "            ONLY expectation sequences and \n",
    "            the annotation that needs to be assess. \n",
    "        size (int): size of the dataset to pick at random\n",
    "        col (str): column to assess for overlap\n",
    "        cutoff (int): vavlue that measures expected column, count\n",
    "    \"\"\"\n",
    "    \n",
    "    exp_list = [] \n",
    "    # com\n",
    "    for i in range(10000):\n",
    "        # sample random shuffled sets, size of active_category elements, with replacement\n",
    "        random_shuf_set = df.sample(n=size, replace=True)\n",
    "        \n",
    "        # get N elements < acceleration cutoff, N >= cutoff. \n",
    "        if random_shuf_set[col].dtype == bool:\n",
    "            c = random_shuf_set.loc[random_shuf_set[col]==True].shape[0]\n",
    "            d = random_shuf_set.loc[random_shuf_set[col]==False].shape[0]\n",
    "            \n",
    "        elif random_shuf_set[col].dtype == float:\n",
    "            c = random_shuf_set.loc[random_shuf_set[col]<cutoff].shape[0]\n",
    "            d = random_shuf_set.loc[random_shuf_set[col]>=cutoff].shape[0]\n",
    "        \n",
    "        # compute fraction accelerated\n",
    "        random_exp = c/(c+d)\n",
    "        \n",
    "        # append to list\n",
    "        exp_list.append(random_exp)\n",
    "    return exp_list"
   ]
  },
  {
   "cell_type": "markdown",
   "metadata": {},
   "source": [
    "## calculate empirical"
   ]
  },
  {
   "cell_type": "code",
   "execution_count": 9,
   "metadata": {
    "ExecuteTime": {
     "end_time": "2023-07-23T20:12:15.501563Z",
     "start_time": "2023-07-23T20:12:15.487444Z"
    },
    "collapsed": true
   },
   "outputs": [],
   "source": [
    "def calculateEmpiricalP(obs, exp_sum_list):\n",
    "    \"\"\"\n",
    "    return two lists\n",
    "        (1) info - vector w/  \n",
    "                n_obs, \n",
    "                median_exp, \n",
    "                std, \n",
    "                fold-change  # calculated from the median of expected shuffle \n",
    "                p_val\n",
    "                \n",
    "        (2) fold_changes- vector expected fold changes (to calculate confidence interval)\n",
    "        \n",
    "    input\n",
    "        observed overlap count (int)\n",
    "        list of expected overlap counts (list of ints)\n",
    "    \n",
    "    method\n",
    "        1. get median of expected overlap counts\n",
    "        2. get standard deviation of expected overlap counts\n",
    "        3. center expected overlap counts at median\n",
    "        4. Sum the number of centered expected counts greater than observed centered count\n",
    "            This is two tailed because it evaluates both sides of the distribution (w/ abs value). \n",
    "        5. calculate fold change as observed/ median expected w/ pseudo count\n",
    "        6. calculate fold change of each \"obs\"/ expected w/ pseudo count\n",
    "        7. calculate the p-value as count of equal or more extreme values than observed value\n",
    "        8. return list of empirical info + fold changes\n",
    "        \n",
    "        \n",
    "    \n",
    "    \"\"\"\n",
    "    #1 median of exp distribution\n",
    "    mu = np.median(exp_sum_list)  \n",
    "    \n",
    "    #2 std\n",
    "    sigma = np.std(exp_sum_list)  \n",
    "    \n",
    "    #3 center at median of distribution \n",
    "    dist_from_mu = [exp - mu for exp in exp_sum_list]  \n",
    "    \n",
    "    #4 # count values >= centered obs\n",
    "    p_sum = sum(1 for exp_dist in dist_from_mu if abs(exp_dist) >= abs(obs - mu)) \n",
    "\n",
    "    #5 fold change obs from median expected w pseudo count\n",
    "    fold_change = (obs + 1.0) / (mu + 1.0) \n",
    "    \n",
    "    #6 fold change obs from /each exp w pseudo count\n",
    "    fold_changes = list((obs + 1.0) / (m + 1.0) for m in exp_sum_list) \n",
    "    \n",
    "    #7 probability of observing obs-like value \n",
    "    # equal or more extreme in expected distribution\n",
    "    p_val = (p_sum + 1.0) / (len(exp_sum_list) + 1.0)  \n",
    "    \n",
    "    #8\n",
    "    info = [\n",
    "            obs, \n",
    "            mu, \n",
    "            sigma, \n",
    "            fold_change, \n",
    "            p_val, \n",
    "            str(datetime.datetime.now())\n",
    "            ]\n",
    "    \n",
    "    #return info, fold_changes\n",
    "    return p_val"
   ]
  },
  {
   "cell_type": "markdown",
   "metadata": {},
   "source": [
    "# intersect regions, shuffles x TE"
   ]
  },
  {
   "cell_type": "code",
   "execution_count": 22,
   "metadata": {
    "ExecuteTime": {
     "end_time": "2023-07-23T20:14:00.673759Z",
     "start_time": "2023-07-23T20:14:00.667866Z"
    },
    "collapsed": true
   },
   "outputs": [],
   "source": [
    "# intersect\n",
    "GENOME_BUILD=\"hg38\"\n",
    "\n",
    "if os.path.exists(FILE) is False:\n",
    "    # regions\n",
    "    te_intersect(BIN, REGIONS, GENOME_BUILD, PATH)\n",
    "\n",
    "    # shuffles\n",
    "    te_intersect(BIN, SHUFFLE, GENOME_BUILD, PATH)"
   ]
  },
  {
   "cell_type": "markdown",
   "metadata": {},
   "source": [
    "# import region x TE intersection"
   ]
  },
  {
   "cell_type": "code",
   "execution_count": 11,
   "metadata": {
    "ExecuteTime": {
     "end_time": "2023-07-23T20:13:03.922561Z",
     "start_time": "2023-07-23T20:13:03.841853Z"
    }
   },
   "outputs": [
    {
     "name": "stdout",
     "output_type": "stream",
     "text": [
      "(16897, 7)\n"
     ]
    },
    {
     "data": {
      "text/html": [
       "<div>\n",
       "<style scoped>\n",
       "    .dataframe tbody tr th:only-of-type {\n",
       "        vertical-align: middle;\n",
       "    }\n",
       "\n",
       "    .dataframe tbody tr th {\n",
       "        vertical-align: top;\n",
       "    }\n",
       "\n",
       "    .dataframe thead th {\n",
       "        text-align: right;\n",
       "    }\n",
       "</style>\n",
       "<table border=\"1\" class=\"dataframe\">\n",
       "  <thead>\n",
       "    <tr style=\"text-align: right;\">\n",
       "      <th></th>\n",
       "      <th>#chr</th>\n",
       "      <th>start</th>\n",
       "      <th>end</th>\n",
       "      <th>region_id</th>\n",
       "      <th>te_count-hg38</th>\n",
       "      <th>te</th>\n",
       "      <th>te_fam</th>\n",
       "      <th>te_bin</th>\n",
       "      <th>shuf</th>\n",
       "    </tr>\n",
       "  </thead>\n",
       "  <tbody>\n",
       "    <tr>\n",
       "      <th>0</th>\n",
       "      <td>chr1</td>\n",
       "      <td>959034</td>\n",
       "      <td>959154</td>\n",
       "      <td>chr1:959034-959154</td>\n",
       "      <td>0</td>\n",
       "      <td>['.']</td>\n",
       "      <td>['.']</td>\n",
       "      <td>False</td>\n",
       "      <td>False</td>\n",
       "    </tr>\n",
       "    <tr>\n",
       "      <th>1</th>\n",
       "      <td>chr1</td>\n",
       "      <td>1002089</td>\n",
       "      <td>1002179</td>\n",
       "      <td>chr1:1002089-1002179</td>\n",
       "      <td>0</td>\n",
       "      <td>['.']</td>\n",
       "      <td>['.']</td>\n",
       "      <td>False</td>\n",
       "      <td>False</td>\n",
       "    </tr>\n",
       "    <tr>\n",
       "      <th>2</th>\n",
       "      <td>chr1</td>\n",
       "      <td>1064140</td>\n",
       "      <td>1064260</td>\n",
       "      <td>chr1:1064140-1064260</td>\n",
       "      <td>1</td>\n",
       "      <td>['(CCTGG)n']</td>\n",
       "      <td>['Simple_repeat']</td>\n",
       "      <td>True</td>\n",
       "      <td>False</td>\n",
       "    </tr>\n",
       "    <tr>\n",
       "      <th>3</th>\n",
       "      <td>chr1</td>\n",
       "      <td>1214948</td>\n",
       "      <td>1215208</td>\n",
       "      <td>chr1:1214948-1215208</td>\n",
       "      <td>1</td>\n",
       "      <td>['MLT1B']</td>\n",
       "      <td>['LTR/ERVL-MaLR']</td>\n",
       "      <td>True</td>\n",
       "      <td>False</td>\n",
       "    </tr>\n",
       "    <tr>\n",
       "      <th>4</th>\n",
       "      <td>chr1</td>\n",
       "      <td>1215328</td>\n",
       "      <td>1215508</td>\n",
       "      <td>chr1:1215328-1215508</td>\n",
       "      <td>0</td>\n",
       "      <td>['.']</td>\n",
       "      <td>['.']</td>\n",
       "      <td>False</td>\n",
       "      <td>False</td>\n",
       "    </tr>\n",
       "  </tbody>\n",
       "</table>\n",
       "</div>"
      ],
      "text/plain": [
       "   #chr    start      end             region_id  te_count-hg38            te  \\\n",
       "0  chr1   959034   959154    chr1:959034-959154              0         ['.']   \n",
       "1  chr1  1002089  1002179  chr1:1002089-1002179              0         ['.']   \n",
       "2  chr1  1064140  1064260  chr1:1064140-1064260              1  ['(CCTGG)n']   \n",
       "3  chr1  1214948  1215208  chr1:1214948-1215208              1     ['MLT1B']   \n",
       "4  chr1  1215328  1215508  chr1:1215328-1215508              0         ['.']   \n",
       "\n",
       "              te_fam  te_bin   shuf  \n",
       "0              ['.']   False  False  \n",
       "1              ['.']   False  False  \n",
       "2  ['Simple_repeat']    True  False  \n",
       "3  ['LTR/ERVL-MaLR']    True  False  \n",
       "4              ['.']   False  False  "
      ]
     },
     "execution_count": 11,
     "metadata": {},
     "output_type": "execute_result"
    }
   ],
   "source": [
    "df_ = pd.read_csv(FILE, sep = '\\t')  # 3665778 TABLE, # TABLE MERGED3971065\n",
    "print(df_.shape)\n",
    "df_ = add_te_binary_col(df_)\n",
    "df_[\"shuf\"] = False\n",
    "df_.head()"
   ]
  },
  {
   "cell_type": "code",
   "execution_count": 12,
   "metadata": {
    "ExecuteTime": {
     "end_time": "2023-07-23T20:13:03.928524Z",
     "start_time": "2023-07-23T20:13:03.924580Z"
    }
   },
   "outputs": [
    {
     "name": "stdout",
     "output_type": "stream",
     "text": [
      "bool\n"
     ]
    }
   ],
   "source": [
    "if df_[\"te_bin\"].dtype == bool:\n",
    "    print(\"bool\")\n",
    "else:\n",
    "    print(\"no bool\")"
   ]
  },
  {
   "cell_type": "markdown",
   "metadata": {},
   "source": [
    "## import region annotations"
   ]
  },
  {
   "cell_type": "code",
   "execution_count": 13,
   "metadata": {
    "ExecuteTime": {
     "end_time": "2023-07-23T20:13:03.999493Z",
     "start_time": "2023-07-23T20:13:03.930554Z"
    }
   },
   "outputs": [
    {
     "name": "stdout",
     "output_type": "stream",
     "text": [
      "(16897, 26)\n"
     ]
    },
    {
     "data": {
      "text/html": [
       "<div>\n",
       "<style scoped>\n",
       "    .dataframe tbody tr th:only-of-type {\n",
       "        vertical-align: middle;\n",
       "    }\n",
       "\n",
       "    .dataframe tbody tr th {\n",
       "        vertical-align: top;\n",
       "    }\n",
       "\n",
       "    .dataframe thead th {\n",
       "        text-align: right;\n",
       "    }\n",
       "</style>\n",
       "<table border=\"1\" class=\"dataframe\">\n",
       "  <thead>\n",
       "    <tr style=\"text-align: right;\">\n",
       "      <th></th>\n",
       "      <th>#chr</th>\n",
       "      <th>start</th>\n",
       "      <th>end</th>\n",
       "      <th>region_id</th>\n",
       "      <th>conserved_active.regions</th>\n",
       "      <th>cis</th>\n",
       "      <th>trans</th>\n",
       "      <th>trans_only</th>\n",
       "      <th>cis_only</th>\n",
       "      <th>cis+trans</th>\n",
       "      <th>...</th>\n",
       "      <th>HH-active_MM-inactive_MH-inactive_cis</th>\n",
       "      <th>HH-active_MM-inactive_HM-inactive_trans</th>\n",
       "      <th>HH-active_MM-inactive_cis-only</th>\n",
       "      <th>HH-active_MM-inactive_trans-only</th>\n",
       "      <th>HH-active_MM-inactive_cis+trans</th>\n",
       "      <th>MM-active_HH-inactive_HM-inactive_cis</th>\n",
       "      <th>MM-active_HH-inactive_MH-inactive_trans</th>\n",
       "      <th>MM-active_HH-inactive_cis-only</th>\n",
       "      <th>MM-active_HH-inactive_trans-only</th>\n",
       "      <th>MM-active_HH-inactive_cis+trans</th>\n",
       "    </tr>\n",
       "  </thead>\n",
       "  <tbody>\n",
       "    <tr>\n",
       "      <th>0</th>\n",
       "      <td>chr1</td>\n",
       "      <td>959034</td>\n",
       "      <td>959154</td>\n",
       "      <td>chr1:959034-959154</td>\n",
       "      <td>0.0</td>\n",
       "      <td>1.0</td>\n",
       "      <td>1.0</td>\n",
       "      <td>0</td>\n",
       "      <td>0</td>\n",
       "      <td>1</td>\n",
       "      <td>...</td>\n",
       "      <td>1.0</td>\n",
       "      <td>1.0</td>\n",
       "      <td>0.0</td>\n",
       "      <td>0.0</td>\n",
       "      <td>1.0</td>\n",
       "      <td>0.0</td>\n",
       "      <td>0.0</td>\n",
       "      <td>0.0</td>\n",
       "      <td>0.0</td>\n",
       "      <td>0.0</td>\n",
       "    </tr>\n",
       "    <tr>\n",
       "      <th>1</th>\n",
       "      <td>chr1</td>\n",
       "      <td>1002089</td>\n",
       "      <td>1002179</td>\n",
       "      <td>chr1:1002089-1002179</td>\n",
       "      <td>0.0</td>\n",
       "      <td>1.0</td>\n",
       "      <td>1.0</td>\n",
       "      <td>0</td>\n",
       "      <td>0</td>\n",
       "      <td>1</td>\n",
       "      <td>...</td>\n",
       "      <td>1.0</td>\n",
       "      <td>1.0</td>\n",
       "      <td>0.0</td>\n",
       "      <td>0.0</td>\n",
       "      <td>1.0</td>\n",
       "      <td>0.0</td>\n",
       "      <td>0.0</td>\n",
       "      <td>0.0</td>\n",
       "      <td>0.0</td>\n",
       "      <td>0.0</td>\n",
       "    </tr>\n",
       "    <tr>\n",
       "      <th>2</th>\n",
       "      <td>chr1</td>\n",
       "      <td>1064140</td>\n",
       "      <td>1064260</td>\n",
       "      <td>chr1:1064140-1064260</td>\n",
       "      <td>0.0</td>\n",
       "      <td>1.0</td>\n",
       "      <td>0.0</td>\n",
       "      <td>0</td>\n",
       "      <td>1</td>\n",
       "      <td>0</td>\n",
       "      <td>...</td>\n",
       "      <td>1.0</td>\n",
       "      <td>0.0</td>\n",
       "      <td>1.0</td>\n",
       "      <td>0.0</td>\n",
       "      <td>0.0</td>\n",
       "      <td>0.0</td>\n",
       "      <td>0.0</td>\n",
       "      <td>0.0</td>\n",
       "      <td>0.0</td>\n",
       "      <td>0.0</td>\n",
       "    </tr>\n",
       "    <tr>\n",
       "      <th>3</th>\n",
       "      <td>chr1</td>\n",
       "      <td>1214948</td>\n",
       "      <td>1215208</td>\n",
       "      <td>chr1:1214948-1215208</td>\n",
       "      <td>0.0</td>\n",
       "      <td>1.0</td>\n",
       "      <td>1.0</td>\n",
       "      <td>0</td>\n",
       "      <td>0</td>\n",
       "      <td>1</td>\n",
       "      <td>...</td>\n",
       "      <td>0.0</td>\n",
       "      <td>0.0</td>\n",
       "      <td>0.0</td>\n",
       "      <td>0.0</td>\n",
       "      <td>0.0</td>\n",
       "      <td>1.0</td>\n",
       "      <td>1.0</td>\n",
       "      <td>0.0</td>\n",
       "      <td>0.0</td>\n",
       "      <td>1.0</td>\n",
       "    </tr>\n",
       "    <tr>\n",
       "      <th>4</th>\n",
       "      <td>chr1</td>\n",
       "      <td>1215328</td>\n",
       "      <td>1215508</td>\n",
       "      <td>chr1:1215328-1215508</td>\n",
       "      <td>0.0</td>\n",
       "      <td>1.0</td>\n",
       "      <td>0.0</td>\n",
       "      <td>0</td>\n",
       "      <td>1</td>\n",
       "      <td>0</td>\n",
       "      <td>...</td>\n",
       "      <td>0.0</td>\n",
       "      <td>0.0</td>\n",
       "      <td>0.0</td>\n",
       "      <td>0.0</td>\n",
       "      <td>0.0</td>\n",
       "      <td>1.0</td>\n",
       "      <td>0.0</td>\n",
       "      <td>1.0</td>\n",
       "      <td>0.0</td>\n",
       "      <td>0.0</td>\n",
       "    </tr>\n",
       "  </tbody>\n",
       "</table>\n",
       "<p>5 rows × 26 columns</p>\n",
       "</div>"
      ],
      "text/plain": [
       "   #chr    start      end             region_id  conserved_active.regions  \\\n",
       "0  chr1   959034   959154    chr1:959034-959154                       0.0   \n",
       "1  chr1  1002089  1002179  chr1:1002089-1002179                       0.0   \n",
       "2  chr1  1064140  1064260  chr1:1064140-1064260                       0.0   \n",
       "3  chr1  1214948  1215208  chr1:1214948-1215208                       0.0   \n",
       "4  chr1  1215328  1215508  chr1:1215328-1215508                       0.0   \n",
       "\n",
       "   cis  trans  trans_only  cis_only  cis+trans  ...  \\\n",
       "0  1.0    1.0           0         0          1  ...   \n",
       "1  1.0    1.0           0         0          1  ...   \n",
       "2  1.0    0.0           0         1          0  ...   \n",
       "3  1.0    1.0           0         0          1  ...   \n",
       "4  1.0    0.0           0         1          0  ...   \n",
       "\n",
       "   HH-active_MM-inactive_MH-inactive_cis  \\\n",
       "0                                    1.0   \n",
       "1                                    1.0   \n",
       "2                                    1.0   \n",
       "3                                    0.0   \n",
       "4                                    0.0   \n",
       "\n",
       "   HH-active_MM-inactive_HM-inactive_trans  HH-active_MM-inactive_cis-only  \\\n",
       "0                                      1.0                             0.0   \n",
       "1                                      1.0                             0.0   \n",
       "2                                      0.0                             1.0   \n",
       "3                                      0.0                             0.0   \n",
       "4                                      0.0                             0.0   \n",
       "\n",
       "   HH-active_MM-inactive_trans-only  HH-active_MM-inactive_cis+trans  \\\n",
       "0                               0.0                              1.0   \n",
       "1                               0.0                              1.0   \n",
       "2                               0.0                              0.0   \n",
       "3                               0.0                              0.0   \n",
       "4                               0.0                              0.0   \n",
       "\n",
       "   MM-active_HH-inactive_HM-inactive_cis  \\\n",
       "0                                    0.0   \n",
       "1                                    0.0   \n",
       "2                                    0.0   \n",
       "3                                    1.0   \n",
       "4                                    1.0   \n",
       "\n",
       "   MM-active_HH-inactive_MH-inactive_trans  MM-active_HH-inactive_cis-only  \\\n",
       "0                                      0.0                             0.0   \n",
       "1                                      0.0                             0.0   \n",
       "2                                      0.0                             0.0   \n",
       "3                                      1.0                             0.0   \n",
       "4                                      0.0                             1.0   \n",
       "\n",
       "   MM-active_HH-inactive_trans-only  MM-active_HH-inactive_cis+trans  \n",
       "0                               0.0                              0.0  \n",
       "1                               0.0                              0.0  \n",
       "2                               0.0                              0.0  \n",
       "3                               0.0                              1.0  \n",
       "4                               0.0                              0.0  \n",
       "\n",
       "[5 rows x 26 columns]"
      ]
     },
     "execution_count": 13,
     "metadata": {},
     "output_type": "execute_result"
    }
   ],
   "source": [
    "table = pd.read_csv(ANNOT, sep = '\\t')  # 3665778 TABLE, # TABLE MERGED3971065\n",
    "print(table.shape)\n",
    "table.head()"
   ]
  },
  {
   "cell_type": "markdown",
   "metadata": {},
   "source": [
    "# load shuffles"
   ]
  },
  {
   "cell_type": "code",
   "execution_count": 14,
   "metadata": {
    "ExecuteTime": {
     "end_time": "2023-07-23T20:13:04.181746Z",
     "start_time": "2023-07-23T20:13:04.001351Z"
    }
   },
   "outputs": [
    {
     "name": "stdout",
     "output_type": "stream",
     "text": [
      "(168970, 9)\n"
     ]
    },
    {
     "data": {
      "text/html": [
       "<div>\n",
       "<style scoped>\n",
       "    .dataframe tbody tr th:only-of-type {\n",
       "        vertical-align: middle;\n",
       "    }\n",
       "\n",
       "    .dataframe tbody tr th {\n",
       "        vertical-align: top;\n",
       "    }\n",
       "\n",
       "    .dataframe thead th {\n",
       "        text-align: right;\n",
       "    }\n",
       "</style>\n",
       "<table border=\"1\" class=\"dataframe\">\n",
       "  <thead>\n",
       "    <tr style=\"text-align: right;\">\n",
       "      <th></th>\n",
       "      <th>#chr</th>\n",
       "      <th>start</th>\n",
       "      <th>end</th>\n",
       "      <th>region_id</th>\n",
       "      <th>te_count-hg38</th>\n",
       "      <th>te</th>\n",
       "      <th>te_fam</th>\n",
       "      <th>te_bin</th>\n",
       "      <th>shuf</th>\n",
       "    </tr>\n",
       "  </thead>\n",
       "  <tbody>\n",
       "    <tr>\n",
       "      <th>0</th>\n",
       "      <td>chr1</td>\n",
       "      <td>941280</td>\n",
       "      <td>941390</td>\n",
       "      <td>chr20:57619015-57619125</td>\n",
       "      <td>0</td>\n",
       "      <td>['.']</td>\n",
       "      <td>['.']</td>\n",
       "      <td>False</td>\n",
       "      <td>True</td>\n",
       "    </tr>\n",
       "    <tr>\n",
       "      <th>1</th>\n",
       "      <td>chr1</td>\n",
       "      <td>941296</td>\n",
       "      <td>941726</td>\n",
       "      <td>chr16:10842984-10843414</td>\n",
       "      <td>0</td>\n",
       "      <td>['.']</td>\n",
       "      <td>['.']</td>\n",
       "      <td>False</td>\n",
       "      <td>True</td>\n",
       "    </tr>\n",
       "    <tr>\n",
       "      <th>2</th>\n",
       "      <td>chr1</td>\n",
       "      <td>941421</td>\n",
       "      <td>941761</td>\n",
       "      <td>chr15:67254382-67254722</td>\n",
       "      <td>0</td>\n",
       "      <td>['.']</td>\n",
       "      <td>['.']</td>\n",
       "      <td>False</td>\n",
       "      <td>True</td>\n",
       "    </tr>\n",
       "    <tr>\n",
       "      <th>3</th>\n",
       "      <td>chr1</td>\n",
       "      <td>941486</td>\n",
       "      <td>941676</td>\n",
       "      <td>chr3:122074869-122075059</td>\n",
       "      <td>0</td>\n",
       "      <td>['.']</td>\n",
       "      <td>['.']</td>\n",
       "      <td>False</td>\n",
       "      <td>True</td>\n",
       "    </tr>\n",
       "    <tr>\n",
       "      <th>4</th>\n",
       "      <td>chr1</td>\n",
       "      <td>941502</td>\n",
       "      <td>941732</td>\n",
       "      <td>chr6:2857253-2857483</td>\n",
       "      <td>0</td>\n",
       "      <td>['.']</td>\n",
       "      <td>['.']</td>\n",
       "      <td>False</td>\n",
       "      <td>True</td>\n",
       "    </tr>\n",
       "  </tbody>\n",
       "</table>\n",
       "</div>"
      ],
      "text/plain": [
       "   #chr   start     end                 region_id  te_count-hg38     te  \\\n",
       "0  chr1  941280  941390   chr20:57619015-57619125              0  ['.']   \n",
       "1  chr1  941296  941726   chr16:10842984-10843414              0  ['.']   \n",
       "2  chr1  941421  941761   chr15:67254382-67254722              0  ['.']   \n",
       "3  chr1  941486  941676  chr3:122074869-122075059              0  ['.']   \n",
       "4  chr1  941502  941732      chr6:2857253-2857483              0  ['.']   \n",
       "\n",
       "  te_fam  te_bin  shuf  \n",
       "0  ['.']   False  True  \n",
       "1  ['.']   False  True  \n",
       "2  ['.']   False  True  \n",
       "3  ['.']   False  True  \n",
       "4  ['.']   False  True  "
      ]
     },
     "execution_count": 14,
     "metadata": {},
     "output_type": "execute_result"
    }
   ],
   "source": [
    "shuf_dict = {}\n",
    "shufs = glob.glob(os.path.join(PATH, \"shuf-all_uniq_diffAct_regions2-*_TE-cleaned.bed\"))\n",
    "for i, shuf in enumerate(shufs):\n",
    "    shuf_df = pd.read_csv(shuf, sep = '\\t')\n",
    "    shuf_df= add_te_binary_col(shuf_df)\n",
    "    shuf_df[\"shuf\"] = True\n",
    "    shuf_dict[i] = shuf_df\n",
    "shufs = pd.concat(shuf_dict.values())\n",
    "\n",
    "print(shufs.shape)\n",
    "shufs.head()"
   ]
  },
  {
   "cell_type": "markdown",
   "metadata": {},
   "source": [
    "# how many regions overlap N TEs?\n",
    "\n",
    "te_bin\n",
    "\n",
    "False    12790 (76%)\n",
    "\n",
    "True      4107 (24%)"
   ]
  },
  {
   "cell_type": "code",
   "execution_count": 15,
   "metadata": {
    "ExecuteTime": {
     "end_time": "2023-07-23T20:13:04.193377Z",
     "start_time": "2023-07-23T20:13:04.183599Z"
    }
   },
   "outputs": [
    {
     "data": {
      "text/plain": [
       "(te_bin\n",
       " False    12790\n",
       " True      4107\n",
       " Name: region_id, dtype: int64,\n",
       " te_bin\n",
       " False    0.756939\n",
       " True     0.243061\n",
       " Name: region_id, dtype: float64)"
      ]
     },
     "execution_count": 15,
     "metadata": {},
     "output_type": "execute_result"
    }
   ],
   "source": [
    "df_.groupby(\"te_bin\")[\"region_id\"].count(), df_.groupby(\"te_bin\")[\"region_id\"].count()/df_.shape[0]"
   ]
  },
  {
   "cell_type": "markdown",
   "metadata": {},
   "source": [
    "# merge TE and table data together \n",
    "- inner join so that only shared acc peaks are included\n",
    "- reassign cis.regions/trans.regions label to distinguish from cis+trans downstream"
   ]
  },
  {
   "cell_type": "code",
   "execution_count": 16,
   "metadata": {
    "ExecuteTime": {
     "end_time": "2023-07-23T20:13:04.273177Z",
     "start_time": "2023-07-23T20:13:04.195304Z"
    }
   },
   "outputs": [
    {
     "name": "stdout",
     "output_type": "stream",
     "text": [
      "(16897, 31)\n"
     ]
    },
    {
     "data": {
      "text/html": [
       "<div>\n",
       "<style scoped>\n",
       "    .dataframe tbody tr th:only-of-type {\n",
       "        vertical-align: middle;\n",
       "    }\n",
       "\n",
       "    .dataframe tbody tr th {\n",
       "        vertical-align: top;\n",
       "    }\n",
       "\n",
       "    .dataframe thead th {\n",
       "        text-align: right;\n",
       "    }\n",
       "</style>\n",
       "<table border=\"1\" class=\"dataframe\">\n",
       "  <thead>\n",
       "    <tr style=\"text-align: right;\">\n",
       "      <th></th>\n",
       "      <th>#chr</th>\n",
       "      <th>start</th>\n",
       "      <th>end</th>\n",
       "      <th>region_id</th>\n",
       "      <th>te_count-hg38</th>\n",
       "      <th>te</th>\n",
       "      <th>te_fam</th>\n",
       "      <th>te_bin</th>\n",
       "      <th>shuf</th>\n",
       "      <th>conserved_active.regions</th>\n",
       "      <th>...</th>\n",
       "      <th>HH-active_MM-inactive_cis-only</th>\n",
       "      <th>HH-active_MM-inactive_trans-only</th>\n",
       "      <th>HH-active_MM-inactive_cis+trans</th>\n",
       "      <th>MM-active_HH-inactive_HM-inactive_cis</th>\n",
       "      <th>MM-active_HH-inactive_MH-inactive_trans</th>\n",
       "      <th>MM-active_HH-inactive_cis-only</th>\n",
       "      <th>MM-active_HH-inactive_trans-only</th>\n",
       "      <th>MM-active_HH-inactive_cis+trans</th>\n",
       "      <th>cis.regions</th>\n",
       "      <th>trans.regions</th>\n",
       "    </tr>\n",
       "  </thead>\n",
       "  <tbody>\n",
       "    <tr>\n",
       "      <th>0</th>\n",
       "      <td>chr1</td>\n",
       "      <td>959034</td>\n",
       "      <td>959154</td>\n",
       "      <td>chr1:959034-959154</td>\n",
       "      <td>0</td>\n",
       "      <td>['.']</td>\n",
       "      <td>['.']</td>\n",
       "      <td>False</td>\n",
       "      <td>False</td>\n",
       "      <td>0.0</td>\n",
       "      <td>...</td>\n",
       "      <td>0.0</td>\n",
       "      <td>0.0</td>\n",
       "      <td>1.0</td>\n",
       "      <td>0.0</td>\n",
       "      <td>0.0</td>\n",
       "      <td>0.0</td>\n",
       "      <td>0.0</td>\n",
       "      <td>0.0</td>\n",
       "      <td>0.0</td>\n",
       "      <td>0.0</td>\n",
       "    </tr>\n",
       "    <tr>\n",
       "      <th>1</th>\n",
       "      <td>chr1</td>\n",
       "      <td>1002089</td>\n",
       "      <td>1002179</td>\n",
       "      <td>chr1:1002089-1002179</td>\n",
       "      <td>0</td>\n",
       "      <td>['.']</td>\n",
       "      <td>['.']</td>\n",
       "      <td>False</td>\n",
       "      <td>False</td>\n",
       "      <td>0.0</td>\n",
       "      <td>...</td>\n",
       "      <td>0.0</td>\n",
       "      <td>0.0</td>\n",
       "      <td>1.0</td>\n",
       "      <td>0.0</td>\n",
       "      <td>0.0</td>\n",
       "      <td>0.0</td>\n",
       "      <td>0.0</td>\n",
       "      <td>0.0</td>\n",
       "      <td>0.0</td>\n",
       "      <td>0.0</td>\n",
       "    </tr>\n",
       "    <tr>\n",
       "      <th>2</th>\n",
       "      <td>chr1</td>\n",
       "      <td>1064140</td>\n",
       "      <td>1064260</td>\n",
       "      <td>chr1:1064140-1064260</td>\n",
       "      <td>1</td>\n",
       "      <td>['(CCTGG)n']</td>\n",
       "      <td>['Simple_repeat']</td>\n",
       "      <td>True</td>\n",
       "      <td>False</td>\n",
       "      <td>0.0</td>\n",
       "      <td>...</td>\n",
       "      <td>1.0</td>\n",
       "      <td>0.0</td>\n",
       "      <td>0.0</td>\n",
       "      <td>0.0</td>\n",
       "      <td>0.0</td>\n",
       "      <td>0.0</td>\n",
       "      <td>0.0</td>\n",
       "      <td>0.0</td>\n",
       "      <td>NaN</td>\n",
       "      <td>NaN</td>\n",
       "    </tr>\n",
       "    <tr>\n",
       "      <th>3</th>\n",
       "      <td>chr1</td>\n",
       "      <td>1214948</td>\n",
       "      <td>1215208</td>\n",
       "      <td>chr1:1214948-1215208</td>\n",
       "      <td>1</td>\n",
       "      <td>['MLT1B']</td>\n",
       "      <td>['LTR/ERVL-MaLR']</td>\n",
       "      <td>True</td>\n",
       "      <td>False</td>\n",
       "      <td>0.0</td>\n",
       "      <td>...</td>\n",
       "      <td>0.0</td>\n",
       "      <td>0.0</td>\n",
       "      <td>0.0</td>\n",
       "      <td>1.0</td>\n",
       "      <td>1.0</td>\n",
       "      <td>0.0</td>\n",
       "      <td>0.0</td>\n",
       "      <td>1.0</td>\n",
       "      <td>0.0</td>\n",
       "      <td>0.0</td>\n",
       "    </tr>\n",
       "    <tr>\n",
       "      <th>4</th>\n",
       "      <td>chr1</td>\n",
       "      <td>1215328</td>\n",
       "      <td>1215508</td>\n",
       "      <td>chr1:1215328-1215508</td>\n",
       "      <td>0</td>\n",
       "      <td>['.']</td>\n",
       "      <td>['.']</td>\n",
       "      <td>False</td>\n",
       "      <td>False</td>\n",
       "      <td>0.0</td>\n",
       "      <td>...</td>\n",
       "      <td>0.0</td>\n",
       "      <td>0.0</td>\n",
       "      <td>0.0</td>\n",
       "      <td>1.0</td>\n",
       "      <td>0.0</td>\n",
       "      <td>1.0</td>\n",
       "      <td>0.0</td>\n",
       "      <td>0.0</td>\n",
       "      <td>NaN</td>\n",
       "      <td>NaN</td>\n",
       "    </tr>\n",
       "  </tbody>\n",
       "</table>\n",
       "<p>5 rows × 33 columns</p>\n",
       "</div>"
      ],
      "text/plain": [
       "   #chr    start      end             region_id  te_count-hg38            te  \\\n",
       "0  chr1   959034   959154    chr1:959034-959154              0         ['.']   \n",
       "1  chr1  1002089  1002179  chr1:1002089-1002179              0         ['.']   \n",
       "2  chr1  1064140  1064260  chr1:1064140-1064260              1  ['(CCTGG)n']   \n",
       "3  chr1  1214948  1215208  chr1:1214948-1215208              1     ['MLT1B']   \n",
       "4  chr1  1215328  1215508  chr1:1215328-1215508              0         ['.']   \n",
       "\n",
       "              te_fam  te_bin   shuf  conserved_active.regions  ...  \\\n",
       "0              ['.']   False  False                       0.0  ...   \n",
       "1              ['.']   False  False                       0.0  ...   \n",
       "2  ['Simple_repeat']    True  False                       0.0  ...   \n",
       "3  ['LTR/ERVL-MaLR']    True  False                       0.0  ...   \n",
       "4              ['.']   False  False                       0.0  ...   \n",
       "\n",
       "   HH-active_MM-inactive_cis-only  HH-active_MM-inactive_trans-only  \\\n",
       "0                             0.0                               0.0   \n",
       "1                             0.0                               0.0   \n",
       "2                             1.0                               0.0   \n",
       "3                             0.0                               0.0   \n",
       "4                             0.0                               0.0   \n",
       "\n",
       "   HH-active_MM-inactive_cis+trans  MM-active_HH-inactive_HM-inactive_cis  \\\n",
       "0                              1.0                                    0.0   \n",
       "1                              1.0                                    0.0   \n",
       "2                              0.0                                    0.0   \n",
       "3                              0.0                                    1.0   \n",
       "4                              0.0                                    1.0   \n",
       "\n",
       "   MM-active_HH-inactive_MH-inactive_trans  MM-active_HH-inactive_cis-only  \\\n",
       "0                                      0.0                             0.0   \n",
       "1                                      0.0                             0.0   \n",
       "2                                      0.0                             0.0   \n",
       "3                                      1.0                             0.0   \n",
       "4                                      0.0                             1.0   \n",
       "\n",
       "   MM-active_HH-inactive_trans-only  MM-active_HH-inactive_cis+trans  \\\n",
       "0                               0.0                              0.0   \n",
       "1                               0.0                              0.0   \n",
       "2                               0.0                              0.0   \n",
       "3                               0.0                              1.0   \n",
       "4                               0.0                              0.0   \n",
       "\n",
       "   cis.regions  trans.regions  \n",
       "0          0.0            0.0  \n",
       "1          0.0            0.0  \n",
       "2          NaN            NaN  \n",
       "3          0.0            0.0  \n",
       "4          NaN            NaN  \n",
       "\n",
       "[5 rows x 33 columns]"
      ]
     },
     "execution_count": 16,
     "metadata": {},
     "output_type": "execute_result"
    }
   ],
   "source": [
    "df = pd.merge(df_, table)\n",
    "\n",
    "print(df.shape)\n",
    "df.loc[df[\"cis+trans\"] ==1, [\"cis.regions\", \"trans.regions\"]] =0 # edit this col\n",
    "df.head()"
   ]
  },
  {
   "cell_type": "markdown",
   "metadata": {},
   "source": [
    "# among human active sequences, are some divergent categories more enriched than others for TE overlap?"
   ]
  },
  {
   "cell_type": "markdown",
   "metadata": {},
   "source": [
    "## COMPUTE HERE!! compute fraction of overlap"
   ]
  },
  {
   "cell_type": "code",
   "execution_count": 17,
   "metadata": {
    "ExecuteTime": {
     "end_time": "2023-07-23T20:13:04.279305Z",
     "start_time": "2023-07-23T20:13:04.274841Z"
    },
    "collapsed": true
   },
   "outputs": [],
   "source": [
    "def plotEmpiricalDist(exp_dist, obs, title, xlabel, re, sample_name, p):\n",
    "    fig, ax = plt.subplots(figsize=(4,4))\n",
    "    sns.histplot(exp_dist)\n",
    "    ax.set(\n",
    "          title=title,\n",
    "          xlabel=xlabel,\n",
    "    )\n",
    "    ax.axvline(obs, c = \"k\")\n",
    "    ax.text(obs, 10, f\"emp. p={p}\")\n",
    "    \n",
    "    out = os.path.join(RE, sample_name + f\"empdist.frac.pdf\" )\n",
    "    plt.savefig(out, bbox_inches=\"tight\")\n",
    "    plt.show()"
   ]
  },
  {
   "cell_type": "code",
   "execution_count": 18,
   "metadata": {
    "ExecuteTime": {
     "end_time": "2023-07-23T20:13:04.285430Z",
     "start_time": "2023-07-23T20:13:04.281181Z"
    }
   },
   "outputs": [
    {
     "data": {
      "text/plain": [
       "\"\\n other col sets\\n ['conserved_active.regions','HH-active_MM-inactive_trans-only',\\n 'HH-active_MM-inactive_cis-only',\\n 'HH-active_MM-inactive_cis+trans'],\\n ['conserved_active.regions',\\n  'MM-active_HH-inactive_cis-only',\\n 'MM-active_HH-inactive_trans-only',\\n 'MM-active_HH-inactive_cis+trans']\\n\""
      ]
     },
     "execution_count": 18,
     "metadata": {},
     "output_type": "execute_result"
    }
   ],
   "source": [
    "col_set = [ 'cis+trans',\n",
    "            'conserved_active.regions',\n",
    "            'trans_only',\n",
    "            'cis_only',\n",
    "            ]\n",
    "\n",
    "\n",
    "\"\"\"\n",
    " other col sets\n",
    " ['conserved_active.regions','HH-active_MM-inactive_trans-only',\n",
    " 'HH-active_MM-inactive_cis-only',\n",
    " 'HH-active_MM-inactive_cis+trans'],\n",
    " ['conserved_active.regions',\n",
    "  'MM-active_HH-inactive_cis-only',\n",
    " 'MM-active_HH-inactive_trans-only',\n",
    " 'MM-active_HH-inactive_cis+trans']\n",
    "\"\"\""
   ]
  },
  {
   "cell_type": "code",
   "execution_count": 19,
   "metadata": {
    "ExecuteTime": {
     "end_time": "2023-07-23T20:13:12.181033Z",
     "start_time": "2023-07-23T20:13:12.176217Z"
    },
    "collapsed": true
   },
   "outputs": [],
   "source": [
    "def getColIds(df, col):\n",
    "    ids = set(df.loc[df[col]==1, \"region_id\"])\n",
    "    \n",
    "    return ids"
   ]
  },
  {
   "cell_type": "code",
   "execution_count": 30,
   "metadata": {
    "ExecuteTime": {
     "end_time": "2023-07-23T21:00:13.412475Z",
     "start_time": "2023-07-23T20:58:18.664377Z"
    }
   },
   "outputs": [
    {
     "name": "stdout",
     "output_type": "stream",
     "text": [
      "cis+trans ['conserved_active.regions', 'trans_only', 'cis_only']\n",
      "0.26121739130434785 0.22437595872263283\n",
      "conserved_active.regions ['cis+trans', 'trans_only', 'cis_only']\n",
      "0.2257745550428477 0.24902052969753957\n",
      "trans_only ['cis+trans', 'conserved_active.regions', 'cis_only']\n",
      "0.21936459909228442 0.24809961630348223\n",
      "cis_only ['cis+trans', 'conserved_active.regions', 'trans_only']\n",
      "0.22748375116063138 0.24725113619703856\n"
     ]
    }
   ],
   "source": [
    "\"\"\"\n",
    "Test fraction of cis | trans | cis+trans elements (i.e. in col) that overlap TE v \n",
    "fraction of boostrapped background (i.e. not in col) of elements for TE overlap\n",
    "\"\"\"\n",
    "\n",
    "cat_results = {}\n",
    "data = df.copy()\n",
    "for in_col in col_set:\n",
    "\n",
    "    out_cols = col_set[::]  # copy the list so that you don't destroy original list\n",
    "    out_cols.remove(in_col) # remove the column to test from the other columns\n",
    "    print(in_col, out_cols)\n",
    "\n",
    "    # get the list of region ids in the in_col set\n",
    "    test_ids = getColIds(data, in_col)\n",
    "    test= data.loc[data[\"region_id\"].isin(test_ids), [\"region_id\", \"te_bin\"]]\n",
    "    \n",
    "    a = test.loc[(test[\"te_bin\"]== True)].shape[0]\n",
    "    b = test.loc[(test[\"te_bin\"]== False)].shape[0]\n",
    "    \n",
    "    obs = a/(a+b)\n",
    "    \n",
    "    # get the counts of TE overlaps (c) and non-overlaps (d) in bkgd columns\n",
    "    \n",
    "    # get the background columns as the regions in the out col set\n",
    "    bkgd_ids = set()\n",
    "    for i in out_cols:\n",
    "        b_ids = getColIds(data, i)\n",
    "        bkgd_ids.update(b_ids)\n",
    "    \n",
    "    bkgd = data.loc[data[\"region_id\"].isin(bkgd_ids), [\"region_id\", \"te_bin\"]].drop_duplicates()\n",
    "    size = bkgd[\"region_id\"].drop_duplicates().shape[0]\n",
    "    cutoff = None\n",
    "\n",
    "\n",
    "    exp_list = computeFracExpectation(bkgd, size, \"te_bin\", cutoff)\n",
    "    cat_results[in_col] = (obs, exp_list)\n",
    "    print(obs, np.median(exp_list))\n"
   ]
  },
  {
   "cell_type": "code",
   "execution_count": 32,
   "metadata": {
    "ExecuteTime": {
     "end_time": "2023-07-23T21:01:39.441109Z",
     "start_time": "2023-07-23T21:01:37.383624Z"
    }
   },
   "outputs": [
    {
     "data": {
      "image/png": "[encoded data removed]",
      "text/plain": [
       "<Figure size 288x288 with 1 Axes>"
      ]
     },
     "metadata": {
      "needs_background": "light"
     },
     "output_type": "display_data"
    },
    {
     "name": "stdout",
     "output_type": "stream",
     "text": [
      "obs 0.26 median expected 0.22\n"
     ]
    },
    {
     "data": {
      "image/png": "[encoded data removed]",
      "text/plain": [
       "<Figure size 288x288 with 1 Axes>"
      ]
     },
     "metadata": {
      "needs_background": "light"
     },
     "output_type": "display_data"
    },
    {
     "name": "stdout",
     "output_type": "stream",
     "text": [
      "obs 0.23 median expected 0.25\n"
     ]
    },
    {
     "data": {
      "image/png": "[encoded data removed]",
      "text/plain": [
       "<Figure size 288x288 with 1 Axes>"
      ]
     },
     "metadata": {
      "needs_background": "light"
     },
     "output_type": "display_data"
    },
    {
     "name": "stdout",
     "output_type": "stream",
     "text": [
      "obs 0.22 median expected 0.25\n"
     ]
    },
    {
     "data": {
      "image/png": "[encoded data removed]",
      "text/plain": [
       "<Figure size 288x288 with 1 Axes>"
      ]
     },
     "metadata": {
      "needs_background": "light"
     },
     "output_type": "display_data"
    },
    {
     "name": "stdout",
     "output_type": "stream",
     "text": [
      "obs 0.23 median expected 0.25\n"
     ]
    }
   ],
   "source": [
    "for col, values in cat_results.items():\n",
    "    \n",
    "    obs, exp_list = values\n",
    "    \n",
    "    empiricalp = calculateEmpiricalP(obs, exp_list)\n",
    "    title = f\"{col}\\nobs v. exp\"\n",
    "    xlabel = f\"frac te overlap\\n obs={round(obs,2)}, med.exp={round(np.median(exp_list),2)}\"\n",
    "    re = RE\n",
    "    sample_name = col\n",
    "    plotEmpiricalDist(exp_list, obs, title, xlabel, re, sample_name, \"{:.2e}\".format(empiricalp))\n",
    "    print(\"obs\", round(obs,2), \"median expected\", round(np.median(exp_list),2))"
   ]
  },
  {
   "cell_type": "code",
   "execution_count": 1,
   "metadata": {
    "ExecuteTime": {
     "end_time": "2023-07-28T23:40:29.729698Z",
     "start_time": "2023-07-28T23:40:29.619879Z"
    }
   },
   "outputs": [
    {
     "ename": "NameError",
     "evalue": "name 'RE' is not defined",
     "output_type": "error",
     "traceback": [
      "\u001b[0;31m---------------------------------------------------------------------------\u001b[0m",
      "\u001b[0;31mNameError\u001b[0m                                 Traceback (most recent call last)",
      "\u001b[0;32m<ipython-input-1-358a357d96f2>\u001b[0m in \u001b[0;36m<module>\u001b[0;34m\u001b[0m\n\u001b[0;32m----> 1\u001b[0;31m \u001b[0mRE\u001b[0m\u001b[0;34m\u001b[0m\u001b[0;34m\u001b[0m\u001b[0m\n\u001b[0m",
      "\u001b[0;31mNameError\u001b[0m: name 'RE' is not defined"
     ]
    }
   ],
   "source": [
    "RE"
   ]
  },
  {
   "cell_type": "markdown",
   "metadata": {},
   "source": [
    "## OR activity category v. all other active"
   ]
  },
  {
   "cell_type": "code",
   "execution_count": 33,
   "metadata": {
    "ExecuteTime": {
     "end_time": "2023-07-23T21:01:47.320844Z",
     "start_time": "2023-07-23T21:01:46.751092Z"
    }
   },
   "outputs": [
    {
     "name": "stdout",
     "output_type": "stream",
     "text": [
      "cis+trans ['conserved_active.regions', 'trans_only', 'cis_only']\n",
      "[[2253, 6372], [1610, 5561]]\n",
      "[[2253, 6372], [1610, 5561]]\n",
      "cis+trans-activity_x_te [[2253, 6372], [1610, 5561]] 1.221272122211695 9.436160427963146e-08\n",
      "conserved_active.regions ['cis+trans', 'trans_only', 'cis_only']\n",
      "[[685, 2349], [3178, 9584]]\n",
      "[[685, 2349], [3178, 9584]]\n",
      "conserved_active.regions-activity_x_te [[685, 2349], [3178, 9584]] 0.8794283603134684 0.007389452799802706\n",
      "trans_only ['cis+trans', 'conserved_active.regions', 'cis_only']\n",
      "[[435, 1548], [3428, 10385]]\n",
      "[[435, 1548], [3428, 10385]]\n",
      "trans_only-activity_x_te [[435, 1548], [3428, 10385]] 0.8513026557397809 0.005202069058035235\n",
      "cis_only ['cis+trans', 'conserved_active.regions', 'trans_only']\n",
      "[[490, 1664], [3373, 10269]]\n",
      "[[490, 1664], [3373, 10269]]\n",
      "cis_only-activity_x_te [[490, 1664], [3373, 10269]] 0.8965088285935825 0.04894301171103044\n"
     ]
    }
   ],
   "source": [
    "\"\"\"\n",
    "2x2 set up \n",
    "\n",
    "\"cis_only\", \"trans_only\", \"cons_act\", \"cis+trans\"\n",
    "\n",
    "Hypothesis - cis_only is enriched for TEs compared to all other categories. \n",
    "\n",
    "                TE - True    TE - False\n",
    "cis_only - True    A      |    B\n",
    "cis_only - False   C      |    D\n",
    "\n",
    "\"\"\"\n",
    "\n",
    "cat_results = {}\n",
    "data = df\n",
    "for in_col in col_set:\n",
    "\n",
    "    out_cols = col_set[::]  # copy the list so that you don't destroy original list\n",
    "    out_cols.remove(in_col) # remove the column to test from the other columns\n",
    "    print(in_col, out_cols)\n",
    "    test_ids = getColIds(data, in_col)\n",
    "    test= data.loc[data[\"region_id\"].isin(test_ids), [\"region_id\", \"te_bin\"]]\n",
    "\n",
    "    a = test.loc[(test[\"te_bin\"]== True)].shape[0]\n",
    "    b = test.loc[(test[\"te_bin\"]== False)].shape[0]\n",
    "\n",
    "    bkgd_ids = set()\n",
    "    for i in out_cols:\n",
    "        b_ids = getColIds(data, i)\n",
    "        bkgd_ids.update(b_ids)\n",
    "    \n",
    "    bkgd = data.loc[data[\"region_id\"].isin(bkgd_ids), [\"region_id\", \"te_bin\"]].drop_duplicates()\n",
    "    c = bkgd.loc[(bkgd[\"te_bin\"]== True)].shape[0]\n",
    "    d = bkgd.loc[(bkgd[\"te_bin\"]== False)].shape[0]\n",
    "    print([[a,b],[c,d]])\n",
    "\n",
    "    fet_results = fet.get_2x2(a,b,c,d, f\"{in_col}-activity_x_te\")\n",
    "    fet_results[\"col\"] = in_col\n",
    "    cat_results[in_col] = fet_results\n",
    "\n",
    "\n",
    "fdr_fet = fet.fdr_correction(cat_results)  # do FDR correction\n",
    "fdr_fet[\"frac\"] = fdr_fet[\"a\"]/ (fdr_fet[\"a\"]+ fdr_fet[\"b\"])"
   ]
  },
  {
   "cell_type": "code",
   "execution_count": 34,
   "metadata": {
    "ExecuteTime": {
     "end_time": "2023-07-23T21:01:50.523964Z",
     "start_time": "2023-07-23T21:01:50.487925Z"
    }
   },
   "outputs": [
    {
     "data": {
      "text/html": [
       "<div>\n",
       "<style scoped>\n",
       "    .dataframe tbody tr th:only-of-type {\n",
       "        vertical-align: middle;\n",
       "    }\n",
       "\n",
       "    .dataframe tbody tr th {\n",
       "        vertical-align: top;\n",
       "    }\n",
       "\n",
       "    .dataframe thead th {\n",
       "        text-align: right;\n",
       "    }\n",
       "</style>\n",
       "<table border=\"1\" class=\"dataframe\">\n",
       "  <thead>\n",
       "    <tr style=\"text-align: right;\">\n",
       "      <th></th>\n",
       "      <th>a</th>\n",
       "      <th>b</th>\n",
       "      <th>c</th>\n",
       "      <th>d</th>\n",
       "      <th>OR</th>\n",
       "      <th>P</th>\n",
       "      <th>ci_lower</th>\n",
       "      <th>ci_lower_diff</th>\n",
       "      <th>ci_upper</th>\n",
       "      <th>ci_upper_diff</th>\n",
       "      <th>OR_log2</th>\n",
       "      <th>ci_lower_log2</th>\n",
       "      <th>ci_upper_log2</th>\n",
       "      <th>comparison</th>\n",
       "      <th>col</th>\n",
       "      <th>reject_null</th>\n",
       "      <th>FDR_P</th>\n",
       "      <th>asterisks</th>\n",
       "      <th>-log10p</th>\n",
       "      <th>frac</th>\n",
       "    </tr>\n",
       "  </thead>\n",
       "  <tbody>\n",
       "    <tr>\n",
       "      <th>0</th>\n",
       "      <td>2253</td>\n",
       "      <td>6372</td>\n",
       "      <td>1610</td>\n",
       "      <td>5561</td>\n",
       "      <td>1.221272</td>\n",
       "      <td>9.436160e-08</td>\n",
       "      <td>1.134864</td>\n",
       "      <td>0.105866</td>\n",
       "      <td>1.314260</td>\n",
       "      <td>0.105866</td>\n",
       "      <td>0.288385</td>\n",
       "      <td>0.182519</td>\n",
       "      <td>0.394250</td>\n",
       "      <td>cis+trans-activity_x_te</td>\n",
       "      <td>cis+trans</td>\n",
       "      <td>True</td>\n",
       "      <td>3.774464e-07</td>\n",
       "      <td>*</td>\n",
       "      <td>6.423145</td>\n",
       "      <td>0.261217</td>\n",
       "    </tr>\n",
       "    <tr>\n",
       "      <th>0</th>\n",
       "      <td>685</td>\n",
       "      <td>2349</td>\n",
       "      <td>3178</td>\n",
       "      <td>9584</td>\n",
       "      <td>0.879428</td>\n",
       "      <td>7.389453e-03</td>\n",
       "      <td>0.800456</td>\n",
       "      <td>0.135743</td>\n",
       "      <td>0.966191</td>\n",
       "      <td>0.135743</td>\n",
       "      <td>-0.185362</td>\n",
       "      <td>-0.321105</td>\n",
       "      <td>-0.049619</td>\n",
       "      <td>conserved_active.regions-activity_x_te</td>\n",
       "      <td>conserved_active.regions</td>\n",
       "      <td>True</td>\n",
       "      <td>9.852604e-03</td>\n",
       "      <td>*</td>\n",
       "      <td>2.006449</td>\n",
       "      <td>0.225775</td>\n",
       "    </tr>\n",
       "    <tr>\n",
       "      <th>0</th>\n",
       "      <td>435</td>\n",
       "      <td>1548</td>\n",
       "      <td>3428</td>\n",
       "      <td>10385</td>\n",
       "      <td>0.851303</td>\n",
       "      <td>5.202069e-03</td>\n",
       "      <td>0.760227</td>\n",
       "      <td>0.163242</td>\n",
       "      <td>0.953289</td>\n",
       "      <td>0.163242</td>\n",
       "      <td>-0.232256</td>\n",
       "      <td>-0.395498</td>\n",
       "      <td>-0.069014</td>\n",
       "      <td>trans_only-activity_x_te</td>\n",
       "      <td>trans_only</td>\n",
       "      <td>True</td>\n",
       "      <td>9.852604e-03</td>\n",
       "      <td>*</td>\n",
       "      <td>2.006449</td>\n",
       "      <td>0.219365</td>\n",
       "    </tr>\n",
       "    <tr>\n",
       "      <th>0</th>\n",
       "      <td>490</td>\n",
       "      <td>1664</td>\n",
       "      <td>3373</td>\n",
       "      <td>10269</td>\n",
       "      <td>0.896509</td>\n",
       "      <td>4.894301e-02</td>\n",
       "      <td>0.804741</td>\n",
       "      <td>0.155793</td>\n",
       "      <td>0.998741</td>\n",
       "      <td>0.155793</td>\n",
       "      <td>-0.157610</td>\n",
       "      <td>-0.313403</td>\n",
       "      <td>-0.001818</td>\n",
       "      <td>cis_only-activity_x_te</td>\n",
       "      <td>cis_only</td>\n",
       "      <td>True</td>\n",
       "      <td>4.894301e-02</td>\n",
       "      <td>*</td>\n",
       "      <td>1.310309</td>\n",
       "      <td>0.227484</td>\n",
       "    </tr>\n",
       "  </tbody>\n",
       "</table>\n",
       "</div>"
      ],
      "text/plain": [
       "      a     b     c      d        OR             P  ci_lower  ci_lower_diff  \\\n",
       "0  2253  6372  1610   5561  1.221272  9.436160e-08  1.134864       0.105866   \n",
       "0   685  2349  3178   9584  0.879428  7.389453e-03  0.800456       0.135743   \n",
       "0   435  1548  3428  10385  0.851303  5.202069e-03  0.760227       0.163242   \n",
       "0   490  1664  3373  10269  0.896509  4.894301e-02  0.804741       0.155793   \n",
       "\n",
       "   ci_upper  ci_upper_diff   OR_log2  ci_lower_log2  ci_upper_log2  \\\n",
       "0  1.314260       0.105866  0.288385       0.182519       0.394250   \n",
       "0  0.966191       0.135743 -0.185362      -0.321105      -0.049619   \n",
       "0  0.953289       0.163242 -0.232256      -0.395498      -0.069014   \n",
       "0  0.998741       0.155793 -0.157610      -0.313403      -0.001818   \n",
       "\n",
       "                               comparison                       col  \\\n",
       "0                 cis+trans-activity_x_te                 cis+trans   \n",
       "0  conserved_active.regions-activity_x_te  conserved_active.regions   \n",
       "0                trans_only-activity_x_te                trans_only   \n",
       "0                  cis_only-activity_x_te                  cis_only   \n",
       "\n",
       "   reject_null         FDR_P asterisks   -log10p      frac  \n",
       "0         True  3.774464e-07         *  6.423145  0.261217  \n",
       "0         True  9.852604e-03         *  2.006449  0.225775  \n",
       "0         True  9.852604e-03         *  2.006449  0.219365  \n",
       "0         True  4.894301e-02         *  1.310309  0.227484  "
      ]
     },
     "execution_count": 34,
     "metadata": {},
     "output_type": "execute_result"
    }
   ],
   "source": [
    "fdr_fet"
   ]
  },
  {
   "cell_type": "code",
   "execution_count": 27,
   "metadata": {
    "ExecuteTime": {
     "end_time": "2023-07-23T20:18:20.212783Z",
     "start_time": "2023-07-23T20:18:20.187900Z"
    }
   },
   "outputs": [
    {
     "ename": "NameError",
     "evalue": "name 'plot_sets' is not defined",
     "output_type": "error",
     "traceback": [
      "\u001b[0;31m---------------------------------------------------------------------------\u001b[0m",
      "\u001b[0;31mNameError\u001b[0m                                 Traceback (most recent call last)",
      "\u001b[0;32m<ipython-input-27-baa4279adf51>\u001b[0m in \u001b[0;36m<module>\u001b[0;34m\u001b[0m\n\u001b[1;32m      1\u001b[0m \u001b[0;31m# plot OR\u001b[0m\u001b[0;34m\u001b[0m\u001b[0;34m\u001b[0m\u001b[0;34m\u001b[0m\u001b[0m\n\u001b[0;32m----> 2\u001b[0;31m \u001b[0;32mfor\u001b[0m \u001b[0mkey\u001b[0m \u001b[0;32min\u001b[0m \u001b[0mplot_sets\u001b[0m\u001b[0;34m.\u001b[0m\u001b[0mkeys\u001b[0m\u001b[0;34m(\u001b[0m\u001b[0;34m)\u001b[0m\u001b[0;34m:\u001b[0m\u001b[0;34m\u001b[0m\u001b[0;34m\u001b[0m\u001b[0m\n\u001b[0m\u001b[1;32m      3\u001b[0m     \u001b[0morder\u001b[0m \u001b[0;34m=\u001b[0m \u001b[0mplot_sets\u001b[0m\u001b[0;34m[\u001b[0m\u001b[0mkey\u001b[0m\u001b[0;34m]\u001b[0m\u001b[0;34m\u001b[0m\u001b[0;34m\u001b[0m\u001b[0m\n\u001b[1;32m      4\u001b[0m     \u001b[0mx\u001b[0m \u001b[0;34m=\u001b[0m \u001b[0;34m\"col\"\u001b[0m\u001b[0;34m\u001b[0m\u001b[0;34m\u001b[0m\u001b[0m\n\u001b[1;32m      5\u001b[0m     \u001b[0my\u001b[0m \u001b[0;34m=\u001b[0m \u001b[0;34m\"OR_log2\"\u001b[0m\u001b[0;34m\u001b[0m\u001b[0;34m\u001b[0m\u001b[0m\n",
      "\u001b[0;31mNameError\u001b[0m: name 'plot_sets' is not defined"
     ]
    }
   ],
   "source": [
    "# plot OR\n",
    "for key in plot_sets.keys():\n",
    "    order = plot_sets[key]\n",
    "    x = \"col\"\n",
    "    y = \"OR_log2\"\n",
    "    data = fdr_fet.loc[fdr_fet['col'].isin(order)]\n",
    "    ci_upper, ci_lower = \"ci_upper_log2\", \"ci_lower_log2\"\n",
    "    ytick_multiple = 1\n",
    "    ylim =(-1,1) # log2 coordinates\n",
    "\n",
    "    title = f\"TE enrichment\\n{key} v. other active regions\\n\"\n",
    "    hue = None\n",
    "\n",
    "    fig, ax = plot_OR_bar(x, y, data, ci_upper, ci_lower, ytick_multiple, ylim, title, order)\n",
    "\n",
    "    ax.set_xticklabels(ax.get_xticklabels(), rotation = 60, horizontalalignment = \"right\")\n",
    "\n",
    "    annotate_bar(ax, \"x\", list(data['a']), 0.05)\n",
    "    annotate_bar(ax, \"x\", list(data[\"frac\"].round(2).apply(lambda x: str(x*100).split(\".\")[0]+ \"%\")), 0.2)\n",
    "    outf = os.path.join(RE, f\"SharedACC_HH_isActive_TE_OR_Regions_vothers-{key}_v2.pdf\")\n",
    "    plt.savefig(outf, bbox_inches = \"tight\")"
   ]
  },
  {
   "cell_type": "markdown",
   "metadata": {
    "ExecuteTime": {
     "end_time": "2022-03-15T22:48:42.444231Z",
     "start_time": "2022-03-15T22:48:42.313241Z"
    }
   },
   "source": [
    "2x2\n",
    "\n",
    "\n",
    "                    TE True      TE False\n",
    "\n",
    "\n",
    "    Category True     A.           B\n",
    "\n",
    "\n",
    "    Category False    C.           D"
   ]
  },
  {
   "cell_type": "markdown",
   "metadata": {},
   "source": [
    "# TE family enrichment in active category v. all other active categories\n"
   ]
  },
  {
   "cell_type": "markdown",
   "metadata": {},
   "source": [
    "- TE must overlap at least 50 regions to be considered. "
   ]
  },
  {
   "cell_type": "code",
   "execution_count": null,
   "metadata": {
    "code_folding": [],
    "collapsed": true
   },
   "outputs": [],
   "source": [
    "def test_te_enrichment(col, t, df):\n",
    "    ###\n",
    "    #DEV\n",
    "    ###\n",
    "    #                     TE overlap -True    TE overlap -False\n",
    "\n",
    "    # cis.regions -True    A                          B  \n",
    "    # cis.regions -Flase   C                          D\n",
    "\n",
    "    \"\"\"\n",
    "    1. for single te, for single test regulatory category\n",
    "    2. get all the regions that overlap that TE. \n",
    "    3. get all regions in test category\n",
    "    4. get all regions not in category and subtract any regions that overlap the test category\n",
    "    5. count test category regions overlapping TE\n",
    "    6. count all test category regions NOT overlapping TE\n",
    "    7. count NOT test category regions overlapping TE\n",
    "    8. count NOT test category regions NOT overlapping TE\n",
    "    9. if there are at least 50 TE instances in dataset, calculate FET enrichment\n",
    "\n",
    "    \"\"\"\n",
    "    #t = \"Alu\"\n",
    "    #col = \"cis+trans\"\n",
    "\n",
    "    #1\n",
    "    test = df.loc[df[\"shuf\"]==False]\n",
    "\n",
    "    #2\n",
    "    TE_true_regions = set(test.loc[(test[\"te\"].str.contains(t)), \"region_id\"])  # get all the regions w/ TE\n",
    "\n",
    "    blank = pd.DataFrame({col:[True, False]})\n",
    "\n",
    "    #3\n",
    "    col_true_regions = set(test.loc[test[col] ==1, \"region_id\"])\n",
    "\n",
    "    #4\n",
    "    col_false_regions = set(test.loc[test[col] ==0, \"region_id\"])\n",
    "    col_false_regions = col_false_regions.difference(col_true_regions)\n",
    "\n",
    "    #5\n",
    "    a = len(TE_true_regions.intersection(col_true_regions))\n",
    "    #6\n",
    "    b = len(col_true_regions.difference(TE_true_regions))\n",
    "    #7\n",
    "    c = len(TE_true_regions.intersection(col_false_regions))\n",
    "    #8\n",
    "    d = len(col_false_regions.difference(TE_true_regions))\n",
    "    #print(a,b, c,d)\n",
    "\n",
    "    if a + c >50:\n",
    "        comparison = f\"{col}_x_{t}\"\n",
    "        #5\n",
    "        fet_results = fet.get_2x2(a,b,c,d, comparison)\n",
    "        fet_results[\"te\"] = t\n",
    "        fet_results[\"activity_cat\"] = col\n",
    "        \n",
    "    else:\n",
    "        fet_results = pd.DataFrame()\n",
    "    \n",
    "    return fet_results"
   ]
  },
  {
   "cell_type": "markdown",
   "metadata": {},
   "source": [
    "## make a list of TEs to test"
   ]
  },
  {
   "cell_type": "code",
   "execution_count": null,
   "metadata": {
    "collapsed": true
   },
   "outputs": [],
   "source": [
    "tested_tes = []\n",
    "for te in df.te.unique():\n",
    "    for t in te.split(\" \"):\n",
    "        if t not in tested_tes:\n",
    "            t_ = str(t.strip(\"[]\")).strip(\"''\")\n",
    "            tested_tes.append(t_)\n",
    "\n",
    "\n",
    "tested_tes[1]"
   ]
  },
  {
   "cell_type": "markdown",
   "metadata": {},
   "source": [
    "## unit test for one TE enrichment. "
   ]
  },
  {
   "cell_type": "code",
   "execution_count": null,
   "metadata": {
    "code_folding": [],
    "collapsed": true
   },
   "outputs": [],
   "source": [
    "###\n",
    "#DEV\n",
    "###\n",
    "#                     TE overlap -True    TE overlap -False\n",
    "\n",
    "# cis.regions -True    A                          B  \n",
    "# cis.regions -Flase   C                          D\n",
    "\n",
    "\"\"\"\n",
    "1. for single te, for single test regulatory category\n",
    "2. get all the regions that overlap that TE. \n",
    "3. get all regions in test category\n",
    "4. get all regions not in category and subtract any regions that overlap the test category\n",
    "5. count test category regions overlapping TE\n",
    "6. count all test category regions NOT overlapping TE\n",
    "7. count NOT test category regions overlapping TE\n",
    "8. count NOT test category regions NOT overlapping TE\n",
    "9. if there are at least 50 TE instances in dataset, calculate FET enrichment\n",
    "\n",
    "\"\"\"\n",
    "t = \"Alu\"\n",
    "col = \"cis+trans\"\n",
    "#col = \"cis.regions\"\n",
    "\n",
    "comparison = f\"{t}_x_{col}\"\n",
    "#1\n",
    "test = df.loc[df[\"shuf\"]==False]\n",
    "\n",
    "#2\n",
    "TE_true_regions = set(test.loc[(test[\"te\"].str.contains(t)), \"region_id\"])  # get all the regions w/ TE\n",
    "\n",
    "blank = pd.DataFrame({col:[True, False]})\n",
    "\n",
    "#3\n",
    "col_true_regions = set(test.loc[test[col] ==1, \"region_id\"])\n",
    "\n",
    "#4\n",
    "col_false_regions = set(test.loc[test[col] ==0, \"region_id\"])\n",
    "col_false_regions = col_false_regions.difference(col_true_regions)\n",
    "\n",
    "#5\n",
    "a = len(TE_true_regions.intersection(col_true_regions))\n",
    "#6\n",
    "b = len(col_true_regions.difference(TE_true_regions))\n",
    "#7\n",
    "c = len(TE_true_regions.intersection(col_false_regions))\n",
    "#8\n",
    "d = len(col_false_regions.difference(TE_true_regions))\n",
    "print(a,b, c,d)\n",
    "\n",
    "if a + c >50:\n",
    "    #5\n",
    "    fet_results = fet.get_2x2(a,b,c,d, comparison)\n",
    "    fet_results[\"te\"] = t\n",
    "    fet_results[\"activity_cat\"] = col"
   ]
  },
  {
   "cell_type": "code",
   "execution_count": null,
   "metadata": {
    "code_folding": [],
    "collapsed": true
   },
   "outputs": [],
   "source": [
    "cols = [\n",
    "        \"conserved_active.regions\", \n",
    "    'trans_only',\n",
    "    'cis_only',     \n",
    "    \"cis+trans\",\n",
    "    'HH-active_MM-inactive_trans-only',\n",
    "    'HH-active_MM-inactive_cis-only',\n",
    "    'HH-active_MM-inactive_cis+trans',\n",
    "    'MM-active_HH-inactive_cis-only',\n",
    "    'MM-active_HH-inactive_trans-only',\n",
    "    'MM-active_HH-inactive_cis+trans',\n",
    "\n",
    "]\n",
    "\n",
    "\"\"\"\n",
    "#                     TE overlap -True    TE overlap -False\n",
    "\n",
    "# cis.regions -True    A                          B  \n",
    "# cis.regions -Flase   C                          D\n",
    "\n",
    "\n",
    "1. for single te, for single test regulatory category\n",
    "2. get all the regions that overlap that TE. \n",
    "3. get all regions in test category\n",
    "4. get all regions not in category and subtract any regions that overlap the test category\n",
    "5. count test category regions overlapping TE\n",
    "6. count all test category regions NOT overlapping TE\n",
    "7. count NOT test category regions overlapping TE\n",
    "8. count NOT test category regions NOT overlapping TE\n",
    "9. if there are at least 50 TE instances in dataset, calculate FET enrichment\n",
    "10. add to dictionary. \n",
    "11. FDR correct per test category (e.g. trans only)\n",
    "\n",
    "\"\"\"\n",
    "outf = \"/data/hodges_lab/ATAC-STARR_B-cells/results/results_human-evolution/repeatmasker/HH_activity_code_OR_all_regions_v2.tsv\"\n",
    "#if os.path.exists(outf) is False:\n",
    "col_results = {}\n",
    "for col in cols:\n",
    "    print(col)\n",
    "\n",
    "    blank = pd.DataFrame({col:[True, False]})\n",
    "    te_col = {}\n",
    "\n",
    "    if col not in col_results.keys():\n",
    "\n",
    "        for t in set(tested_tes[1:]):\n",
    "            results = test_te_enrichment(col, t, df)\n",
    "\n",
    "            if True in set(results.any()):\n",
    "                te_col[t] = results\n",
    "                #print(type(results), cols)\n",
    "            else:\n",
    "                continue\n",
    "\n",
    "    #11\n",
    "    fdr_results = fet.fdr_correction(te_col)\n",
    "    col_results[col] = fdr_results\n",
    "\n",
    "all_te_enrichment = pd.concat(col_results.values())\n",
    "\n",
    "all_te_enrichment.to_csv(outf, sep = '\\t', index = False)\n",
    "#else:\n",
    "#   all_te_enrichment = pd.read_csv(outf, sep = '\\t')"
   ]
  },
  {
   "cell_type": "code",
   "execution_count": null,
   "metadata": {
    "collapsed": true
   },
   "outputs": [],
   "source": [
    "for_plotting = ['cis+trans','trans_only', 'cis_only', 'conserved_active.regions', \n",
    "               #'HH-active_MM-inactive_cis+trans', 'MM-active_HH-inactive_cis+trans'\n",
    "               ]"
   ]
  },
  {
   "cell_type": "code",
   "execution_count": null,
   "metadata": {
    "collapsed": true,
    "scrolled": false
   },
   "outputs": [],
   "source": [
    "split_at = round(len(col_results.keys())/2, 0)\n",
    "split_at = round(len(for_plotting)/2, 0)\n",
    "fig, ax_ = plt.subplots(ncols = 2, nrows = int(split_at), figsize = (14,14))\n",
    "idxcol, idxrow = 0,0\n",
    "\n",
    "for key, val in col_results.items():\n",
    "    if key in for_plotting:\n",
    "\n",
    "        print(idxrow, idxcol)\n",
    "        ax = ax_[idxrow][idxcol]\n",
    "        val['-log10p'] = np.log10(val[\"FDR_P\"])*-1\n",
    "\n",
    "        x = \"OR_log2\"\n",
    "        y = \"-log10p\"\n",
    "        hue = \"activity_cat\"\n",
    "        data = col_results[key]\n",
    "        size = list(data[\"a\"])\n",
    "\n",
    "        #fig, ax = plt.subplots(figsize = (6,6))\n",
    "        sns.scatterplot(x=x, y=y, data=data, hue=hue, ax=ax, size=size)\n",
    "        ax.set(title = key)\n",
    "        ax.axvline(0, ls = \"--\")\n",
    "\n",
    "        sig = data.loc[(data[x].astype(float)>0) \n",
    "                       #& (data[\"reject_null\"]==True)\n",
    "                      ].sort_values(by=y, ascending=False)\n",
    "\n",
    "        # Annotate sign TE label points \n",
    "        for i, l in enumerate(sig[\"te\"]):\n",
    "            print(i, l, sig[x].iloc[i])\n",
    "            ax.annotate(l, (sig[x].iloc[i]+0.02, sig[y].iloc[i]+0.02) )\n",
    "            if i >10:\n",
    "                break\n",
    "        ax.legend(loc=\"upper left\")#bbox_to_anchor = (1,1))#.remove()\n",
    "        ax.set(title = key, xlim =(-4,4), \n",
    "               ylim=(-0.5,10)\n",
    "              )\n",
    "        ax.axvline(0, ls = \"--\")\n",
    "\n",
    "        idxrow +=1\n",
    "\n",
    "        if idxrow ==split_at:\n",
    "            idxrow = 0\n",
    "            idxcol = 1\n",
    "\n",
    "        del data, sig\n",
    "\n",
    "outf = os.path.join(RE, \"SharedACC_HH_isActive_TE_Scatter_OR_regions_all_v2.pdf\")\n",
    "plt.savefig(outf, bbox_inches = \"tight\")"
   ]
  },
  {
   "cell_type": "code",
   "execution_count": null,
   "metadata": {
    "collapsed": true
   },
   "outputs": [],
   "source": [
    "data = col_results[\"cis+trans\"]\n",
    "sig = data.loc[(data[x].astype(float)>0)]\n",
    "sig.sort_values(by=y, ascending=False)"
   ]
  },
  {
   "cell_type": "code",
   "execution_count": null,
   "metadata": {
    "collapsed": true
   },
   "outputs": [],
   "source": [
    "for_plotting = ['HH-active_MM-inactive_cis+trans',\n",
    "                'HH-active_MM-inactive_trans-only',\n",
    "                'HH-active_MM-inactive_cis-only',                \n",
    "                'MM-active_HH-inactive_cis+trans',\n",
    "                'MM-active_HH-inactive_trans-only',\n",
    "                'MM-active_HH-inactive_cis-only',\n",
    "                ]"
   ]
  },
  {
   "cell_type": "markdown",
   "metadata": {},
   "source": [
    "# scatterplot for HH, MM"
   ]
  },
  {
   "cell_type": "code",
   "execution_count": null,
   "metadata": {
    "collapsed": true
   },
   "outputs": [],
   "source": [
    "split_at = round(len(col_results.keys())/2, 0)\n",
    "split_at = round(len(for_plotting)/2, 0)\n",
    "fig, ax_ = plt.subplots(ncols = 2, nrows = int(split_at), figsize = (14,22))\n",
    "idxcol, idxrow = 0,0\n",
    "\n",
    "#for key, val in col_results.items():\n",
    "for key in for_plotting:\n",
    "\n",
    "    print(idxrow, idxcol)\n",
    "    ax = ax_[idxrow][idxcol]\n",
    "    val['-log10p'] = np.log10(val[\"FDR_P\"])*-1\n",
    "\n",
    "    x = \"OR_log2\"\n",
    "    y = \"-log10p\"\n",
    "    hue = \"activity_cat\"\n",
    "    data = col_results[key]\n",
    "    size = \"a\"\n",
    "\n",
    "    #fig, ax = plt.subplots(figsize = (6,6))\n",
    "    sns.scatterplot(x=x, y=y, data=data, hue=hue, ax=ax, size=size)\n",
    "    ax.set(title = key)\n",
    "    ax.axvline(0, ls = \"--\")\n",
    "    \n",
    "    sig = data.loc[(data[x].astype(float)>0) & (data[\"reject_null\"]==True)]\n",
    "\n",
    "    # Annotate sign TE label points \n",
    "    for i, l in enumerate(sig[\"te\"]):\n",
    "        print(i, l, sig[x].iloc[i])\n",
    "        ax.annotate(l, (sig[x].iloc[i]+0.02, sig[y].iloc[i]+0.02) )\n",
    "    ax.legend(bbox_to_anchor = (1,1)).remove()\n",
    "    ax.set(title = key, xlim =(-4,4), \n",
    "           ylim=(-0.5,10)\n",
    "          )\n",
    "    ax.axvline(0, ls = \"--\")\n",
    "    \n",
    "    idxrow +=1\n",
    "\n",
    "    if idxrow ==split_at:\n",
    "        idxrow = 0\n",
    "        idxcol = 1\n",
    "\n",
    "    del data, sig\n",
    "    \n",
    "outf = os.path.join(RE, \"SharedACC_HH_isActive_TE_Scatter_OR_regions_HH_v_MM_v2.pdf\")\n",
    "plt.savefig(outf, bbox_inches = \"tight\")"
   ]
  },
  {
   "cell_type": "markdown",
   "metadata": {},
   "source": [
    "# save dataframe "
   ]
  },
  {
   "cell_type": "code",
   "execution_count": null,
   "metadata": {
    "collapsed": true
   },
   "outputs": [],
   "source": [
    "all_te_enrichment = pd.concat(col_results.values())\n",
    "\n",
    "all_te_enrichment.head()"
   ]
  },
  {
   "cell_type": "code",
   "execution_count": null,
   "metadata": {
    "collapsed": true
   },
   "outputs": [],
   "source": [
    "outf = \"/data/hodges_lab/ATAC-STARR_B-cells/results/results_human-evolution/repeatmasker/TE_activity_code_OR_all_regions_v2.tsv\"\n",
    "all_te_enrichment.to_csv(outf, sep = '\\t', index = False)"
   ]
  },
  {
   "cell_type": "markdown",
   "metadata": {},
   "source": [
    "# plot all categories together. "
   ]
  },
  {
   "cell_type": "code",
   "execution_count": null,
   "metadata": {
    "collapsed": true
   },
   "outputs": [],
   "source": [
    "all_te_enrichment['-log10p'] = np.log10(all_te_enrichment[\"FDR_P\"])*-1\n",
    "\n",
    "x = \"OR_log2\"\n",
    "y = \"-log10p\"\n",
    "hue = \"activity_cat\"\n",
    "\n",
    "data = all_te_enrichment.loc[all_te_enrichment[\"reject_null\"]==True]\n",
    "size = list(data[\"a\"])\n",
    "\n",
    "fig, ax = plt.subplots(figsize = (10,10))\n",
    "sns.scatterplot(x=x, y=y, data=data, hue=hue, s=size)\n",
    "ax.set(title = key, xlim=(-3,3))\n",
    "ax.axvline(0, ls = \"--\")\n",
    "\n",
    "sig = data.loc[(data[x].astype(float)>0)]\n",
    "\n",
    "# Annotate label points \n",
    "for i, l in enumerate(sig[\"te\"]):\n",
    "    #print(i, l, data[x].iloc[i])\n",
    "    ax.annotate(l, (sig[x].iloc[i]+0.2, sig[y].iloc[i]+0.2) )\n",
    "\n",
    "ax.legend(bbox_to_anchor = (1,1))\n",
    "\n",
    "ax.set(title = \"Sig TE Enrichment\\nSharedAcc HH_is_active regions\\n\",\n",
    "      ylabel = \"-log10(FDR p-value)\")\n",
    "\n",
    "ax.axvline(0, ls = \"--\")\n",
    "\n",
    "outf = os.path.join(RE, \"SharedACC_HH_isActive_TE_Scatter_OR_ALL_regions_20220411.pdf\")\n",
    "#plt.savefig(outf, bbox_inches = \"tight\")\n",
    "\n",
    "plt.show()"
   ]
  },
  {
   "cell_type": "markdown",
   "metadata": {},
   "source": [
    "# plot N"
   ]
  },
  {
   "cell_type": "code",
   "execution_count": null,
   "metadata": {
    "collapsed": true
   },
   "outputs": [],
   "source": [
    "all_te_enrichment[\"te\"].unique()"
   ]
  },
  {
   "cell_type": "code",
   "execution_count": null,
   "metadata": {
    "collapsed": true
   },
   "outputs": [],
   "source": [
    "all_te_enrichment"
   ]
  },
  {
   "cell_type": "code",
   "execution_count": null,
   "metadata": {
    "collapsed": true
   },
   "outputs": [],
   "source": [
    "all_te_enrichment[\"frac\"] = all_te_enrichment[\"a\"]/(all_te_enrichment[\"a\"] + all_te_enrichment[\"b\"]) \n",
    "all_te_enrichment"
   ]
  },
  {
   "cell_type": "code",
   "execution_count": null,
   "metadata": {
    "collapsed": true
   },
   "outputs": [],
   "source": [
    "##### \n",
    "\n",
    "x=\"frac\"\n",
    "y=\"te\"\n",
    "hue = \"activity_cat\"\n",
    "data = all_te_enrichment\n",
    "fig, (ax1, ax2) = plt.subplots( ncols = 2, figsize = (12,12))\n",
    "sns.barplot(x=x, y=y, data=data, hue=hue, ax = ax1)\n",
    "ax1.legend(bbox_to_anchor = (1,1)).remove()\n",
    "ax1.set(xlabel = \"frac regions w TE\")\n",
    "\n",
    "#ax2 = ax1.twiny()\n",
    "x=\"a\"\n",
    "sns.barplot(x=x, y=y, data=data, hue=hue, ax = ax2)\n",
    "ax2.legend(bbox_to_anchor = (1,1))\n",
    "ax2.set(xlabel = \"N regions w TE\\n\")\n",
    "\n",
    "outf = os.path.join(RE, \"SharedACC_HH_isActive_TE_20220411.pdf\")\n",
    "#plt.savefig(outf, bbox_inches = \"tight\")"
   ]
  },
  {
   "cell_type": "code",
   "execution_count": null,
   "metadata": {
    "collapsed": true
   },
   "outputs": [],
   "source": []
  }
 ],
 "metadata": {
  "kernelspec": {
   "display_name": "Python (sfenv)",
   "language": "python",
   "name": "sfenv"
  },
  "language_info": {
   "codemirror_mode": {
    "name": "ipython",
    "version": 3
   },
   "file_extension": ".py",
   "mimetype": "text/x-python",
   "name": "python",
   "nbconvert_exporter": "python",
   "pygments_lexer": "ipython3",
   "version": "3.6.10"
  },
  "toc": {
   "base_numbering": 1,
   "nav_menu": {},
   "number_sections": true,
   "sideBar": true,
   "skip_h1_title": false,
   "title_cell": "Table of Contents",
   "title_sidebar": "Contents",
   "toc_cell": false,
   "toc_position": {},
   "toc_section_display": true,
   "toc_window_display": true
  }
 },
 "nbformat": 4,
 "nbformat_minor": 5
}
