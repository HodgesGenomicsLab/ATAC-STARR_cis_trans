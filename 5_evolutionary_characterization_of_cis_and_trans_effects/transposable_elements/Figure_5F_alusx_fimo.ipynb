{
 "cells": [
  {
   "cell_type": "code",
   "execution_count": 1,
   "metadata": {
    "ExecuteTime": {
     "end_time": "2024-03-07T05:38:15.368556Z",
     "start_time": "2024-03-07T05:38:13.802632Z"
    },
    "collapsed": true
   },
   "outputs": [],
   "source": [
    "import os, sys\n",
    "import pandas as pd\n",
    "import pybedtools as pbt\n",
    "import numpy as np\n",
    "import matplotlib.pyplot as plt\n",
    "import seaborn as sns\n",
    "\n",
    "sys.path.append(\"/dors/capra_lab/users/fongsl/tools/py_/\")\n",
    "sys.path.append(\"/dors/capra_lab/users/fongsl/tools/genome/\")\n",
    "import config_readwrite as crw"
   ]
  },
  {
   "cell_type": "code",
   "execution_count": 2,
   "metadata": {
    "ExecuteTime": {
     "end_time": "2022-07-29T06:03:39.999319Z",
     "start_time": "2022-07-29T06:03:39.993504Z"
    },
    "collapsed": true
   },
   "outputs": [],
   "source": [
    "alu_fa = \"/data/hodges_lab/ATAC-STARR_B-cells/bin_human-evolution/repeatmasker/alusx.fa\""
   ]
  },
  {
   "cell_type": "code",
   "execution_count": 3,
   "metadata": {
    "ExecuteTime": {
     "end_time": "2022-07-29T06:03:40.369503Z",
     "start_time": "2022-07-29T06:03:40.340592Z"
    }
   },
   "outputs": [
    {
     "name": "stdout",
     "output_type": "stream",
     "text": [
      "import os, sys, traceback\n",
      "import argparse\n",
      "import glob\n",
      "import pandas as pd\n",
      "from collections import Counter\n",
      "\n",
      "# TO RUN\n",
      "\n",
      "# python script [input_file] [sample_id] [-i]\n",
      "\n",
      "# python /dors/capra_lab/fongsl/enh_age/bin/age_enhancers.py UBERON_0002372_tonsil_expressed_enhancers.bed UBERON0002372\n",
      "\n",
      "\n",
      "###\n",
      "#   arguments\n",
      "###\n",
      "arg_parser = argparse.ArgumentParser(description=\"Calculate enhancer age.\")\n",
      "\n",
      "arg_parser.add_argument(\"inputfile\", type=str, help='.bed or .fa file w/ full path')\n",
      "\n",
      "arg_parser.add_argument(\"sample_id\", type=str, help='str label for files')\n",
      "\n",
      "arg_parser.add_argument(\"genome_build\", type=str, default=\"hg38\", help='hg19 or hg38 (default)')\n",
      "\n",
      "arg_parser.add_argument(\"-db\", \"--database\", type=str, default=\"JASPAR\",\n",
      "                        help='JASPAR or Hocomoco meme db?')\n",
      "\n",
      "args = arg_parser.parse_args()\n",
      "\n",
      "INPUT_FILE = args.inputfile\n",
      "SAMPLE_ID = args.sample_id\n",
      "BUILD = args.genome_build\n",
      "DB = args.database\n",
      "\n",
      "TEST_PATH = \"/\".join(INPUT_FILE.split(\"/\")[:-1])\n",
      "RESULTS_PATH = f\"{TEST_PATH}/tfbs_motif/{SAMPLE_ID}/\"\n",
      "\n",
      "if os.path.exists(RESULTS_PATH) is False:\n",
      "    os.makedirs(RESULTS_PATH)\n",
      "\n",
      "###\n",
      "# FUNCTIONS\n",
      "###\n",
      "\n",
      "\n",
      "def dors_fasta(build):\n",
      "    \"\"\"\n",
      "    return fasta file w/ full path (str) for genome build from dors\n",
      "    \n",
      "    input \n",
      "        genome build (str) - hg19 or hg38\n",
      "        \n",
      "    1. check if the fasta file is zipped. \n",
      "    2. if zipped, unzip the file\n",
      "    3. return the unzipped file\n",
      "    \n",
      "    \"\"\"\n",
      "    \n",
      "    dna_path = f\"/dors/capra_lab/data/dna/human/{build}/\"\n",
      "    \n",
      "    #1\n",
      "    zipped_fasta = os.path.join(dna_path, f\"{build}.fa.gz\") #gunzip -fi file\n",
      "    \n",
      "    #2\n",
      "    if os.path.exists(zipped_fasta) is True:\n",
      "        gunzip = \"gunzip %s\" % fasta_in\n",
      "        os.system(gunzip)\n",
      "    #3\n",
      "    fasta_in = os.path.join(dna_path, f\"{build}.fa\") #gunzip -fi file\n",
      "    \n",
      "    return fasta_in\n",
      "\n",
      "\n",
      "def get_motifs(database):\n",
      "    path = \"/dors/capra_lab/data/tf_motif/meme/motif_databases.07.22\"\n",
      "\n",
      "    if database == \"HOCOMOCO\":\n",
      "        motif_file = os.path.join(path, \"HUMAN\", \"HOCOMOCOv11_core_HUMAN_mono_meme_format.meme\")\n",
      "        \n",
      "    elif database == \"JASPAR\":\n",
      "        motif_file = os.path.join(path, \"JASPAR\", \"JASPAR2022_CORE_vertebrates_non-redundant_v2.meme\")\n",
      "        \n",
      "    return motif_file\n",
      "\n",
      "\n",
      "def getfasta(input_file, sample_id, test_path, results_path, build):\n",
      "    \n",
      "    \"\"\"\n",
      "    return a fasta file of the input .bed file\n",
      "    \"\"\"\n",
      "    os.chdir(test_path)\n",
      "\n",
      "    fasta_in = dors_fasta(build)\n",
      "    fasta_out = os.path.join(results_path, f\"{sample_id}.fa\")\n",
      "\n",
      "    cmd = f\"bedtools getfasta -fi {fasta_in} -bed {input_file} -fo {fasta_out}\"\n",
      "    os.system(cmd)\n",
      "\n",
      "    return fasta_out\n",
      "\n",
      "\n",
      "def fimo(fasta, sample_id, results_path, database):\n",
      "    \n",
      "    motif_file = get_motifs(database) # get motif meme file\n",
      "    \n",
      "    out_dir = os.path.join(results_path, f\"fimo_{sample_id}\")\n",
      "    if os.path.exists(out_dir) is False:\n",
      "        os.makedirs(out_dir)\n",
      "    \n",
      "    # run fasta cmd\n",
      "    fimo_cmd = f\"/dors/capra_lab/bin/fimo -oc {out_dir} {motif_file} {fasta}\"\n",
      "    os.system(fimo_cmd)\n",
      "    print(\"\\n\\nFIMO CMD\", fimo_cmd, \"\\n\\n\")\n",
      "\n",
      "    return out_dir\n",
      "\n",
      "\n",
      "def countgc(sequence):\n",
      "    gc = []\n",
      "    total = []\n",
      "    letters = [\"G\", \"C\"]\n",
      "    counts = Counter(sequence)\n",
      "\n",
      "    for letter in letters:\n",
      "        gc.append(int(counts[letter]))\n",
      "\n",
      "    gc_sum = sum(gc)\n",
      "    return gc_sum\n",
      "\n",
      "\n",
      "def fimo2df(fimo_outdir, sample_id, results_path):\n",
      "    print(\"\\n\\nFIMO_OUTDIR\", fimo_outdir, \"\\n\\n\") \n",
      "    # load dataframe\n",
      "    df = pd.read_csv(os.path.join(fimo_outdir, \"fimo.txt\"), sep = '\\t')\n",
      "    df[\"tf\"] = df[\"#pattern name\"].apply(lambda x: x.split(\"_\")[0])\n",
      "\n",
      "    df[\"chr_enh\"] = df[\"sequence name\"].apply(lambda x: x.split(\":\")[0])\n",
      "    df[\"start_enh\"] = df[\"sequence name\"].apply(lambda x: (x.split(\":\")[1]).split(\"-\")[0])\n",
      "    df[\"end_enh\"] = df[\"sequence name\"].apply(lambda x: (x.split(\":\")[1]).split(\"-\")[1])\n",
      "\n",
      "    df[\"start_motif\"] = df[\"start_enh\"].astype(int) + df[\"start\"].astype(int)\n",
      "    df[\"end_motif\"] = df[\"end_enh\"].astype(int) + df[\"stop\"].astype(int)\n",
      "\n",
      "    # get GC content\n",
      "    df[\"GC\"] = df[\"matched sequence\"].apply(lambda x: countgc(x))\n",
      "    df[\"motif_len\"] = df[\"matched sequence\"].apply(lambda x: len(x))\n",
      "\n",
      "    df = df[['chr_enh',\"start_motif\", \"end_motif\", 'start_enh', 'end_enh', 'tf', '#pattern name',\n",
      "         'sequence name', 'start', 'stop', 'strand', 'score',\n",
      "         'p-value', 'q-value', 'GC', 'motif_len', 'matched sequence']]\n",
      "\n",
      "    outfile = os.path.join(results_path, f\"{sample_id}_motifs.tsv\")\n",
      "    \n",
      "    df.to_csv(outfile, sep = \"\\t\", index = False)\n",
      "\n",
      "\n",
      "###\n",
      "#   main\n",
      "###\n",
      "\n",
      "def main(argv):\n",
      "\n",
      "    if \".fa\" not in INPUT_FILE:\n",
      "        FASTA = getfasta(INPUT_FILE, SAMPLE_ID, TEST_PATH, RESULTS_PATH, BUILD) # make fasta\n",
      "    else:\n",
      "        FASTA = INPUT_FILE\n",
      "        \n",
      "    FIMO_OUTDIR = fimo(FASTA, SAMPLE_ID, RESULTS_PATH, DB) # make fimo\n",
      "    \n",
      "    fimo2df(FIMO_OUTDIR, SAMPLE_ID, RESULTS_PATH) # fimo text to df\n",
      "\n",
      "if __name__ == \"__main__\":\n",
      "    main(sys.argv[1:])\n"
     ]
    }
   ],
   "source": [
    "%%bash\n",
    "cat /dors/capra_lab/users/fongsl/tools/genome/fasta_fimo.py"
   ]
  },
  {
   "cell_type": "code",
   "execution_count": 4,
   "metadata": {
    "ExecuteTime": {
     "end_time": "2022-07-29T06:03:43.910738Z",
     "start_time": "2022-07-29T06:03:41.079562Z"
    }
   },
   "outputs": [
    {
     "data": {
      "text/plain": [
       "256"
      ]
     },
     "execution_count": 4,
     "metadata": {},
     "output_type": "execute_result"
    }
   ],
   "source": [
    "PY_FIMO=\"/dors/capra_lab/users/fongsl/tools/genome/fasta_fimo.py\"\n",
    "cmd = f\"python {PY_FIMO} {alu_fa} alusx_x_jaspar hg38 -db JASPAR\"\n",
    "os.system(cmd)"
   ]
  },
  {
   "cell_type": "code",
   "execution_count": 2,
   "metadata": {
    "ExecuteTime": {
     "end_time": "2024-03-07T05:38:21.520508Z",
     "start_time": "2024-03-07T05:38:21.516437Z"
    },
    "collapsed": true
   },
   "outputs": [],
   "source": [
    "results = \"/data/hodges_lab/ATAC-STARR_B-cells/bin_human-evolution/repeatmasker/tfbs_motif/alusx_x_jaspar/fimo_alusx_x_jaspar/fimo.txt\""
   ]
  },
  {
   "cell_type": "code",
   "execution_count": 3,
   "metadata": {
    "ExecuteTime": {
     "end_time": "2024-03-07T05:38:22.234678Z",
     "start_time": "2024-03-07T05:38:22.175567Z"
    }
   },
   "outputs": [
    {
     "data": {
      "text/html": [
       "<div>\n",
       "<style scoped>\n",
       "    .dataframe tbody tr th:only-of-type {\n",
       "        vertical-align: middle;\n",
       "    }\n",
       "\n",
       "    .dataframe tbody tr th {\n",
       "        vertical-align: top;\n",
       "    }\n",
       "\n",
       "    .dataframe thead th {\n",
       "        text-align: right;\n",
       "    }\n",
       "</style>\n",
       "<table border=\"1\" class=\"dataframe\">\n",
       "  <thead>\n",
       "    <tr style=\"text-align: right;\">\n",
       "      <th></th>\n",
       "      <th>#pattern name</th>\n",
       "      <th>sequence name</th>\n",
       "      <th>start</th>\n",
       "      <th>stop</th>\n",
       "      <th>strand</th>\n",
       "      <th>score</th>\n",
       "      <th>p-value</th>\n",
       "      <th>q-value</th>\n",
       "      <th>matched sequence</th>\n",
       "    </tr>\n",
       "  </thead>\n",
       "  <tbody>\n",
       "    <tr>\n",
       "      <th>0</th>\n",
       "      <td>MA1596.1</td>\n",
       "      <td>AluSx</td>\n",
       "      <td>173</td>\n",
       "      <td>188</td>\n",
       "      <td>-</td>\n",
       "      <td>28.48310</td>\n",
       "      <td>9.800000e-11</td>\n",
       "      <td>3.820000e-08</td>\n",
       "      <td>GCCTCAGCCTCCCGAG</td>\n",
       "    </tr>\n",
       "    <tr>\n",
       "      <th>1</th>\n",
       "      <td>MA1596.1</td>\n",
       "      <td>AluSx</td>\n",
       "      <td>205</td>\n",
       "      <td>220</td>\n",
       "      <td>-</td>\n",
       "      <td>25.44940</td>\n",
       "      <td>2.210000e-09</td>\n",
       "      <td>4.310000e-07</td>\n",
       "      <td>ACCTCCGCCTCCCGGG</td>\n",
       "    </tr>\n",
       "    <tr>\n",
       "      <th>2</th>\n",
       "      <td>MA1596.1</td>\n",
       "      <td>AluSx</td>\n",
       "      <td>38</td>\n",
       "      <td>53</td>\n",
       "      <td>-</td>\n",
       "      <td>22.87640</td>\n",
       "      <td>1.650000e-08</td>\n",
       "      <td>2.150000e-06</td>\n",
       "      <td>GCCTCGGCCTCCCAAA</td>\n",
       "    </tr>\n",
       "    <tr>\n",
       "      <th>3</th>\n",
       "      <td>MA1587.1</td>\n",
       "      <td>AluSx</td>\n",
       "      <td>39</td>\n",
       "      <td>52</td>\n",
       "      <td>-</td>\n",
       "      <td>19.08160</td>\n",
       "      <td>2.300000e-07</td>\n",
       "      <td>1.220000e-04</td>\n",
       "      <td>CCTCGGCCTCCCAA</td>\n",
       "    </tr>\n",
       "    <tr>\n",
       "      <th>4</th>\n",
       "      <td>MA0146.2</td>\n",
       "      <td>AluSx</td>\n",
       "      <td>43</td>\n",
       "      <td>56</td>\n",
       "      <td>-</td>\n",
       "      <td>17.74240</td>\n",
       "      <td>2.780000e-07</td>\n",
       "      <td>1.260000e-04</td>\n",
       "      <td>CCCGCCTCGGCCTC</td>\n",
       "    </tr>\n",
       "    <tr>\n",
       "      <th>...</th>\n",
       "      <td>...</td>\n",
       "      <td>...</td>\n",
       "      <td>...</td>\n",
       "      <td>...</td>\n",
       "      <td>...</td>\n",
       "      <td>...</td>\n",
       "      <td>...</td>\n",
       "      <td>...</td>\n",
       "      <td>...</td>\n",
       "    </tr>\n",
       "    <tr>\n",
       "      <th>123</th>\n",
       "      <td>MA0014.3</td>\n",
       "      <td>AluSx</td>\n",
       "      <td>266</td>\n",
       "      <td>277</td>\n",
       "      <td>+</td>\n",
       "      <td>10.49090</td>\n",
       "      <td>9.290000e-05</td>\n",
       "      <td>2.090000e-02</td>\n",
       "      <td>GAGCGAGACTCC</td>\n",
       "    </tr>\n",
       "    <tr>\n",
       "      <th>124</th>\n",
       "      <td>MA1630.2</td>\n",
       "      <td>AluSx</td>\n",
       "      <td>177</td>\n",
       "      <td>188</td>\n",
       "      <td>+</td>\n",
       "      <td>5.77528</td>\n",
       "      <td>9.710000e-05</td>\n",
       "      <td>2.480000e-02</td>\n",
       "      <td>GGAGGCTGAGGC</td>\n",
       "    </tr>\n",
       "    <tr>\n",
       "      <th>125</th>\n",
       "      <td>MA0682.2</td>\n",
       "      <td>AluSx</td>\n",
       "      <td>25</td>\n",
       "      <td>32</td>\n",
       "      <td>+</td>\n",
       "      <td>11.69390</td>\n",
       "      <td>9.770000e-05</td>\n",
       "      <td>2.980000e-02</td>\n",
       "      <td>GTAATCCC</td>\n",
       "    </tr>\n",
       "    <tr>\n",
       "      <th>126</th>\n",
       "      <td>MA0682.2</td>\n",
       "      <td>AluSx</td>\n",
       "      <td>160</td>\n",
       "      <td>167</td>\n",
       "      <td>+</td>\n",
       "      <td>11.69390</td>\n",
       "      <td>9.770000e-05</td>\n",
       "      <td>2.980000e-02</td>\n",
       "      <td>GTAATCCC</td>\n",
       "    </tr>\n",
       "    <tr>\n",
       "      <th>127</th>\n",
       "      <td>MA0003.4</td>\n",
       "      <td>AluSx</td>\n",
       "      <td>61</td>\n",
       "      <td>74</td>\n",
       "      <td>-</td>\n",
       "      <td>10.21140</td>\n",
       "      <td>9.910000e-05</td>\n",
       "      <td>1.960000e-02</td>\n",
       "      <td>CTGACCTCAGGTGA</td>\n",
       "    </tr>\n",
       "  </tbody>\n",
       "</table>\n",
       "<p>128 rows × 9 columns</p>\n",
       "</div>"
      ],
      "text/plain": [
       "    #pattern name sequence name  start  stop strand     score       p-value  \\\n",
       "0        MA1596.1         AluSx    173   188      -  28.48310  9.800000e-11   \n",
       "1        MA1596.1         AluSx    205   220      -  25.44940  2.210000e-09   \n",
       "2        MA1596.1         AluSx     38    53      -  22.87640  1.650000e-08   \n",
       "3        MA1587.1         AluSx     39    52      -  19.08160  2.300000e-07   \n",
       "4        MA0146.2         AluSx     43    56      -  17.74240  2.780000e-07   \n",
       "..            ...           ...    ...   ...    ...       ...           ...   \n",
       "123      MA0014.3         AluSx    266   277      +  10.49090  9.290000e-05   \n",
       "124      MA1630.2         AluSx    177   188      +   5.77528  9.710000e-05   \n",
       "125      MA0682.2         AluSx     25    32      +  11.69390  9.770000e-05   \n",
       "126      MA0682.2         AluSx    160   167      +  11.69390  9.770000e-05   \n",
       "127      MA0003.4         AluSx     61    74      -  10.21140  9.910000e-05   \n",
       "\n",
       "          q-value  matched sequence  \n",
       "0    3.820000e-08  GCCTCAGCCTCCCGAG  \n",
       "1    4.310000e-07  ACCTCCGCCTCCCGGG  \n",
       "2    2.150000e-06  GCCTCGGCCTCCCAAA  \n",
       "3    1.220000e-04    CCTCGGCCTCCCAA  \n",
       "4    1.260000e-04    CCCGCCTCGGCCTC  \n",
       "..            ...               ...  \n",
       "123  2.090000e-02      GAGCGAGACTCC  \n",
       "124  2.480000e-02      GGAGGCTGAGGC  \n",
       "125  2.980000e-02          GTAATCCC  \n",
       "126  2.980000e-02          GTAATCCC  \n",
       "127  1.960000e-02    CTGACCTCAGGTGA  \n",
       "\n",
       "[128 rows x 9 columns]"
      ]
     },
     "execution_count": 3,
     "metadata": {},
     "output_type": "execute_result"
    }
   ],
   "source": [
    "df = pd.read_csv(results, sep = '\\t').drop_duplicates()\n",
    "df"
   ]
  },
  {
   "cell_type": "code",
   "execution_count": 25,
   "metadata": {
    "ExecuteTime": {
     "end_time": "2024-03-07T06:08:05.255503Z",
     "start_time": "2024-03-07T06:08:05.136271Z"
    },
    "collapsed": true
   },
   "outputs": [],
   "source": [
    "cols = [\"#pattern name\", \"start\", \"stop\", \"strand\", \"q-value\"]\n",
    "plot = df.loc[df[\"score\"]>10, cols].copy().drop_duplicates().reset_index().sort_values(by=\"q-value\")"
   ]
  },
  {
   "cell_type": "code",
   "execution_count": 29,
   "metadata": {
    "ExecuteTime": {
     "end_time": "2024-03-07T06:09:17.355815Z",
     "start_time": "2024-03-07T06:09:17.123267Z"
    }
   },
   "outputs": [
    {
     "data": {
      "image/png": "[encoded data removed]",
      "text/plain": [
       "<Figure size 432x288 with 1 Axes>"
      ]
     },
     "metadata": {
      "needs_background": "light"
     },
     "output_type": "display_data"
    }
   ],
   "source": [
    "PLOT_TOP=35  # plot the top X motifs (based on q-value, which is biased by motif len)\n",
    "v=0\n",
    "for n, row in plot.iterrows():\n",
    "    X= [row[\"start\"], row[\"stop\"]]\n",
    "\n",
    "    if row[\"strand\"] == \"-\":  # put negative strand ranks underneath the position\n",
    "        n = -n\n",
    "        \n",
    "    y=[n,n]\n",
    "\n",
    "    v+=1\n",
    "    plt.plot(X, y)\n",
    "    if v==PLOT_TOP:\n",
    "        plt.axhline(0, ls= \"--\", color = \"grey\")\n",
    "        plt.ylabel(\"rank\")    \n",
    "        plt.xlabel(\"pos\")\n",
    "        break\n",
    "    "
   ]
  },
  {
   "cell_type": "code",
   "execution_count": 12,
   "metadata": {
    "ExecuteTime": {
     "end_time": "2022-07-29T06:04:30.641739Z",
     "start_time": "2022-07-29T06:04:30.369887Z"
    }
   },
   "outputs": [
    {
     "data": {
      "text/plain": [
       "<AxesSubplot:xlabel='score', ylabel='Count'>"
      ]
     },
     "execution_count": 12,
     "metadata": {},
     "output_type": "execute_result"
    },
    {
     "name": "stderr",
     "output_type": "stream",
     "text": [
      "findfont: Font family ['sans-serif'] not found. Falling back to DejaVu Sans.\n"
     ]
    },
    {
     "data": {
      "image/png": "[encoded data removed]",
      "text/plain": [
       "<Figure size 432x288 with 1 Axes>"
      ]
     },
     "metadata": {
      "needs_background": "light"
     },
     "output_type": "display_data"
    }
   ],
   "source": [
    "sns.histplot(df[\"score\"])"
   ]
  },
  {
   "cell_type": "code",
   "execution_count": null,
   "metadata": {
    "collapsed": true
   },
   "outputs": [],
   "source": []
  }
 ],
 "metadata": {
  "kernelspec": {
   "display_name": "Python (sfenv)",
   "language": "python",
   "name": "sfenv"
  },
  "language_info": {
   "codemirror_mode": {
    "name": "ipython",
    "version": 3
   },
   "file_extension": ".py",
   "mimetype": "text/x-python",
   "name": "python",
   "nbconvert_exporter": "python",
   "pygments_lexer": "ipython3",
   "version": "3.6.10"
  },
  "toc": {
   "base_numbering": 1,
   "nav_menu": {},
   "number_sections": true,
   "sideBar": true,
   "skip_h1_title": false,
   "title_cell": "Table of Contents",
   "title_sidebar": "Contents",
   "toc_cell": false,
   "toc_position": {},
   "toc_section_display": true,
   "toc_window_display": false
  }
 },
 "nbformat": 4,
 "nbformat_minor": 5
}
