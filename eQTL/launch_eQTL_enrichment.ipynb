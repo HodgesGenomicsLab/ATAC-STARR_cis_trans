{
 "cells": [
  {
   "cell_type": "code",
   "execution_count": 1,
   "id": "fbb0c7c9",
   "metadata": {
    "ExecuteTime": {
     "end_time": "2022-07-12T02:04:38.876427Z",
     "start_time": "2022-07-12T02:04:37.560714Z"
    }
   },
   "outputs": [],
   "source": [
    "import glob\n",
    "import itertools\n",
    "import numpy as np\n",
    "import os\n",
    "import pandas as pd\n",
    "import pybedtools as pbt\n",
    "import statsmodels\n",
    "import subprocess\n",
    "import sys\n",
    "import time\n",
    "\n",
    "sys.path.append(\"/dors/capra_lab/users/fongsl/tools/py_/\")\n",
    "import config_readwrite as crw\n",
    "import fet\n",
    "import split_filename\n",
    "\n",
    "sys.path.append(\"/dors/capra_lab/users/fongsl/tools/genome/\")\n",
    "import chr_functions"
   ]
  },
  {
   "cell_type": "code",
   "execution_count": 2,
   "id": "745f7ed9",
   "metadata": {
    "ExecuteTime": {
     "end_time": "2022-07-12T02:04:38.889876Z",
     "start_time": "2022-07-12T02:04:38.879153Z"
    }
   },
   "outputs": [],
   "source": [
    "name = \"/data/hodges_lab/ATAC-STARR_B-cells/bin_human-evolution/config\"\n",
    "config, configfile_name = crw.read_config(name)\n",
    "\n",
    "BKGD = config[\"BKGD\"][\"merged_sharedacc_0000\"]  # background to shuffle in\n",
    "REGIONS_PATH = config[\"CIS_TRANS\"][\"regions_dir\"]\n",
    "\n",
    "RE = config[\"EQTL\"][\"results\"]\n",
    "FC_PY = config['VAR_ENRICHMENT'][\"bin\"]  # script to calculate fold-change\n",
    "FC_SLURM = config['VAR_ENRICHMENT'][\"bin_slurm\"]  # script to calculate fold-change"
   ]
  },
  {
   "cell_type": "markdown",
   "id": "be2f2c02",
   "metadata": {},
   "source": [
    "# functions to intersect bed files "
   ]
  },
  {
   "cell_type": "code",
   "execution_count": 3,
   "id": "dd13d329",
   "metadata": {
    "ExecuteTime": {
     "end_time": "2022-07-12T02:04:38.917690Z",
     "start_time": "2022-07-12T02:04:38.892142Z"
    }
   },
   "outputs": [],
   "source": [
    "def calculate_fc(py, bed, gwas, bkgd, outfile):\n",
    "    cmd = f'python {py} {bed} {gwas} {bkgd} -o {outfile} -i 1000 -n 1'\n",
    "    print(\"\\n\\nrunning\", bed)\n",
    "    print(cmd)\n",
    "    subprocess.call(cmd, shell = True)"
   ]
  },
  {
   "cell_type": "code",
   "execution_count": 4,
   "id": "9d5552b5",
   "metadata": {
    "ExecuteTime": {
     "end_time": "2022-07-12T02:04:39.042353Z",
     "start_time": "2022-07-12T02:04:39.035403Z"
    }
   },
   "outputs": [],
   "source": [
    "def calculate_slurm(slurm, bed, gwas, bkgd, outfile, nthreads):\n",
    "    cmd = f'sbatch {slurm} {bed} {gwas} {bkgd} {outfile} {nthreads}'\n",
    "    print(\"\\n\\nrunning slurm\", bed)\n",
    "    subprocess.call(cmd, shell = True)"
   ]
  },
  {
   "cell_type": "markdown",
   "id": "9a951100",
   "metadata": {},
   "source": [
    "# launch eQTL enrichment"
   ]
  },
  {
   "cell_type": "code",
   "execution_count": 5,
   "id": "1283dd51",
   "metadata": {
    "ExecuteTime": {
     "end_time": "2022-07-12T02:04:41.974168Z",
     "start_time": "2022-07-12T02:04:41.969056Z"
    }
   },
   "outputs": [],
   "source": [
    "tissues = [\"ebv\", \"whole_blood\", \"spleen\"]"
   ]
  },
  {
   "cell_type": "markdown",
   "id": "c1381797",
   "metadata": {},
   "source": [
    "## rerun"
   ]
  },
  {
   "cell_type": "code",
   "execution_count": null,
   "id": "30abe333",
   "metadata": {},
   "outputs": [],
   "source": [
    "tissue_act = itertools.product(tissues, test_filenames)\n",
    "rerun =[]\n",
    "for t, tt in tissue_act:\n",
    "    print(t, tt)\n",
    "    if (t == \"spleen\") & tt ==\"MM-active_HH-inactive_trans-only.bed\":\n",
    "        rerun.append((t,tt))"
   ]
  },
  {
   "cell_type": "code",
   "execution_count": null,
   "id": "3a767040",
   "metadata": {},
   "outputs": [],
   "source": [
    "rerun"
   ]
  },
  {
   "cell_type": "code",
   "execution_count": null,
   "id": "06dc31da",
   "metadata": {},
   "outputs": [],
   "source": [
    "for t, f in rerun:\n",
    "    print(t, f)"
   ]
  },
  {
   "cell_type": "code",
   "execution_count": 6,
   "id": "baa95363",
   "metadata": {
    "ExecuteTime": {
     "end_time": "2022-07-12T02:04:48.222979Z",
     "start_time": "2022-07-12T02:04:48.216190Z"
    }
   },
   "outputs": [],
   "source": [
    "## file names to test for enrichment:\n",
    "\n",
    "test_filenames = [\n",
    "                \"cis_only.bed\", # spleen, ebv, whole_blood\n",
    "                \"cis+trans.bed\", # spleen, ebv, whole_blood\n",
    "                \"trans_only.bed\", # spleen only\n",
    "                \"conserved_active.regions.bed\", # spleen only\n",
    "    \n",
    "                \"HH-active_MM-inactive_cis-only.bed\", # spleen only\n",
    "                \"HH-active_MM-inactive_cis+trans.bed\", # spleen only\n",
    "                \"HH-active_MM-inactive_trans-only.bed\", # spleen only\n",
    "    \n",
    "                \"MM-active_HH-inactive_cis-only.bed\", # spleen only\n",
    "                \"MM-active_HH-inactive_cis+trans.bed\", # spleen only\n",
    "                \"MM-active_HH-inactive_trans-only.bed\" # spleen only\n",
    "                ]"
   ]
  },
  {
   "cell_type": "code",
   "execution_count": 7,
   "id": "c6175e80",
   "metadata": {
    "ExecuteTime": {
     "end_time": "2022-07-12T02:05:01.679634Z",
     "start_time": "2022-07-12T02:05:00.443901Z"
    }
   },
   "outputs": [
    {
     "name": "stdout",
     "output_type": "stream",
     "text": [
      "\n",
      "\n",
      "running slurm /data/hodges_lab/ATAC-STARR_B-cells/results/results_human-evolution/regions/cis_only.bed\n",
      "\n",
      "\n",
      "running slurm /data/hodges_lab/ATAC-STARR_B-cells/results/results_human-evolution/regions/cis+trans.bed\n",
      "\n",
      "\n",
      "running slurm /data/hodges_lab/ATAC-STARR_B-cells/results/results_human-evolution/regions/trans_only.bed\n",
      "\n",
      "\n",
      "running slurm /data/hodges_lab/ATAC-STARR_B-cells/results/results_human-evolution/regions/conserved_active.regions.bed\n",
      "\n",
      "\n",
      "running slurm /data/hodges_lab/ATAC-STARR_B-cells/results/results_human-evolution/regions/HH-active_MM-inactive_cis-only.bed\n",
      "\n",
      "\n",
      "running slurm /data/hodges_lab/ATAC-STARR_B-cells/results/results_human-evolution/regions/HH-active_MM-inactive_cis+trans.bed\n",
      "\n",
      "\n",
      "running slurm /data/hodges_lab/ATAC-STARR_B-cells/results/results_human-evolution/regions/HH-active_MM-inactive_trans-only.bed\n",
      "\n",
      "\n",
      "running slurm /data/hodges_lab/ATAC-STARR_B-cells/results/results_human-evolution/regions/MM-active_HH-inactive_cis-only.bed\n",
      "\n",
      "\n",
      "running slurm /data/hodges_lab/ATAC-STARR_B-cells/results/results_human-evolution/regions/MM-active_HH-inactive_cis+trans.bed\n",
      "\n",
      "\n",
      "running slurm /data/hodges_lab/ATAC-STARR_B-cells/results/results_human-evolution/regions/MM-active_HH-inactive_trans-only.bed\n",
      "\n",
      "\n",
      "running slurm /data/hodges_lab/ATAC-STARR_B-cells/results/results_human-evolution/regions/cis_only.bed\n",
      "\n",
      "\n",
      "running slurm /data/hodges_lab/ATAC-STARR_B-cells/results/results_human-evolution/regions/cis+trans.bed\n",
      "\n",
      "\n",
      "running slurm /data/hodges_lab/ATAC-STARR_B-cells/results/results_human-evolution/regions/trans_only.bed\n",
      "\n",
      "\n",
      "running slurm /data/hodges_lab/ATAC-STARR_B-cells/results/results_human-evolution/regions/conserved_active.regions.bed\n",
      "\n",
      "\n",
      "running slurm /data/hodges_lab/ATAC-STARR_B-cells/results/results_human-evolution/regions/HH-active_MM-inactive_cis-only.bed\n",
      "\n",
      "\n",
      "running slurm /data/hodges_lab/ATAC-STARR_B-cells/results/results_human-evolution/regions/HH-active_MM-inactive_cis+trans.bed\n",
      "\n",
      "\n",
      "running slurm /data/hodges_lab/ATAC-STARR_B-cells/results/results_human-evolution/regions/HH-active_MM-inactive_trans-only.bed\n",
      "\n",
      "\n",
      "running slurm /data/hodges_lab/ATAC-STARR_B-cells/results/results_human-evolution/regions/MM-active_HH-inactive_cis-only.bed\n",
      "\n",
      "\n",
      "running slurm /data/hodges_lab/ATAC-STARR_B-cells/results/results_human-evolution/regions/MM-active_HH-inactive_cis+trans.bed\n",
      "\n",
      "\n",
      "running slurm /data/hodges_lab/ATAC-STARR_B-cells/results/results_human-evolution/regions/MM-active_HH-inactive_trans-only.bed\n",
      "\n",
      "\n",
      "running slurm /data/hodges_lab/ATAC-STARR_B-cells/results/results_human-evolution/regions/cis_only.bed\n",
      "\n",
      "\n",
      "running slurm /data/hodges_lab/ATAC-STARR_B-cells/results/results_human-evolution/regions/cis+trans.bed\n",
      "\n",
      "\n",
      "running slurm /data/hodges_lab/ATAC-STARR_B-cells/results/results_human-evolution/regions/trans_only.bed\n",
      "\n",
      "\n",
      "running slurm /data/hodges_lab/ATAC-STARR_B-cells/results/results_human-evolution/regions/conserved_active.regions.bed\n",
      "\n",
      "\n",
      "running slurm /data/hodges_lab/ATAC-STARR_B-cells/results/results_human-evolution/regions/HH-active_MM-inactive_cis-only.bed\n",
      "\n",
      "\n",
      "running slurm /data/hodges_lab/ATAC-STARR_B-cells/results/results_human-evolution/regions/HH-active_MM-inactive_cis+trans.bed\n",
      "\n",
      "\n",
      "running slurm /data/hodges_lab/ATAC-STARR_B-cells/results/results_human-evolution/regions/HH-active_MM-inactive_trans-only.bed\n",
      "\n",
      "\n",
      "running slurm /data/hodges_lab/ATAC-STARR_B-cells/results/results_human-evolution/regions/MM-active_HH-inactive_cis-only.bed\n",
      "\n",
      "\n",
      "running slurm /data/hodges_lab/ATAC-STARR_B-cells/results/results_human-evolution/regions/MM-active_HH-inactive_cis+trans.bed\n",
      "\n",
      "\n",
      "running slurm /data/hodges_lab/ATAC-STARR_B-cells/results/results_human-evolution/regions/MM-active_HH-inactive_trans-only.bed\n"
     ]
    }
   ],
   "source": [
    "val = 0\n",
    "tissue_act = itertools.product(tissues, test_filenames)\n",
    "for t, f in tissue_act:\n",
    "#for t, f in rerun:\n",
    "    \n",
    "    full_bed = os.path.join(REGIONS_PATH, f)  # bedfile to test\n",
    "    \n",
    "    #calculate_fc(FC_PY, full_bed, GWAS, BKGD, OUTFILE)\n",
    "    \n",
    "    N_THREADS = 10\n",
    "\n",
    "    OUTFILE = config[\"EQTL\"][f\"results_{t}\"]\n",
    "    EQTL = config[\"EQTL\"][t]\n",
    "\n",
    "    #calculate_fc(FC_PY, full_bed, EQTL, BKGD, OUTFILE)\n",
    "    \n",
    "    calculate_slurm(FC_SLURM, full_bed, EQTL, BKGD, OUTFILE, N_THREADS)\n",
    "\n",
    "    val +=1\n"
   ]
  },
  {
   "cell_type": "code",
   "execution_count": null,
   "id": "7ca1bc44",
   "metadata": {},
   "outputs": [],
   "source": [
    "f, t = \"MM-active_HH-inactive_trans-only.bed\", \"spleen\"\n",
    "full_bed = os.path.join(REGIONS_PATH, f)  # bedfile to test\n",
    "\n",
    "#calculate_fc(FC_PY, full_bed, GWAS, BKGD, OUTFILE)\n",
    "\n",
    "N_THREADS = 10\n",
    "\n",
    "OUTFILE = config[\"EQTL\"][f\"results_{t}\"]\n",
    "EQTL = config[\"EQTL\"][t]\n",
    "\n",
    "#calculate_fc(FC_PY, full_bed, EQTL, BKGD, OUTFILE)\n",
    "\n",
    "calculate_slurm(FC_SLURM, full_bed, EQTL, BKGD, OUTFILE, N_THREADS)"
   ]
  },
  {
   "cell_type": "code",
   "execution_count": null,
   "id": "1e7bcebc",
   "metadata": {},
   "outputs": [],
   "source": []
  }
 ],
 "metadata": {
  "kernelspec": {
   "display_name": "Python (sfenv)",
   "language": "python",
   "name": "sfenv"
  },
  "language_info": {
   "codemirror_mode": {
    "name": "ipython",
    "version": 3
   },
   "file_extension": ".py",
   "mimetype": "text/x-python",
   "name": "python",
   "nbconvert_exporter": "python",
   "pygments_lexer": "ipython3",
   "version": "3.6.5"
  },
  "toc": {
   "base_numbering": 1,
   "nav_menu": {},
   "number_sections": true,
   "sideBar": true,
   "skip_h1_title": false,
   "title_cell": "Table of Contents",
   "title_sidebar": "Contents",
   "toc_cell": false,
   "toc_position": {},
   "toc_section_display": true,
   "toc_window_display": false
  }
 },
 "nbformat": 4,
 "nbformat_minor": 5
}
