{
 "cells": [
  {
   "cell_type": "code",
   "execution_count": 4,
   "id": "521e21db",
   "metadata": {
    "ExecuteTime": {
     "end_time": "2022-09-23T20:32:59.002062Z",
     "start_time": "2022-09-23T20:32:58.424063Z"
    }
   },
   "outputs": [],
   "source": [
    "# bash kernel\n",
    "#input\n",
    "HH_cis_only=$(read-ini ../config.ini CIS_TRANS hh-active_mm-inactive_cis-only)\n",
    "HH_trans_only=$(read-ini ../config.ini CIS_TRANS hh-active_mm-inactive_trans-only)\n",
    "HH_cis_and_trans=$(read-ini ../config.ini CIS_TRANS hh-active_mm-inactive_cis+trans)\n",
    "cons_active=$(read-ini ../config.ini HH-VS-MM conserved_active)"
   ]
  },
  {
   "cell_type": "code",
   "execution_count": 6,
   "id": "0e82d832",
   "metadata": {
    "ExecuteTime": {
     "end_time": "2022-09-23T20:47:49.424426Z",
     "start_time": "2022-09-23T20:35:57.068815Z"
    },
    "scrolled": true
   },
   "outputs": [
    {
     "name": "stdout",
     "output_type": "stream",
     "text": [
      "\n",
      "The following chromosome names did not match between the bigwig files\n",
      "chromosome\tlength\n",
      "chrUn_KI270424v1\t      2140\n",
      "chrUn_KI270310v1\t      1201\n",
      "chrUn_KI270580v1\t      1553\n",
      "chrUn_KI270420v1\t      2321\n",
      "chrUn_KI270363v1\t      1803\n",
      "chrUn_KI270315v1\t      2276\n",
      "chrUn_KI270382v1\t      4215\n",
      "chrUn_KI270302v1\t      2274\n",
      "chrUn_KI270311v1\t     12399\n",
      "chr14_KI270726v1_random\t     43739\n",
      "chrUn_KI270582v1\t      6504\n",
      "chrUn_KI270305v1\t      1472\n",
      "chr2_KI270715v1_random\t    161471\n",
      "chrUn_KI270316v1\t      1444\n",
      "chrUn_KI270385v1\t       990\n",
      "chrUn_KI270322v1\t     21476\n",
      "chrUn_KI270391v1\t      1484\n",
      "chrUn_KI270362v1\t      3530\n",
      "chrUn_KI270412v1\t      1179\n",
      "chr11_KI270721v1_random\t    100316\n",
      "chrUn_KI270411v1\t      2646\n",
      "chrUn_KI270579v1\t     31033\n",
      "chrUn_GL000226v1\t     15008\n",
      "chrUn_KI270317v1\t     37690\n"
     ]
    }
   ],
   "source": [
    "ENCODE_DIR='/data/hodges_lab/public_data/GM12878/obtained_as_processed_files/from-ENCODE/bigWig'\n",
    "RES_DIR='/data/hodges_lab/ATAC-STARR_B-cells/results/results_human-evolution/Histone_signal'\n",
    "\n",
    "#compute matricies:\n",
    "computeMatrix reference-point -S ${ENCODE_DIR}/GM12878_H3K27ac_ChIP_hg38_ENCFF469WVA.bw \\\n",
    "    ${ENCODE_DIR}/GM12878_H3K4me1_ChIP_hg38_ENCFF564KBE.bw \\\n",
    "    ${ENCODE_DIR}/GM12878_H3K4me3_ChIP_hg38_ENCFF280PUF.bw \\\n",
    "    -R $HH_cis_only $HH_trans_only $HH_cis_and_trans $cons_active \\\n",
    "    -a 2000 -b 2000 --referencePoint center --binSize 10 -p 4 --missingDataAsZero \\\n",
    "    -o ${RES_DIR}/matrix.gz"
   ]
  },
  {
   "cell_type": "code",
   "execution_count": 7,
   "id": "5315de67",
   "metadata": {
    "ExecuteTime": {
     "end_time": "2022-09-23T20:49:24.600122Z",
     "start_time": "2022-09-23T20:47:49.427064Z"
    }
   },
   "outputs": [
    {
     "name": "stdout",
     "output_type": "stream",
     "text": [
      "Samples used for ordering within each group:  [0]\n"
     ]
    }
   ],
   "source": [
    "#plot heatmap from matricies. Rank regions by H3K27ac intensity.\n",
    "plotHeatmap -m ${RES_DIR}/matrix.gz -o ${RES_DIR}/heatmap.pdf \\\n",
    "    --dpi 300 --plotFileFormat pdf --sortUsing mean --sortUsingSamples 1 \\\n",
    "    --heatmapHeight 20 --refPointLabel center \\\n",
    "    --regionsLabel \"cis only\" \"trans only\" \"cis & trans\" \"conserved active\" \\\n",
    "    --samplesLabel \"H3K27ac\" \"H3K4me1\" \"H3K4me3\" \\\n",
    "    --zMin 0 0 0 --zMax 30 10 40 --yMin 0 0 0 --yMax 30 10 40 \\\n",
    "    --colorMap RdPu RdPu RdPu"
   ]
  },
  {
   "cell_type": "code",
   "execution_count": 4,
   "id": "97f0a256",
   "metadata": {
    "ExecuteTime": {
     "end_time": "2022-10-03T19:48:30.381328Z",
     "start_time": "2022-10-03T19:47:54.350239Z"
    }
   },
   "outputs": [],
   "source": [
    "ENCODE_DIR='/data/hodges_lab/public_data/GM12878/obtained_as_processed_files/from-ENCODE/bigWig'\n",
    "RES_DIR='/data/hodges_lab/ATAC-STARR_B-cells/results/results_human-evolution/Histone_signal'\n",
    "\n",
    "#plot heatmap from matricies. Rank regions by H3K27ac intensity.\n",
    "plotProfile -m ${RES_DIR}/matrix.gz -o ${RES_DIR}/profile.pdf \\\n",
    "    --dpi 300 --plotFileFormat pdf --refPointLabel center \\\n",
    "    --regionsLabel \"cis only\" \"trans only\" \"cis & trans\" \"conserved active\" \\\n",
    "    --samplesLabel \"H3K27ac\" \"H3K4me1\" \"H3K4me3\" --yMin 0 0 0 --yMax 30 10 40 \\\n",
    "    --plotHeight 6 --plotWidth 6 --plotType lines"
   ]
  }
 ],
 "metadata": {
  "kernelspec": {
   "display_name": "Bash",
   "language": "bash",
   "name": "bash"
  },
  "language_info": {
   "codemirror_mode": "shell",
   "file_extension": ".sh",
   "mimetype": "text/x-sh",
   "name": "bash"
  },
  "toc": {
   "base_numbering": 1,
   "nav_menu": {},
   "number_sections": true,
   "sideBar": true,
   "skip_h1_title": true,
   "title_cell": "Table of Contents",
   "title_sidebar": "Contents",
   "toc_cell": false,
   "toc_position": {},
   "toc_section_display": true,
   "toc_window_display": true
  },
  "varInspector": {
   "cols": {
    "lenName": 16,
    "lenType": 16,
    "lenVar": 40
   },
   "kernels_config": {
    "python": {
     "delete_cmd_postfix": "",
     "delete_cmd_prefix": "del ",
     "library": "var_list.py",
     "varRefreshCmd": "print(var_dic_list())"
    },
    "r": {
     "delete_cmd_postfix": ") ",
     "delete_cmd_prefix": "rm(",
     "library": "var_list.r",
     "varRefreshCmd": "cat(var_dic_list()) "
    }
   },
   "types_to_exclude": [
    "module",
    "function",
    "builtin_function_or_method",
    "instance",
    "_Feature"
   ],
   "window_display": false
  }
 },
 "nbformat": 4,
 "nbformat_minor": 5
}
