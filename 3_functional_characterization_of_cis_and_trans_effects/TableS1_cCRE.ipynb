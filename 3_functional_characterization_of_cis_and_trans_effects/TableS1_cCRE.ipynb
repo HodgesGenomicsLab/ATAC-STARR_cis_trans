{
 "cells": [
  {
   "cell_type": "code",
   "execution_count": 1,
   "metadata": {
    "ExecuteTime": {
     "end_time": "2024-01-03T19:33:59.398316Z",
     "start_time": "2024-01-03T19:33:57.450771Z"
    }
   },
   "outputs": [
    {
     "data": {
      "text/plain": [
       "('sans-serif', 'Arial', 18)"
      ]
     },
     "execution_count": 1,
     "metadata": {},
     "output_type": "execute_result"
    }
   ],
   "source": [
    "import numpy as np\n",
    "import os, sys\n",
    "import pandas as pd\n",
    "import pybedtools as pbt\n",
    "import matplotlib.pyplot as plt\n",
    "import seaborn as sns\n",
    "sys.path.append(\"/dors/capra_lab/users/fongsl/tools/py_\")\n",
    "import config_readwrite as crw\n",
    "import fet\n",
    "import plot_params as pp\n",
    "pp.fonts()"
   ]
  },
  {
   "cell_type": "markdown",
   "metadata": {},
   "source": [
    "# functions"
   ]
  },
  {
   "cell_type": "code",
   "execution_count": 2,
   "metadata": {
    "ExecuteTime": {
     "end_time": "2024-01-03T19:33:59.404714Z",
     "start_time": "2024-01-03T19:33:59.400786Z"
    },
    "collapsed": true
   },
   "outputs": [],
   "source": [
    "def check_section(config, section):\n",
    "    if config.has_section(section) is False:\n",
    "        config.add_section(section)\n",
    "        \n",
    "    return config\n",
    "\n",
    "def pbtInt(a, b, out):\n",
    "    A, B = pbt.BedTool(a), pbt.BedTool(b)\n",
    "    \n",
    "    C = A.intersect(B, wao=True, output=out)\n",
    "    \n",
    "    return C"
   ]
  },
  {
   "cell_type": "markdown",
   "metadata": {},
   "source": [
    "# config"
   ]
  },
  {
   "cell_type": "code",
   "execution_count": 3,
   "metadata": {
    "ExecuteTime": {
     "end_time": "2024-01-03T19:33:59.452569Z",
     "start_time": "2024-01-03T19:33:59.406947Z"
    },
    "collapsed": true
   },
   "outputs": [],
   "source": [
    "cfn = os.path.join(os.path.dirname(os.getcwd()), \"config\")\n",
    "config, cfn = crw.read_config(cfn)"
   ]
  },
  {
   "cell_type": "markdown",
   "metadata": {},
   "source": [
    "## read"
   ]
  },
  {
   "cell_type": "code",
   "execution_count": 4,
   "metadata": {
    "ExecuteTime": {
     "end_time": "2024-01-03T19:33:59.459154Z",
     "start_time": "2024-01-03T19:33:59.455446Z"
    },
    "collapsed": true
   },
   "outputs": [],
   "source": [
    "# read\n",
    "BED = config[\"CIS_TRANS\"][\"regions\"]\n",
    "ANNOT = config[\"CIS_TRANS\"][\"regions_annotations\"]\n",
    "SHUF=config[\"SHUFFLES\"][\"shuf-all\"]"
   ]
  },
  {
   "cell_type": "markdown",
   "metadata": {},
   "source": [
    "## write"
   ]
  },
  {
   "cell_type": "code",
   "execution_count": 5,
   "metadata": {
    "ExecuteTime": {
     "end_time": "2024-01-03T19:33:59.485440Z",
     "start_time": "2024-01-03T19:33:59.461177Z"
    },
    "collapsed": true
   },
   "outputs": [],
   "source": [
    "section = 'cCRE'\n",
    "config = check_section(config, section)\n",
    "\n",
    "RE = \"/data/hodges_lab/ATAC-STARR_B-cells/results/results_human-evolution/cCRE\"\n",
    "GM = \"/dors/capra_lab/data/encode/encode3_hg38/cCRE/GM12878/GM12878.bed\"\n",
    "out = os.path.join(RE, \"regions.x.GM12878.cCRE.bed\")\n",
    "out_shuf = os.path.join(RE, \"shuf.regions.x.GM12878.cCRE.bed\")\n",
    "\n",
    "\n",
    "config[section][\"GM12878\"] = GM\n",
    "config[section][\"results\"] = RE\n",
    "config[section][\"regions.x.GM12878\"] = out\n",
    "config[section][\"shufregions.x.GM12878\"] = out_shuf\n",
    "\n",
    "out_results = os.path.join(RE, \"regions.x.GM12878.cCRE.enrichments.tsv\")\n",
    "config[section][\"regions.x.GM12878.results\"] = out_results\n",
    "\n",
    "crw.write(config, cfn)"
   ]
  },
  {
   "cell_type": "markdown",
   "metadata": {},
   "source": [
    "# intersection"
   ]
  },
  {
   "cell_type": "code",
   "execution_count": 6,
   "metadata": {
    "ExecuteTime": {
     "end_time": "2024-01-03T19:33:59.520153Z",
     "start_time": "2024-01-03T19:33:59.487182Z"
    },
    "collapsed": true
   },
   "outputs": [],
   "source": [
    "\n",
    "if os.path.exists(out) is False:\n",
    "    C = pbtInt(BED, GM, out)\n",
    "config[section][\"regions.x.GM12878\"] = out\n",
    "\n",
    "\n",
    "if os.path.exists(out_shuf) is False:\n",
    "    C = pbtInt(SHUF, GM, out_shuf)\n",
    "config[section][\"shuf.regions.x.GM12878\"] = out\n",
    "crw.write(config, cfn)"
   ]
  },
  {
   "cell_type": "markdown",
   "metadata": {
    "ExecuteTime": {
     "end_time": "2023-05-04T19:42:37.642973Z",
     "start_time": "2023-05-04T19:42:36.988404Z"
    }
   },
   "source": [
    "# review results"
   ]
  },
  {
   "cell_type": "markdown",
   "metadata": {},
   "source": [
    "## atac-starr"
   ]
  },
  {
   "cell_type": "code",
   "execution_count": 7,
   "metadata": {
    "ExecuteTime": {
     "end_time": "2024-01-03T19:33:59.887423Z",
     "start_time": "2024-01-03T19:33:59.522436Z"
    }
   },
   "outputs": [
    {
     "name": "stdout",
     "output_type": "stream",
     "text": [
      "(21419, 10)\n"
     ]
    },
    {
     "data": {
      "text/html": [
       "<div>\n",
       "<style scoped>\n",
       "    .dataframe tbody tr th:only-of-type {\n",
       "        vertical-align: middle;\n",
       "    }\n",
       "\n",
       "    .dataframe tbody tr th {\n",
       "        vertical-align: top;\n",
       "    }\n",
       "\n",
       "    .dataframe thead th {\n",
       "        text-align: right;\n",
       "    }\n",
       "</style>\n",
       "<table border=\"1\" class=\"dataframe\">\n",
       "  <thead>\n",
       "    <tr style=\"text-align: right;\">\n",
       "      <th></th>\n",
       "      <th>#chr</th>\n",
       "      <th>start</th>\n",
       "      <th>end</th>\n",
       "      <th>region_id</th>\n",
       "      <th>chr_cCRE</th>\n",
       "      <th>startcCRE</th>\n",
       "      <th>endcCRE</th>\n",
       "      <th>cCRE_id</th>\n",
       "      <th>label</th>\n",
       "      <th>len</th>\n",
       "    </tr>\n",
       "  </thead>\n",
       "  <tbody>\n",
       "    <tr>\n",
       "      <th>0</th>\n",
       "      <td>chr1</td>\n",
       "      <td>959034</td>\n",
       "      <td>959154</td>\n",
       "      <td>chr1:959034-959154</td>\n",
       "      <td>chr1</td>\n",
       "      <td>959147</td>\n",
       "      <td>959495</td>\n",
       "      <td>EH38E1310295</td>\n",
       "      <td>PLS</td>\n",
       "      <td>7</td>\n",
       "    </tr>\n",
       "    <tr>\n",
       "      <th>1</th>\n",
       "      <td>chr1</td>\n",
       "      <td>1002089</td>\n",
       "      <td>1002179</td>\n",
       "      <td>chr1:1002089-1002179</td>\n",
       "      <td>chr1</td>\n",
       "      <td>1001796</td>\n",
       "      <td>1002146</td>\n",
       "      <td>EH38E1310350</td>\n",
       "      <td>DNase-H3K4me3,CTCF-bound</td>\n",
       "      <td>57</td>\n",
       "    </tr>\n",
       "    <tr>\n",
       "      <th>2</th>\n",
       "      <td>chr1</td>\n",
       "      <td>1064140</td>\n",
       "      <td>1064260</td>\n",
       "      <td>chr1:1064140-1064260</td>\n",
       "      <td>chr1</td>\n",
       "      <td>1064172</td>\n",
       "      <td>1064505</td>\n",
       "      <td>EH38E1310431</td>\n",
       "      <td>pELS</td>\n",
       "      <td>88</td>\n",
       "    </tr>\n",
       "    <tr>\n",
       "      <th>3</th>\n",
       "      <td>chr1</td>\n",
       "      <td>1214948</td>\n",
       "      <td>1215208</td>\n",
       "      <td>chr1:1214948-1215208</td>\n",
       "      <td>chr1</td>\n",
       "      <td>1214741</td>\n",
       "      <td>1215005</td>\n",
       "      <td>EH38E1310634</td>\n",
       "      <td>Low-DNase</td>\n",
       "      <td>57</td>\n",
       "    </tr>\n",
       "    <tr>\n",
       "      <th>4</th>\n",
       "      <td>chr1</td>\n",
       "      <td>1214948</td>\n",
       "      <td>1215208</td>\n",
       "      <td>chr1:1214948-1215208</td>\n",
       "      <td>chr1</td>\n",
       "      <td>1215146</td>\n",
       "      <td>1215476</td>\n",
       "      <td>EH38E1310635</td>\n",
       "      <td>Low-DNase</td>\n",
       "      <td>62</td>\n",
       "    </tr>\n",
       "  </tbody>\n",
       "</table>\n",
       "</div>"
      ],
      "text/plain": [
       "   #chr    start      end             region_id chr_cCRE  startcCRE  endcCRE  \\\n",
       "0  chr1   959034   959154    chr1:959034-959154     chr1     959147   959495   \n",
       "1  chr1  1002089  1002179  chr1:1002089-1002179     chr1    1001796  1002146   \n",
       "2  chr1  1064140  1064260  chr1:1064140-1064260     chr1    1064172  1064505   \n",
       "3  chr1  1214948  1215208  chr1:1214948-1215208     chr1    1214741  1215005   \n",
       "4  chr1  1214948  1215208  chr1:1214948-1215208     chr1    1215146  1215476   \n",
       "\n",
       "        cCRE_id                     label  len  \n",
       "0  EH38E1310295                       PLS    7  \n",
       "1  EH38E1310350  DNase-H3K4me3,CTCF-bound   57  \n",
       "2  EH38E1310431                      pELS   88  \n",
       "3  EH38E1310634                 Low-DNase   57  \n",
       "4  EH38E1310635                 Low-DNase   62  "
      ]
     },
     "execution_count": 7,
     "metadata": {},
     "output_type": "execute_result"
    }
   ],
   "source": [
    "names = [\"#chr\", \"start\", \"end\", \"region_id\", \"chr_cCRE\", \"startcCRE\", \"endcCRE\", 'cCRE_id', \"label\", \"len\"]\n",
    "df = pd.read_csv(out, sep='\\t', header=None, names=names)\n",
    "print(df.shape)\n",
    "\n",
    "ccre_annots = df[\"label\"].unique()\n",
    "df.head()"
   ]
  },
  {
   "cell_type": "markdown",
   "metadata": {},
   "source": [
    "## shuffles"
   ]
  },
  {
   "cell_type": "code",
   "execution_count": 8,
   "metadata": {
    "ExecuteTime": {
     "end_time": "2024-01-03T19:34:02.887410Z",
     "start_time": "2024-01-03T19:33:59.890630Z"
    }
   },
   "outputs": [
    {
     "name": "stdout",
     "output_type": "stream",
     "text": [
      "(202581, 10)\n"
     ]
    },
    {
     "data": {
      "text/html": [
       "<div>\n",
       "<style scoped>\n",
       "    .dataframe tbody tr th:only-of-type {\n",
       "        vertical-align: middle;\n",
       "    }\n",
       "\n",
       "    .dataframe tbody tr th {\n",
       "        vertical-align: top;\n",
       "    }\n",
       "\n",
       "    .dataframe thead th {\n",
       "        text-align: right;\n",
       "    }\n",
       "</style>\n",
       "<table border=\"1\" class=\"dataframe\">\n",
       "  <thead>\n",
       "    <tr style=\"text-align: right;\">\n",
       "      <th></th>\n",
       "      <th>#chr</th>\n",
       "      <th>start</th>\n",
       "      <th>end</th>\n",
       "      <th>region_id</th>\n",
       "      <th>chr_cCRE</th>\n",
       "      <th>startcCRE</th>\n",
       "      <th>endcCRE</th>\n",
       "      <th>cCRE_id</th>\n",
       "      <th>label</th>\n",
       "      <th>len</th>\n",
       "    </tr>\n",
       "  </thead>\n",
       "  <tbody>\n",
       "    <tr>\n",
       "      <th>0</th>\n",
       "      <td>chr5</td>\n",
       "      <td>115170417</td>\n",
       "      <td>115170537</td>\n",
       "      <td>chr1:959034-959154</td>\n",
       "      <td>chr5</td>\n",
       "      <td>115170323</td>\n",
       "      <td>115170528</td>\n",
       "      <td>EH38E2400346</td>\n",
       "      <td>Low-DNase</td>\n",
       "      <td>111</td>\n",
       "    </tr>\n",
       "    <tr>\n",
       "      <th>1</th>\n",
       "      <td>chr4</td>\n",
       "      <td>37686249</td>\n",
       "      <td>37686339</td>\n",
       "      <td>chr1:1002089-1002179</td>\n",
       "      <td>chr4</td>\n",
       "      <td>37686063</td>\n",
       "      <td>37686379</td>\n",
       "      <td>EH38E2290604</td>\n",
       "      <td>PLS</td>\n",
       "      <td>90</td>\n",
       "    </tr>\n",
       "    <tr>\n",
       "      <th>2</th>\n",
       "      <td>chr20</td>\n",
       "      <td>32762661</td>\n",
       "      <td>32762781</td>\n",
       "      <td>chr1:1064140-1064260</td>\n",
       "      <td>.</td>\n",
       "      <td>-1</td>\n",
       "      <td>-1</td>\n",
       "      <td>.</td>\n",
       "      <td>.</td>\n",
       "      <td>0</td>\n",
       "    </tr>\n",
       "    <tr>\n",
       "      <th>3</th>\n",
       "      <td>chr7</td>\n",
       "      <td>98133420</td>\n",
       "      <td>98133680</td>\n",
       "      <td>chr1:1214948-1215208</td>\n",
       "      <td>chr7</td>\n",
       "      <td>98133188</td>\n",
       "      <td>98133538</td>\n",
       "      <td>EH38E2574059</td>\n",
       "      <td>Low-DNase</td>\n",
       "      <td>118</td>\n",
       "    </tr>\n",
       "    <tr>\n",
       "      <th>4</th>\n",
       "      <td>chr7</td>\n",
       "      <td>98133420</td>\n",
       "      <td>98133680</td>\n",
       "      <td>chr1:1214948-1215208</td>\n",
       "      <td>chr7</td>\n",
       "      <td>98133670</td>\n",
       "      <td>98133981</td>\n",
       "      <td>EH38E2574060</td>\n",
       "      <td>Low-DNase</td>\n",
       "      <td>10</td>\n",
       "    </tr>\n",
       "  </tbody>\n",
       "</table>\n",
       "</div>"
      ],
      "text/plain": [
       "    #chr      start        end             region_id chr_cCRE  startcCRE  \\\n",
       "0   chr5  115170417  115170537    chr1:959034-959154     chr5  115170323   \n",
       "1   chr4   37686249   37686339  chr1:1002089-1002179     chr4   37686063   \n",
       "2  chr20   32762661   32762781  chr1:1064140-1064260        .         -1   \n",
       "3   chr7   98133420   98133680  chr1:1214948-1215208     chr7   98133188   \n",
       "4   chr7   98133420   98133680  chr1:1214948-1215208     chr7   98133670   \n",
       "\n",
       "     endcCRE       cCRE_id      label  len  \n",
       "0  115170528  EH38E2400346  Low-DNase  111  \n",
       "1   37686379  EH38E2290604        PLS   90  \n",
       "2         -1             .          .    0  \n",
       "3   98133538  EH38E2574059  Low-DNase  118  \n",
       "4   98133981  EH38E2574060  Low-DNase   10  "
      ]
     },
     "execution_count": 8,
     "metadata": {},
     "output_type": "execute_result"
    }
   ],
   "source": [
    "shuf = pd.read_csv(out_shuf, sep='\\t', header=None, names=names)\n",
    "print(shuf.shape)\n",
    "shuf.head()"
   ]
  },
  {
   "cell_type": "markdown",
   "metadata": {},
   "source": [
    "## annots"
   ]
  },
  {
   "cell_type": "code",
   "execution_count": 9,
   "metadata": {
    "ExecuteTime": {
     "end_time": "2024-01-03T19:34:03.263258Z",
     "start_time": "2024-01-03T19:34:02.889523Z"
    }
   },
   "outputs": [
    {
     "data": {
      "text/html": [
       "<div>\n",
       "<style scoped>\n",
       "    .dataframe tbody tr th:only-of-type {\n",
       "        vertical-align: middle;\n",
       "    }\n",
       "\n",
       "    .dataframe tbody tr th {\n",
       "        vertical-align: top;\n",
       "    }\n",
       "\n",
       "    .dataframe thead th {\n",
       "        text-align: right;\n",
       "    }\n",
       "</style>\n",
       "<table border=\"1\" class=\"dataframe\">\n",
       "  <thead>\n",
       "    <tr style=\"text-align: right;\">\n",
       "      <th></th>\n",
       "      <th>#chr</th>\n",
       "      <th>start</th>\n",
       "      <th>end</th>\n",
       "      <th>region_id</th>\n",
       "      <th>conserved_active.regions</th>\n",
       "      <th>cis</th>\n",
       "      <th>trans</th>\n",
       "      <th>trans_only</th>\n",
       "      <th>cis_only</th>\n",
       "      <th>cis+trans</th>\n",
       "      <th>...</th>\n",
       "      <th>HH-active_MM-inactive_MH-inactive_cis</th>\n",
       "      <th>HH-active_MM-inactive_HM-inactive_trans</th>\n",
       "      <th>HH-active_MM-inactive_cis-only</th>\n",
       "      <th>HH-active_MM-inactive_trans-only</th>\n",
       "      <th>HH-active_MM-inactive_cis+trans</th>\n",
       "      <th>MM-active_HH-inactive_HM-inactive_cis</th>\n",
       "      <th>MM-active_HH-inactive_MH-inactive_trans</th>\n",
       "      <th>MM-active_HH-inactive_cis-only</th>\n",
       "      <th>MM-active_HH-inactive_trans-only</th>\n",
       "      <th>MM-active_HH-inactive_cis+trans</th>\n",
       "    </tr>\n",
       "  </thead>\n",
       "  <tbody>\n",
       "    <tr>\n",
       "      <th>0</th>\n",
       "      <td>chr1</td>\n",
       "      <td>959034</td>\n",
       "      <td>959154</td>\n",
       "      <td>chr1:959034-959154</td>\n",
       "      <td>0.0</td>\n",
       "      <td>1.0</td>\n",
       "      <td>1.0</td>\n",
       "      <td>0</td>\n",
       "      <td>0</td>\n",
       "      <td>1</td>\n",
       "      <td>...</td>\n",
       "      <td>1.0</td>\n",
       "      <td>1.0</td>\n",
       "      <td>0.0</td>\n",
       "      <td>0.0</td>\n",
       "      <td>1.0</td>\n",
       "      <td>0.0</td>\n",
       "      <td>0.0</td>\n",
       "      <td>0.0</td>\n",
       "      <td>0.0</td>\n",
       "      <td>0.0</td>\n",
       "    </tr>\n",
       "    <tr>\n",
       "      <th>1</th>\n",
       "      <td>chr1</td>\n",
       "      <td>1002089</td>\n",
       "      <td>1002179</td>\n",
       "      <td>chr1:1002089-1002179</td>\n",
       "      <td>0.0</td>\n",
       "      <td>1.0</td>\n",
       "      <td>1.0</td>\n",
       "      <td>0</td>\n",
       "      <td>0</td>\n",
       "      <td>1</td>\n",
       "      <td>...</td>\n",
       "      <td>1.0</td>\n",
       "      <td>1.0</td>\n",
       "      <td>0.0</td>\n",
       "      <td>0.0</td>\n",
       "      <td>1.0</td>\n",
       "      <td>0.0</td>\n",
       "      <td>0.0</td>\n",
       "      <td>0.0</td>\n",
       "      <td>0.0</td>\n",
       "      <td>0.0</td>\n",
       "    </tr>\n",
       "    <tr>\n",
       "      <th>2</th>\n",
       "      <td>chr1</td>\n",
       "      <td>1064140</td>\n",
       "      <td>1064260</td>\n",
       "      <td>chr1:1064140-1064260</td>\n",
       "      <td>0.0</td>\n",
       "      <td>1.0</td>\n",
       "      <td>0.0</td>\n",
       "      <td>0</td>\n",
       "      <td>1</td>\n",
       "      <td>0</td>\n",
       "      <td>...</td>\n",
       "      <td>1.0</td>\n",
       "      <td>0.0</td>\n",
       "      <td>1.0</td>\n",
       "      <td>0.0</td>\n",
       "      <td>0.0</td>\n",
       "      <td>0.0</td>\n",
       "      <td>0.0</td>\n",
       "      <td>0.0</td>\n",
       "      <td>0.0</td>\n",
       "      <td>0.0</td>\n",
       "    </tr>\n",
       "    <tr>\n",
       "      <th>3</th>\n",
       "      <td>chr1</td>\n",
       "      <td>1214948</td>\n",
       "      <td>1215208</td>\n",
       "      <td>chr1:1214948-1215208</td>\n",
       "      <td>0.0</td>\n",
       "      <td>1.0</td>\n",
       "      <td>1.0</td>\n",
       "      <td>0</td>\n",
       "      <td>0</td>\n",
       "      <td>1</td>\n",
       "      <td>...</td>\n",
       "      <td>0.0</td>\n",
       "      <td>0.0</td>\n",
       "      <td>0.0</td>\n",
       "      <td>0.0</td>\n",
       "      <td>0.0</td>\n",
       "      <td>1.0</td>\n",
       "      <td>1.0</td>\n",
       "      <td>0.0</td>\n",
       "      <td>0.0</td>\n",
       "      <td>1.0</td>\n",
       "    </tr>\n",
       "    <tr>\n",
       "      <th>4</th>\n",
       "      <td>chr1</td>\n",
       "      <td>1215328</td>\n",
       "      <td>1215508</td>\n",
       "      <td>chr1:1215328-1215508</td>\n",
       "      <td>0.0</td>\n",
       "      <td>1.0</td>\n",
       "      <td>0.0</td>\n",
       "      <td>0</td>\n",
       "      <td>1</td>\n",
       "      <td>0</td>\n",
       "      <td>...</td>\n",
       "      <td>0.0</td>\n",
       "      <td>0.0</td>\n",
       "      <td>0.0</td>\n",
       "      <td>0.0</td>\n",
       "      <td>0.0</td>\n",
       "      <td>1.0</td>\n",
       "      <td>0.0</td>\n",
       "      <td>1.0</td>\n",
       "      <td>0.0</td>\n",
       "      <td>0.0</td>\n",
       "    </tr>\n",
       "  </tbody>\n",
       "</table>\n",
       "<p>5 rows × 26 columns</p>\n",
       "</div>"
      ],
      "text/plain": [
       "   #chr    start      end             region_id  conserved_active.regions  \\\n",
       "0  chr1   959034   959154    chr1:959034-959154                       0.0   \n",
       "1  chr1  1002089  1002179  chr1:1002089-1002179                       0.0   \n",
       "2  chr1  1064140  1064260  chr1:1064140-1064260                       0.0   \n",
       "3  chr1  1214948  1215208  chr1:1214948-1215208                       0.0   \n",
       "4  chr1  1215328  1215508  chr1:1215328-1215508                       0.0   \n",
       "\n",
       "   cis  trans  trans_only  cis_only  cis+trans  ...  \\\n",
       "0  1.0    1.0           0         0          1  ...   \n",
       "1  1.0    1.0           0         0          1  ...   \n",
       "2  1.0    0.0           0         1          0  ...   \n",
       "3  1.0    1.0           0         0          1  ...   \n",
       "4  1.0    0.0           0         1          0  ...   \n",
       "\n",
       "   HH-active_MM-inactive_MH-inactive_cis  \\\n",
       "0                                    1.0   \n",
       "1                                    1.0   \n",
       "2                                    1.0   \n",
       "3                                    0.0   \n",
       "4                                    0.0   \n",
       "\n",
       "   HH-active_MM-inactive_HM-inactive_trans  HH-active_MM-inactive_cis-only  \\\n",
       "0                                      1.0                             0.0   \n",
       "1                                      1.0                             0.0   \n",
       "2                                      0.0                             1.0   \n",
       "3                                      0.0                             0.0   \n",
       "4                                      0.0                             0.0   \n",
       "\n",
       "   HH-active_MM-inactive_trans-only  HH-active_MM-inactive_cis+trans  \\\n",
       "0                               0.0                              1.0   \n",
       "1                               0.0                              1.0   \n",
       "2                               0.0                              0.0   \n",
       "3                               0.0                              0.0   \n",
       "4                               0.0                              0.0   \n",
       "\n",
       "   MM-active_HH-inactive_HM-inactive_cis  \\\n",
       "0                                    0.0   \n",
       "1                                    0.0   \n",
       "2                                    0.0   \n",
       "3                                    1.0   \n",
       "4                                    1.0   \n",
       "\n",
       "   MM-active_HH-inactive_MH-inactive_trans  MM-active_HH-inactive_cis-only  \\\n",
       "0                                      0.0                             0.0   \n",
       "1                                      0.0                             0.0   \n",
       "2                                      0.0                             0.0   \n",
       "3                                      1.0                             0.0   \n",
       "4                                      0.0                             1.0   \n",
       "\n",
       "   MM-active_HH-inactive_trans-only  MM-active_HH-inactive_cis+trans  \n",
       "0                               0.0                              0.0  \n",
       "1                               0.0                              0.0  \n",
       "2                               0.0                              0.0  \n",
       "3                               0.0                              1.0  \n",
       "4                               0.0                              0.0  \n",
       "\n",
       "[5 rows x 26 columns]"
      ]
     },
     "execution_count": 9,
     "metadata": {},
     "output_type": "execute_result"
    }
   ],
   "source": [
    "annot = pd.read_csv(ANNOT, sep='\\t')\n",
    "annot.head()"
   ]
  },
  {
   "cell_type": "code",
   "execution_count": 10,
   "metadata": {
    "ExecuteTime": {
     "end_time": "2024-01-03T19:34:03.275584Z",
     "start_time": "2024-01-03T19:34:03.265275Z"
    }
   },
   "outputs": [
    {
     "data": {
      "text/plain": [
       "'PLS'"
      ]
     },
     "execution_count": 10,
     "metadata": {},
     "output_type": "execute_result"
    }
   ],
   "source": [
    "col = 'HH_active'\n",
    "\n",
    "pos = annot.loc[annot[col]==1, \"region_id\"]\n",
    "a  = ccre_annots[0]\n",
    "a\n",
    "#for a in ccre_annots:"
   ]
  },
  {
   "cell_type": "markdown",
   "metadata": {},
   "source": [
    "                                cCRE annot+     cCRE annot- \n",
    "                    HH_active    A               B\n",
    "    matched_shuffle HH_active    C               D"
   ]
  },
  {
   "cell_type": "code",
   "execution_count": 11,
   "metadata": {
    "ExecuteTime": {
     "end_time": "2024-01-03T19:34:10.729643Z",
     "start_time": "2024-01-03T19:34:03.277584Z"
    }
   },
   "outputs": [
    {
     "name": "stdout",
     "output_type": "stream",
     "text": [
      "[[3200, 9711], [9377, 72110]]\n",
      "regions_x_shuf_HH_active.['PLS'] [[3200, 9711], [9377, 72110]] 2.534064143410776 1.65675e-319\n",
      "[[86, 12825], [1736, 79751]]\n",
      "regions_x_shuf_HH_active.['DNase-H3K4me3,CTCF-bound'] [[86, 12825], [1736, 79751]] 0.3080544551342514 6.185859243750712e-37\n",
      "[[2841, 10070], [11506, 69981]]\n",
      "regions_x_shuf_HH_active.['pELS'] [[2841, 10070], [11506, 69981]] 1.7159219808636605 3.387792342849383e-109\n",
      "[[1421, 11490], [22827, 58660]]\n",
      "regions_x_shuf_HH_active.['Low-DNase'] [[1421, 11490], [22827, 58660]] 0.317809788333735 0.0\n",
      "[[859, 12052], [3442, 78045]]\n",
      "regions_x_shuf_HH_active.['PLS,CTCF-bound'] [[859, 12052], [3442, 78045]] 1.6161001098667347 2.0107006477318057e-31\n",
      "[[698, 12213], [7326, 74161]]\n",
      "regions_x_shuf_HH_active.['.'] [[698, 12213], [7326, 74161]] 0.5785511064312342 2.0892857032989282e-46\n",
      "[[2279, 10632], [8435, 73052]]\n",
      "regions_x_shuf_HH_active.['dELS'] [[2279, 10632], [8435, 73052]] 1.8564206076387262 8.604731874997554e-117\n",
      "[[201, 12710], [2648, 78839]]\n",
      "regions_x_shuf_HH_active.['DNase-only'] [[201, 12710], [2648, 78839]] 0.4708403058229004 1.1380638134174677e-29\n",
      "[[554, 12357], [2869, 78618]]\n",
      "regions_x_shuf_HH_active.['pELS,CTCF-bound'] [[554, 12357], [2869, 78618]] 1.2285367751024314 2.0518078631271534e-05\n",
      "[[290, 12621], [7275, 74212]]\n",
      "regions_x_shuf_HH_active.['CTCF-only,CTCF-bound'] [[290, 12621], [7275, 74212]] 0.2343933949608341 1.8111496302452608e-194\n",
      "[[368, 12543], [1723, 79764]]\n",
      "regions_x_shuf_HH_active.['dELS,CTCF-bound'] [[368, 12543], [1723, 79764]] 1.3582135029497369 3.5015943218498264e-07\n",
      "[[114, 12797], [2323, 79164]]\n",
      "regions_x_shuf_HH_active.['DNase-H3K4me3'] [[114, 12797], [2323, 79164]] 0.30358142955575274 1.3254146377109418e-49\n",
      "[[10101, 2810], [37352, 44135]]\n",
      "regions_x_shuf_HH_active.['PLS', 'PLS,CTCF-bound', 'dELS', 'dELS,CTCF-bound', 'pELS', 'pELS,CTCF-bound'] [[10101, 2810], [37352, 44135]] 4.247440670234278 0.0\n",
      "[[4059, 8852], [12819, 68668]]\n",
      "regions_x_shuf_HH_active.['PLS', 'PLS,CTCF-bound'] [[4059, 8852], [12819, 68668]] 2.4562801411018373 0.0\n",
      "[[2647, 10264], [10158, 71329]]\n",
      "regions_x_shuf_HH_active.['dELS', 'dELS,CTCF-bound'] [[2647, 10264], [10158, 71329]] 1.8109031530193942 9.781433762453096e-123\n",
      "[[3395, 9516], [14375, 67112]]\n",
      "regions_x_shuf_HH_active.['pELS', 'pELS,CTCF-bound'] [[3395, 9516], [14375, 67112]] 1.6656266973701044 1.727100970819915e-112\n",
      "[[2986, 10028], [9265, 71036]]\n",
      "regions_x_shuf_MM_active.['PLS'] [[2986, 10028], [9265, 71036]] 2.2830138859977813 3.151883392900213e-244\n",
      "[[74, 12940], [1631, 78670]]\n",
      "regions_x_shuf_MM_active.['DNase-H3K4me3,CTCF-bound'] [[74, 12940], [1631, 78670]] 0.27583707096944154 1.1371084602748563e-39\n",
      "[[3096, 9918], [11208, 69093]]\n",
      "regions_x_shuf_MM_active.['pELS'] [[3096, 9918], [11208, 69093]] 1.9243442912827369 1.0998904901529094e-165\n",
      "[[1911, 11103], [22500, 57801]]\n",
      "regions_x_shuf_MM_active.['Low-DNase'] [[1911, 11103], [22500, 57801]] 0.44215361613978205 2.955107780986522e-250\n",
      "[[655, 12359], [3399, 76902]]\n",
      "regions_x_shuf_MM_active.['PLS,CTCF-bound'] [[655, 12359], [3399, 76902]] 1.1990697253903109 4.48096999624968e-05\n",
      "[[859, 12155], [7704, 72597]]\n",
      "regions_x_shuf_MM_active.['.'] [[859, 12155], [7704, 72597]] 0.665948432179878 4.2000034171507254e-30\n",
      "[[2185, 10829], [8247, 72054]]\n",
      "regions_x_shuf_MM_active.['dELS'] [[2185, 10829], [8247, 72054]] 1.7628898944640956 3.943861291283976e-96\n",
      "[[259, 12755], [2508, 77793]]\n",
      "regions_x_shuf_MM_active.['DNase-only'] [[259, 12755], [2508, 77793]] 0.629842973672019 1.3343718252093708e-13\n",
      "[[428, 12586], [2878, 77423]]\n",
      "regions_x_shuf_MM_active.['pELS,CTCF-bound'] [[428, 12586], [2878, 77423]] 0.9148191505679286 0.09165250476618098\n",
      "[[205, 12809], [7143, 73158]]\n",
      "regions_x_shuf_MM_active.['CTCF-only,CTCF-bound'] [[205, 12809], [7143, 73158]] 0.16391541948222632 1.284888383951364e-250\n",
      "[[248, 12766], [1660, 78641]]\n",
      "regions_x_shuf_MM_active.['dELS,CTCF-bound'] [[248, 12766], [1660, 78641]] 0.9203177113907612 0.24251248665984937\n",
      "[[108, 12906], [2158, 78143]]\n",
      "regions_x_shuf_MM_active.['DNase-H3K4me3'] [[108, 12906], [2158, 78143]] 0.3030196098200333 2.973336581549113e-47\n",
      "[[9598, 3416], [36657, 43644]]\n",
      "regions_x_shuf_MM_active.['PLS', 'PLS,CTCF-bound', 'dELS', 'dELS,CTCF-bound', 'pELS', 'pELS,CTCF-bound'] [[9598, 3416], [36657, 43644]] 3.3452648800300064 0.0\n",
      "[[3641, 9373], [12664, 67637]]\n",
      "regions_x_shuf_MM_active.['PLS', 'PLS,CTCF-bound'] [[3641, 9373], [12664, 67637]] 2.074700905660464 1.7424233276499864e-228\n",
      "[[2433, 10581], [9907, 70394]]\n",
      "regions_x_shuf_MM_active.['dELS', 'dELS,CTCF-bound'] [[2433, 10581], [9907, 70394]] 1.6338375585888942 8.118575118843577e-81\n",
      "[[3524, 9490], [14086, 66215]]\n",
      "regions_x_shuf_MM_active.['pELS', 'pELS,CTCF-bound'] [[3524, 9490], [14086, 66215]] 1.7455744907056712 8.317244965397838e-136\n",
      "[[1557, 2949], [18642, 143146]]\n",
      "regions_x_shuf_conserved_active.regions.['PLS'] [[1557, 2949], [18642, 143146]] 4.054156908185861 0.0\n",
      "[[10, 4496], [3367, 158421]]\n",
      "regions_x_shuf_conserved_active.regions.['DNase-H3K4me3,CTCF-bound'] [[10, 4496], [3367, 158421]] 0.1046509876581051 9.331383726275995e-28\n",
      "[[1085, 3421], [22714, 139074]]\n",
      "regions_x_shuf_conserved_active.regions.['pELS'] [[1085, 3421], [22714, 139074]] 1.9419095092369958 1.6101319729990446e-69\n",
      "[[335, 4171], [45327, 116461]]\n",
      "regions_x_shuf_conserved_active.regions.['Low-DNase'] [[335, 4171], [45327, 116461]] 0.20636125298443342 4.912758298727167e-259\n",
      "[[390, 4116], [6841, 154947]]\n",
      "regions_x_shuf_conserved_active.regions.['PLS,CTCF-bound'] [[390, 4116], [6841, 154947]] 2.146114172693113 2.009444399530216e-37\n",
      "[[67, 4439], [15030, 146758]]\n",
      "regions_x_shuf_conserved_active.regions.['.'] [[67, 4439], [15030, 146758]] 0.14737793317772355 1.3245548971215162e-105\n",
      "[[715, 3791], [16682, 145106]]\n",
      "regions_x_shuf_conserved_active.regions.['dELS'] [[715, 3791], [16682, 145106]] 1.6405501504693234 1.5393294277065881e-29\n",
      "[[41, 4465], [5156, 156632]]\n",
      "regions_x_shuf_conserved_active.regions.['DNase-only'] [[41, 4465], [5156, 156632]] 0.2789523203052446 8.035549055307179e-24\n",
      "[[160, 4346], [5747, 156041]]\n",
      "regions_x_shuf_conserved_active.regions.['pELS,CTCF-bound'] [[160, 4346], [5747, 156041]] 0.9996035467313185 1.0\n",
      "[[33, 4473], [14418, 147370]]\n",
      "regions_x_shuf_conserved_active.regions.['CTCF-only,CTCF-bound'] [[33, 4473], [14418, 147370]] 0.0754082919861612 1.602167216051722e-130\n",
      "[[92, 4414], [3383, 158405]]\n",
      "regions_x_shuf_conserved_active.regions.['dELS,CTCF-bound'] [[92, 4414], [3383, 158405]] 0.9759383553873743 0.8741228648314363\n",
      "[[21, 4485], [4481, 157307]]\n",
      "regions_x_shuf_conserved_active.regions.['DNase-H3K4me3'] [[21, 4485], [4481, 157307]] 0.1643727996094995 2.908277864422301e-30\n",
      "[[3999, 507], [74009, 87779]]\n",
      "regions_x_shuf_conserved_active.regions.['PLS', 'PLS,CTCF-bound', 'dELS', 'dELS,CTCF-bound', 'pELS', 'pELS,CTCF-bound'] [[3999, 507], [74009, 87779]] 9.35512376913059 0.0\n",
      "[[1947, 2559], [25483, 136305]]\n",
      "regions_x_shuf_conserved_active.regions.['PLS', 'PLS,CTCF-bound'] [[1947, 2559], [25483, 136305]] 4.06964848275514 0.0\n",
      "[[807, 3699], [20065, 141723]]\n",
      "regions_x_shuf_conserved_active.regions.['dELS', 'dELS,CTCF-bound'] [[807, 3699], [20065, 141723]] 1.5409564899478156 1.358278403760985e-25\n",
      "[[1245, 3261], [28461, 133327]]\n",
      "regions_x_shuf_conserved_active.regions.['pELS', 'pELS,CTCF-bound'] [[1245, 3261], [28461, 133327]] 1.7884899515652837 2.4202638963612485e-60\n"
     ]
    }
   ],
   "source": [
    "# add groups to enrichment analysis\n",
    "\n",
    "ccre_annots=list(ccre_annots)\n",
    "\n",
    "ccre_annots.append([\n",
    "                'PLS',\n",
    "                'PLS,CTCF-bound',\n",
    "                'dELS',\n",
    "                'dELS,CTCF-bound',\n",
    "                'pELS',\n",
    "                'pELS,CTCF-bound'\n",
    "                ])\n",
    "\n",
    "ccre_annots.append([\n",
    "                'PLS',\n",
    "                'PLS,CTCF-bound'\n",
    "                \n",
    "                ])\n",
    "ccre_annots.append([\n",
    "                'dELS',\n",
    "                'dELS,CTCF-bound'\n",
    "                ])\n",
    "\n",
    "ccre_annots.append([\n",
    "               'pELS',\n",
    "                'pELS,CTCF-bound'\n",
    "                ])\n",
    "\n",
    "\n",
    "collection={}\n",
    "cols = ['HH_active', \"MM_active\", \"conserved_active.regions\"]\n",
    "for col in cols:\n",
    "    pos = annot.loc[annot[col]==1, \"region_id\"]\n",
    "    for a in ccre_annots:\n",
    "        if type(a) is str:\n",
    "            a = a.split()\n",
    "\n",
    "        # get dataset and matched shuffle ids\n",
    "        test = df.loc[df[\"region_id\"].isin(pos)]\n",
    "        test_shuf = shuf.loc[~shuf[\"region_id\"].isin(pos)]\n",
    "\n",
    "        # within set, how many elements have annotation, or don't.\n",
    "        in_annot = test.loc[test[\"label\"].isin(a)].shape[0]\n",
    "        out_annot = test.loc[~test[\"label\"].isin(a)].shape[0]\n",
    "\n",
    "        # and in the shuffles?\n",
    "        inshuf_annot = test_shuf.loc[test_shuf[\"label\"].isin(a)].shape[0]\n",
    "        outshuf_annot = test_shuf.loc[~test_shuf[\"label\"].isin(a)].shape[0]\n",
    "\n",
    "        result = fet.get_2x2(in_annot, out_annot, inshuf_annot,outshuf_annot, f\"regions_x_shuf_{col}.{a}\")\n",
    "        result[\"col\"], result[\"cCRE_annot\"] = col, \"_\".join(a)\n",
    "        key=\"_\".join(a)+\".\"+col\n",
    "\n",
    "        collection[key] = result"
   ]
  },
  {
   "cell_type": "markdown",
   "metadata": {},
   "source": [
    "## FDR correction "
   ]
  },
  {
   "cell_type": "code",
   "execution_count": 12,
   "metadata": {
    "ExecuteTime": {
     "end_time": "2024-01-03T19:34:10.859104Z",
     "start_time": "2024-01-03T19:34:10.732081Z"
    }
   },
   "outputs": [
    {
     "name": "stderr",
     "output_type": "stream",
     "text": [
      "/home/fongsl/.local/lib/python3.6/site-packages/pandas/core/series.py:726: RuntimeWarning: divide by zero encountered in log10\n",
      "  result = getattr(ufunc, method)(*inputs, **kwargs)\n"
     ]
    }
   ],
   "source": [
    "fdr_res = fet.fdr_correction(collection)"
   ]
  },
  {
   "cell_type": "markdown",
   "metadata": {},
   "source": [
    "## fraction of annotations "
   ]
  },
  {
   "cell_type": "code",
   "execution_count": 13,
   "metadata": {
    "ExecuteTime": {
     "end_time": "2024-01-03T19:34:10.877030Z",
     "start_time": "2024-01-03T19:34:10.862082Z"
    },
    "collapsed": true
   },
   "outputs": [],
   "source": [
    "fdr_res[\"frac\"] = fdr_res[\"a\"]/(fdr_res[\"a\"]+fdr_res[\"b\"])\n",
    "fdr_res[\"frac_shuf\"] = fdr_res[\"c\"]/(fdr_res[\"c\"]+fdr_res[\"d\"])\n",
    "fdr_res.loc[fdr_res[\"cCRE_annot\"]==\".\", \"cCRE_annot\"] = 'no_overlap'\n",
    "fdr_res[\"FDR_P2\"]= fdr_res[\"FDR_P\"].apply(lambda x: \"{:.1E}\".format(x))"
   ]
  },
  {
   "cell_type": "markdown",
   "metadata": {},
   "source": [
    "## WRITE results"
   ]
  },
  {
   "cell_type": "code",
   "execution_count": 14,
   "metadata": {
    "ExecuteTime": {
     "end_time": "2024-01-03T19:34:10.937699Z",
     "start_time": "2024-01-03T19:34:10.880224Z"
    },
    "collapsed": true
   },
   "outputs": [],
   "source": [
    "col_order = [\n",
    "            'comparison',\n",
    "            'col',\n",
    "            'cCRE_annot',\n",
    "            'frac',\n",
    "            'OR',\n",
    "            'FDR_P',\n",
    "            'a',\n",
    "            'b',\n",
    "            'c',\n",
    "            'd',\n",
    "            'P',\n",
    "            'ci_lower',\n",
    "            'ci_lower_diff',\n",
    "            'ci_upper',\n",
    "            'ci_upper_diff',\n",
    "            'OR_log2',\n",
    "            'ci_lower_log2',\n",
    "            'ci_upper_log2',\n",
    "            'reject_null',\n",
    "            'asterisks',\n",
    "            '-log10p',\n",
    "            'frac_shuf',\n",
    "            'FDR_P2'\n",
    "]\n",
    "fdr_res[col_order].to_csv(out_results, sep='\\t', index=False)"
   ]
  },
  {
   "cell_type": "markdown",
   "metadata": {},
   "source": [
    "## plot results"
   ]
  },
  {
   "cell_type": "code",
   "execution_count": 15,
   "metadata": {
    "ExecuteTime": {
     "end_time": "2024-01-03T19:34:10.949737Z",
     "start_time": "2024-01-03T19:34:10.940704Z"
    },
    "collapsed": true
   },
   "outputs": [],
   "source": [
    "def orderIndex(hue_order):\n",
    "    \n",
    "    # this index order was determined by high to low fraction of overlap in each dataset. \n",
    "    index_order =['PLS',\n",
    "                'pELS',\n",
    "                'dELS',\n",
    "                'Low-DNase',\n",
    "                'no_overlap',\n",
    "                'PLS,CTCF-bound',\n",
    "                'pELS,CTCF-bound',\n",
    "                'dELS,CTCF-bound',\n",
    "                'CTCF-only,CTCF-bound',\n",
    "                'DNase-only',\n",
    "                'DNase-H3K4me3',\n",
    "                'DNase-H3K4me3,CTCF-bound',\n",
    "             ]\n",
    "\n",
    "    final_order = []\n",
    "    \n",
    "    for h in hue_order:\n",
    "        for i in index_order:\n",
    "            final_order.append((h,i))\n",
    "    return final_order\n",
    "\n",
    "def reindexForPlotting(x, hue, data, hue_order):\n",
    "     # indexing hell\n",
    "    final_order = orderIndex(hue_order)  # another function to set index\n",
    "    data= data.set_index([hue,x])  # micro, macro grouping order matters for reindexing\n",
    "    data=data.reindex(final_order).reset_index()\n",
    "    \n",
    "    return data # indexed w/ orderIndex function"
   ]
  },
  {
   "cell_type": "markdown",
   "metadata": {},
   "source": [
    "## HH active fraction"
   ]
  },
  {
   "cell_type": "code",
   "execution_count": 16,
   "metadata": {
    "ExecuteTime": {
     "end_time": "2024-01-03T19:34:10.967388Z",
     "start_time": "2024-01-03T19:34:10.952705Z"
    },
    "collapsed": true
   },
   "outputs": [],
   "source": [
    "# summarize annotations\n",
    "fdr_res[\"regulatory\"] = None\n",
    "regulatory_annots = [\n",
    "                'PLS',\n",
    "                'PLS,CTCF-bound',\n",
    "                'dELS',\n",
    "                'dELS,CTCF-bound',\n",
    "                'pELS',\n",
    "                'pELS,CTCF-bound'\n",
    "                ]\n",
    "dnase = [\n",
    "    'DNase-H3K4me3',\n",
    " 'DNase-H3K4me3,CTCF-bound',\n",
    " 'DNase-only',\n",
    "]\n",
    "low_signal = [\n",
    "     'Low-DNase',\n",
    "    'no_overlap',\".\",\n",
    "]\n",
    "\n",
    "ctcf=['CTCF-only,CTCF-bound']\n",
    "\n",
    "fdr_res.loc[fdr_res[\"cCRE_annot\"].isin(regulatory_annots), \"regulatory\"] = \"PLS/pELS/dELS\"\n",
    "fdr_res.loc[fdr_res[\"cCRE_annot\"].isin(ctcf), \"regulatory\"] = \"CTCF-only\"\n",
    "fdr_res.loc[fdr_res[\"cCRE_annot\"].isin(dnase), \"regulatory\"] = \"DNase\"\n",
    "fdr_res.loc[fdr_res[\"cCRE_annot\"].isin(low_signal), \"regulatory\"] = \"low, no signal\"\n"
   ]
  },
  {
   "cell_type": "markdown",
   "metadata": {},
   "source": [
    "## fraction overlap"
   ]
  },
  {
   "cell_type": "code",
   "execution_count": 17,
   "metadata": {
    "ExecuteTime": {
     "end_time": "2024-01-03T19:34:10.986472Z",
     "start_time": "2024-01-03T19:34:10.970174Z"
    }
   },
   "outputs": [
    {
     "data": {
      "text/html": [
       "<div>\n",
       "<style scoped>\n",
       "    .dataframe tbody tr th:only-of-type {\n",
       "        vertical-align: middle;\n",
       "    }\n",
       "\n",
       "    .dataframe tbody tr th {\n",
       "        vertical-align: top;\n",
       "    }\n",
       "\n",
       "    .dataframe thead th {\n",
       "        text-align: right;\n",
       "    }\n",
       "</style>\n",
       "<table border=\"1\" class=\"dataframe\">\n",
       "  <thead>\n",
       "    <tr style=\"text-align: right;\">\n",
       "      <th></th>\n",
       "      <th>regulatory</th>\n",
       "      <th>frac</th>\n",
       "    </tr>\n",
       "  </thead>\n",
       "  <tbody>\n",
       "    <tr>\n",
       "      <th>0</th>\n",
       "      <td>CTCF-only</td>\n",
       "      <td>0.022461</td>\n",
       "    </tr>\n",
       "    <tr>\n",
       "      <th>1</th>\n",
       "      <td>DNase</td>\n",
       "      <td>0.031059</td>\n",
       "    </tr>\n",
       "    <tr>\n",
       "      <th>2</th>\n",
       "      <td>PLS/pELS/dELS</td>\n",
       "      <td>0.782356</td>\n",
       "    </tr>\n",
       "    <tr>\n",
       "      <th>3</th>\n",
       "      <td>low, no signal</td>\n",
       "      <td>0.164124</td>\n",
       "    </tr>\n",
       "  </tbody>\n",
       "</table>\n",
       "</div>"
      ],
      "text/plain": [
       "       regulatory      frac\n",
       "0       CTCF-only  0.022461\n",
       "1           DNase  0.031059\n",
       "2   PLS/pELS/dELS  0.782356\n",
       "3  low, no signal  0.164124"
      ]
     },
     "execution_count": 17,
     "metadata": {},
     "output_type": "execute_result"
    }
   ],
   "source": [
    "fdr_res.loc[fdr_res[\"col\"]==\"HH_active\"].groupby([\n",
    "    \"regulatory\",\n",
    "    \n",
    "    #\"col\"\n",
    "])[\"frac\"].sum().reset_index()"
   ]
  },
  {
   "cell_type": "markdown",
   "metadata": {},
   "source": [
    "## fet odds ratio"
   ]
  },
  {
   "cell_type": "code",
   "execution_count": 28,
   "metadata": {
    "ExecuteTime": {
     "end_time": "2024-01-03T19:36:58.026230Z",
     "start_time": "2024-01-03T19:36:57.979266Z"
    }
   },
   "outputs": [
    {
     "data": {
      "text/html": [
       "<div>\n",
       "<style scoped>\n",
       "    .dataframe tbody tr th:only-of-type {\n",
       "        vertical-align: middle;\n",
       "    }\n",
       "\n",
       "    .dataframe tbody tr th {\n",
       "        vertical-align: top;\n",
       "    }\n",
       "\n",
       "    .dataframe thead th {\n",
       "        text-align: right;\n",
       "    }\n",
       "</style>\n",
       "<table border=\"1\" class=\"dataframe\">\n",
       "  <thead>\n",
       "    <tr style=\"text-align: right;\">\n",
       "      <th></th>\n",
       "      <th>a</th>\n",
       "      <th>b</th>\n",
       "      <th>c</th>\n",
       "      <th>d</th>\n",
       "      <th>OR</th>\n",
       "      <th>P</th>\n",
       "      <th>ci_lower</th>\n",
       "      <th>ci_lower_diff</th>\n",
       "      <th>ci_upper</th>\n",
       "      <th>ci_upper_diff</th>\n",
       "      <th>...</th>\n",
       "      <th>col</th>\n",
       "      <th>cCRE_annot</th>\n",
       "      <th>reject_null</th>\n",
       "      <th>FDR_P</th>\n",
       "      <th>asterisks</th>\n",
       "      <th>-log10p</th>\n",
       "      <th>frac</th>\n",
       "      <th>frac_shuf</th>\n",
       "      <th>FDR_P2</th>\n",
       "      <th>regulatory</th>\n",
       "    </tr>\n",
       "  </thead>\n",
       "  <tbody>\n",
       "    <tr>\n",
       "      <th>0</th>\n",
       "      <td>10101</td>\n",
       "      <td>2810</td>\n",
       "      <td>37352</td>\n",
       "      <td>44135</td>\n",
       "      <td>4.247441</td>\n",
       "      <td>0.000000e+00</td>\n",
       "      <td>4.064547</td>\n",
       "      <td>0.063499</td>\n",
       "      <td>4.438564</td>\n",
       "      <td>0.063499</td>\n",
       "      <td>...</td>\n",
       "      <td>HH_active</td>\n",
       "      <td>PLS_PLS,CTCF-bound_dELS_dELS,CTCF-bound_pELS_p...</td>\n",
       "      <td>True</td>\n",
       "      <td>0.000000e+00</td>\n",
       "      <td>*</td>\n",
       "      <td>inf</td>\n",
       "      <td>0.782356</td>\n",
       "      <td>0.458380</td>\n",
       "      <td>0.0E+00</td>\n",
       "      <td>None</td>\n",
       "    </tr>\n",
       "    <tr>\n",
       "      <th>0</th>\n",
       "      <td>4059</td>\n",
       "      <td>8852</td>\n",
       "      <td>12819</td>\n",
       "      <td>68668</td>\n",
       "      <td>2.456280</td>\n",
       "      <td>0.000000e+00</td>\n",
       "      <td>2.356042</td>\n",
       "      <td>0.060110</td>\n",
       "      <td>2.560783</td>\n",
       "      <td>0.060110</td>\n",
       "      <td>...</td>\n",
       "      <td>HH_active</td>\n",
       "      <td>PLS_PLS,CTCF-bound</td>\n",
       "      <td>True</td>\n",
       "      <td>0.000000e+00</td>\n",
       "      <td>*</td>\n",
       "      <td>inf</td>\n",
       "      <td>0.314383</td>\n",
       "      <td>0.157313</td>\n",
       "      <td>0.0E+00</td>\n",
       "      <td>None</td>\n",
       "    </tr>\n",
       "    <tr>\n",
       "      <th>0</th>\n",
       "      <td>2647</td>\n",
       "      <td>10264</td>\n",
       "      <td>10158</td>\n",
       "      <td>71329</td>\n",
       "      <td>1.810903</td>\n",
       "      <td>9.781434e-123</td>\n",
       "      <td>1.726873</td>\n",
       "      <td>0.068548</td>\n",
       "      <td>1.899023</td>\n",
       "      <td>0.068548</td>\n",
       "      <td>...</td>\n",
       "      <td>HH_active</td>\n",
       "      <td>dELS_dELS,CTCF-bound</td>\n",
       "      <td>True</td>\n",
       "      <td>2.608382e-122</td>\n",
       "      <td>*</td>\n",
       "      <td>121.583629</td>\n",
       "      <td>0.205019</td>\n",
       "      <td>0.124658</td>\n",
       "      <td>2.6E-122</td>\n",
       "      <td>None</td>\n",
       "    </tr>\n",
       "    <tr>\n",
       "      <th>0</th>\n",
       "      <td>3395</td>\n",
       "      <td>9516</td>\n",
       "      <td>14375</td>\n",
       "      <td>67112</td>\n",
       "      <td>1.665627</td>\n",
       "      <td>1.727101e-112</td>\n",
       "      <td>1.595325</td>\n",
       "      <td>0.062214</td>\n",
       "      <td>1.739026</td>\n",
       "      <td>0.062214</td>\n",
       "      <td>...</td>\n",
       "      <td>HH_active</td>\n",
       "      <td>pELS_pELS,CTCF-bound</td>\n",
       "      <td>True</td>\n",
       "      <td>4.145042e-112</td>\n",
       "      <td>*</td>\n",
       "      <td>111.382471</td>\n",
       "      <td>0.262954</td>\n",
       "      <td>0.176409</td>\n",
       "      <td>4.1E-112</td>\n",
       "      <td>None</td>\n",
       "    </tr>\n",
       "  </tbody>\n",
       "</table>\n",
       "<p>4 rows × 24 columns</p>\n",
       "</div>"
      ],
      "text/plain": [
       "       a      b      c      d        OR              P  ci_lower  \\\n",
       "0  10101   2810  37352  44135  4.247441   0.000000e+00  4.064547   \n",
       "0   4059   8852  12819  68668  2.456280   0.000000e+00  2.356042   \n",
       "0   2647  10264  10158  71329  1.810903  9.781434e-123  1.726873   \n",
       "0   3395   9516  14375  67112  1.665627  1.727101e-112  1.595325   \n",
       "\n",
       "   ci_lower_diff  ci_upper  ci_upper_diff  ...        col  \\\n",
       "0       0.063499  4.438564       0.063499  ...  HH_active   \n",
       "0       0.060110  2.560783       0.060110  ...  HH_active   \n",
       "0       0.068548  1.899023       0.068548  ...  HH_active   \n",
       "0       0.062214  1.739026       0.062214  ...  HH_active   \n",
       "\n",
       "                                          cCRE_annot  reject_null  \\\n",
       "0  PLS_PLS,CTCF-bound_dELS_dELS,CTCF-bound_pELS_p...         True   \n",
       "0                                 PLS_PLS,CTCF-bound         True   \n",
       "0                               dELS_dELS,CTCF-bound         True   \n",
       "0                               pELS_pELS,CTCF-bound         True   \n",
       "\n",
       "           FDR_P asterisks     -log10p      frac  frac_shuf    FDR_P2  \\\n",
       "0   0.000000e+00         *         inf  0.782356   0.458380   0.0E+00   \n",
       "0   0.000000e+00         *         inf  0.314383   0.157313   0.0E+00   \n",
       "0  2.608382e-122         *  121.583629  0.205019   0.124658  2.6E-122   \n",
       "0  4.145042e-112         *  111.382471  0.262954   0.176409  4.1E-112   \n",
       "\n",
       "   regulatory  \n",
       "0        None  \n",
       "0        None  \n",
       "0        None  \n",
       "0        None  \n",
       "\n",
       "[4 rows x 24 columns]"
      ]
     },
     "execution_count": 28,
     "metadata": {},
     "output_type": "execute_result"
    }
   ],
   "source": [
    "fdr_res.loc[(fdr_res[\"col\"]==\"HH_active\")& (fdr_res[\"regulatory\"].astype(str)==\"None\")]"
   ]
  },
  {
   "cell_type": "code",
   "execution_count": 29,
   "metadata": {
    "ExecuteTime": {
     "end_time": "2024-01-03T19:37:32.417264Z",
     "start_time": "2024-01-03T19:37:32.157384Z"
    }
   },
   "outputs": [
    {
     "data": {
      "image/png": "[encoded data removed]",
      "text/plain": [
       "<Figure size 432x432 with 1 Axes>"
      ]
     },
     "metadata": {
      "needs_background": "light"
     },
     "output_type": "display_data"
    }
   ],
   "source": [
    "x=\"type\"\n",
    "y=\"frac\"\n",
    "hue=\"regulatory\"\n",
    "hue_order = ['PLS/pELS/dELS', 'CTCF-only', 'DNase',  'low, no signal']\n",
    "data=fracs\n",
    "\n",
    "fig, ax = plt.subplots(figsize=(6,6))\n",
    "sns.barplot(x=x,y=y,data=data, palette=\"Blues\", ax=ax,hue=hue, hue_order=hue_order)\n",
    "\n",
    "ax.set(title=f\"HH-active cCRE GM12878\",\n",
    "      xlabel=\"fraction overlap\",\n",
    "      #xlim=(-0.00,0.4),\n",
    "       ylabel=\"fraction_overlap\",\n",
    "      )\n",
    "\n",
    "ax.legend(bbox_to_anchor=(1,1))\n",
    "\n",
    "outfig = os.path.join(RE, f\"regions.HHactive.x.summarized.cCRE.GM12878-fraction.pdf\")\n",
    "#plt.savefig(outfig, bbox_inches=\"tight\")"
   ]
  },
  {
   "cell_type": "code",
   "execution_count": null,
   "metadata": {
    "collapsed": true
   },
   "outputs": [],
   "source": []
  }
 ],
 "metadata": {
  "kernelspec": {
   "display_name": "Python (sfenv)",
   "language": "python",
   "name": "sfenv"
  },
  "language_info": {
   "codemirror_mode": {
    "name": "ipython",
    "version": 3
   },
   "file_extension": ".py",
   "mimetype": "text/x-python",
   "name": "python",
   "nbconvert_exporter": "python",
   "pygments_lexer": "ipython3",
   "version": "3.6.10"
  },
  "toc": {
   "base_numbering": 1,
   "nav_menu": {},
   "number_sections": true,
   "sideBar": true,
   "skip_h1_title": false,
   "title_cell": "Table of Contents",
   "title_sidebar": "Contents",
   "toc_cell": false,
   "toc_position": {},
   "toc_section_display": true,
   "toc_window_display": false
  }
 },
 "nbformat": 4,
 "nbformat_minor": 2
}
