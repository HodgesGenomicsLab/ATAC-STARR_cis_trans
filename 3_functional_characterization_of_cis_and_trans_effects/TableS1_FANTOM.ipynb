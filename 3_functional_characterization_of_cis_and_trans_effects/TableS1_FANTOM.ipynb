{
 "cells": [
  {
   "cell_type": "code",
   "execution_count": 2,
   "metadata": {
    "ExecuteTime": {
     "end_time": "2023-11-20T19:21:40.808309Z",
     "start_time": "2023-11-20T19:21:38.965988Z"
    }
   },
   "outputs": [
    {
     "data": {
      "text/plain": [
       "('sans-serif', 'Arial', 18)"
      ]
     },
     "execution_count": 2,
     "metadata": {},
     "output_type": "execute_result"
    }
   ],
   "source": [
    "import os, sys\n",
    "import pandas as pd\n",
    "import pybedtools as pbt\n",
    "import matplotlib.pyplot as plt\n",
    "import seaborn as sns\n",
    "sys.path.append(\"/dors/capra_lab/users/fongsl/tools/py_\")\n",
    "import config_readwrite as crw\n",
    "import fet\n",
    "import plot_params as pp\n",
    "pp.fonts()"
   ]
  },
  {
   "cell_type": "markdown",
   "metadata": {},
   "source": [
    "# functions"
   ]
  },
  {
   "cell_type": "code",
   "execution_count": 3,
   "metadata": {
    "ExecuteTime": {
     "end_time": "2023-11-20T19:21:40.814679Z",
     "start_time": "2023-11-20T19:21:40.810752Z"
    },
    "collapsed": true
   },
   "outputs": [],
   "source": [
    "def check_section(config, section):\n",
    "    if config.has_section(section) is False:\n",
    "        config.add_section(section)\n",
    "        \n",
    "    return config\n",
    "\n",
    "def pbtInt(a, b, out):\n",
    "    A, B = pbt.BedTool(a), pbt.BedTool(b)\n",
    "    \n",
    "    C = A.intersect(B, wao=True, output=out)\n",
    "    \n",
    "    return C"
   ]
  },
  {
   "cell_type": "markdown",
   "metadata": {},
   "source": [
    "# config"
   ]
  },
  {
   "cell_type": "code",
   "execution_count": 4,
   "metadata": {
    "ExecuteTime": {
     "end_time": "2023-11-20T19:21:40.858875Z",
     "start_time": "2023-11-20T19:21:40.816585Z"
    },
    "collapsed": true
   },
   "outputs": [],
   "source": [
    "cfn = os.path.join(os.path.dirname(os.getcwd()), \"config\")\n",
    "config, cfn = crw.read_config(cfn)"
   ]
  },
  {
   "cell_type": "markdown",
   "metadata": {},
   "source": [
    "## read"
   ]
  },
  {
   "cell_type": "code",
   "execution_count": 5,
   "metadata": {
    "ExecuteTime": {
     "end_time": "2023-11-20T19:21:40.863748Z",
     "start_time": "2023-11-20T19:21:40.860705Z"
    },
    "collapsed": true
   },
   "outputs": [],
   "source": [
    "# read\n",
    "BED = config[\"CIS_TRANS\"][\"regions\"]\n",
    "ANNOT = config[\"CIS_TRANS\"][\"regions_annotations\"]\n",
    "SHUF=config[\"SHUFFLES\"][\"shuf-all\"]"
   ]
  },
  {
   "cell_type": "markdown",
   "metadata": {},
   "source": [
    "## write"
   ]
  },
  {
   "cell_type": "code",
   "execution_count": 6,
   "metadata": {
    "ExecuteTime": {
     "end_time": "2023-11-20T19:21:40.874865Z",
     "start_time": "2023-11-20T19:21:40.865654Z"
    },
    "collapsed": true
   },
   "outputs": [],
   "source": [
    "section = 'FANTOM'\n",
    "config = check_section(config, section)\n",
    "\n",
    "RE = \"/data/hodges_lab/ATAC-STARR_B-cells/results/results_human-evolution/FANTOM\"\n",
    "GM = \"/data/hodges_lab/ATAC-STARR_B-cells/data/hansen-fong/fantom/CL_0000945_lymphocyte_of_B_lineage_expressed_enhancers.liftOver.to.Hg38.bed\"\n",
    "out = os.path.join(RE, \"regions.x.FANTOM_Bcell.bed\")\n",
    "out_shuf = os.path.join(RE, \"shuf.regions.x.GM12878.cCRE.bed\")\n",
    "\n",
    "\n",
    "config[section][\"bcell\"] = GM\n",
    "config[section][\"results\"] = RE\n",
    "config[section][\"regions.x.bcell\"] = out\n",
    "config[section][\"shufregions.x.bcell\"] = out_shuf\n",
    "\n",
    "out_results = os.path.join(RE, \"regions.x.FANTOM.BCell.enrichments.tsv\")\n",
    "config[section][\"regions.x.FANTOM.BCell.results\"] = out_results\n",
    "\n",
    "\n",
    "crw.write(config, cfn)"
   ]
  },
  {
   "cell_type": "markdown",
   "metadata": {},
   "source": [
    "# intersection"
   ]
  },
  {
   "cell_type": "markdown",
   "metadata": {},
   "source": [
    "## make results "
   ]
  },
  {
   "cell_type": "code",
   "execution_count": 7,
   "metadata": {
    "ExecuteTime": {
     "end_time": "2023-11-20T19:21:40.879369Z",
     "start_time": "2023-11-20T19:21:40.876658Z"
    },
    "collapsed": true
   },
   "outputs": [],
   "source": [
    "if os.path.exists(RE) is False:\n",
    "    os.mkdir(RE)"
   ]
  },
  {
   "cell_type": "markdown",
   "metadata": {},
   "source": [
    "## test"
   ]
  },
  {
   "cell_type": "code",
   "execution_count": 8,
   "metadata": {
    "ExecuteTime": {
     "end_time": "2023-11-20T19:21:40.884176Z",
     "start_time": "2023-11-20T19:21:40.881290Z"
    },
    "collapsed": true
   },
   "outputs": [],
   "source": [
    "\n",
    "if os.path.exists(out) is False:\n",
    "    C = pbtInt(BED, GM, out)\n"
   ]
  },
  {
   "cell_type": "markdown",
   "metadata": {},
   "source": [
    "## shuf"
   ]
  },
  {
   "cell_type": "code",
   "execution_count": 9,
   "metadata": {
    "ExecuteTime": {
     "end_time": "2023-11-20T19:21:40.890073Z",
     "start_time": "2023-11-20T19:21:40.887162Z"
    },
    "collapsed": true
   },
   "outputs": [],
   "source": [
    "\n",
    "if os.path.exists(out_shuf) is False:\n",
    "    C = pbtInt(SHUF, GM, out_shuf)"
   ]
  },
  {
   "cell_type": "markdown",
   "metadata": {
    "ExecuteTime": {
     "end_time": "2023-05-04T19:42:37.642973Z",
     "start_time": "2023-05-04T19:42:36.988404Z"
    }
   },
   "source": [
    "# review results"
   ]
  },
  {
   "cell_type": "markdown",
   "metadata": {},
   "source": [
    "## atac-starr"
   ]
  },
  {
   "cell_type": "code",
   "execution_count": 10,
   "metadata": {
    "ExecuteTime": {
     "end_time": "2023-11-20T19:21:40.949704Z",
     "start_time": "2023-11-20T19:21:40.892160Z"
    }
   },
   "outputs": [
    {
     "data": {
      "text/html": [
       "<div>\n",
       "<style scoped>\n",
       "    .dataframe tbody tr th:only-of-type {\n",
       "        vertical-align: middle;\n",
       "    }\n",
       "\n",
       "    .dataframe tbody tr th {\n",
       "        vertical-align: top;\n",
       "    }\n",
       "\n",
       "    .dataframe thead th {\n",
       "        text-align: right;\n",
       "    }\n",
       "</style>\n",
       "<table border=\"1\" class=\"dataframe\">\n",
       "  <thead>\n",
       "    <tr style=\"text-align: right;\">\n",
       "      <th></th>\n",
       "      <th>1</th>\n",
       "      <th>2</th>\n",
       "      <th>3</th>\n",
       "      <th>4</th>\n",
       "      <th>5</th>\n",
       "      <th>6</th>\n",
       "      <th>7</th>\n",
       "      <th>16</th>\n",
       "    </tr>\n",
       "  </thead>\n",
       "  <tbody>\n",
       "    <tr>\n",
       "      <th>20</th>\n",
       "      <td>2301148</td>\n",
       "      <td>2301268</td>\n",
       "      <td>chr1:2301148-2301268</td>\n",
       "      <td>chr1</td>\n",
       "      <td>2300989</td>\n",
       "      <td>2301457</td>\n",
       "      <td>chr1:2232428-2232896</td>\n",
       "      <td>120</td>\n",
       "    </tr>\n",
       "    <tr>\n",
       "      <th>95</th>\n",
       "      <td>12152888</td>\n",
       "      <td>12153158</td>\n",
       "      <td>chr1:12152888-12153158</td>\n",
       "      <td>chr1</td>\n",
       "      <td>12153071</td>\n",
       "      <td>12153826</td>\n",
       "      <td>chr1:12213128-12213883</td>\n",
       "      <td>87</td>\n",
       "    </tr>\n",
       "    <tr>\n",
       "      <th>96</th>\n",
       "      <td>12153168</td>\n",
       "      <td>12153338</td>\n",
       "      <td>chr1:12153168-12153338</td>\n",
       "      <td>chr1</td>\n",
       "      <td>12153071</td>\n",
       "      <td>12153826</td>\n",
       "      <td>chr1:12213128-12213883</td>\n",
       "      <td>170</td>\n",
       "    </tr>\n",
       "    <tr>\n",
       "      <th>97</th>\n",
       "      <td>12153358</td>\n",
       "      <td>12153688</td>\n",
       "      <td>chr1:12153358-12153688</td>\n",
       "      <td>chr1</td>\n",
       "      <td>12153071</td>\n",
       "      <td>12153826</td>\n",
       "      <td>chr1:12213128-12213883</td>\n",
       "      <td>330</td>\n",
       "    </tr>\n",
       "    <tr>\n",
       "      <th>108</th>\n",
       "      <td>13702693</td>\n",
       "      <td>13703043</td>\n",
       "      <td>chr1:13702693-13703043</td>\n",
       "      <td>chr1</td>\n",
       "      <td>13702582</td>\n",
       "      <td>13703384</td>\n",
       "      <td>chr1:14029077-14029879</td>\n",
       "      <td>350</td>\n",
       "    </tr>\n",
       "    <tr>\n",
       "      <th>...</th>\n",
       "      <td>...</td>\n",
       "      <td>...</td>\n",
       "      <td>...</td>\n",
       "      <td>...</td>\n",
       "      <td>...</td>\n",
       "      <td>...</td>\n",
       "      <td>...</td>\n",
       "      <td>...</td>\n",
       "    </tr>\n",
       "    <tr>\n",
       "      <th>16822</th>\n",
       "      <td>131729323</td>\n",
       "      <td>131729743</td>\n",
       "      <td>chr9:131729323-131729743</td>\n",
       "      <td>chr9</td>\n",
       "      <td>131729187</td>\n",
       "      <td>131729787</td>\n",
       "      <td>chr9:134604574-134605174</td>\n",
       "      <td>420</td>\n",
       "    </tr>\n",
       "    <tr>\n",
       "      <th>16823</th>\n",
       "      <td>131732914</td>\n",
       "      <td>131733004</td>\n",
       "      <td>chr9:131732914-131733004</td>\n",
       "      <td>chr9</td>\n",
       "      <td>131732862</td>\n",
       "      <td>131733448</td>\n",
       "      <td>chr9:134608249-134608835</td>\n",
       "      <td>90</td>\n",
       "    </tr>\n",
       "    <tr>\n",
       "      <th>16837</th>\n",
       "      <td>133133600</td>\n",
       "      <td>133133830</td>\n",
       "      <td>chr9:133133600-133133830</td>\n",
       "      <td>chr9</td>\n",
       "      <td>133133744</td>\n",
       "      <td>133134071</td>\n",
       "      <td>chr9:136009131-136009458</td>\n",
       "      <td>86</td>\n",
       "    </tr>\n",
       "    <tr>\n",
       "      <th>16838</th>\n",
       "      <td>133133960</td>\n",
       "      <td>133134070</td>\n",
       "      <td>chr9:133133960-133134070</td>\n",
       "      <td>chr9</td>\n",
       "      <td>133133744</td>\n",
       "      <td>133134071</td>\n",
       "      <td>chr9:136009131-136009458</td>\n",
       "      <td>110</td>\n",
       "    </tr>\n",
       "    <tr>\n",
       "      <th>16863</th>\n",
       "      <td>134391156</td>\n",
       "      <td>134391786</td>\n",
       "      <td>chr9:134391156-134391786</td>\n",
       "      <td>chr9</td>\n",
       "      <td>134391361</td>\n",
       "      <td>134391600</td>\n",
       "      <td>chr9:137283207-137283446</td>\n",
       "      <td>239</td>\n",
       "    </tr>\n",
       "  </tbody>\n",
       "</table>\n",
       "<p>586 rows × 8 columns</p>\n",
       "</div>"
      ],
      "text/plain": [
       "              1          2                         3     4          5   \\\n",
       "20       2301148    2301268      chr1:2301148-2301268  chr1    2300989   \n",
       "95      12152888   12153158    chr1:12152888-12153158  chr1   12153071   \n",
       "96      12153168   12153338    chr1:12153168-12153338  chr1   12153071   \n",
       "97      12153358   12153688    chr1:12153358-12153688  chr1   12153071   \n",
       "108     13702693   13703043    chr1:13702693-13703043  chr1   13702582   \n",
       "...          ...        ...                       ...   ...        ...   \n",
       "16822  131729323  131729743  chr9:131729323-131729743  chr9  131729187   \n",
       "16823  131732914  131733004  chr9:131732914-131733004  chr9  131732862   \n",
       "16837  133133600  133133830  chr9:133133600-133133830  chr9  133133744   \n",
       "16838  133133960  133134070  chr9:133133960-133134070  chr9  133133744   \n",
       "16863  134391156  134391786  chr9:134391156-134391786  chr9  134391361   \n",
       "\n",
       "              6                         7    16  \n",
       "20       2301457      chr1:2232428-2232896  120  \n",
       "95      12153826    chr1:12213128-12213883   87  \n",
       "96      12153826    chr1:12213128-12213883  170  \n",
       "97      12153826    chr1:12213128-12213883  330  \n",
       "108     13703384    chr1:14029077-14029879  350  \n",
       "...          ...                       ...  ...  \n",
       "16822  131729787  chr9:134604574-134605174  420  \n",
       "16823  131733448  chr9:134608249-134608835   90  \n",
       "16837  133134071  chr9:136009131-136009458   86  \n",
       "16838  133134071  chr9:136009131-136009458  110  \n",
       "16863  134391600  chr9:137283207-137283446  239  \n",
       "\n",
       "[586 rows x 8 columns]"
      ]
     },
     "execution_count": 10,
     "metadata": {},
     "output_type": "execute_result"
    }
   ],
   "source": [
    "df = pd.read_csv(out, sep='\\t', header=None, usecols=[1,2,3,4,5,6,7,16])\n",
    "df.loc[df[16]>0]"
   ]
  },
  {
   "cell_type": "code",
   "execution_count": 11,
   "metadata": {
    "ExecuteTime": {
     "end_time": "2023-11-20T19:21:40.989491Z",
     "start_time": "2023-11-20T19:21:40.952089Z"
    }
   },
   "outputs": [
    {
     "name": "stdout",
     "output_type": "stream",
     "text": [
      "(16901, 9) 586\n"
     ]
    },
    {
     "data": {
      "text/html": [
       "<div>\n",
       "<style scoped>\n",
       "    .dataframe tbody tr th:only-of-type {\n",
       "        vertical-align: middle;\n",
       "    }\n",
       "\n",
       "    .dataframe tbody tr th {\n",
       "        vertical-align: top;\n",
       "    }\n",
       "\n",
       "    .dataframe thead th {\n",
       "        text-align: right;\n",
       "    }\n",
       "</style>\n",
       "<table border=\"1\" class=\"dataframe\">\n",
       "  <thead>\n",
       "    <tr style=\"text-align: right;\">\n",
       "      <th></th>\n",
       "      <th>#chr</th>\n",
       "      <th>start</th>\n",
       "      <th>end</th>\n",
       "      <th>region_id</th>\n",
       "      <th>chr_cCRE</th>\n",
       "      <th>startcCRE</th>\n",
       "      <th>endcCRE</th>\n",
       "      <th>cCRE_id</th>\n",
       "      <th>len</th>\n",
       "    </tr>\n",
       "  </thead>\n",
       "  <tbody>\n",
       "    <tr>\n",
       "      <th>0</th>\n",
       "      <td>chr1</td>\n",
       "      <td>959034</td>\n",
       "      <td>959154</td>\n",
       "      <td>chr1:959034-959154</td>\n",
       "      <td>.</td>\n",
       "      <td>-1</td>\n",
       "      <td>-1</td>\n",
       "      <td>.</td>\n",
       "      <td>0</td>\n",
       "    </tr>\n",
       "    <tr>\n",
       "      <th>1</th>\n",
       "      <td>chr1</td>\n",
       "      <td>1002089</td>\n",
       "      <td>1002179</td>\n",
       "      <td>chr1:1002089-1002179</td>\n",
       "      <td>.</td>\n",
       "      <td>-1</td>\n",
       "      <td>-1</td>\n",
       "      <td>.</td>\n",
       "      <td>0</td>\n",
       "    </tr>\n",
       "    <tr>\n",
       "      <th>2</th>\n",
       "      <td>chr1</td>\n",
       "      <td>1064140</td>\n",
       "      <td>1064260</td>\n",
       "      <td>chr1:1064140-1064260</td>\n",
       "      <td>.</td>\n",
       "      <td>-1</td>\n",
       "      <td>-1</td>\n",
       "      <td>.</td>\n",
       "      <td>0</td>\n",
       "    </tr>\n",
       "    <tr>\n",
       "      <th>3</th>\n",
       "      <td>chr1</td>\n",
       "      <td>1214948</td>\n",
       "      <td>1215208</td>\n",
       "      <td>chr1:1214948-1215208</td>\n",
       "      <td>.</td>\n",
       "      <td>-1</td>\n",
       "      <td>-1</td>\n",
       "      <td>.</td>\n",
       "      <td>0</td>\n",
       "    </tr>\n",
       "    <tr>\n",
       "      <th>4</th>\n",
       "      <td>chr1</td>\n",
       "      <td>1215328</td>\n",
       "      <td>1215508</td>\n",
       "      <td>chr1:1215328-1215508</td>\n",
       "      <td>.</td>\n",
       "      <td>-1</td>\n",
       "      <td>-1</td>\n",
       "      <td>.</td>\n",
       "      <td>0</td>\n",
       "    </tr>\n",
       "  </tbody>\n",
       "</table>\n",
       "</div>"
      ],
      "text/plain": [
       "   #chr    start      end             region_id chr_cCRE  startcCRE  endcCRE  \\\n",
       "0  chr1   959034   959154    chr1:959034-959154        .         -1       -1   \n",
       "1  chr1  1002089  1002179  chr1:1002089-1002179        .         -1       -1   \n",
       "2  chr1  1064140  1064260  chr1:1064140-1064260        .         -1       -1   \n",
       "3  chr1  1214948  1215208  chr1:1214948-1215208        .         -1       -1   \n",
       "4  chr1  1215328  1215508  chr1:1215328-1215508        .         -1       -1   \n",
       "\n",
       "  cCRE_id  len  \n",
       "0       .    0  \n",
       "1       .    0  \n",
       "2       .    0  \n",
       "3       .    0  \n",
       "4       .    0  "
      ]
     },
     "execution_count": 11,
     "metadata": {},
     "output_type": "execute_result"
    }
   ],
   "source": [
    "names = [\"#chr\", \"start\", \"end\", \"region_id\", \"chr_cCRE\", \"startcCRE\", \"endcCRE\", 'cCRE_id', \"len\"]\n",
    "df = pd.read_csv(out, sep='\\t', header=None, usecols=[0,1,2,3,4,5,6,7,16], )\n",
    "df.columns=names\n",
    "print(df.shape, df.loc[df[\"len\"]>0].shape[0])\n",
    "\n",
    "df.head()"
   ]
  },
  {
   "cell_type": "markdown",
   "metadata": {},
   "source": [
    "## shuffles"
   ]
  },
  {
   "cell_type": "code",
   "execution_count": 12,
   "metadata": {
    "ExecuteTime": {
     "end_time": "2023-11-20T19:21:42.330962Z",
     "start_time": "2023-11-20T19:21:40.991189Z"
    }
   },
   "outputs": [
    {
     "name": "stdout",
     "output_type": "stream",
     "text": [
      "(168983, 9) 2522\n"
     ]
    },
    {
     "data": {
      "text/html": [
       "<div>\n",
       "<style scoped>\n",
       "    .dataframe tbody tr th:only-of-type {\n",
       "        vertical-align: middle;\n",
       "    }\n",
       "\n",
       "    .dataframe tbody tr th {\n",
       "        vertical-align: top;\n",
       "    }\n",
       "\n",
       "    .dataframe thead th {\n",
       "        text-align: right;\n",
       "    }\n",
       "</style>\n",
       "<table border=\"1\" class=\"dataframe\">\n",
       "  <thead>\n",
       "    <tr style=\"text-align: right;\">\n",
       "      <th></th>\n",
       "      <th>#chr</th>\n",
       "      <th>start</th>\n",
       "      <th>end</th>\n",
       "      <th>region_id</th>\n",
       "      <th>chr_cCRE</th>\n",
       "      <th>startcCRE</th>\n",
       "      <th>endcCRE</th>\n",
       "      <th>cCRE_id</th>\n",
       "      <th>len</th>\n",
       "    </tr>\n",
       "  </thead>\n",
       "  <tbody>\n",
       "    <tr>\n",
       "      <th>0</th>\n",
       "      <td>chr5</td>\n",
       "      <td>115170417</td>\n",
       "      <td>115170537</td>\n",
       "      <td>chr1:959034-959154</td>\n",
       "      <td>.</td>\n",
       "      <td>-1</td>\n",
       "      <td>-1</td>\n",
       "      <td>.</td>\n",
       "      <td>0</td>\n",
       "    </tr>\n",
       "    <tr>\n",
       "      <th>1</th>\n",
       "      <td>chr4</td>\n",
       "      <td>37686249</td>\n",
       "      <td>37686339</td>\n",
       "      <td>chr1:1002089-1002179</td>\n",
       "      <td>.</td>\n",
       "      <td>-1</td>\n",
       "      <td>-1</td>\n",
       "      <td>.</td>\n",
       "      <td>0</td>\n",
       "    </tr>\n",
       "    <tr>\n",
       "      <th>2</th>\n",
       "      <td>chr20</td>\n",
       "      <td>32762661</td>\n",
       "      <td>32762781</td>\n",
       "      <td>chr1:1064140-1064260</td>\n",
       "      <td>.</td>\n",
       "      <td>-1</td>\n",
       "      <td>-1</td>\n",
       "      <td>.</td>\n",
       "      <td>0</td>\n",
       "    </tr>\n",
       "    <tr>\n",
       "      <th>3</th>\n",
       "      <td>chr7</td>\n",
       "      <td>98133420</td>\n",
       "      <td>98133680</td>\n",
       "      <td>chr1:1214948-1215208</td>\n",
       "      <td>.</td>\n",
       "      <td>-1</td>\n",
       "      <td>-1</td>\n",
       "      <td>.</td>\n",
       "      <td>0</td>\n",
       "    </tr>\n",
       "    <tr>\n",
       "      <th>4</th>\n",
       "      <td>chr1</td>\n",
       "      <td>84689773</td>\n",
       "      <td>84689953</td>\n",
       "      <td>chr1:1215328-1215508</td>\n",
       "      <td>.</td>\n",
       "      <td>-1</td>\n",
       "      <td>-1</td>\n",
       "      <td>.</td>\n",
       "      <td>0</td>\n",
       "    </tr>\n",
       "  </tbody>\n",
       "</table>\n",
       "</div>"
      ],
      "text/plain": [
       "    #chr      start        end             region_id chr_cCRE  startcCRE  \\\n",
       "0   chr5  115170417  115170537    chr1:959034-959154        .         -1   \n",
       "1   chr4   37686249   37686339  chr1:1002089-1002179        .         -1   \n",
       "2  chr20   32762661   32762781  chr1:1064140-1064260        .         -1   \n",
       "3   chr7   98133420   98133680  chr1:1214948-1215208        .         -1   \n",
       "4   chr1   84689773   84689953  chr1:1215328-1215508        .         -1   \n",
       "\n",
       "   endcCRE cCRE_id  len  \n",
       "0       -1       .    0  \n",
       "1       -1       .    0  \n",
       "2       -1       .    0  \n",
       "3       -1       .    0  \n",
       "4       -1       .    0  "
      ]
     },
     "execution_count": 12,
     "metadata": {},
     "output_type": "execute_result"
    }
   ],
   "source": [
    "shuf = pd.read_csv(out_shuf, sep='\\t', header=None, usecols=[0,1,2,3,4,5,6,7,16], )\n",
    "shuf.columns=names\n",
    "print(shuf.shape, shuf.loc[shuf[\"len\"]>0].shape[0])\n",
    "shuf.head()"
   ]
  },
  {
   "cell_type": "markdown",
   "metadata": {},
   "source": [
    "## annots"
   ]
  },
  {
   "cell_type": "code",
   "execution_count": 13,
   "metadata": {
    "ExecuteTime": {
     "end_time": "2023-11-20T19:21:42.398998Z",
     "start_time": "2023-11-20T19:21:42.332802Z"
    }
   },
   "outputs": [
    {
     "data": {
      "text/html": [
       "<div>\n",
       "<style scoped>\n",
       "    .dataframe tbody tr th:only-of-type {\n",
       "        vertical-align: middle;\n",
       "    }\n",
       "\n",
       "    .dataframe tbody tr th {\n",
       "        vertical-align: top;\n",
       "    }\n",
       "\n",
       "    .dataframe thead th {\n",
       "        text-align: right;\n",
       "    }\n",
       "</style>\n",
       "<table border=\"1\" class=\"dataframe\">\n",
       "  <thead>\n",
       "    <tr style=\"text-align: right;\">\n",
       "      <th></th>\n",
       "      <th>#chr</th>\n",
       "      <th>start</th>\n",
       "      <th>end</th>\n",
       "      <th>region_id</th>\n",
       "      <th>conserved_active.regions</th>\n",
       "      <th>cis</th>\n",
       "      <th>trans</th>\n",
       "      <th>trans_only</th>\n",
       "      <th>cis_only</th>\n",
       "      <th>cis+trans</th>\n",
       "      <th>...</th>\n",
       "      <th>HH-active_MM-inactive_MH-inactive_cis</th>\n",
       "      <th>HH-active_MM-inactive_HM-inactive_trans</th>\n",
       "      <th>HH-active_MM-inactive_cis-only</th>\n",
       "      <th>HH-active_MM-inactive_trans-only</th>\n",
       "      <th>HH-active_MM-inactive_cis+trans</th>\n",
       "      <th>MM-active_HH-inactive_HM-inactive_cis</th>\n",
       "      <th>MM-active_HH-inactive_MH-inactive_trans</th>\n",
       "      <th>MM-active_HH-inactive_cis-only</th>\n",
       "      <th>MM-active_HH-inactive_trans-only</th>\n",
       "      <th>MM-active_HH-inactive_cis+trans</th>\n",
       "    </tr>\n",
       "  </thead>\n",
       "  <tbody>\n",
       "    <tr>\n",
       "      <th>0</th>\n",
       "      <td>chr1</td>\n",
       "      <td>959034</td>\n",
       "      <td>959154</td>\n",
       "      <td>chr1:959034-959154</td>\n",
       "      <td>0.0</td>\n",
       "      <td>1.0</td>\n",
       "      <td>1.0</td>\n",
       "      <td>0</td>\n",
       "      <td>0</td>\n",
       "      <td>1</td>\n",
       "      <td>...</td>\n",
       "      <td>1.0</td>\n",
       "      <td>1.0</td>\n",
       "      <td>0.0</td>\n",
       "      <td>0.0</td>\n",
       "      <td>1.0</td>\n",
       "      <td>0.0</td>\n",
       "      <td>0.0</td>\n",
       "      <td>0.0</td>\n",
       "      <td>0.0</td>\n",
       "      <td>0.0</td>\n",
       "    </tr>\n",
       "    <tr>\n",
       "      <th>1</th>\n",
       "      <td>chr1</td>\n",
       "      <td>1002089</td>\n",
       "      <td>1002179</td>\n",
       "      <td>chr1:1002089-1002179</td>\n",
       "      <td>0.0</td>\n",
       "      <td>1.0</td>\n",
       "      <td>1.0</td>\n",
       "      <td>0</td>\n",
       "      <td>0</td>\n",
       "      <td>1</td>\n",
       "      <td>...</td>\n",
       "      <td>1.0</td>\n",
       "      <td>1.0</td>\n",
       "      <td>0.0</td>\n",
       "      <td>0.0</td>\n",
       "      <td>1.0</td>\n",
       "      <td>0.0</td>\n",
       "      <td>0.0</td>\n",
       "      <td>0.0</td>\n",
       "      <td>0.0</td>\n",
       "      <td>0.0</td>\n",
       "    </tr>\n",
       "    <tr>\n",
       "      <th>2</th>\n",
       "      <td>chr1</td>\n",
       "      <td>1064140</td>\n",
       "      <td>1064260</td>\n",
       "      <td>chr1:1064140-1064260</td>\n",
       "      <td>0.0</td>\n",
       "      <td>1.0</td>\n",
       "      <td>0.0</td>\n",
       "      <td>0</td>\n",
       "      <td>1</td>\n",
       "      <td>0</td>\n",
       "      <td>...</td>\n",
       "      <td>1.0</td>\n",
       "      <td>0.0</td>\n",
       "      <td>1.0</td>\n",
       "      <td>0.0</td>\n",
       "      <td>0.0</td>\n",
       "      <td>0.0</td>\n",
       "      <td>0.0</td>\n",
       "      <td>0.0</td>\n",
       "      <td>0.0</td>\n",
       "      <td>0.0</td>\n",
       "    </tr>\n",
       "    <tr>\n",
       "      <th>3</th>\n",
       "      <td>chr1</td>\n",
       "      <td>1214948</td>\n",
       "      <td>1215208</td>\n",
       "      <td>chr1:1214948-1215208</td>\n",
       "      <td>0.0</td>\n",
       "      <td>1.0</td>\n",
       "      <td>1.0</td>\n",
       "      <td>0</td>\n",
       "      <td>0</td>\n",
       "      <td>1</td>\n",
       "      <td>...</td>\n",
       "      <td>0.0</td>\n",
       "      <td>0.0</td>\n",
       "      <td>0.0</td>\n",
       "      <td>0.0</td>\n",
       "      <td>0.0</td>\n",
       "      <td>1.0</td>\n",
       "      <td>1.0</td>\n",
       "      <td>0.0</td>\n",
       "      <td>0.0</td>\n",
       "      <td>1.0</td>\n",
       "    </tr>\n",
       "    <tr>\n",
       "      <th>4</th>\n",
       "      <td>chr1</td>\n",
       "      <td>1215328</td>\n",
       "      <td>1215508</td>\n",
       "      <td>chr1:1215328-1215508</td>\n",
       "      <td>0.0</td>\n",
       "      <td>1.0</td>\n",
       "      <td>0.0</td>\n",
       "      <td>0</td>\n",
       "      <td>1</td>\n",
       "      <td>0</td>\n",
       "      <td>...</td>\n",
       "      <td>0.0</td>\n",
       "      <td>0.0</td>\n",
       "      <td>0.0</td>\n",
       "      <td>0.0</td>\n",
       "      <td>0.0</td>\n",
       "      <td>1.0</td>\n",
       "      <td>0.0</td>\n",
       "      <td>1.0</td>\n",
       "      <td>0.0</td>\n",
       "      <td>0.0</td>\n",
       "    </tr>\n",
       "  </tbody>\n",
       "</table>\n",
       "<p>5 rows × 26 columns</p>\n",
       "</div>"
      ],
      "text/plain": [
       "   #chr    start      end             region_id  conserved_active.regions  \\\n",
       "0  chr1   959034   959154    chr1:959034-959154                       0.0   \n",
       "1  chr1  1002089  1002179  chr1:1002089-1002179                       0.0   \n",
       "2  chr1  1064140  1064260  chr1:1064140-1064260                       0.0   \n",
       "3  chr1  1214948  1215208  chr1:1214948-1215208                       0.0   \n",
       "4  chr1  1215328  1215508  chr1:1215328-1215508                       0.0   \n",
       "\n",
       "   cis  trans  trans_only  cis_only  cis+trans  ...  \\\n",
       "0  1.0    1.0           0         0          1  ...   \n",
       "1  1.0    1.0           0         0          1  ...   \n",
       "2  1.0    0.0           0         1          0  ...   \n",
       "3  1.0    1.0           0         0          1  ...   \n",
       "4  1.0    0.0           0         1          0  ...   \n",
       "\n",
       "   HH-active_MM-inactive_MH-inactive_cis  \\\n",
       "0                                    1.0   \n",
       "1                                    1.0   \n",
       "2                                    1.0   \n",
       "3                                    0.0   \n",
       "4                                    0.0   \n",
       "\n",
       "   HH-active_MM-inactive_HM-inactive_trans  HH-active_MM-inactive_cis-only  \\\n",
       "0                                      1.0                             0.0   \n",
       "1                                      1.0                             0.0   \n",
       "2                                      0.0                             1.0   \n",
       "3                                      0.0                             0.0   \n",
       "4                                      0.0                             0.0   \n",
       "\n",
       "   HH-active_MM-inactive_trans-only  HH-active_MM-inactive_cis+trans  \\\n",
       "0                               0.0                              1.0   \n",
       "1                               0.0                              1.0   \n",
       "2                               0.0                              0.0   \n",
       "3                               0.0                              0.0   \n",
       "4                               0.0                              0.0   \n",
       "\n",
       "   MM-active_HH-inactive_HM-inactive_cis  \\\n",
       "0                                    0.0   \n",
       "1                                    0.0   \n",
       "2                                    0.0   \n",
       "3                                    1.0   \n",
       "4                                    1.0   \n",
       "\n",
       "   MM-active_HH-inactive_MH-inactive_trans  MM-active_HH-inactive_cis-only  \\\n",
       "0                                      0.0                             0.0   \n",
       "1                                      0.0                             0.0   \n",
       "2                                      0.0                             0.0   \n",
       "3                                      1.0                             0.0   \n",
       "4                                      0.0                             1.0   \n",
       "\n",
       "   MM-active_HH-inactive_trans-only  MM-active_HH-inactive_cis+trans  \n",
       "0                               0.0                              0.0  \n",
       "1                               0.0                              0.0  \n",
       "2                               0.0                              0.0  \n",
       "3                               0.0                              1.0  \n",
       "4                               0.0                              0.0  \n",
       "\n",
       "[5 rows x 26 columns]"
      ]
     },
     "execution_count": 13,
     "metadata": {},
     "output_type": "execute_result"
    }
   ],
   "source": [
    "annot = pd.read_csv(ANNOT, sep='\\t')\n",
    "annot.head()"
   ]
  },
  {
   "cell_type": "markdown",
   "metadata": {},
   "source": [
    "                                FANTOM annot+     FANTOM annot- \n",
    "                    HH_active    A               B\n",
    "    matched_shuffle HH_active    C               D"
   ]
  },
  {
   "cell_type": "code",
   "execution_count": 14,
   "metadata": {
    "ExecuteTime": {
     "end_time": "2023-11-20T19:21:42.598976Z",
     "start_time": "2023-11-20T19:21:42.400795Z"
    }
   },
   "outputs": [
    {
     "name": "stdout",
     "output_type": "stream",
     "text": [
      "[[125, 2910], [460, 29886]]\n",
      "regions_x_shuf_conserved_active.regions [[125, 2910], [460, 29886]] 2.790788883908561 1.0872889406047128e-19\n",
      "[[356, 9601], [1469, 98101]]\n",
      "regions_x_shuf_HH_active [[356, 9601], [1469, 98101]] 2.4761968506655867 3.015299886861623e-43\n",
      "[[355, 9624], [1513, 98246]]\n",
      "regions_x_shuf_MM_active [[355, 9624], [1513, 98246]] 2.395238083465054 1.2248944411761453e-40\n"
     ]
    }
   ],
   "source": [
    "collection={}\n",
    "cols = [\"conserved_active.regions\",'HH_active', \"MM_active\", ]\n",
    "for col in cols:\n",
    "    pos = annot.loc[annot[col]==1, \"region_id\"]\n",
    "    # get dataset and matched shuffle ids\n",
    "    test = df.loc[df[\"region_id\"].isin(pos)]\n",
    "    test_shuf = shuf.loc[shuf[\"region_id\"].isin(pos)]\n",
    "\n",
    "    # within set, how many elements have annotation, or don't.\n",
    "    in_annot = test.loc[test[\"len\"]>0].shape[0]\n",
    "    out_annot = test.loc[test[\"len\"]==0].shape[0]\n",
    "\n",
    "    # and in the shuffles?\n",
    "    inshuf_annot = test_shuf.loc[test_shuf[\"len\"]>0].shape[0]\n",
    "    outshuf_annot = test_shuf.loc[test_shuf[\"len\"]==0].shape[0]\n",
    "\n",
    "    result = fet.get_2x2(in_annot, out_annot, inshuf_annot,outshuf_annot, f\"regions_x_shuf_{col}\")\n",
    "    result[\"col\"], = col, \n",
    "\n",
    "    collection[col] = result"
   ]
  },
  {
   "cell_type": "markdown",
   "metadata": {},
   "source": [
    "## FDR correction "
   ]
  },
  {
   "cell_type": "code",
   "execution_count": 15,
   "metadata": {
    "ExecuteTime": {
     "end_time": "2023-11-20T19:21:42.614485Z",
     "start_time": "2023-11-20T19:21:42.600865Z"
    },
    "collapsed": true
   },
   "outputs": [],
   "source": [
    "fdr_res = fet.fdr_correction(collection)\n",
    "\n",
    "## fraction of annotations \n",
    "fdr_res[\"frac\"] = fdr_res[\"a\"]/(fdr_res[\"a\"]+fdr_res[\"b\"])\n",
    "fdr_res[\"frac_shuf\"] = fdr_res[\"c\"]/(fdr_res[\"c\"]+fdr_res[\"d\"])\n",
    "fdr_res[\"FDR_P2\"]= fdr_res[\"FDR_P\"].apply(lambda x: \"{:.1E}\".format(x))"
   ]
  },
  {
   "cell_type": "markdown",
   "metadata": {},
   "source": [
    "## plot results"
   ]
  },
  {
   "cell_type": "markdown",
   "metadata": {},
   "source": [
    "### fraction"
   ]
  },
  {
   "cell_type": "code",
   "execution_count": 16,
   "metadata": {
    "ExecuteTime": {
     "end_time": "2023-11-20T19:21:43.179753Z",
     "start_time": "2023-11-20T19:21:42.616188Z"
    }
   },
   "outputs": [
    {
     "name": "stderr",
     "output_type": "stream",
     "text": [
      "No handles with labels found to put in legend.\n"
     ]
    },
    {
     "data": {
      "image/png": "[encoded data removed]",
      "text/plain": [
       "<Figure size 864x432 with 2 Axes>"
      ]
     },
     "metadata": {
      "needs_background": "light"
     },
     "output_type": "display_data"
    }
   ],
   "source": [
    "fig, (ax1, ax2) = plt.subplots(ncols=2, figsize=(12, 6))\n",
    "\n",
    "# plot fraction\n",
    "x=\"col\"\n",
    "y=\"frac\"\n",
    "order = cols\n",
    "data=fdr_res.sort_values(by=\"frac\", ascending=False)\n",
    "\n",
    "data = data.set_index(x)\n",
    "data = data.reindex(order).reset_index()\n",
    "\n",
    "sns.barplot(x=y,y=x,data=data, \n",
    "            palette = \"Blues\", order=order, \n",
    "              ax=ax1\n",
    "             )\n",
    "\n",
    "\n",
    "# annotations\n",
    "data_ORs = list(data[\"OR\"].round(2))\n",
    "data_counts = list(data[\"a\"])\n",
    "ps = list(data[\"FDR_P2\"])\n",
    "\n",
    "for i, p in enumerate(ax1.patches):\n",
    "    percentage = f\"OR={data_ORs[i]}x, FDRp={ps[i]}, n={data_counts[i]}\"\n",
    "    x_ = p.get_x() + p.get_width()/2 -0.01\n",
    "    y_ = p.get_y() + p.get_height()/2#+0.1\n",
    "    ax1.annotate(percentage, (x_, y_),\n",
    "                #rotation=90,\n",
    "                size = 14, \n",
    "\n",
    "               )\n",
    "# plot shuffle\n",
    "\n",
    "# plot zero\n",
    "ax1.axvline(0, ls=\"--\", c=\"k\")\n",
    "\n",
    "#set\n",
    "ax1.set(title=\"FANTOM B-cells\",\n",
    "      xlabel=\"fraction overlap\",\n",
    "        ylabel=\"\"\n",
    "      )\n",
    "ax1.legend().remove()\n",
    "\n",
    "\n",
    "\n",
    "# plot OR\n",
    "y=\"col\"\n",
    "x=\"OR_log2\"\n",
    "\n",
    "\n",
    "sns.pointplot(x=x, y=y, xerr='ci_upper_diff', data=data, ax=ax2, join=False, palette=\"Blues\", order=order, )\n",
    "plt.errorbar(x=x, y=y, xerr='ci_upper_diff', data=data, linestyle=\" \")\n",
    "ax2.axvline(0, ls=\"--\", c=\"k\")\n",
    "ax2.set(xlabel=\"FET log2(OR)\", \n",
    "      title = \"\",\n",
    "        ylabel=\"\"\n",
    "      )\n",
    "ax2.set_yticklabels(\"\")\n",
    "ax2.legend().remove()\n",
    "\n",
    "# plot the OR\n",
    "OR=data[\"OR\"].iloc[0].round(2)\n",
    "#ax2.annotate(f\"{OR}x\", xy=(1.1,-0.003))\n",
    "\n",
    "outfig = os.path.join(RE, f\"regionsxFANTOMBcell_spcies.pdf\")\n",
    "plt.savefig(outfig, bbox_inches=\"tight\")"
   ]
  },
  {
   "cell_type": "code",
   "execution_count": 17,
   "metadata": {
    "ExecuteTime": {
     "end_time": "2023-11-20T19:21:43.555134Z",
     "start_time": "2023-11-20T19:21:43.181905Z"
    }
   },
   "outputs": [
    {
     "name": "stdout",
     "output_type": "stream",
     "text": [
      "[[125, 2910], [460, 29886]]\n",
      "regions_x_shuf_conserved_active.regions [[125, 2910], [460, 29886]] 2.790788883908561 1.0872889406047128e-19\n",
      "[[356, 9601], [1469, 98101]]\n",
      "regions_x_shuf_HH_active [[356, 9601], [1469, 98101]] 2.4761968506655867 3.015299886861623e-43\n",
      "[[355, 9624], [1513, 98246]]\n",
      "regions_x_shuf_MM_active [[355, 9624], [1513, 98246]] 2.395238083465054 1.2248944411761453e-40\n",
      "[[44, 1070], [175, 10966]]\n",
      "regions_x_shuf_HH-active_MM-inactive_cis-only [[44, 1070], [175, 10966]] 2.5767903871829105 5.539369431506512e-07\n",
      "[[48, 764], [109, 8012]]\n",
      "regions_x_shuf_HH-active_MM-inactive_trans-only [[48, 764], [109, 8012]] 4.618089245400836 1.216893720788919e-14\n",
      "[[115, 4516], [670, 45642]]\n",
      "regions_x_shuf_HH-active_MM-inactive_cis+trans [[115, 4516], [670, 45642]] 1.7347375170207422 3.4338667488491704e-07\n",
      "[[51, 991], [164, 10237]]\n",
      "regions_x_shuf_MM-active_HH-inactive_cis-only [[51, 991], [164, 10237]] 3.212368634786247 1.0421500628905652e-10\n",
      "[[44, 1127], [177, 11533]]\n",
      "regions_x_shuf_MM-active_HH-inactive_trans-only [[44, 1127], [177, 11533]] 2.5438868251795927 6.418223377295853e-07\n",
      "[[106, 3889], [597, 39344]]\n",
      "regions_x_shuf_MM-active_HH-inactive_cis+trans [[106, 3889], [597, 39344]] 1.7962720088830197 2.818682591133016e-07\n"
     ]
    }
   ],
   "source": [
    "collection={}\n",
    "cols = [#'HH_active', \"MM_active\", \"cis_only\", \"trans_only\", \"cis+trans\",\n",
    "    \"conserved_active.regions\",\n",
    "    'HH_active', \"MM_active\",\n",
    "        'HH-active_MM-inactive_cis-only',\n",
    "        'HH-active_MM-inactive_trans-only',\n",
    "        'HH-active_MM-inactive_cis+trans',\n",
    "        'MM-active_HH-inactive_cis-only',\n",
    "        'MM-active_HH-inactive_trans-only',\n",
    "        'MM-active_HH-inactive_cis+trans'\n",
    "       ]\n",
    "for col in cols:\n",
    "    pos = annot.loc[annot[col]==1, \"region_id\"]\n",
    "    # get dataset and matched shuffle ids\n",
    "    test = df.loc[df[\"region_id\"].isin(pos)]\n",
    "    test_shuf = shuf.loc[shuf[\"region_id\"].isin(pos)]\n",
    "\n",
    "    # within set, how many elements have annotation, or don't.\n",
    "    in_annot = test.loc[test[\"len\"]>0].shape[0]\n",
    "    out_annot = test.loc[test[\"len\"]==0].shape[0]\n",
    "\n",
    "    # and in the shuffles?\n",
    "    inshuf_annot = test_shuf.loc[test_shuf[\"len\"]>0].shape[0]\n",
    "    outshuf_annot = test_shuf.loc[test_shuf[\"len\"]==0].shape[0]\n",
    "\n",
    "    result = fet.get_2x2(in_annot, out_annot, inshuf_annot,outshuf_annot, f\"regions_x_shuf_{col}\")\n",
    "    result[\"col\"], = col, \n",
    "\n",
    "    collection[col] = result"
   ]
  },
  {
   "cell_type": "code",
   "execution_count": 18,
   "metadata": {
    "ExecuteTime": {
     "end_time": "2023-11-20T19:21:43.573036Z",
     "start_time": "2023-11-20T19:21:43.557120Z"
    },
    "collapsed": true
   },
   "outputs": [],
   "source": [
    "fdr_res_div = fet.fdr_correction(collection)\n",
    "\n",
    "## fraction of annotations \n",
    "fdr_res_div[\"frac\"] = fdr_res_div[\"a\"]/(fdr_res_div[\"a\"]+fdr_res_div[\"b\"])\n",
    "fdr_res_div[\"frac_shuf\"] = fdr_res_div[\"c\"]/(fdr_res_div[\"c\"]+fdr_res_div[\"d\"])\n",
    "fdr_res_div[\"FDR_P2\"]= fdr_res_div[\"FDR_P\"].apply(lambda x: \"{:.1E}\".format(x))"
   ]
  },
  {
   "cell_type": "markdown",
   "metadata": {},
   "source": [
    "## write"
   ]
  },
  {
   "cell_type": "code",
   "execution_count": 21,
   "metadata": {
    "ExecuteTime": {
     "end_time": "2023-11-20T19:22:37.609679Z",
     "start_time": "2023-11-20T19:22:37.591056Z"
    },
    "collapsed": true
   },
   "outputs": [],
   "source": [
    "col_order = [\n",
    "            'comparison',\n",
    "            'col',\n",
    "            'frac',\n",
    "            'OR',\n",
    "            'FDR_P',\n",
    "             'a',\n",
    "            'b',\n",
    "            'c',\n",
    "            'd',\n",
    "            'P',\n",
    "            'ci_lower',\n",
    "            'ci_lower_diff',\n",
    "            'ci_upper',\n",
    "            'ci_upper_diff',\n",
    "            'OR_log2',\n",
    "            'ci_lower_log2',\n",
    "            'ci_upper_log2',\n",
    "            'reject_null',\n",
    "            'asterisks',\n",
    "            '-log10p',\n",
    "            'frac_shuf',\n",
    "            'FDR_P2'\n",
    "            ]\n",
    "fdr_res_div[col_order].to_csv(out_results, sep='\\t', index=False)"
   ]
  },
  {
   "cell_type": "markdown",
   "metadata": {
    "ExecuteTime": {
     "end_time": "2023-05-19T22:18:18.095782Z",
     "start_time": "2023-05-19T22:18:18.092072Z"
    }
   },
   "source": [
    "# cis, trans , cis +trans"
   ]
  },
  {
   "cell_type": "code",
   "execution_count": 20,
   "metadata": {
    "ExecuteTime": {
     "end_time": "2023-05-19T22:22:41.051518Z",
     "start_time": "2023-05-19T22:22:40.434501Z"
    }
   },
   "outputs": [
    {
     "name": "stderr",
     "output_type": "stream",
     "text": [
      "No handles with labels found to put in legend.\n"
     ]
    },
    {
     "data": {
      "image/png": "[encoded data removed]",
      "text/plain": [
       "<Figure size 864x432 with 2 Axes>"
      ]
     },
     "metadata": {
      "needs_background": "light"
     },
     "output_type": "display_data"
    }
   ],
   "source": [
    "fig, (ax1, ax2) = plt.subplots(ncols=2, figsize=(12, 6))\n",
    "\n",
    "# plot fraction\n",
    "x=\"col\"\n",
    "y=\"frac\"\n",
    "order = ['conserved_active.regions',\n",
    "    'HH-active_MM-inactive_cis-only',\n",
    "    'HH-active_MM-inactive_trans-only',\n",
    "    'HH-active_MM-inactive_cis+trans',\n",
    "    'MM-active_HH-inactive_cis-only',\n",
    "    'MM-active_HH-inactive_trans-only',\n",
    "    'MM-active_HH-inactive_cis+trans',\n",
    "    ]\n",
    "\n",
    "data=fdr_res_div.sort_values(by=\"frac\", ascending=False)\n",
    "\n",
    "# indexing hell\n",
    "data = data.set_index(x)\n",
    "data = data.reindex(order).reset_index()\n",
    "\n",
    "sns.barplot(x=y,y=x,data=data, \n",
    "            palette = \"Blues\", order=order, \n",
    "              ax=ax1\n",
    "             )\n",
    "\n",
    "\n",
    "# annotations\n",
    "data_ORs = list(data[\"OR\"].round(2))\n",
    "data_counts = list(data[\"a\"])\n",
    "ps = list(data[\"FDR_P2\"])\n",
    "\n",
    "for i, p in enumerate(ax1.patches):\n",
    "    percentage = f\"OR={data_ORs[i]}x, FDRp={ps[i]}, n={data_counts[i]}\"\n",
    "    x_ = p.get_x() + p.get_width()/2 -0.01\n",
    "    y_ = p.get_y() + p.get_height()/2#+0.1\n",
    "    ax1.annotate(percentage, (x_, y_),\n",
    "                #rotation=90,\n",
    "                size = 14, \n",
    "\n",
    "               )\n",
    "# plot shuffle\n",
    "\n",
    "# plot zero\n",
    "ax1.axvline(0, ls=\"--\", c=\"k\")\n",
    "\n",
    "#set\n",
    "ax1.set(title=\"FANTOM B-cells\",\n",
    "      xlabel=\"fraction overlap\",\n",
    "        ylabel=\"\"\n",
    "      )\n",
    "ax1.legend().remove()\n",
    "\n",
    "\n",
    "\n",
    "# plot OR\n",
    "y=\"col\"\n",
    "x=\"OR_log2\"\n",
    "#data=fdr_res_div.sort_values(by=\"OR_log2\", ascending=True)\n",
    "\n",
    "sns.pointplot(x=x, y=y, xerr='ci_upper_diff', data=data, ax=ax2, join=False, palette=\"Blues\", order=order, )\n",
    "plt.errorbar(x=x, y=y, xerr='ci_upper_diff', data=data, linestyle=\" \")\n",
    "ax2.axvline(0, ls=\"--\", c=\"k\")\n",
    "ax2.set(xlabel=\"FET log2(OR)\", \n",
    "      title = \"\",\n",
    "        ylabel=\"\"\n",
    "      )\n",
    "ax2.set_yticklabels(\"\")\n",
    "ax2.legend().remove()\n",
    "\n",
    "# plot the OR\n",
    "OR=data[\"OR\"].iloc[0].round(2)\n",
    "#ax2.annotate(f\"{OR}x\", xy=(1.1,-0.003))\n",
    "\n",
    "outfig = os.path.join(RE, f\"cis_trans_regionsxFANTOMBcell.pdf\")\n",
    "plt.savefig(outfig, bbox_inches=\"tight\")"
   ]
  },
  {
   "cell_type": "code",
   "execution_count": null,
   "metadata": {
    "collapsed": true
   },
   "outputs": [],
   "source": []
  }
 ],
 "metadata": {
  "kernelspec": {
   "display_name": "Python (sfenv)",
   "language": "python",
   "name": "sfenv"
  },
  "language_info": {
   "codemirror_mode": {
    "name": "ipython",
    "version": 3
   },
   "file_extension": ".py",
   "mimetype": "text/x-python",
   "name": "python",
   "nbconvert_exporter": "python",
   "pygments_lexer": "ipython3",
   "version": "3.6.10"
  },
  "toc": {
   "base_numbering": 1,
   "nav_menu": {},
   "number_sections": true,
   "sideBar": true,
   "skip_h1_title": false,
   "title_cell": "Table of Contents",
   "title_sidebar": "Contents",
   "toc_cell": false,
   "toc_position": {},
   "toc_section_display": true,
   "toc_window_display": false
  }
 },
 "nbformat": 4,
 "nbformat_minor": 2
}
