{
 "cells": [
  {
   "cell_type": "code",
   "execution_count": 1,
   "id": "31a241c7",
   "metadata": {
    "ExecuteTime": {
     "end_time": "2022-07-08T00:05:59.114691Z",
     "start_time": "2022-07-08T00:05:57.297662Z"
    }
   },
   "outputs": [],
   "source": [
    "from functools import partial\n",
    "from itertools import product\n",
    "import glob\n",
    "import numpy as np\n",
    "import os\n",
    "import pandas as pd\n",
    "import pybedtools as pbt\n",
    "import statsmodels\n",
    "import subprocess\n",
    "import sys\n",
    "\n",
    "sys.path.append(\"/dors/capra_lab/users/fongsl/tools/py_/\")\n",
    "import config_readwrite as crw\n",
    "sys.path.append(\"/dors/capra_lab/users/fongsl/tools/genome/\")\n",
    "\n",
    "import fet\n",
    "import chr_functions\n",
    "import split_filename"
   ]
  },
  {
   "cell_type": "code",
   "execution_count": 2,
   "id": "3d6bc0a4",
   "metadata": {
    "ExecuteTime": {
     "end_time": "2022-07-08T00:05:59.830595Z",
     "start_time": "2022-07-08T00:05:59.806763Z"
    }
   },
   "outputs": [
    {
     "name": "stdout",
     "output_type": "stream",
     "text": [
      "MA\n"
     ]
    }
   ],
   "source": [
    "name = \"/data/hodges_lab/ATAC-STARR_B-cells/bin_human-evolution/config\"\n",
    "config, configfile_name = crw.read_config(name)\n",
    "\n",
    "SHUF_PATH = config[\"SHUFFLES\"][\"path\"]\n",
    "REGIONS = config[\"CIS_TRANS_LIFTOVER\"][\"regions\"]\n",
    "REGION_ANNOT = config[\"CIS_TRANS\"][\"regions_annotations\"]\n",
    "\n",
    "CL = \"LCL8664\"\n",
    "\n",
    "ID_TAG = config[\"TF_FOOTPRINTING_JASPAR\"][\"ID_TAG\"]\n",
    "print(ID_TAG)\n",
    "FP_RE = config[f\"TF_FOOTPRINTING_JASPAR_{CL}\"][\"FP\"]\n",
    "FP_OR_RE = config[f\"TF_FOOTPRINTING_JASPAR_{CL}\"][\"FP_OR\"] # write\n",
    "FP_SHUF_OR_RE = config[f\"TF_FOOTPRINTING_JASPAR_{CL}\"][\"FP_SHUF_OR\"]  # write\n",
    "FP_HH_OR_RE = config[f\"TF_FOOTPRINTING_JASPAR_{CL}\"]['FP_HH_OR']  # write\n",
    "FP_MM_OR_RE = config[f\"TF_FOOTPRINTING_JASPAR_{CL}\"]['FP_MM_OR']  # write\n",
    "\n",
    "\n",
    "RE = config[\"TF_FOOTPRINTING\"][\"results\"]\n",
    "\n",
    "\n",
    "path, region_file, region = split_filename.split_filename(REGIONS)"
   ]
  },
  {
   "cell_type": "code",
   "execution_count": 3,
   "id": "332e159f",
   "metadata": {
    "ExecuteTime": {
     "end_time": "2022-07-08T00:06:08.383932Z",
     "start_time": "2022-07-08T00:06:00.952044Z"
    }
   },
   "outputs": [],
   "source": [
    "fp = pd.read_csv(FP_RE, sep = '\\t')\n",
    "\n",
    "regions = pd.read_csv(REGION_ANNOT, sep ='\\t',low_memory=False)"
   ]
  },
  {
   "cell_type": "markdown",
   "id": "1cb80074",
   "metadata": {},
   "source": [
    "# Functions "
   ]
  },
  {
   "cell_type": "markdown",
   "id": "686b4880",
   "metadata": {},
   "source": [
    "1. get sets of region ids for testing enrichment. \n",
    "2. get counts of FP in test regions v. FP not in test regions"
   ]
  },
  {
   "cell_type": "code",
   "execution_count": 4,
   "id": "65a6bd48",
   "metadata": {
    "ExecuteTime": {
     "end_time": "2022-07-08T00:06:35.933617Z",
     "start_time": "2022-07-08T00:06:35.921650Z"
    }
   },
   "outputs": [],
   "source": [
    "def get_fp_counts(test, df):\n",
    "    \n",
    "    \"\"\"\n",
    "    return sets of region ids that overlap/do not overlap test column.\n",
    "    \"\"\"\n",
    "    \n",
    "    test_region_ids = set(df.loc[df[test]==1, \"region_id\"])\n",
    "    nottest_region_ids = set(df.loc[df[test]!=1, \"region_id\"])\n",
    "    \n",
    "    return test_region_ids, nottest_region_ids"
   ]
  },
  {
   "cell_type": "code",
   "execution_count": 5,
   "id": "5b75dab4",
   "metadata": {
    "ExecuteTime": {
     "end_time": "2022-07-08T00:07:39.683846Z",
     "start_time": "2022-07-08T00:07:39.665196Z"
    }
   },
   "outputs": [],
   "source": [
    "def make_2x2_among_active(test_tf, tf, ytest, ntest):\n",
    "    \n",
    "    \"\"\"\n",
    "    return counts of TF FP \n",
    "    \n",
    "    input\n",
    "        test_tf (dataframe)\n",
    "        tf (str)\n",
    "        ytest (list) - region ids w/ test label\n",
    "        ntest (list) - region ids w/o test label\n",
    "    \"\"\"\n",
    "    \n",
    "    if len(set(test_tf[tf]))>1:  # check that TF footprints at all. \n",
    "\n",
    "        # differential FP in yes test set?\n",
    "        first_set = set(test_tf.loc[test_tf[\"region_id\"].isin(ytest), tf])\n",
    "        \n",
    "        if len(first_set)>1:\n",
    "\n",
    "            b,a = test_tf.loc[test_tf[\"region_id\"].isin(ytest)].groupby(tf).count().reset_index().iloc[:, 1]\n",
    "            \n",
    "        elif False in first_set:\n",
    "            b,a = len(ytest), 0  # all values are False in y set\n",
    "        \n",
    "        else:\n",
    "            b,a = 0, len(ytest)  # all values are True in y set\n",
    "\n",
    "        # differential FP in no test set?  \n",
    "        second_set = set(test_tf.loc[test_tf[\"region_id\"].isin(ntest), tf])\n",
    "\n",
    "        if len(second_set)>1:   \n",
    "            d,c = test_tf.loc[test_tf[\"region_id\"].isin(ntest)].groupby(tf).count().reset_index().iloc[:, 1]\n",
    "\n",
    "        elif False in second_set:\n",
    "            d,c = len(ntest), 0  # all values are False in n set\n",
    "            \n",
    "        else:\n",
    "            d,c = 0, len(ntest) # all values are True in n set\n",
    "            \n",
    "    else:\n",
    "        a,b,c,d = 0,0,0,0\n",
    "    \n",
    "    return a,b,c,d\n",
    "    "
   ]
  },
  {
   "cell_type": "markdown",
   "id": "b07f2c69",
   "metadata": {},
   "source": [
    "# make a list of TFs"
   ]
  },
  {
   "cell_type": "code",
   "execution_count": 6,
   "id": "5952216e",
   "metadata": {
    "ExecuteTime": {
     "end_time": "2022-07-08T00:07:41.080468Z",
     "start_time": "2022-07-08T00:07:41.055693Z"
    }
   },
   "outputs": [
    {
     "data": {
      "text/plain": [
       "746"
      ]
     },
     "execution_count": 6,
     "metadata": {},
     "output_type": "execute_result"
    }
   ],
   "source": [
    "#col = 'HH-active_MM-inactive_cis+trans'\n",
    "\n",
    "tfs = list(fp)[4:]  #list of TF names to test\n",
    "\n",
    "len(tfs)"
   ]
  },
  {
   "cell_type": "markdown",
   "id": "5a340fed",
   "metadata": {},
   "source": [
    "# compare with shuffles\n",
    "- this takes 6h to run!\n",
    "- compare whether footprints are enriched in active categories v. flanking. \n",
    "- This is only 10 shuffles in flanking, sharedAccessible regions. \n",
    "- Not sure I would expect we would see a difference in TF footprinting between shuffles and active regions"
   ]
  },
  {
   "cell_type": "code",
   "execution_count": 7,
   "id": "62b22ff1",
   "metadata": {
    "ExecuteTime": {
     "end_time": "2022-07-08T00:07:53.049254Z",
     "start_time": "2022-07-08T00:07:53.039872Z"
    }
   },
   "outputs": [],
   "source": [
    "test_cols = [ \n",
    "            \"cis\", \"trans\", \n",
    "            'HH-active_MM-inactive_MH-inactive_cis',\n",
    "            'HH-active_MM-inactive_HM-inactive_trans',\n",
    "            'HH-active_MM-inactive_cis-only',\n",
    "            'HH-active_MM-inactive_trans-only',\n",
    "            'HH-active_MM-inactive_cis+trans',\n",
    "            'MM-active_HH-inactive_HM-inactive_cis',\n",
    "            'MM-active_HH-inactive_MH-inactive_trans',\n",
    "            'MM-active_HH-inactive_cis-only',\n",
    "            'MM-active_HH-inactive_trans-only',\n",
    "            'MM-active_HH-inactive_cis+trans',\n",
    "            \"cis_only\",\n",
    "            \"trans_only\", \n",
    "            \"cis+trans\"\n",
    "                  ]"
   ]
  },
  {
   "cell_type": "markdown",
   "id": "156a6cbb",
   "metadata": {},
   "source": [
    "# Slurm jobs for shuffle enrichment"
   ]
  },
  {
   "cell_type": "code",
   "execution_count": 8,
   "id": "2dcfeb3a",
   "metadata": {
    "ExecuteTime": {
     "end_time": "2022-07-08T00:08:03.985212Z",
     "start_time": "2022-07-08T00:07:59.596454Z"
    },
    "scrolled": true
   },
   "outputs": [],
   "source": [
    "if os.path.exists(FP_SHUF_OR_RE) is False:\n",
    "    \n",
    "    # run slurm job\n",
    "    for col in test_cols:\n",
    "        out = os.path.join(RE, f\"{CL}-{col}_x_shuf_OR.tsv\")\n",
    "\n",
    "        cmd = f\"sbatch /data/hodges_lab/ATAC-STARR_B-cells/bin_human-evolution/TF_FP/run_fp.slurm {col} {CL}\"\n",
    "\n",
    "        if os.path.exists(out) is False:\n",
    "            subprocess.call(cmd, shell = True)\n",
    "\n",
    "        else:\n",
    "            numlines = sum(1 for line in open(out))\n",
    "            if numlines< 746:\n",
    "\n",
    "                subprocess.call(cmd, shell = True)\n",
    "            else:\n",
    "                print(\"already run\", out)\n"
   ]
  },
  {
   "cell_type": "markdown",
   "id": "3b420304",
   "metadata": {},
   "source": [
    "# merge all the results together.  "
   ]
  },
  {
   "cell_type": "code",
   "execution_count": null,
   "id": "ae01bc0e",
   "metadata": {},
   "outputs": [],
   "source": [
    "# save the file\n",
    "fs = glob.glob(os.path.join(RE, f\"{CL}-*_x_shuf_OR.tsv\"))"
   ]
  },
  {
   "cell_type": "markdown",
   "id": "08ae1178",
   "metadata": {},
   "source": [
    "# merge all the rheMac 10 regions v. shuffled TF FP OR results\n",
    "and write file: /data/hodges_lab/ATAC-STARR_B-cells/results/results_human-evolution/TF_footprinting/rhe_footprinting_shuf_JASPAR_OR.tsv"
   ]
  },
  {
   "cell_type": "code",
   "execution_count": null,
   "id": "137e0a0c",
   "metadata": {},
   "outputs": [],
   "source": [
    "merged_results = {}\n",
    "for i, f in enumerate(fs):\n",
    "\n",
    "    d = pd.read_csv(f, sep = '\\t')\n",
    "    merged_results[i]=d\n",
    "\n",
    "results_fpVshuf_OR = pd.concat(merged_results.values()).drop_duplicates()\n",
    "results_fpVshuf_OR.groupby(\"tested\")[\"arch_id\"].count()"
   ]
  },
  {
   "cell_type": "markdown",
   "id": "4c960a95",
   "metadata": {},
   "source": [
    "## clean up"
   ]
  },
  {
   "cell_type": "code",
   "execution_count": null,
   "id": "5ccb2bac",
   "metadata": {},
   "outputs": [],
   "source": [
    "\"\"\"\n",
    "This is why we clean up the dataframe below: \n",
    "\n",
    "an example duplicate record\n",
    "\"\"\"\n",
    "results_fpVshuf_OR.loc[(results_fpVshuf_OR[\"tested\"] == \"MM-active_HH-inactive_trans-only\")\n",
    "                                    & (results_fpVshuf_OR[\"arch_id\"] == \"THRBVAR.2_MA1575.1\")]"
   ]
  },
  {
   "cell_type": "code",
   "execution_count": null,
   "id": "7c1b15f0",
   "metadata": {},
   "outputs": [],
   "source": [
    "\"\"\"\n",
    "1. drop na's\n",
    "2. reset the index\n",
    "3. find index for all duplicate tests per activity category/TF FP (results are the same) \n",
    "4. drop duplicate indexes.\n",
    "5. drop index column\n",
    "6. add TF column\n",
    "6. save unique results\n",
    "\n",
    "\"\"\"\n",
    "\n",
    "#1\n",
    "results_fpVshuf_OR = results_fpVshuf_OR.loc[~results_fpVshuf_OR[\"reject_null\"].isna()] \n",
    "\n",
    "#2\n",
    "results_fpVshuf_OR = results_fpVshuf_OR.reset_index() # reset the index\n",
    "\n",
    "#3\n",
    "drop = []\n",
    "for act in set(list(results_fpVshuf_OR[\"tested\"])):\n",
    "    for tf in set(list(results_fpVshuf_OR[\"arch_id\"])):\n",
    "        test = results_fpVshuf_OR.loc[(results_fpVshuf_OR[\"tested\"] == act)\n",
    "                                    & (results_fpVshuf_OR[\"arch_id\"] == tf)]\n",
    "\n",
    "        if len(test)>1:  # find duplicates\n",
    "            drop.append(test.index[-1]) # get all the indexes to drop\n",
    "\n",
    "#4\n",
    "d = results_fpVshuf_OR.drop(drop)\n",
    "\n",
    "print(d.groupby(\"tested\")[\"arch_id\"].count())\n",
    "\n",
    "#5\n",
    "d = d.drop(columns = [\"index\"])\n",
    "\n",
    "#6\n",
    "d[\"TF\"] = d[\"arch_id\"].apply(lambda x: x.split(\"_\")[0])\n",
    "\n",
    "#7\n",
    "d.to_csv(FP_SHUF_OR_RE, sep = '\\t',index=False)\n",
    "\n",
    "print(results_fpVshuf_OR.shape, d.shape, len(set(drop)))\n",
    "\n",
    "d.head()"
   ]
  },
  {
   "cell_type": "code",
   "execution_count": null,
   "id": "e75914d0",
   "metadata": {},
   "outputs": [],
   "source": [
    "set(re[\"TF\"])"
   ]
  },
  {
   "cell_type": "code",
   "execution_count": null,
   "id": "abd326f2",
   "metadata": {},
   "outputs": [],
   "source": [
    "CL = \"GM12878\"\n",
    "FP_SHUF_OR_RE = config[f\"TF_FOOTPRINTING_JASPAR_{CL}\"][\"FP_SHUF_OR\"]  # write\n",
    "\n",
    "g = pd.read_csv(FP_SHUF_OR_RE,sep='\\t')\n",
    "\n",
    "set(g[\"TF\"])"
   ]
  },
  {
   "cell_type": "code",
   "execution_count": null,
   "id": "ae47331a",
   "metadata": {},
   "outputs": [],
   "source": [
    "re.head()"
   ]
  },
  {
   "cell_type": "code",
   "execution_count": null,
   "id": "96237560",
   "metadata": {},
   "outputs": [],
   "source": [
    "re.loc[re[\"TF\"].str.contains(\"ALX1\")]"
   ]
  },
  {
   "cell_type": "code",
   "execution_count": null,
   "id": "abe56ea2",
   "metadata": {},
   "outputs": [],
   "source": []
  }
 ],
 "metadata": {
  "kernelspec": {
   "display_name": "Python (sfenv)",
   "language": "python",
   "name": "sfenv"
  },
  "language_info": {
   "codemirror_mode": {
    "name": "ipython",
    "version": 3
   },
   "file_extension": ".py",
   "mimetype": "text/x-python",
   "name": "python",
   "nbconvert_exporter": "python",
   "pygments_lexer": "ipython3",
   "version": "3.6.5"
  },
  "toc": {
   "base_numbering": 1,
   "nav_menu": {},
   "number_sections": true,
   "sideBar": true,
   "skip_h1_title": false,
   "title_cell": "Table of Contents",
   "title_sidebar": "Contents",
   "toc_cell": false,
   "toc_position": {},
   "toc_section_display": true,
   "toc_window_display": false
  }
 },
 "nbformat": 4,
 "nbformat_minor": 5
}
