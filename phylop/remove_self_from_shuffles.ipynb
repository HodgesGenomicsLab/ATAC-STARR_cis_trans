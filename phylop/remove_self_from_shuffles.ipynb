{
 "cells": [
  {
   "cell_type": "code",
   "execution_count": 4,
   "id": "4926bfb1",
   "metadata": {
    "ExecuteTime": {
     "end_time": "2022-05-25T21:25:20.588665Z",
     "start_time": "2022-05-25T21:25:20.580884Z"
    }
   },
   "outputs": [],
   "source": [
    "import os, sys\n",
    "import pybedtools as pb\n",
    "\n",
    "sys.path.append(\"/dors/capra_lab/users/fongsl/tools/py_/\")\n",
    "import config_readwrite as crw"
   ]
  },
  {
   "cell_type": "code",
   "execution_count": 6,
   "id": "321fdc7f",
   "metadata": {
    "ExecuteTime": {
     "end_time": "2022-05-25T21:26:24.004941Z",
     "start_time": "2022-05-25T21:26:23.987986Z"
    }
   },
   "outputs": [],
   "source": [
    "NAME = \"/data/hodges_lab/ATAC-STARR_B-cells/bin_human-evolution/config\"\n",
    "configF, configfile_nameF = crw.read_config(NAME)\n",
    "\n",
    "SHUF_REGION_MAPPING = configF[\"SHUFFLES\"]['shuf-all']\n",
    "SHUF_PATH = configF[\"SHUFFLES\"][\"path\"]"
   ]
  },
  {
   "cell_type": "code",
   "execution_count": 8,
   "id": "f28567f8",
   "metadata": {
    "ExecuteTime": {
     "end_time": "2022-05-25T21:27:29.684757Z",
     "start_time": "2022-05-25T21:27:29.677465Z"
    }
   },
   "outputs": [
    {
     "name": "stdout",
     "output_type": "stream",
     "text": [
      "python /dors/capra_lab/users/fongsl/tools/genome/self_hg38.py -b /data/hodges_lab/ATAC-STARR_B-cells/data/hansen-fong/bkgd_sharedAcc_regions/shuffles/shuf-all_uniq_diffAct_regions2-all.bed -o /data/hodges_lab/ATAC-STARR_B-cells/data/hansen-fong/bkgd_sharedAcc_regions/shuffles\n"
     ]
    }
   ],
   "source": [
    "self_script = \"/dors/capra_lab/users/fongsl/tools/genome/self_hg38.py\"\n",
    "\n",
    "cmd = f\"python {self_script} -b {SHUF_REGION_MAPPING} -o {SHUF_PATH}\"\n",
    "print(cmd)\n",
    "os.system(cmd)"
   ]
  },
  {
   "cell_type": "code",
   "execution_count": null,
   "id": "116fcef5",
   "metadata": {},
   "outputs": [],
   "source": []
  }
 ],
 "metadata": {
  "kernelspec": {
   "display_name": "Python 3",
   "language": "python",
   "name": "python3"
  },
  "language_info": {
   "codemirror_mode": {
    "name": "ipython",
    "version": 3
   },
   "file_extension": ".py",
   "mimetype": "text/x-python",
   "name": "python",
   "nbconvert_exporter": "python",
   "pygments_lexer": "ipython3",
   "version": "3.6.5"
  },
  "toc": {
   "base_numbering": 1,
   "nav_menu": {},
   "number_sections": true,
   "sideBar": true,
   "skip_h1_title": false,
   "title_cell": "Table of Contents",
   "title_sidebar": "Contents",
   "toc_cell": false,
   "toc_position": {},
   "toc_section_display": true,
   "toc_window_display": false
  }
 },
 "nbformat": 4,
 "nbformat_minor": 5
}
