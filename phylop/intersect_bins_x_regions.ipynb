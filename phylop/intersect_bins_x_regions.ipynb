{
 "cells": [
  {
   "cell_type": "code",
   "execution_count": 1,
   "id": "0ba1a97b",
   "metadata": {
    "ExecuteTime": {
     "end_time": "2022-05-27T15:52:21.337021Z",
     "start_time": "2022-05-27T15:52:04.377858Z"
    }
   },
   "outputs": [],
   "source": [
    "import glob\n",
    "import itertools \n",
    "import matplotlib.pyplot as plt\n",
    "import numpy as np\n",
    "import os, sys\n",
    "import pybedtools as pb\n",
    "import pandas as pd\n",
    "from scipy import stats\n",
    "\n",
    "import seaborn as sns\n",
    "from sklearn.linear_model import LinearRegression\n",
    "import statsmodels.api as sm\n",
    "import subprocess\n",
    "import time\n",
    "\n",
    "\n",
    "sys.path.append(\"/dors/capra_lab/users/fongsl/tools/py_/\")\n",
    "import count_lines as cl\n",
    "import fet\n",
    "import plot_params as pp\n",
    "\n",
    "sys.path.append(\"/dors/capra_lab/users/fongsl/tools/genome/\")\n",
    "import config_readwrite as crw\n",
    "import chr_functions\n",
    "import split_filename"
   ]
  },
  {
   "cell_type": "markdown",
   "id": "4e202928",
   "metadata": {},
   "source": [
    "# regions config "
   ]
  },
  {
   "cell_type": "code",
   "execution_count": 2,
   "id": "62f678c5",
   "metadata": {
    "ExecuteTime": {
     "end_time": "2022-05-27T15:52:21.355526Z",
     "start_time": "2022-05-27T15:52:21.341223Z"
    }
   },
   "outputs": [],
   "source": [
    "NAME = \"/data/hodges_lab/ATAC-STARR_B-cells/bin_human-evolution/config\"\n",
    "configF, configfile_nameF = crw.read_config(NAME)\n",
    "\n",
    "REGIONS = configF[\"CIS_TRANS\"][\"regions\"] # intersect w/extended summits\n",
    "REGIONS_ANNOT = configF[\"CIS_TRANS\"][\"regions_annotations\"] # intersect w/extended summits\n",
    "REGIONSxBINS = configF[\"CIS_TRANS\"][\"regions_x_bins\"] # write\n",
    "\n",
    "RE = configF[\"PHYLOP\"][\"results\"]\n",
    "\n",
    "CONACC_REGIONS = configF[\"PHYLOP\"][\"regions\"]  # write me.\n",
    "CONACC_REGIONS_PATH = configF[\"PHYLOP\"][\"regions_path\"]"
   ]
  },
  {
   "cell_type": "markdown",
   "id": "423b99ec",
   "metadata": {},
   "source": [
    "# bin config "
   ]
  },
  {
   "cell_type": "code",
   "execution_count": 3,
   "id": "99fabe30",
   "metadata": {
    "ExecuteTime": {
     "end_time": "2022-05-27T15:52:21.371286Z",
     "start_time": "2022-05-27T15:52:21.358661Z"
    }
   },
   "outputs": [],
   "source": [
    "NAME = \"/data/hodges_lab/ATAC-STARR_B-cells/bin_human-evolution/fantom/config\"\n",
    "config, configfile_name = crw.read_config(NAME)\n",
    "\n",
    "CONACC_BINS = config[\"PHYLOP\"][\"conacc_tiles\"]\n",
    "ACTIVITY_BINS = config[\"ACTIVITY_SHAREDACC\"][\"activity_df\"]\n",
    "BINS = config[\"ACTIVITY_SHAREDACC\"][\"bins\"]\n",
    "SELF_BINS = config[\"SELF\"][\"data\"]"
   ]
  },
  {
   "cell_type": "code",
   "execution_count": 4,
   "id": "c67dd497",
   "metadata": {
    "ExecuteTime": {
     "end_time": "2022-05-27T15:52:21.380817Z",
     "start_time": "2022-05-27T15:52:21.374142Z"
    }
   },
   "outputs": [],
   "source": [
    "def get_files(path):\n",
    "    \n",
    "    ## get all the conacc files\n",
    "    \n",
    "    query = os.path.join(path, \"chr*/multiz30way_br-hg38_mod-full/*clean.bed\")\n",
    "    \n",
    "    fs = glob.glob(query)\n",
    "    print(len(fs))\n",
    "    \n",
    "    ## \n",
    "    results = {}\n",
    "    \n",
    "    for f in fs:\n",
    "        df = format_df(f)  # format the dataframe\n",
    "        results[f]=df\n",
    "    \n",
    "    # concatenate the results\n",
    "    df = pd.concat(results.values())\n",
    "    \n",
    "    return df"
   ]
  },
  {
   "cell_type": "code",
   "execution_count": null,
   "id": "e3afb0f0",
   "metadata": {
    "ExecuteTime": {
     "end_time": "2022-05-27T16:12:25.629016Z",
     "start_time": "2022-05-27T16:12:17.747Z"
    }
   },
   "outputs": [],
   "source": [
    "def format_df(f):\n",
    "    \n",
    "    n_lines = cl.count_lines(f)\n",
    "\n",
    "    if n_lines>0:\n",
    "        df = pd.read_csv(f, sep = '\\t')\n",
    "\n",
    "        df = df.rename(columns = {\"chr\": \"#chr\"}) # do some renaming, correct subtraction mistake\n",
    "        if \"shuf\" in f:\n",
    "            df[\"start\"] = df[\"start\"]-2\n",
    "        else:\n",
    "            df[\"start\"] = df[\"start\"]-1\n",
    "\n",
    "        df[\"region_id\"] = df[\"#chr\"] + \":\" + df[\"start\"].map(str) + \"-\"+df[\"end\"].map(str)\n",
    "\n",
    "        \n",
    "        return df"
   ]
  },
  {
   "cell_type": "code",
   "execution_count": 56,
   "id": "3227a8cf",
   "metadata": {
    "ExecuteTime": {
     "end_time": "2022-05-27T16:12:48.693626Z",
     "start_time": "2022-05-27T16:12:48.682978Z"
    }
   },
   "outputs": [],
   "source": [
    "def load_df(f, header, col_names):\n",
    "    if header is True:\n",
    "        if \"activity_df_bins.tsv\" in f:\n",
    "            df = pd.read_csv(f, sep='\\t', dtype={\"activity_code\":object})\n",
    "        else:    \n",
    "            df = pd.read_csv(f, sep='\\t')\n",
    "            df[\"len\"] = df[\"end\"]-df[\"start\"]\n",
    "        \n",
    "    elif header is False:\n",
    "        df = pd.read_csv(f, sep='\\t', header = None)\n",
    "\n",
    "    if len(col_names)>0:\n",
    "        df.columns = col_names\n",
    "        \n",
    "    return df"
   ]
  },
  {
   "cell_type": "code",
   "execution_count": 57,
   "id": "2380d617",
   "metadata": {
    "ExecuteTime": {
     "end_time": "2022-05-27T16:12:50.149177Z",
     "start_time": "2022-05-27T16:12:50.142782Z"
    }
   },
   "outputs": [],
   "source": [
    "if os.path.exists(CONACC_REGIONS) is False:\n",
    "    df = get_files(CONACC_REGIONS_PATH)\n",
    "    df.to_csv(CONACC_REGIONS, sep = '\\t', index = False) \n",
    "\n",
    "    print(df.shape)\n",
    "\n",
    "    df.head()"
   ]
  },
  {
   "cell_type": "markdown",
   "id": "3e156563",
   "metadata": {},
   "source": [
    "# make pybedtool objects "
   ]
  },
  {
   "cell_type": "code",
   "execution_count": 8,
   "id": "1d6a72e4",
   "metadata": {
    "ExecuteTime": {
     "end_time": "2022-05-27T15:52:21.494520Z",
     "start_time": "2022-05-27T15:52:21.412272Z"
    }
   },
   "outputs": [],
   "source": [
    "b, r = pb.BedTool(BINS), pb.BedTool(REGIONS)"
   ]
  },
  {
   "cell_type": "markdown",
   "id": "d622c696",
   "metadata": {},
   "source": [
    "## write intersection to new file "
   ]
  },
  {
   "cell_type": "code",
   "execution_count": 9,
   "id": "174fb742",
   "metadata": {
    "ExecuteTime": {
     "end_time": "2022-05-27T15:52:24.500559Z",
     "start_time": "2022-05-27T15:52:21.498987Z"
    }
   },
   "outputs": [
    {
     "data": {
      "text/plain": [
       "<BedTool(/data/hodges_lab/ATAC-STARR_B-cells/results/results_human-evolution/regions/all_uniq_diffAct_regions2_x_bins.bed)>"
      ]
     },
     "execution_count": 9,
     "metadata": {},
     "output_type": "execute_result"
    }
   ],
   "source": [
    "r.intersect(b, wao=True, output=REGIONSxBINS)"
   ]
  },
  {
   "cell_type": "markdown",
   "id": "8bf2fb5b",
   "metadata": {},
   "source": [
    "# evaluate intersection"
   ]
  },
  {
   "cell_type": "code",
   "execution_count": 58,
   "id": "d5abb535",
   "metadata": {
    "ExecuteTime": {
     "end_time": "2022-05-27T16:12:58.144913Z",
     "start_time": "2022-05-27T16:12:57.721442Z"
    }
   },
   "outputs": [
    {
     "data": {
      "text/html": [
       "<div>\n",
       "<style scoped>\n",
       "    .dataframe tbody tr th:only-of-type {\n",
       "        vertical-align: middle;\n",
       "    }\n",
       "\n",
       "    .dataframe tbody tr th {\n",
       "        vertical-align: top;\n",
       "    }\n",
       "\n",
       "    .dataframe thead th {\n",
       "        text-align: right;\n",
       "    }\n",
       "</style>\n",
       "<table border=\"1\" class=\"dataframe\">\n",
       "  <thead>\n",
       "    <tr style=\"text-align: right;\">\n",
       "      <th></th>\n",
       "      <th>#chr_region</th>\n",
       "      <th>start_region</th>\n",
       "      <th>end_region</th>\n",
       "      <th>region_id</th>\n",
       "      <th>#chr_bin</th>\n",
       "      <th>start_bin</th>\n",
       "      <th>end_bin</th>\n",
       "      <th>bin_id</th>\n",
       "      <th>overlap</th>\n",
       "    </tr>\n",
       "  </thead>\n",
       "  <tbody>\n",
       "    <tr>\n",
       "      <th>0</th>\n",
       "      <td>chr1</td>\n",
       "      <td>959034</td>\n",
       "      <td>959154</td>\n",
       "      <td>chr1:959034-959154</td>\n",
       "      <td>chr1</td>\n",
       "      <td>958994</td>\n",
       "      <td>959044</td>\n",
       "      <td>bin_1256</td>\n",
       "      <td>10</td>\n",
       "    </tr>\n",
       "    <tr>\n",
       "      <th>1</th>\n",
       "      <td>chr1</td>\n",
       "      <td>959034</td>\n",
       "      <td>959154</td>\n",
       "      <td>chr1:959034-959154</td>\n",
       "      <td>chr1</td>\n",
       "      <td>959004</td>\n",
       "      <td>959054</td>\n",
       "      <td>bin_1257</td>\n",
       "      <td>20</td>\n",
       "    </tr>\n",
       "    <tr>\n",
       "      <th>2</th>\n",
       "      <td>chr1</td>\n",
       "      <td>959034</td>\n",
       "      <td>959154</td>\n",
       "      <td>chr1:959034-959154</td>\n",
       "      <td>chr1</td>\n",
       "      <td>959014</td>\n",
       "      <td>959064</td>\n",
       "      <td>bin_1258</td>\n",
       "      <td>30</td>\n",
       "    </tr>\n",
       "    <tr>\n",
       "      <th>3</th>\n",
       "      <td>chr1</td>\n",
       "      <td>959034</td>\n",
       "      <td>959154</td>\n",
       "      <td>chr1:959034-959154</td>\n",
       "      <td>chr1</td>\n",
       "      <td>959024</td>\n",
       "      <td>959074</td>\n",
       "      <td>bin_1259</td>\n",
       "      <td>40</td>\n",
       "    </tr>\n",
       "    <tr>\n",
       "      <th>4</th>\n",
       "      <td>chr1</td>\n",
       "      <td>959034</td>\n",
       "      <td>959154</td>\n",
       "      <td>chr1:959034-959154</td>\n",
       "      <td>chr1</td>\n",
       "      <td>959034</td>\n",
       "      <td>959084</td>\n",
       "      <td>bin_1260</td>\n",
       "      <td>50</td>\n",
       "    </tr>\n",
       "    <tr>\n",
       "      <th>...</th>\n",
       "      <td>...</td>\n",
       "      <td>...</td>\n",
       "      <td>...</td>\n",
       "      <td>...</td>\n",
       "      <td>...</td>\n",
       "      <td>...</td>\n",
       "      <td>...</td>\n",
       "      <td>...</td>\n",
       "      <td>...</td>\n",
       "    </tr>\n",
       "    <tr>\n",
       "      <th>320524</th>\n",
       "      <td>chr9</td>\n",
       "      <td>137757963</td>\n",
       "      <td>137758213</td>\n",
       "      <td>chr9:137757963-137758213</td>\n",
       "      <td>chr9</td>\n",
       "      <td>137758123</td>\n",
       "      <td>137758173</td>\n",
       "      <td>bin_8085529</td>\n",
       "      <td>50</td>\n",
       "    </tr>\n",
       "    <tr>\n",
       "      <th>320525</th>\n",
       "      <td>chr9</td>\n",
       "      <td>137757963</td>\n",
       "      <td>137758213</td>\n",
       "      <td>chr9:137757963-137758213</td>\n",
       "      <td>chr9</td>\n",
       "      <td>137758133</td>\n",
       "      <td>137758183</td>\n",
       "      <td>bin_8085530</td>\n",
       "      <td>50</td>\n",
       "    </tr>\n",
       "    <tr>\n",
       "      <th>320526</th>\n",
       "      <td>chr9</td>\n",
       "      <td>137757963</td>\n",
       "      <td>137758213</td>\n",
       "      <td>chr9:137757963-137758213</td>\n",
       "      <td>chr9</td>\n",
       "      <td>137758143</td>\n",
       "      <td>137758193</td>\n",
       "      <td>bin_8085531</td>\n",
       "      <td>50</td>\n",
       "    </tr>\n",
       "    <tr>\n",
       "      <th>320527</th>\n",
       "      <td>chr9</td>\n",
       "      <td>137757963</td>\n",
       "      <td>137758213</td>\n",
       "      <td>chr9:137757963-137758213</td>\n",
       "      <td>chr9</td>\n",
       "      <td>137758153</td>\n",
       "      <td>137758203</td>\n",
       "      <td>bin_8085532</td>\n",
       "      <td>50</td>\n",
       "    </tr>\n",
       "    <tr>\n",
       "      <th>320528</th>\n",
       "      <td>chr9</td>\n",
       "      <td>137757963</td>\n",
       "      <td>137758213</td>\n",
       "      <td>chr9:137757963-137758213</td>\n",
       "      <td>chr9</td>\n",
       "      <td>137758163</td>\n",
       "      <td>137758213</td>\n",
       "      <td>bin_8085533</td>\n",
       "      <td>50</td>\n",
       "    </tr>\n",
       "  </tbody>\n",
       "</table>\n",
       "<p>320529 rows × 9 columns</p>\n",
       "</div>"
      ],
      "text/plain": [
       "       #chr_region  start_region  end_region                 region_id  \\\n",
       "0             chr1        959034      959154        chr1:959034-959154   \n",
       "1             chr1        959034      959154        chr1:959034-959154   \n",
       "2             chr1        959034      959154        chr1:959034-959154   \n",
       "3             chr1        959034      959154        chr1:959034-959154   \n",
       "4             chr1        959034      959154        chr1:959034-959154   \n",
       "...            ...           ...         ...                       ...   \n",
       "320524        chr9     137757963   137758213  chr9:137757963-137758213   \n",
       "320525        chr9     137757963   137758213  chr9:137757963-137758213   \n",
       "320526        chr9     137757963   137758213  chr9:137757963-137758213   \n",
       "320527        chr9     137757963   137758213  chr9:137757963-137758213   \n",
       "320528        chr9     137757963   137758213  chr9:137757963-137758213   \n",
       "\n",
       "       #chr_bin  start_bin    end_bin       bin_id  overlap  \n",
       "0          chr1     958994     959044     bin_1256       10  \n",
       "1          chr1     959004     959054     bin_1257       20  \n",
       "2          chr1     959014     959064     bin_1258       30  \n",
       "3          chr1     959024     959074     bin_1259       40  \n",
       "4          chr1     959034     959084     bin_1260       50  \n",
       "...         ...        ...        ...          ...      ...  \n",
       "320524     chr9  137758123  137758173  bin_8085529       50  \n",
       "320525     chr9  137758133  137758183  bin_8085530       50  \n",
       "320526     chr9  137758143  137758193  bin_8085531       50  \n",
       "320527     chr9  137758153  137758203  bin_8085532       50  \n",
       "320528     chr9  137758163  137758213  bin_8085533       50  \n",
       "\n",
       "[320529 rows x 9 columns]"
      ]
     },
     "execution_count": 58,
     "metadata": {},
     "output_type": "execute_result"
    }
   ],
   "source": [
    "names = [\"#chr_region\", \"start_region\", \"end_region\", \"region_id\", \n",
    "         \"#chr_bin\", \"start_bin\", \"end_bin\", \"bin_id\", \"overlap\"\n",
    "        ]\n",
    "df = pd.read_csv(REGIONSxBINS, sep = '\\t', \n",
    "                 #nrows = 500, \n",
    "                 header = None, names=names)\n",
    "df"
   ]
  },
  {
   "cell_type": "markdown",
   "id": "ae143f1e",
   "metadata": {},
   "source": [
    "## Region annotations"
   ]
  },
  {
   "cell_type": "code",
   "execution_count": 59,
   "id": "55e55947",
   "metadata": {
    "ExecuteTime": {
     "end_time": "2022-05-27T16:13:26.510271Z",
     "start_time": "2022-05-27T16:13:26.394593Z"
    }
   },
   "outputs": [
    {
     "data": {
      "text/html": [
       "<div>\n",
       "<style scoped>\n",
       "    .dataframe tbody tr th:only-of-type {\n",
       "        vertical-align: middle;\n",
       "    }\n",
       "\n",
       "    .dataframe tbody tr th {\n",
       "        vertical-align: top;\n",
       "    }\n",
       "\n",
       "    .dataframe thead th {\n",
       "        text-align: right;\n",
       "    }\n",
       "</style>\n",
       "<table border=\"1\" class=\"dataframe\">\n",
       "  <thead>\n",
       "    <tr style=\"text-align: right;\">\n",
       "      <th></th>\n",
       "      <th>#chr</th>\n",
       "      <th>start</th>\n",
       "      <th>end</th>\n",
       "      <th>region_id</th>\n",
       "      <th>conserved_active.regions</th>\n",
       "      <th>cis</th>\n",
       "      <th>trans</th>\n",
       "      <th>trans_only_regions</th>\n",
       "      <th>cis_only_regions</th>\n",
       "      <th>cis+trans</th>\n",
       "      <th>...</th>\n",
       "      <th>HH-active_MM-inactive_HM-inactive_trans</th>\n",
       "      <th>HH-active_MM-inactive_cis-only</th>\n",
       "      <th>HH-active_MM-inactive_trans-only</th>\n",
       "      <th>HH-active_MM-inactive_cis+trans</th>\n",
       "      <th>MM-active_HH-inactive_HM-inactive_cis</th>\n",
       "      <th>MM-active_HH-inactive_MH-inactive_trans</th>\n",
       "      <th>MM-active_HH-inactive_cis-only</th>\n",
       "      <th>MM-active_HH-inactive_trans-only</th>\n",
       "      <th>MM-active_HH-inactive_cis+trans</th>\n",
       "      <th>len</th>\n",
       "    </tr>\n",
       "  </thead>\n",
       "  <tbody>\n",
       "    <tr>\n",
       "      <th>0</th>\n",
       "      <td>chr1</td>\n",
       "      <td>959034</td>\n",
       "      <td>959154</td>\n",
       "      <td>chr1:959034-959154</td>\n",
       "      <td>0.0</td>\n",
       "      <td>1.0</td>\n",
       "      <td>1.0</td>\n",
       "      <td>0</td>\n",
       "      <td>0</td>\n",
       "      <td>1</td>\n",
       "      <td>...</td>\n",
       "      <td>1.0</td>\n",
       "      <td>0.0</td>\n",
       "      <td>0.0</td>\n",
       "      <td>1.0</td>\n",
       "      <td>0.0</td>\n",
       "      <td>0.0</td>\n",
       "      <td>0.0</td>\n",
       "      <td>0.0</td>\n",
       "      <td>0.0</td>\n",
       "      <td>120</td>\n",
       "    </tr>\n",
       "    <tr>\n",
       "      <th>1</th>\n",
       "      <td>chr1</td>\n",
       "      <td>1002089</td>\n",
       "      <td>1002179</td>\n",
       "      <td>chr1:1002089-1002179</td>\n",
       "      <td>0.0</td>\n",
       "      <td>1.0</td>\n",
       "      <td>1.0</td>\n",
       "      <td>0</td>\n",
       "      <td>0</td>\n",
       "      <td>1</td>\n",
       "      <td>...</td>\n",
       "      <td>1.0</td>\n",
       "      <td>0.0</td>\n",
       "      <td>0.0</td>\n",
       "      <td>1.0</td>\n",
       "      <td>0.0</td>\n",
       "      <td>0.0</td>\n",
       "      <td>0.0</td>\n",
       "      <td>0.0</td>\n",
       "      <td>0.0</td>\n",
       "      <td>90</td>\n",
       "    </tr>\n",
       "    <tr>\n",
       "      <th>2</th>\n",
       "      <td>chr1</td>\n",
       "      <td>1064140</td>\n",
       "      <td>1064260</td>\n",
       "      <td>chr1:1064140-1064260</td>\n",
       "      <td>0.0</td>\n",
       "      <td>1.0</td>\n",
       "      <td>0.0</td>\n",
       "      <td>0</td>\n",
       "      <td>1</td>\n",
       "      <td>0</td>\n",
       "      <td>...</td>\n",
       "      <td>0.0</td>\n",
       "      <td>1.0</td>\n",
       "      <td>0.0</td>\n",
       "      <td>0.0</td>\n",
       "      <td>0.0</td>\n",
       "      <td>0.0</td>\n",
       "      <td>0.0</td>\n",
       "      <td>0.0</td>\n",
       "      <td>0.0</td>\n",
       "      <td>120</td>\n",
       "    </tr>\n",
       "    <tr>\n",
       "      <th>3</th>\n",
       "      <td>chr1</td>\n",
       "      <td>1214948</td>\n",
       "      <td>1215208</td>\n",
       "      <td>chr1:1214948-1215208</td>\n",
       "      <td>0.0</td>\n",
       "      <td>1.0</td>\n",
       "      <td>1.0</td>\n",
       "      <td>0</td>\n",
       "      <td>0</td>\n",
       "      <td>1</td>\n",
       "      <td>...</td>\n",
       "      <td>0.0</td>\n",
       "      <td>0.0</td>\n",
       "      <td>0.0</td>\n",
       "      <td>0.0</td>\n",
       "      <td>1.0</td>\n",
       "      <td>1.0</td>\n",
       "      <td>0.0</td>\n",
       "      <td>0.0</td>\n",
       "      <td>1.0</td>\n",
       "      <td>260</td>\n",
       "    </tr>\n",
       "    <tr>\n",
       "      <th>4</th>\n",
       "      <td>chr1</td>\n",
       "      <td>1215328</td>\n",
       "      <td>1215508</td>\n",
       "      <td>chr1:1215328-1215508</td>\n",
       "      <td>0.0</td>\n",
       "      <td>1.0</td>\n",
       "      <td>0.0</td>\n",
       "      <td>0</td>\n",
       "      <td>1</td>\n",
       "      <td>0</td>\n",
       "      <td>...</td>\n",
       "      <td>0.0</td>\n",
       "      <td>0.0</td>\n",
       "      <td>0.0</td>\n",
       "      <td>0.0</td>\n",
       "      <td>1.0</td>\n",
       "      <td>0.0</td>\n",
       "      <td>1.0</td>\n",
       "      <td>0.0</td>\n",
       "      <td>0.0</td>\n",
       "      <td>180</td>\n",
       "    </tr>\n",
       "  </tbody>\n",
       "</table>\n",
       "<p>5 rows × 27 columns</p>\n",
       "</div>"
      ],
      "text/plain": [
       "   #chr    start      end             region_id  conserved_active.regions  \\\n",
       "0  chr1   959034   959154    chr1:959034-959154                       0.0   \n",
       "1  chr1  1002089  1002179  chr1:1002089-1002179                       0.0   \n",
       "2  chr1  1064140  1064260  chr1:1064140-1064260                       0.0   \n",
       "3  chr1  1214948  1215208  chr1:1214948-1215208                       0.0   \n",
       "4  chr1  1215328  1215508  chr1:1215328-1215508                       0.0   \n",
       "\n",
       "   cis  trans  trans_only_regions  cis_only_regions  cis+trans  ...  \\\n",
       "0  1.0    1.0                   0                 0          1  ...   \n",
       "1  1.0    1.0                   0                 0          1  ...   \n",
       "2  1.0    0.0                   0                 1          0  ...   \n",
       "3  1.0    1.0                   0                 0          1  ...   \n",
       "4  1.0    0.0                   0                 1          0  ...   \n",
       "\n",
       "   HH-active_MM-inactive_HM-inactive_trans  HH-active_MM-inactive_cis-only  \\\n",
       "0                                      1.0                             0.0   \n",
       "1                                      1.0                             0.0   \n",
       "2                                      0.0                             1.0   \n",
       "3                                      0.0                             0.0   \n",
       "4                                      0.0                             0.0   \n",
       "\n",
       "   HH-active_MM-inactive_trans-only  HH-active_MM-inactive_cis+trans  \\\n",
       "0                               0.0                              1.0   \n",
       "1                               0.0                              1.0   \n",
       "2                               0.0                              0.0   \n",
       "3                               0.0                              0.0   \n",
       "4                               0.0                              0.0   \n",
       "\n",
       "   MM-active_HH-inactive_HM-inactive_cis  \\\n",
       "0                                    0.0   \n",
       "1                                    0.0   \n",
       "2                                    0.0   \n",
       "3                                    1.0   \n",
       "4                                    1.0   \n",
       "\n",
       "   MM-active_HH-inactive_MH-inactive_trans  MM-active_HH-inactive_cis-only  \\\n",
       "0                                      0.0                             0.0   \n",
       "1                                      0.0                             0.0   \n",
       "2                                      0.0                             0.0   \n",
       "3                                      1.0                             0.0   \n",
       "4                                      0.0                             1.0   \n",
       "\n",
       "   MM-active_HH-inactive_trans-only  MM-active_HH-inactive_cis+trans  len  \n",
       "0                               0.0                              0.0  120  \n",
       "1                               0.0                              0.0   90  \n",
       "2                               0.0                              0.0  120  \n",
       "3                               0.0                              1.0  260  \n",
       "4                               0.0                              0.0  180  \n",
       "\n",
       "[5 rows x 27 columns]"
      ]
     },
     "execution_count": 59,
     "metadata": {},
     "output_type": "execute_result"
    }
   ],
   "source": [
    "regions = load_df(REGIONS_ANNOT, True, [])\n",
    "regions = regions.rename(columns = {\"trans_only\":\"trans_only_regions\", \n",
    "                                   \"cis_only\": \"cis_only_regions\"})\n",
    "regions[\"len\"] = regions[\"end\"]-regions[\"start\"]\n",
    "regions.head()"
   ]
  },
  {
   "cell_type": "markdown",
   "id": "b31364f2",
   "metadata": {},
   "source": [
    "## bin activity annotations"
   ]
  },
  {
   "cell_type": "code",
   "execution_count": 61,
   "id": "a9361496",
   "metadata": {
    "ExecuteTime": {
     "end_time": "2022-05-27T16:14:13.876637Z",
     "start_time": "2022-05-27T16:14:05.108592Z"
    }
   },
   "outputs": [
    {
     "data": {
      "text/html": [
       "<div>\n",
       "<style scoped>\n",
       "    .dataframe tbody tr th:only-of-type {\n",
       "        vertical-align: middle;\n",
       "    }\n",
       "\n",
       "    .dataframe tbody tr th {\n",
       "        vertical-align: top;\n",
       "    }\n",
       "\n",
       "    .dataframe thead th {\n",
       "        text-align: right;\n",
       "    }\n",
       "</style>\n",
       "<table border=\"1\" class=\"dataframe\">\n",
       "  <thead>\n",
       "    <tr style=\"text-align: right;\">\n",
       "      <th></th>\n",
       "      <th>bin_id</th>\n",
       "      <th>activity_code</th>\n",
       "      <th>cons_act</th>\n",
       "      <th>Null_0000</th>\n",
       "      <th>cis_only</th>\n",
       "      <th>trans_only</th>\n",
       "      <th>hu_cis_and_trans</th>\n",
       "    </tr>\n",
       "  </thead>\n",
       "  <tbody>\n",
       "    <tr>\n",
       "      <th>0</th>\n",
       "      <td>bin_1013</td>\n",
       "      <td>0000</td>\n",
       "      <td>False</td>\n",
       "      <td>True</td>\n",
       "      <td>False</td>\n",
       "      <td>False</td>\n",
       "      <td>False</td>\n",
       "    </tr>\n",
       "    <tr>\n",
       "      <th>1</th>\n",
       "      <td>bin_1014</td>\n",
       "      <td>0000</td>\n",
       "      <td>False</td>\n",
       "      <td>True</td>\n",
       "      <td>False</td>\n",
       "      <td>False</td>\n",
       "      <td>False</td>\n",
       "    </tr>\n",
       "    <tr>\n",
       "      <th>2</th>\n",
       "      <td>bin_1015</td>\n",
       "      <td>0000</td>\n",
       "      <td>False</td>\n",
       "      <td>True</td>\n",
       "      <td>False</td>\n",
       "      <td>False</td>\n",
       "      <td>False</td>\n",
       "    </tr>\n",
       "    <tr>\n",
       "      <th>3</th>\n",
       "      <td>bin_1016</td>\n",
       "      <td>0000</td>\n",
       "      <td>False</td>\n",
       "      <td>True</td>\n",
       "      <td>False</td>\n",
       "      <td>False</td>\n",
       "      <td>False</td>\n",
       "    </tr>\n",
       "    <tr>\n",
       "      <th>4</th>\n",
       "      <td>bin_1017</td>\n",
       "      <td>0000</td>\n",
       "      <td>False</td>\n",
       "      <td>True</td>\n",
       "      <td>False</td>\n",
       "      <td>False</td>\n",
       "      <td>False</td>\n",
       "    </tr>\n",
       "    <tr>\n",
       "      <th>...</th>\n",
       "      <td>...</td>\n",
       "      <td>...</td>\n",
       "      <td>...</td>\n",
       "      <td>...</td>\n",
       "      <td>...</td>\n",
       "      <td>...</td>\n",
       "      <td>...</td>\n",
       "    </tr>\n",
       "    <tr>\n",
       "      <th>1927895</th>\n",
       "      <td>bin_8085529</td>\n",
       "      <td>1000</td>\n",
       "      <td>False</td>\n",
       "      <td>False</td>\n",
       "      <td>False</td>\n",
       "      <td>False</td>\n",
       "      <td>True</td>\n",
       "    </tr>\n",
       "    <tr>\n",
       "      <th>1927896</th>\n",
       "      <td>bin_8085530</td>\n",
       "      <td>1000</td>\n",
       "      <td>False</td>\n",
       "      <td>False</td>\n",
       "      <td>False</td>\n",
       "      <td>False</td>\n",
       "      <td>True</td>\n",
       "    </tr>\n",
       "    <tr>\n",
       "      <th>1927897</th>\n",
       "      <td>bin_8085531</td>\n",
       "      <td>1010</td>\n",
       "      <td>False</td>\n",
       "      <td>False</td>\n",
       "      <td>False</td>\n",
       "      <td>True</td>\n",
       "      <td>False</td>\n",
       "    </tr>\n",
       "    <tr>\n",
       "      <th>1927898</th>\n",
       "      <td>bin_8085532</td>\n",
       "      <td>1000</td>\n",
       "      <td>False</td>\n",
       "      <td>False</td>\n",
       "      <td>False</td>\n",
       "      <td>False</td>\n",
       "      <td>True</td>\n",
       "    </tr>\n",
       "    <tr>\n",
       "      <th>1927899</th>\n",
       "      <td>bin_8085533</td>\n",
       "      <td>1010</td>\n",
       "      <td>False</td>\n",
       "      <td>False</td>\n",
       "      <td>False</td>\n",
       "      <td>True</td>\n",
       "      <td>False</td>\n",
       "    </tr>\n",
       "  </tbody>\n",
       "</table>\n",
       "<p>1927900 rows × 7 columns</p>\n",
       "</div>"
      ],
      "text/plain": [
       "              bin_id activity_code  cons_act  Null_0000  cis_only  trans_only  \\\n",
       "0           bin_1013          0000     False       True     False       False   \n",
       "1           bin_1014          0000     False       True     False       False   \n",
       "2           bin_1015          0000     False       True     False       False   \n",
       "3           bin_1016          0000     False       True     False       False   \n",
       "4           bin_1017          0000     False       True     False       False   \n",
       "...              ...           ...       ...        ...       ...         ...   \n",
       "1927895  bin_8085529          1000     False      False     False       False   \n",
       "1927896  bin_8085530          1000     False      False     False       False   \n",
       "1927897  bin_8085531          1010     False      False     False        True   \n",
       "1927898  bin_8085532          1000     False      False     False       False   \n",
       "1927899  bin_8085533          1010     False      False     False        True   \n",
       "\n",
       "         hu_cis_and_trans  \n",
       "0                   False  \n",
       "1                   False  \n",
       "2                   False  \n",
       "3                   False  \n",
       "4                   False  \n",
       "...                   ...  \n",
       "1927895              True  \n",
       "1927896              True  \n",
       "1927897             False  \n",
       "1927898              True  \n",
       "1927899             False  \n",
       "\n",
       "[1927900 rows x 7 columns]"
      ]
     },
     "execution_count": 61,
     "metadata": {},
     "output_type": "execute_result"
    }
   ],
   "source": [
    "activitybins = load_df(ACTIVITY_BINS, True, [])\n",
    "\n",
    "keep = [\n",
    "        'bin_id',\n",
    "        'activity_code',\n",
    "        'cons_act',\n",
    "        'Null_0000',\n",
    "        'cis_only',\n",
    "        'trans_only',\n",
    "        'hu_cis_and_trans'\n",
    "        ]\n",
    "activitybins = activitybins[keep].drop_duplicates()\n",
    "activitybins"
   ]
  },
  {
   "cell_type": "markdown",
   "id": "6c363215",
   "metadata": {},
   "source": [
    "##  phylop region"
   ]
  },
  {
   "cell_type": "code",
   "execution_count": 13,
   "id": "f0e91b37",
   "metadata": {
    "ExecuteTime": {
     "end_time": "2022-05-27T15:52:34.359017Z",
     "start_time": "2022-05-27T15:52:34.304958Z"
    }
   },
   "outputs": [
    {
     "data": {
      "text/html": [
       "<div>\n",
       "<style scoped>\n",
       "    .dataframe tbody tr th:only-of-type {\n",
       "        vertical-align: middle;\n",
       "    }\n",
       "\n",
       "    .dataframe tbody tr th {\n",
       "        vertical-align: top;\n",
       "    }\n",
       "\n",
       "    .dataframe thead th {\n",
       "        text-align: right;\n",
       "    }\n",
       "</style>\n",
       "<table border=\"1\" class=\"dataframe\">\n",
       "  <thead>\n",
       "    <tr style=\"text-align: right;\">\n",
       "      <th></th>\n",
       "      <th>phylop_region</th>\n",
       "      <th>region_id</th>\n",
       "    </tr>\n",
       "  </thead>\n",
       "  <tbody>\n",
       "    <tr>\n",
       "      <th>0</th>\n",
       "      <td>-0.321</td>\n",
       "      <td>chr5:138641966-138642086</td>\n",
       "    </tr>\n",
       "    <tr>\n",
       "      <th>1</th>\n",
       "      <td>1.386</td>\n",
       "      <td>chr5:138742482-138742712</td>\n",
       "    </tr>\n",
       "    <tr>\n",
       "      <th>2</th>\n",
       "      <td>0.219</td>\n",
       "      <td>chr5:138742722-138742872</td>\n",
       "    </tr>\n",
       "    <tr>\n",
       "      <th>3</th>\n",
       "      <td>0.660</td>\n",
       "      <td>chr5:139262615-139262725</td>\n",
       "    </tr>\n",
       "    <tr>\n",
       "      <th>4</th>\n",
       "      <td>-0.696</td>\n",
       "      <td>chr5:139273448-139273808</td>\n",
       "    </tr>\n",
       "  </tbody>\n",
       "</table>\n",
       "</div>"
      ],
      "text/plain": [
       "   phylop_region                 region_id\n",
       "0         -0.321  chr5:138641966-138642086\n",
       "1          1.386  chr5:138742482-138742712\n",
       "2          0.219  chr5:138742722-138742872\n",
       "3          0.660  chr5:139262615-139262725\n",
       "4         -0.696  chr5:139273448-139273808"
      ]
     },
     "execution_count": 13,
     "metadata": {},
     "output_type": "execute_result"
    }
   ],
   "source": [
    "region_conacc = load_df(CONACC_REGIONS, True, [])\n",
    "keep = [\"phylop\",\"region_id\" ]\n",
    "region_conacc=region_conacc[keep]\n",
    "region_conacc = region_conacc.rename(columns = {\"phylop\":\"phylop_region\"})\n",
    "region_conacc.head()"
   ]
  },
  {
   "cell_type": "markdown",
   "id": "206931ee",
   "metadata": {},
   "source": [
    "## phylop bin "
   ]
  },
  {
   "cell_type": "code",
   "execution_count": 14,
   "id": "80e06701",
   "metadata": {
    "ExecuteTime": {
     "end_time": "2022-05-27T15:52:39.381739Z",
     "start_time": "2022-05-27T15:52:34.360534Z"
    }
   },
   "outputs": [
    {
     "data": {
      "text/html": [
       "<div>\n",
       "<style scoped>\n",
       "    .dataframe tbody tr th:only-of-type {\n",
       "        vertical-align: middle;\n",
       "    }\n",
       "\n",
       "    .dataframe tbody tr th {\n",
       "        vertical-align: top;\n",
       "    }\n",
       "\n",
       "    .dataframe thead th {\n",
       "        text-align: right;\n",
       "    }\n",
       "</style>\n",
       "<table border=\"1\" class=\"dataframe\">\n",
       "  <thead>\n",
       "    <tr style=\"text-align: right;\">\n",
       "      <th></th>\n",
       "      <th>bin_id</th>\n",
       "      <th>phylop_bin</th>\n",
       "    </tr>\n",
       "  </thead>\n",
       "  <tbody>\n",
       "    <tr>\n",
       "      <th>0</th>\n",
       "      <td>bin_100000</td>\n",
       "      <td>-0.239</td>\n",
       "    </tr>\n",
       "    <tr>\n",
       "      <th>1</th>\n",
       "      <td>bin_100021</td>\n",
       "      <td>-0.778</td>\n",
       "    </tr>\n",
       "    <tr>\n",
       "      <th>2</th>\n",
       "      <td>bin_100022</td>\n",
       "      <td>-0.748</td>\n",
       "    </tr>\n",
       "    <tr>\n",
       "      <th>3</th>\n",
       "      <td>bin_100023</td>\n",
       "      <td>-0.620</td>\n",
       "    </tr>\n",
       "    <tr>\n",
       "      <th>4</th>\n",
       "      <td>bin_100024</td>\n",
       "      <td>-0.657</td>\n",
       "    </tr>\n",
       "  </tbody>\n",
       "</table>\n",
       "</div>"
      ],
      "text/plain": [
       "       bin_id  phylop_bin\n",
       "0  bin_100000      -0.239\n",
       "1  bin_100021      -0.778\n",
       "2  bin_100022      -0.748\n",
       "3  bin_100023      -0.620\n",
       "4  bin_100024      -0.657"
      ]
     },
     "execution_count": 14,
     "metadata": {},
     "output_type": "execute_result"
    }
   ],
   "source": [
    "bin_conacc = load_df(CONACC_BINS, True, [])\n",
    "keep = [\"bin\",\"br-hg38.mod-full\" ]  # keep columns\n",
    "bin_conacc=bin_conacc[keep].drop_duplicates()  # drop duplicates\n",
    "bin_conacc = bin_conacc.rename(columns = {\"bin\":\"bin_id\", \"br-hg38.mod-full\":\"phylop_bin\"})  # rename columns\n",
    "bin_conacc.head()"
   ]
  },
  {
   "cell_type": "markdown",
   "id": "32c5b8b5",
   "metadata": {
    "ExecuteTime": {
     "end_time": "2022-05-25T16:40:41.761946Z",
     "start_time": "2022-05-25T16:40:41.753171Z"
    }
   },
   "source": [
    "## self"
   ]
  },
  {
   "cell_type": "code",
   "execution_count": 15,
   "id": "94f472d8",
   "metadata": {
    "ExecuteTime": {
     "end_time": "2022-05-27T15:53:22.164664Z",
     "start_time": "2022-05-27T15:52:39.383618Z"
    }
   },
   "outputs": [
    {
     "data": {
      "text/html": [
       "<div>\n",
       "<style scoped>\n",
       "    .dataframe tbody tr th:only-of-type {\n",
       "        vertical-align: middle;\n",
       "    }\n",
       "\n",
       "    .dataframe tbody tr th {\n",
       "        vertical-align: top;\n",
       "    }\n",
       "\n",
       "    .dataframe thead th {\n",
       "        text-align: right;\n",
       "    }\n",
       "</style>\n",
       "<table border=\"1\" class=\"dataframe\">\n",
       "  <thead>\n",
       "    <tr style=\"text-align: right;\">\n",
       "      <th></th>\n",
       "      <th>bin_id</th>\n",
       "      <th>self</th>\n",
       "    </tr>\n",
       "  </thead>\n",
       "  <tbody>\n",
       "    <tr>\n",
       "      <th>0</th>\n",
       "      <td>bin_1012</td>\n",
       "      <td>True</td>\n",
       "    </tr>\n",
       "    <tr>\n",
       "      <th>1</th>\n",
       "      <td>bin_1013</td>\n",
       "      <td>True</td>\n",
       "    </tr>\n",
       "    <tr>\n",
       "      <th>2</th>\n",
       "      <td>bin_1014</td>\n",
       "      <td>True</td>\n",
       "    </tr>\n",
       "    <tr>\n",
       "      <th>3</th>\n",
       "      <td>bin_1015</td>\n",
       "      <td>True</td>\n",
       "    </tr>\n",
       "    <tr>\n",
       "      <th>4</th>\n",
       "      <td>bin_1016</td>\n",
       "      <td>True</td>\n",
       "    </tr>\n",
       "  </tbody>\n",
       "</table>\n",
       "</div>"
      ],
      "text/plain": [
       "     bin_id  self\n",
       "0  bin_1012  True\n",
       "1  bin_1013  True\n",
       "2  bin_1014  True\n",
       "3  bin_1015  True\n",
       "4  bin_1016  True"
      ]
     },
     "execution_count": 15,
     "metadata": {},
     "output_type": "execute_result"
    }
   ],
   "source": [
    "self = load_df(SELF_BINS, True, [])\n",
    "self = self[[\"bin\", \"self\"]].drop_duplicates()\n",
    "self = self.rename(columns={\"bin\":\"bin_id\"})\n",
    "self.head()"
   ]
  },
  {
   "cell_type": "markdown",
   "id": "e0e801a2",
   "metadata": {},
   "source": [
    "## remove self "
   ]
  },
  {
   "cell_type": "code",
   "execution_count": 16,
   "id": "26347c55",
   "metadata": {
    "ExecuteTime": {
     "end_time": "2022-05-27T15:53:24.669561Z",
     "start_time": "2022-05-27T15:53:22.167007Z"
    }
   },
   "outputs": [],
   "source": [
    "bin_conacc = pd.merge(bin_conacc, self, how = \"left\")\n",
    "clean_bin_conacc = bin_conacc.loc[bin_conacc[\"self\"]==False]"
   ]
  },
  {
   "cell_type": "markdown",
   "id": "cc750e68",
   "metadata": {},
   "source": [
    "# merge dataframes"
   ]
  },
  {
   "cell_type": "markdown",
   "id": "6b410d6a",
   "metadata": {},
   "source": [
    "## bin, region phylop scores"
   ]
  },
  {
   "cell_type": "code",
   "execution_count": 17,
   "id": "5977068c",
   "metadata": {
    "ExecuteTime": {
     "end_time": "2022-05-27T15:53:25.555083Z",
     "start_time": "2022-05-27T15:53:24.672044Z"
    }
   },
   "outputs": [
    {
     "data": {
      "text/html": [
       "<div>\n",
       "<style scoped>\n",
       "    .dataframe tbody tr th:only-of-type {\n",
       "        vertical-align: middle;\n",
       "    }\n",
       "\n",
       "    .dataframe tbody tr th {\n",
       "        vertical-align: top;\n",
       "    }\n",
       "\n",
       "    .dataframe thead th {\n",
       "        text-align: right;\n",
       "    }\n",
       "</style>\n",
       "<table border=\"1\" class=\"dataframe\">\n",
       "  <thead>\n",
       "    <tr style=\"text-align: right;\">\n",
       "      <th></th>\n",
       "      <th>#chr_region</th>\n",
       "      <th>start_region</th>\n",
       "      <th>end_region</th>\n",
       "      <th>region_id</th>\n",
       "      <th>#chr_bin</th>\n",
       "      <th>start_bin</th>\n",
       "      <th>end_bin</th>\n",
       "      <th>bin_id</th>\n",
       "      <th>overlap</th>\n",
       "      <th>phylop_bin</th>\n",
       "      <th>self</th>\n",
       "      <th>phylop_region</th>\n",
       "    </tr>\n",
       "  </thead>\n",
       "  <tbody>\n",
       "    <tr>\n",
       "      <th>0</th>\n",
       "      <td>chr1</td>\n",
       "      <td>3857398</td>\n",
       "      <td>3857718</td>\n",
       "      <td>chr1:3857398-3857718</td>\n",
       "      <td>chr1</td>\n",
       "      <td>3857358</td>\n",
       "      <td>3857408</td>\n",
       "      <td>bin_25455</td>\n",
       "      <td>10</td>\n",
       "      <td>0.644</td>\n",
       "      <td>False</td>\n",
       "      <td>-0.446</td>\n",
       "    </tr>\n",
       "    <tr>\n",
       "      <th>1</th>\n",
       "      <td>chr1</td>\n",
       "      <td>3857398</td>\n",
       "      <td>3857718</td>\n",
       "      <td>chr1:3857398-3857718</td>\n",
       "      <td>chr1</td>\n",
       "      <td>3857368</td>\n",
       "      <td>3857418</td>\n",
       "      <td>bin_25456</td>\n",
       "      <td>20</td>\n",
       "      <td>0.586</td>\n",
       "      <td>False</td>\n",
       "      <td>-0.446</td>\n",
       "    </tr>\n",
       "    <tr>\n",
       "      <th>2</th>\n",
       "      <td>chr1</td>\n",
       "      <td>3857398</td>\n",
       "      <td>3857718</td>\n",
       "      <td>chr1:3857398-3857718</td>\n",
       "      <td>chr1</td>\n",
       "      <td>3857378</td>\n",
       "      <td>3857428</td>\n",
       "      <td>bin_25457</td>\n",
       "      <td>30</td>\n",
       "      <td>0.665</td>\n",
       "      <td>False</td>\n",
       "      <td>-0.446</td>\n",
       "    </tr>\n",
       "    <tr>\n",
       "      <th>3</th>\n",
       "      <td>chr1</td>\n",
       "      <td>3857398</td>\n",
       "      <td>3857718</td>\n",
       "      <td>chr1:3857398-3857718</td>\n",
       "      <td>chr1</td>\n",
       "      <td>3857388</td>\n",
       "      <td>3857438</td>\n",
       "      <td>bin_25458</td>\n",
       "      <td>40</td>\n",
       "      <td>0.674</td>\n",
       "      <td>False</td>\n",
       "      <td>-0.446</td>\n",
       "    </tr>\n",
       "    <tr>\n",
       "      <th>4</th>\n",
       "      <td>chr1</td>\n",
       "      <td>3857398</td>\n",
       "      <td>3857718</td>\n",
       "      <td>chr1:3857398-3857718</td>\n",
       "      <td>chr1</td>\n",
       "      <td>3857398</td>\n",
       "      <td>3857448</td>\n",
       "      <td>bin_25459</td>\n",
       "      <td>50</td>\n",
       "      <td>0.625</td>\n",
       "      <td>False</td>\n",
       "      <td>-0.446</td>\n",
       "    </tr>\n",
       "  </tbody>\n",
       "</table>\n",
       "</div>"
      ],
      "text/plain": [
       "  #chr_region  start_region  end_region             region_id #chr_bin  \\\n",
       "0        chr1       3857398     3857718  chr1:3857398-3857718     chr1   \n",
       "1        chr1       3857398     3857718  chr1:3857398-3857718     chr1   \n",
       "2        chr1       3857398     3857718  chr1:3857398-3857718     chr1   \n",
       "3        chr1       3857398     3857718  chr1:3857398-3857718     chr1   \n",
       "4        chr1       3857398     3857718  chr1:3857398-3857718     chr1   \n",
       "\n",
       "   start_bin  end_bin     bin_id  overlap  phylop_bin   self  phylop_region  \n",
       "0    3857358  3857408  bin_25455       10       0.644  False         -0.446  \n",
       "1    3857368  3857418  bin_25456       20       0.586  False         -0.446  \n",
       "2    3857378  3857428  bin_25457       30       0.665  False         -0.446  \n",
       "3    3857388  3857438  bin_25458       40       0.674  False         -0.446  \n",
       "4    3857398  3857448  bin_25459       50       0.625  False         -0.446  "
      ]
     },
     "execution_count": 17,
     "metadata": {},
     "output_type": "execute_result"
    }
   ],
   "source": [
    "scores = pd.merge(df, clean_bin_conacc)\n",
    "\n",
    "scores = pd.merge(scores, region_conacc)\n",
    "\n",
    "scores.head()"
   ]
  },
  {
   "cell_type": "markdown",
   "id": "ac2bef87",
   "metadata": {},
   "source": [
    "##  bin, region annotations"
   ]
  },
  {
   "cell_type": "code",
   "execution_count": 62,
   "id": "1b0d383a",
   "metadata": {
    "ExecuteTime": {
     "end_time": "2022-05-27T16:14:21.505941Z",
     "start_time": "2022-05-27T16:14:19.916511Z"
    }
   },
   "outputs": [
    {
     "data": {
      "text/html": [
       "<div>\n",
       "<style scoped>\n",
       "    .dataframe tbody tr th:only-of-type {\n",
       "        vertical-align: middle;\n",
       "    }\n",
       "\n",
       "    .dataframe tbody tr th {\n",
       "        vertical-align: top;\n",
       "    }\n",
       "\n",
       "    .dataframe thead th {\n",
       "        text-align: right;\n",
       "    }\n",
       "</style>\n",
       "<table border=\"1\" class=\"dataframe\">\n",
       "  <thead>\n",
       "    <tr style=\"text-align: right;\">\n",
       "      <th></th>\n",
       "      <th>#chr_region</th>\n",
       "      <th>start_region</th>\n",
       "      <th>end_region</th>\n",
       "      <th>region_id</th>\n",
       "      <th>#chr_bin</th>\n",
       "      <th>start_bin</th>\n",
       "      <th>end_bin</th>\n",
       "      <th>bin_id</th>\n",
       "      <th>overlap</th>\n",
       "      <th>phylop_bin</th>\n",
       "      <th>...</th>\n",
       "      <th>HH-active_MM-inactive_HM-inactive_trans</th>\n",
       "      <th>HH-active_MM-inactive_cis-only</th>\n",
       "      <th>HH-active_MM-inactive_trans-only</th>\n",
       "      <th>HH-active_MM-inactive_cis+trans</th>\n",
       "      <th>MM-active_HH-inactive_HM-inactive_cis</th>\n",
       "      <th>MM-active_HH-inactive_MH-inactive_trans</th>\n",
       "      <th>MM-active_HH-inactive_cis-only</th>\n",
       "      <th>MM-active_HH-inactive_trans-only</th>\n",
       "      <th>MM-active_HH-inactive_cis+trans</th>\n",
       "      <th>len</th>\n",
       "    </tr>\n",
       "  </thead>\n",
       "  <tbody>\n",
       "    <tr>\n",
       "      <th>0</th>\n",
       "      <td>chr1</td>\n",
       "      <td>3857398</td>\n",
       "      <td>3857718</td>\n",
       "      <td>chr1:3857398-3857718</td>\n",
       "      <td>chr1</td>\n",
       "      <td>3857358</td>\n",
       "      <td>3857408</td>\n",
       "      <td>bin_25455</td>\n",
       "      <td>10</td>\n",
       "      <td>0.644</td>\n",
       "      <td>...</td>\n",
       "      <td>0.0</td>\n",
       "      <td>0.0</td>\n",
       "      <td>0.0</td>\n",
       "      <td>0.0</td>\n",
       "      <td>0.0</td>\n",
       "      <td>0.0</td>\n",
       "      <td>0.0</td>\n",
       "      <td>0.0</td>\n",
       "      <td>0.0</td>\n",
       "      <td>320</td>\n",
       "    </tr>\n",
       "    <tr>\n",
       "      <th>1</th>\n",
       "      <td>chr1</td>\n",
       "      <td>3857398</td>\n",
       "      <td>3857718</td>\n",
       "      <td>chr1:3857398-3857718</td>\n",
       "      <td>chr1</td>\n",
       "      <td>3857368</td>\n",
       "      <td>3857418</td>\n",
       "      <td>bin_25456</td>\n",
       "      <td>20</td>\n",
       "      <td>0.586</td>\n",
       "      <td>...</td>\n",
       "      <td>0.0</td>\n",
       "      <td>0.0</td>\n",
       "      <td>0.0</td>\n",
       "      <td>0.0</td>\n",
       "      <td>0.0</td>\n",
       "      <td>0.0</td>\n",
       "      <td>0.0</td>\n",
       "      <td>0.0</td>\n",
       "      <td>0.0</td>\n",
       "      <td>320</td>\n",
       "    </tr>\n",
       "    <tr>\n",
       "      <th>2</th>\n",
       "      <td>chr1</td>\n",
       "      <td>3857398</td>\n",
       "      <td>3857718</td>\n",
       "      <td>chr1:3857398-3857718</td>\n",
       "      <td>chr1</td>\n",
       "      <td>3857378</td>\n",
       "      <td>3857428</td>\n",
       "      <td>bin_25457</td>\n",
       "      <td>30</td>\n",
       "      <td>0.665</td>\n",
       "      <td>...</td>\n",
       "      <td>0.0</td>\n",
       "      <td>0.0</td>\n",
       "      <td>0.0</td>\n",
       "      <td>0.0</td>\n",
       "      <td>0.0</td>\n",
       "      <td>0.0</td>\n",
       "      <td>0.0</td>\n",
       "      <td>0.0</td>\n",
       "      <td>0.0</td>\n",
       "      <td>320</td>\n",
       "    </tr>\n",
       "    <tr>\n",
       "      <th>3</th>\n",
       "      <td>chr1</td>\n",
       "      <td>3857398</td>\n",
       "      <td>3857718</td>\n",
       "      <td>chr1:3857398-3857718</td>\n",
       "      <td>chr1</td>\n",
       "      <td>3857388</td>\n",
       "      <td>3857438</td>\n",
       "      <td>bin_25458</td>\n",
       "      <td>40</td>\n",
       "      <td>0.674</td>\n",
       "      <td>...</td>\n",
       "      <td>0.0</td>\n",
       "      <td>0.0</td>\n",
       "      <td>0.0</td>\n",
       "      <td>0.0</td>\n",
       "      <td>0.0</td>\n",
       "      <td>0.0</td>\n",
       "      <td>0.0</td>\n",
       "      <td>0.0</td>\n",
       "      <td>0.0</td>\n",
       "      <td>320</td>\n",
       "    </tr>\n",
       "    <tr>\n",
       "      <th>4</th>\n",
       "      <td>chr1</td>\n",
       "      <td>3857398</td>\n",
       "      <td>3857718</td>\n",
       "      <td>chr1:3857398-3857718</td>\n",
       "      <td>chr1</td>\n",
       "      <td>3857398</td>\n",
       "      <td>3857448</td>\n",
       "      <td>bin_25459</td>\n",
       "      <td>50</td>\n",
       "      <td>0.625</td>\n",
       "      <td>...</td>\n",
       "      <td>0.0</td>\n",
       "      <td>0.0</td>\n",
       "      <td>0.0</td>\n",
       "      <td>0.0</td>\n",
       "      <td>0.0</td>\n",
       "      <td>0.0</td>\n",
       "      <td>0.0</td>\n",
       "      <td>0.0</td>\n",
       "      <td>0.0</td>\n",
       "      <td>320</td>\n",
       "    </tr>\n",
       "  </tbody>\n",
       "</table>\n",
       "<p>5 rows × 44 columns</p>\n",
       "</div>"
      ],
      "text/plain": [
       "  #chr_region  start_region  end_region             region_id #chr_bin  \\\n",
       "0        chr1       3857398     3857718  chr1:3857398-3857718     chr1   \n",
       "1        chr1       3857398     3857718  chr1:3857398-3857718     chr1   \n",
       "2        chr1       3857398     3857718  chr1:3857398-3857718     chr1   \n",
       "3        chr1       3857398     3857718  chr1:3857398-3857718     chr1   \n",
       "4        chr1       3857398     3857718  chr1:3857398-3857718     chr1   \n",
       "\n",
       "   start_bin  end_bin     bin_id  overlap  phylop_bin  ...  \\\n",
       "0    3857358  3857408  bin_25455       10       0.644  ...   \n",
       "1    3857368  3857418  bin_25456       20       0.586  ...   \n",
       "2    3857378  3857428  bin_25457       30       0.665  ...   \n",
       "3    3857388  3857438  bin_25458       40       0.674  ...   \n",
       "4    3857398  3857448  bin_25459       50       0.625  ...   \n",
       "\n",
       "   HH-active_MM-inactive_HM-inactive_trans  HH-active_MM-inactive_cis-only  \\\n",
       "0                                      0.0                             0.0   \n",
       "1                                      0.0                             0.0   \n",
       "2                                      0.0                             0.0   \n",
       "3                                      0.0                             0.0   \n",
       "4                                      0.0                             0.0   \n",
       "\n",
       "  HH-active_MM-inactive_trans-only  HH-active_MM-inactive_cis+trans  \\\n",
       "0                              0.0                              0.0   \n",
       "1                              0.0                              0.0   \n",
       "2                              0.0                              0.0   \n",
       "3                              0.0                              0.0   \n",
       "4                              0.0                              0.0   \n",
       "\n",
       "   MM-active_HH-inactive_HM-inactive_cis  \\\n",
       "0                                    0.0   \n",
       "1                                    0.0   \n",
       "2                                    0.0   \n",
       "3                                    0.0   \n",
       "4                                    0.0   \n",
       "\n",
       "   MM-active_HH-inactive_MH-inactive_trans  MM-active_HH-inactive_cis-only  \\\n",
       "0                                      0.0                             0.0   \n",
       "1                                      0.0                             0.0   \n",
       "2                                      0.0                             0.0   \n",
       "3                                      0.0                             0.0   \n",
       "4                                      0.0                             0.0   \n",
       "\n",
       "   MM-active_HH-inactive_trans-only MM-active_HH-inactive_cis+trans  len  \n",
       "0                               0.0                             0.0  320  \n",
       "1                               0.0                             0.0  320  \n",
       "2                               0.0                             0.0  320  \n",
       "3                               0.0                             0.0  320  \n",
       "4                               0.0                             0.0  320  \n",
       "\n",
       "[5 rows x 44 columns]"
      ]
     },
     "execution_count": 62,
     "metadata": {},
     "output_type": "execute_result"
    }
   ],
   "source": [
    "score_annot = pd.merge(scores, activitybins)\n",
    "\n",
    "score_annot = pd.merge(score_annot, regions)\n",
    "\n",
    "score_annot.head()"
   ]
  },
  {
   "cell_type": "markdown",
   "id": "f9f1cae4",
   "metadata": {},
   "source": [
    "two things are different\n",
    "\n",
    "\n",
    "    -regions instead of bins\n",
    "    -calling activity by four-way code v. activity in four distinct experiments. \n",
    "    - HH active bins only"
   ]
  },
  {
   "cell_type": "code",
   "execution_count": 63,
   "id": "0f095511",
   "metadata": {
    "ExecuteTime": {
     "end_time": "2022-05-27T16:14:26.602275Z",
     "start_time": "2022-05-27T16:14:26.597001Z"
    }
   },
   "outputs": [],
   "source": [
    "region_bin_pairs = [\n",
    "    #(\"cis_only_regions\", \"cis_only\"),\n",
    "    (\"HH-active_MM-inactive_cis-only\", \"cis_only\"),\n",
    "    #(\"trans_only_regions\", \"trans_only\"),\n",
    "    ('HH-active_MM-inactive_trans-only', \"trans_only\"),\n",
    "    #('cis+trans', \"hu_cis_and_trans\"),\n",
    "    (\"HH-active_MM-inactive_cis+trans\", \"hu_cis_and_trans\"),\n",
    "                   ]"
   ]
  },
  {
   "cell_type": "code",
   "execution_count": 20,
   "id": "af50c087",
   "metadata": {
    "ExecuteTime": {
     "end_time": "2022-05-27T15:53:27.144031Z",
     "start_time": "2022-05-27T15:53:27.101018Z"
    }
   },
   "outputs": [
    {
     "data": {
      "text/plain": [
       "('sans-serif', 'Arial', 18)"
      ]
     },
     "execution_count": 20,
     "metadata": {},
     "output_type": "execute_result"
    }
   ],
   "source": [
    "pp.fonts()"
   ]
  },
  {
   "cell_type": "code",
   "execution_count": 22,
   "id": "04f8a4a6",
   "metadata": {
    "ExecuteTime": {
     "end_time": "2022-05-27T15:57:16.646816Z",
     "start_time": "2022-05-27T15:57:16.637341Z"
    }
   },
   "outputs": [],
   "source": [
    "def linear_reg(test):\n",
    "    y =np.array(test[\"phylop_region\"]).reshape(-1, 1)\n",
    "    X =np.array(test[\"phylop_bin\"]).reshape(-1, 1)\n",
    "    reg = LinearRegression().fit(X, y)\n",
    "    r, i, c =reg.score(X, y), reg.intercept_, reg.coef_\n",
    "    print(r,i,c)\n",
    "    \n",
    "    return r, i, c"
   ]
  },
  {
   "cell_type": "code",
   "execution_count": 68,
   "id": "a0925f29",
   "metadata": {
    "ExecuteTime": {
     "end_time": "2022-05-27T16:15:31.977604Z",
     "start_time": "2022-05-27T16:15:23.193846Z"
    }
   },
   "outputs": [
    {
     "name": "stdout",
     "output_type": "stream",
     "text": [
      "0.29938389000893095 [0.05751239] [[0.70453891]]\n",
      "0.25504317866006065 [0.10486138] [[0.68571914]]\n",
      "0.32191226765460557 [0.08679185] [[0.76965962]]\n"
     ]
    },
    {
     "data": {
      "image/png": "[encoded data removed]",
      "text/plain": [
       "<Figure size 864x1872 with 6 Axes>"
      ]
     },
     "metadata": {
      "needs_background": "light"
     },
     "output_type": "display_data"
    }
   ],
   "source": [
    "fig, ax_= plt.subplots(ncols = 2, nrows = 3,  figsize=(12, 26), )\n",
    "#plt.subplots_adjust(left=0.4, right=0.5)\n",
    "\n",
    "for n, tup in enumerate(region_bin_pairs):\n",
    "\n",
    "    reg_, bin_ = tup[0], tup[1]\n",
    "    keep_cols = ['phylop_bin', 'phylop_region', reg_, bin_, \"bin_id\", \"region_id\", \"self\", \"len\"]\n",
    "    \n",
    "    test = score_annot.loc[(score_annot[reg_]==1)\n",
    "                           &(score_annot[bin_] == True)]\n",
    "    test = test[keep_cols].drop_duplicates()\n",
    "                          \n",
    "    rsquared, intercept, coeff = linear_reg(test)\n",
    "    \n",
    "    \n",
    "    ax1 = ax_[n][0]\n",
    "    x = \"phylop_region\"\n",
    "    data = test\n",
    "    sns.histplot(x=x, data=data, color = \"orange\", label = \"region\", ax=ax1)\n",
    "    \n",
    "    x = \"phylop_bin\"\n",
    "    sns.histplot(x=x, data=data, label = \"bin\", ax=ax1)\n",
    "\n",
    "    ax1.legend()\n",
    "    \n",
    "    title = f\"{reg_}\\nregions v. bins\"\n",
    "    ax1.set(\n",
    "        xlabel = \"phylop scores\",\n",
    "        xlim = (-6,3),\n",
    "        title = title)\n",
    "    ax2 = ax_[n][1]\n",
    "    y = \"phylop_region\"\n",
    "    sns.regplot(x=x,y=y,data=data, ax=ax2, truncate=False,\n",
    "               line_kws = {\"color\":\"k\"})\n",
    "    ax2.axhline(0, ls= \"--\", color = \"grey\")\n",
    "    ax2.axvline(0, ls= \"--\", color = \"grey\")\n",
    "    ax2.set(xlabel = \"phylop bin score\",\n",
    "            ylabel = \"phylop region score\",\n",
    "            xlim = (-6,4), ylim=(-6,4),\n",
    "            #title = title\n",
    "    )\n",
    "    ax2.plot([-6,4],[-6,4], color = \"grey\", ls=\"--\")\n",
    "    ax2.text(2, -5, f\"r2={round(rsquared, 2)}\")\n",
    "outf = os.path.join(RE, \"region_x_bin_phylop_dist.pdf\")\n",
    "plt.savefig(outf, bbox_inches = \"tight\")"
   ]
  },
  {
   "cell_type": "code",
   "execution_count": 24,
   "id": "84f4c8f4",
   "metadata": {
    "ExecuteTime": {
     "end_time": "2022-05-27T16:00:15.552187Z",
     "start_time": "2022-05-27T16:00:15.518185Z"
    }
   },
   "outputs": [
    {
     "data": {
      "text/html": [
       "<div>\n",
       "<style scoped>\n",
       "    .dataframe tbody tr th:only-of-type {\n",
       "        vertical-align: middle;\n",
       "    }\n",
       "\n",
       "    .dataframe tbody tr th {\n",
       "        vertical-align: top;\n",
       "    }\n",
       "\n",
       "    .dataframe thead th {\n",
       "        text-align: right;\n",
       "    }\n",
       "</style>\n",
       "<table border=\"1\" class=\"dataframe\">\n",
       "  <thead>\n",
       "    <tr style=\"text-align: right;\">\n",
       "      <th></th>\n",
       "      <th>phylop_bin</th>\n",
       "      <th>phylop_region</th>\n",
       "      <th>HH-active_MM-inactive_cis+trans</th>\n",
       "      <th>hu_cis_and_trans</th>\n",
       "      <th>bin_id</th>\n",
       "      <th>region_id</th>\n",
       "      <th>self</th>\n",
       "    </tr>\n",
       "  </thead>\n",
       "  <tbody>\n",
       "    <tr>\n",
       "      <th>108</th>\n",
       "      <td>0.559</td>\n",
       "      <td>0.836</td>\n",
       "      <td>1.0</td>\n",
       "      <td>True</td>\n",
       "      <td>bin_33576</td>\n",
       "      <td>chr1:6603350-6603450</td>\n",
       "      <td>False</td>\n",
       "    </tr>\n",
       "    <tr>\n",
       "      <th>109</th>\n",
       "      <td>0.552</td>\n",
       "      <td>0.836</td>\n",
       "      <td>1.0</td>\n",
       "      <td>True</td>\n",
       "      <td>bin_33577</td>\n",
       "      <td>chr1:6603350-6603450</td>\n",
       "      <td>False</td>\n",
       "    </tr>\n",
       "    <tr>\n",
       "      <th>110</th>\n",
       "      <td>0.537</td>\n",
       "      <td>0.836</td>\n",
       "      <td>1.0</td>\n",
       "      <td>True</td>\n",
       "      <td>bin_33578</td>\n",
       "      <td>chr1:6603350-6603450</td>\n",
       "      <td>False</td>\n",
       "    </tr>\n",
       "    <tr>\n",
       "      <th>111</th>\n",
       "      <td>0.477</td>\n",
       "      <td>0.836</td>\n",
       "      <td>1.0</td>\n",
       "      <td>True</td>\n",
       "      <td>bin_33579</td>\n",
       "      <td>chr1:6603350-6603450</td>\n",
       "      <td>False</td>\n",
       "    </tr>\n",
       "    <tr>\n",
       "      <th>112</th>\n",
       "      <td>0.503</td>\n",
       "      <td>0.836</td>\n",
       "      <td>1.0</td>\n",
       "      <td>True</td>\n",
       "      <td>bin_33580</td>\n",
       "      <td>chr1:6603350-6603450</td>\n",
       "      <td>False</td>\n",
       "    </tr>\n",
       "    <tr>\n",
       "      <th>...</th>\n",
       "      <td>...</td>\n",
       "      <td>...</td>\n",
       "      <td>...</td>\n",
       "      <td>...</td>\n",
       "      <td>...</td>\n",
       "      <td>...</td>\n",
       "      <td>...</td>\n",
       "    </tr>\n",
       "    <tr>\n",
       "      <th>222138</th>\n",
       "      <td>-0.086</td>\n",
       "      <td>0.164</td>\n",
       "      <td>1.0</td>\n",
       "      <td>True</td>\n",
       "      <td>bin_8071122</td>\n",
       "      <td>chr9:136882362-136882462</td>\n",
       "      <td>False</td>\n",
       "    </tr>\n",
       "    <tr>\n",
       "      <th>222139</th>\n",
       "      <td>-0.111</td>\n",
       "      <td>0.164</td>\n",
       "      <td>1.0</td>\n",
       "      <td>True</td>\n",
       "      <td>bin_8071123</td>\n",
       "      <td>chr9:136882362-136882462</td>\n",
       "      <td>False</td>\n",
       "    </tr>\n",
       "    <tr>\n",
       "      <th>222140</th>\n",
       "      <td>-0.123</td>\n",
       "      <td>0.164</td>\n",
       "      <td>1.0</td>\n",
       "      <td>True</td>\n",
       "      <td>bin_8071124</td>\n",
       "      <td>chr9:136882362-136882462</td>\n",
       "      <td>False</td>\n",
       "    </tr>\n",
       "    <tr>\n",
       "      <th>222142</th>\n",
       "      <td>0.644</td>\n",
       "      <td>0.164</td>\n",
       "      <td>1.0</td>\n",
       "      <td>True</td>\n",
       "      <td>bin_8071126</td>\n",
       "      <td>chr9:136882362-136882462</td>\n",
       "      <td>False</td>\n",
       "    </tr>\n",
       "    <tr>\n",
       "      <th>222143</th>\n",
       "      <td>0.605</td>\n",
       "      <td>0.164</td>\n",
       "      <td>1.0</td>\n",
       "      <td>True</td>\n",
       "      <td>bin_8071127</td>\n",
       "      <td>chr9:136882362-136882462</td>\n",
       "      <td>False</td>\n",
       "    </tr>\n",
       "  </tbody>\n",
       "</table>\n",
       "<p>33308 rows × 7 columns</p>\n",
       "</div>"
      ],
      "text/plain": [
       "        phylop_bin  phylop_region  HH-active_MM-inactive_cis+trans  \\\n",
       "108          0.559          0.836                              1.0   \n",
       "109          0.552          0.836                              1.0   \n",
       "110          0.537          0.836                              1.0   \n",
       "111          0.477          0.836                              1.0   \n",
       "112          0.503          0.836                              1.0   \n",
       "...            ...            ...                              ...   \n",
       "222138      -0.086          0.164                              1.0   \n",
       "222139      -0.111          0.164                              1.0   \n",
       "222140      -0.123          0.164                              1.0   \n",
       "222142       0.644          0.164                              1.0   \n",
       "222143       0.605          0.164                              1.0   \n",
       "\n",
       "        hu_cis_and_trans       bin_id                 region_id   self  \n",
       "108                 True    bin_33576      chr1:6603350-6603450  False  \n",
       "109                 True    bin_33577      chr1:6603350-6603450  False  \n",
       "110                 True    bin_33578      chr1:6603350-6603450  False  \n",
       "111                 True    bin_33579      chr1:6603350-6603450  False  \n",
       "112                 True    bin_33580      chr1:6603350-6603450  False  \n",
       "...                  ...          ...                       ...    ...  \n",
       "222138              True  bin_8071122  chr9:136882362-136882462  False  \n",
       "222139              True  bin_8071123  chr9:136882362-136882462  False  \n",
       "222140              True  bin_8071124  chr9:136882362-136882462  False  \n",
       "222142              True  bin_8071126  chr9:136882362-136882462  False  \n",
       "222143              True  bin_8071127  chr9:136882362-136882462  False  \n",
       "\n",
       "[33308 rows x 7 columns]"
      ]
     },
     "execution_count": 24,
     "metadata": {},
     "output_type": "execute_result"
    }
   ],
   "source": [
    "test"
   ]
  },
  {
   "cell_type": "markdown",
   "id": "b540e94c",
   "metadata": {
    "ExecuteTime": {
     "end_time": "2022-05-25T21:07:00.680079Z",
     "start_time": "2022-05-25T21:07:00.674383Z"
    }
   },
   "source": [
    "# save regions w/ no self overlap"
   ]
  },
  {
   "cell_type": "code",
   "execution_count": 159,
   "id": "b2e12bb9",
   "metadata": {
    "ExecuteTime": {
     "end_time": "2022-05-25T21:08:31.923172Z",
     "start_time": "2022-05-25T21:08:31.868549Z"
    }
   },
   "outputs": [],
   "source": [
    "clean_regions = score_annot[[\"region_id\", \"phylop_region\"]].drop_duplicates()\n",
    "\n",
    "OUT_CLEAN_REGIONS = os.path.join(CONACC_REGIONS_PATH, \"br-hg38_mod-full_conacc_regions_noself.tsv\")\n",
    "clean_regions.to_csv(OUT_CLEAN_REGIONS, sep = '\\t', index = False)"
   ]
  },
  {
   "cell_type": "markdown",
   "id": "da671cf1",
   "metadata": {},
   "source": [
    "# fit a linear model of distribution stats.  "
   ]
  },
  {
   "cell_type": "code",
   "execution_count": 64,
   "id": "a7759561",
   "metadata": {
    "ExecuteTime": {
     "end_time": "2022-05-27T16:14:41.576932Z",
     "start_time": "2022-05-27T16:14:41.568068Z"
    }
   },
   "outputs": [
    {
     "data": {
      "text/plain": [
       "array([[0.836],\n",
       "       [0.836],\n",
       "       [0.836],\n",
       "       ...,\n",
       "       [0.164],\n",
       "       [0.164],\n",
       "       [0.164]])"
      ]
     },
     "execution_count": 64,
     "metadata": {},
     "output_type": "execute_result"
    }
   ],
   "source": [
    "np.array(test[\"phylop_region\"]).reshape(-1, 1)"
   ]
  },
  {
   "cell_type": "code",
   "execution_count": 69,
   "id": "8fb1ccab",
   "metadata": {
    "ExecuteTime": {
     "end_time": "2022-05-27T16:19:05.158811Z",
     "start_time": "2022-05-27T16:18:51.120274Z"
    }
   },
   "outputs": [],
   "source": [
    "desc = test.groupby([\"region_id\", \"phylop_region\", \"len\"])[\"phylop_bin\"].describe().reset_index()\n",
    "\n",
    "desc = desc.dropna() # drop na's\n",
    "desc = desc.loc[desc[\"phylop_region\"]<0]\n",
    "y = desc['phylop_region']  # phylop-region score is the dependent variable\n",
    "X = desc[[\"count\", \"len\"]] # all stat features are independent variables"
   ]
  },
  {
   "cell_type": "markdown",
   "id": "e428f4f7",
   "metadata": {},
   "source": [
    "# fit the regression"
   ]
  },
  {
   "cell_type": "code",
   "execution_count": 70,
   "id": "15953695",
   "metadata": {
    "ExecuteTime": {
     "end_time": "2022-05-27T16:19:22.476281Z",
     "start_time": "2022-05-27T16:19:22.404892Z"
    }
   },
   "outputs": [],
   "source": [
    "reg = LinearRegression().fit(X, y)"
   ]
  },
  {
   "cell_type": "markdown",
   "id": "e83f49ff",
   "metadata": {},
   "source": [
    "## r2 "
   ]
  },
  {
   "cell_type": "code",
   "execution_count": 71,
   "id": "eee86b7b",
   "metadata": {
    "ExecuteTime": {
     "end_time": "2022-05-27T16:19:23.562155Z",
     "start_time": "2022-05-27T16:19:23.550482Z"
    }
   },
   "outputs": [
    {
     "data": {
      "text/plain": [
       "0.0011728045616330451"
      ]
     },
     "execution_count": 71,
     "metadata": {},
     "output_type": "execute_result"
    }
   ],
   "source": [
    "reg.score(X, y)"
   ]
  },
  {
   "cell_type": "markdown",
   "id": "5bed44f1",
   "metadata": {},
   "source": [
    "## coeffs - mean has largest coefficient, median has largest negative coefficient "
   ]
  },
  {
   "cell_type": "code",
   "execution_count": 72,
   "id": "41371a9c",
   "metadata": {
    "ExecuteTime": {
     "end_time": "2022-05-27T16:19:26.505539Z",
     "start_time": "2022-05-27T16:19:26.498745Z"
    }
   },
   "outputs": [
    {
     "data": {
      "text/plain": [
       "array([-0.00065298, -0.00018146])"
      ]
     },
     "execution_count": 72,
     "metadata": {},
     "output_type": "execute_result"
    }
   ],
   "source": [
    "reg.coef_"
   ]
  },
  {
   "cell_type": "code",
   "execution_count": 73,
   "id": "d471a7a0",
   "metadata": {
    "ExecuteTime": {
     "end_time": "2022-05-27T16:19:28.282397Z",
     "start_time": "2022-05-27T16:19:28.275995Z"
    }
   },
   "outputs": [
    {
     "data": {
      "text/plain": [
       "-0.41028352401039797"
      ]
     },
     "execution_count": 73,
     "metadata": {},
     "output_type": "execute_result"
    }
   ],
   "source": [
    "reg.intercept_"
   ]
  },
  {
   "cell_type": "code",
   "execution_count": 74,
   "id": "0c02a234",
   "metadata": {
    "ExecuteTime": {
     "end_time": "2022-05-27T16:19:29.200654Z",
     "start_time": "2022-05-27T16:19:29.109530Z"
    }
   },
   "outputs": [
    {
     "data": {
      "text/html": [
       "<table class=\"simpletable\">\n",
       "<caption>OLS Regression Results</caption>\n",
       "<tr>\n",
       "  <th>Dep. Variable:</th>      <td>phylop_region</td>  <th>  R-squared:         </th> <td>   0.001</td>\n",
       "</tr>\n",
       "<tr>\n",
       "  <th>Model:</th>                   <td>OLS</td>       <th>  Adj. R-squared:    </th> <td>  -0.000</td>\n",
       "</tr>\n",
       "<tr>\n",
       "  <th>Method:</th>             <td>Least Squares</td>  <th>  F-statistic:       </th> <td>  0.7485</td>\n",
       "</tr>\n",
       "<tr>\n",
       "  <th>Date:</th>             <td>Fri, 27 May 2022</td> <th>  Prob (F-statistic):</th>  <td> 0.473</td> \n",
       "</tr>\n",
       "<tr>\n",
       "  <th>Time:</th>                 <td>11:19:29</td>     <th>  Log-Likelihood:    </th> <td> -916.29</td>\n",
       "</tr>\n",
       "<tr>\n",
       "  <th>No. Observations:</th>      <td>  1278</td>      <th>  AIC:               </th> <td>   1839.</td>\n",
       "</tr>\n",
       "<tr>\n",
       "  <th>Df Residuals:</th>          <td>  1275</td>      <th>  BIC:               </th> <td>   1854.</td>\n",
       "</tr>\n",
       "<tr>\n",
       "  <th>Df Model:</th>              <td>     2</td>      <th>                     </th>     <td> </td>   \n",
       "</tr>\n",
       "<tr>\n",
       "  <th>Covariance Type:</th>      <td>nonrobust</td>    <th>                     </th>     <td> </td>   \n",
       "</tr>\n",
       "</table>\n",
       "<table class=\"simpletable\">\n",
       "<tr>\n",
       "    <td></td>       <th>coef</th>     <th>std err</th>      <th>t</th>      <th>P>|t|</th>  <th>[0.025</th>    <th>0.975]</th>  \n",
       "</tr>\n",
       "<tr>\n",
       "  <th>const</th> <td>   -0.4103</td> <td>    0.032</td> <td>  -12.748</td> <td> 0.000</td> <td>   -0.473</td> <td>   -0.347</td>\n",
       "</tr>\n",
       "<tr>\n",
       "  <th>count</th> <td>   -0.0007</td> <td>    0.004</td> <td>   -0.147</td> <td> 0.883</td> <td>   -0.009</td> <td>    0.008</td>\n",
       "</tr>\n",
       "<tr>\n",
       "  <th>len</th>   <td>   -0.0002</td> <td>    0.000</td> <td>   -0.546</td> <td> 0.585</td> <td>   -0.001</td> <td>    0.000</td>\n",
       "</tr>\n",
       "</table>\n",
       "<table class=\"simpletable\">\n",
       "<tr>\n",
       "  <th>Omnibus:</th>       <td>838.024</td> <th>  Durbin-Watson:     </th> <td>   1.966</td> \n",
       "</tr>\n",
       "<tr>\n",
       "  <th>Prob(Omnibus):</th> <td> 0.000</td>  <th>  Jarque-Bera (JB):  </th> <td>12572.836</td>\n",
       "</tr>\n",
       "<tr>\n",
       "  <th>Skew:</th>          <td>-2.834</td>  <th>  Prob(JB):          </th> <td>    0.00</td> \n",
       "</tr>\n",
       "<tr>\n",
       "  <th>Kurtosis:</th>      <td>17.282</td>  <th>  Cond. No.          </th> <td>    408.</td> \n",
       "</tr>\n",
       "</table><br/><br/>Notes:<br/>[1] Standard Errors assume that the covariance matrix of the errors is correctly specified."
      ],
      "text/plain": [
       "<class 'statsmodels.iolib.summary.Summary'>\n",
       "\"\"\"\n",
       "                            OLS Regression Results                            \n",
       "==============================================================================\n",
       "Dep. Variable:          phylop_region   R-squared:                       0.001\n",
       "Model:                            OLS   Adj. R-squared:                 -0.000\n",
       "Method:                 Least Squares   F-statistic:                    0.7485\n",
       "Date:                Fri, 27 May 2022   Prob (F-statistic):              0.473\n",
       "Time:                        11:19:29   Log-Likelihood:                -916.29\n",
       "No. Observations:                1278   AIC:                             1839.\n",
       "Df Residuals:                    1275   BIC:                             1854.\n",
       "Df Model:                           2                                         \n",
       "Covariance Type:            nonrobust                                         \n",
       "==============================================================================\n",
       "                 coef    std err          t      P>|t|      [0.025      0.975]\n",
       "------------------------------------------------------------------------------\n",
       "const         -0.4103      0.032    -12.748      0.000      -0.473      -0.347\n",
       "count         -0.0007      0.004     -0.147      0.883      -0.009       0.008\n",
       "len           -0.0002      0.000     -0.546      0.585      -0.001       0.000\n",
       "==============================================================================\n",
       "Omnibus:                      838.024   Durbin-Watson:                   1.966\n",
       "Prob(Omnibus):                  0.000   Jarque-Bera (JB):            12572.836\n",
       "Skew:                          -2.834   Prob(JB):                         0.00\n",
       "Kurtosis:                      17.282   Cond. No.                         408.\n",
       "==============================================================================\n",
       "\n",
       "Notes:\n",
       "[1] Standard Errors assume that the covariance matrix of the errors is correctly specified.\n",
       "\"\"\""
      ]
     },
     "execution_count": 74,
     "metadata": {},
     "output_type": "execute_result"
    }
   ],
   "source": [
    "import statsmodels.api as sm\n",
    "X = sm.add_constant(X)\n",
    "mod = sm.OLS(y, X)\n",
    "res = mod.fit()\n",
    "res.summary()"
   ]
  },
  {
   "cell_type": "code",
   "execution_count": 75,
   "id": "303d9b37",
   "metadata": {
    "ExecuteTime": {
     "end_time": "2022-05-27T16:19:34.643183Z",
     "start_time": "2022-05-27T16:19:34.633940Z"
    }
   },
   "outputs": [
    {
     "data": {
      "text/plain": [
       "const   -0.410284\n",
       "count   -0.000653\n",
       "len     -0.000181\n",
       "dtype: float64"
      ]
     },
     "execution_count": 75,
     "metadata": {},
     "output_type": "execute_result"
    }
   ],
   "source": [
    "res.params"
   ]
  }
 ],
 "metadata": {
  "kernelspec": {
   "display_name": "Python (sfenv)",
   "language": "python",
   "name": "sfenv"
  },
  "language_info": {
   "codemirror_mode": {
    "name": "ipython",
    "version": 3
   },
   "file_extension": ".py",
   "mimetype": "text/x-python",
   "name": "python",
   "nbconvert_exporter": "python",
   "pygments_lexer": "ipython3",
   "version": "3.6.5"
  },
  "toc": {
   "base_numbering": 1,
   "nav_menu": {},
   "number_sections": true,
   "sideBar": true,
   "skip_h1_title": false,
   "title_cell": "Table of Contents",
   "title_sidebar": "Contents",
   "toc_cell": false,
   "toc_position": {},
   "toc_section_display": true,
   "toc_window_display": false
  }
 },
 "nbformat": 4,
 "nbformat_minor": 5
}
