{
 "cells": [
  {
   "cell_type": "markdown",
   "id": "11b867fe",
   "metadata": {},
   "source": [
    "# Comparative ATAC-STARR-seq Processing & Region Calling"
   ]
  },
  {
   "cell_type": "markdown",
   "id": "8d20f1ae",
   "metadata": {
    "ExecuteTime": {
     "end_time": "2022-04-20T16:05:22.440765Z",
     "start_time": "2022-04-20T16:05:18.429Z"
    }
   },
   "source": [
    "## Make Config.ini"
   ]
  },
  {
   "cell_type": "code",
   "execution_count": 5,
   "id": "70165ce6",
   "metadata": {
    "ExecuteTime": {
     "end_time": "2022-04-20T16:07:30.449253Z",
     "start_time": "2022-04-20T16:07:30.948Z"
    }
   },
   "outputs": [
    {
     "data": {
      "text/html": [
       "TRUE"
      ],
      "text/latex": [
       "TRUE"
      ],
      "text/markdown": [
       "TRUE"
      ],
      "text/plain": [
       "[1] TRUE"
      ]
     },
     "metadata": {},
     "output_type": "display_data"
    }
   ],
   "source": [
    "file.create(\"/data/hodges_lab/ATAC-STARR_B-cells/bin_human-evolution/config.ini\")"
   ]
  },
  {
   "cell_type": "markdown",
   "id": "6f522f66",
   "metadata": {},
   "source": [
    "## Generate Bins\n",
    "\n",
    "Sarah and I came up with a solid strategy on how to incorperate a lot of information gained from ATC-STARR and RNA-seq into one dataframe. This will allow us to perform very powerful analysis and ask very important questions about the relation between activity, accessibilty, sequence identity, etc. To do this, we decided to create a bed file of regions first and then characterize them, rather than doing each analysis individually and subsetting regions based on some arbitrary threshold.\n",
    "\n",
    "To make this bed file, we will do the following processes:  \n",
    "1. Call accessible chromatin peaks for each of the 4 samples (remove X/Y chromosome mapping peaks).  \n",
    "2. LiftOver the rheMac10 peaks to hg38.  \n",
    "3. Concatenate peaks into one bed file.  \n",
    "4. Merge overlapping regions with bedtool merge function.  \n",
    "5. Finally, make sliding window bins. 50bp size and 10bp step."
   ]
  },
  {
   "cell_type": "markdown",
   "id": "6446484d",
   "metadata": {},
   "source": [
    "### Call Accessibility Peaks\n",
    "\n",
    "The first step of analysis is to call accessibility peaks on all four experiments. To do that, we will use the unique files (no duplicates) and use the Genrich peak caller. We will adjust FDR so that the peak number represents ~1.8% of the genome. Also remove sex chromosomes. This 1.8% was determined empirically by setting various thresholds and checking in the genome browser. An example loci is included below: \n",
    "\n",
    "![Genome Browser](hgt_genome_1bac_64ff60.png)"
   ]
  },
  {
   "cell_type": "code",
   "execution_count": 1,
   "id": "6c4f0d72",
   "metadata": {
    "scrolled": true
   },
   "outputs": [
    {
     "name": "stderr",
     "output_type": "stream",
     "text": [
      "Processing experimental file #0: /data/hodges_lab/ATAC-STARR_B-cells/data/ATAC-STARR/bams/individual_replicates/GM12878inGM12878_DNA_Rep1.unique.n-sorted.bam\n",
      "  BAM records analyzed:   45252363\n",
      "    Paired alignments:    45252363\n",
      "      \"orphan\" alns:           173\n",
      "    Unpaired alignments:         0\n",
      "  Fragments analyzed:     22626095\n",
      "    Full fragments:       22626095\n",
      "    ATAC-seq cut sites:   45252190\n",
      "      (expanded to length 100bp)\n",
      "- control file #0 not provided -\n",
      "  Background pileup value: 1.325799\n",
      "Processing experimental file #1: /data/hodges_lab/ATAC-STARR_B-cells/data/ATAC-STARR/bams/individual_replicates/GM12878inGM12878_DNA_Rep2.unique.n-sorted.bam\n",
      "  BAM records analyzed:   40031374\n",
      "    Paired alignments:    40031374\n",
      "      \"orphan\" alns:           118\n",
      "    Unpaired alignments:         0\n",
      "  Fragments analyzed:     20015628\n",
      "    Full fragments:       20015628\n",
      "    ATAC-seq cut sites:   40031256\n",
      "      (expanded to length 100bp)\n",
      "- control file #1 not provided -\n",
      "  Background pileup value: 1.166081\n",
      "Processing experimental file #2: /data/hodges_lab/ATAC-STARR_B-cells/data/ATAC-STARR/bams/individual_replicates/GM12878inGM12878_DNA_Rep3.unique.n-sorted.bam\n",
      "Warning! Read A00252:248:HNFJ3DSX2:3:1338:16523:4648 prevented from extending past 112505 on chrUn_KI270438v1\n",
      "Warning! Read A00252:248:HNFJ3DSX2:3:1501:11722:9549 prevented from extending past 75005 on chr6_KI270802v1_alt\n",
      "Warning! Read A00252:248:HNFJ3DSX2:3:2163:26964:12931 prevented from extending past 75005 on chr6_KI270802v1_alt\n",
      "Warning! Read A00252:248:HNFJ3DSX2:4:1162:24216:33912 prevented from extending past 112505 on chrUn_KI270438v1\n",
      "Warning! Read A00252:248:HNFJ3DSX2:4:1309:20627:3396 prevented from extending past 112505 on chrUn_KI270438v1\n",
      "Warning! Read A00252:248:HNFJ3DSX2:4:1627:19849:3552 prevented from extending past 392061 on chrUn_KI270442v1\n",
      "Warning! Read A00252:248:HNFJ3DSX2:4:2334:16080:3881 prevented from extending past 75005 on chr6_KI270802v1_alt\n",
      "Warning! Read A00252:248:HNFJ3DSX2:4:2647:5068:36354 prevented from extending past 75005 on chr6_KI270802v1_alt\n",
      "Warning! Read A00252:251:HNYM7DSX2:1:1249:16351:9486 prevented from extending past 75005 on chr6_KI270802v1_alt\n",
      "Warning! Read A00252:251:HNYM7DSX2:1:1565:24596:20071 prevented from extending below 0 on chr14_KI270724v1_random\n",
      "Warning! Read A00252:251:HNYM7DSX2:1:2237:19434:34710 prevented from extending past 75005 on chr6_KI270802v1_alt\n",
      "Warning! Read A00252:251:HNYM7DSX2:2:1423:26313:8516 prevented from extending past 75005 on chr6_KI270802v1_alt\n",
      "Warning! Read A00252:251:HNYM7DSX2:2:1629:21784:4899 prevented from extending past 1400 on chrUn_KI270583v1\n",
      "Warning! Read A00252:251:HNYM7DSX2:2:1660:23882:1423 prevented from extending past 75005 on chr6_KI270802v1_alt\n",
      "Warning! Read A00252:251:HNYM7DSX2:2:2221:20880:28260 prevented from extending below 0 on chr22_KI270733v1_random\n",
      "Warning! Read A00252:251:HNYM7DSX2:2:2377:16233:30608 prevented from extending past 75005 on chr6_KI270802v1_alt\n",
      "Warning! Read A00252:251:HNYM7DSX2:3:1156:11523:27398 prevented from extending past 392061 on chrUn_KI270442v1\n",
      "Warning! Read A00252:251:HNYM7DSX2:3:1171:26476:18380 prevented from extending past 75005 on chr6_KI270802v1_alt\n",
      "Warning! Read A00252:251:HNYM7DSX2:3:1553:29315:11115 prevented from extending below 0 on chr14_GL000225v1_random\n",
      "Warning! Read A00252:251:HNYM7DSX2:3:1613:23827:24251 prevented from extending past 75005 on chr6_KI270802v1_alt\n",
      "Warning! Read A00252:251:HNYM7DSX2:3:1621:6786:31594 prevented from extending past 75005 on chr6_KI270802v1_alt\n",
      "Warning! Read A00252:251:HNYM7DSX2:3:1631:27905:5008 prevented from extending past 5796 on chrUn_KI270591v1\n",
      "Warning! Read A00252:251:HNYM7DSX2:3:2447:22987:23547 prevented from extending past 75005 on chr6_KI270802v1_alt\n",
      "Warning! Read A00252:251:HNYM7DSX2:3:2618:6976:1016 prevented from extending past 75005 on chr6_KI270802v1_alt\n",
      "Warning! Read A00252:251:HNYM7DSX2:4:1305:13584:23140 prevented from extending past 5796 on chrUn_KI270591v1\n",
      "Warning! Read A00252:251:HNYM7DSX2:4:1517:12771:2159 prevented from extending below 0 on chr16_KI270856v1_alt\n",
      "Warning! Read A00252:251:HNYM7DSX2:4:1521:6578:14105 prevented from extending past 75005 on chr6_KI270802v1_alt\n",
      "  BAM records analyzed:   56738228\n",
      "    Paired alignments:    56738228\n",
      "      \"orphan\" alns:           190\n",
      "    Unpaired alignments:         0\n",
      "  Fragments analyzed:     28369019\n",
      "    Full fragments:       28369019\n",
      "    ATAC-seq cut sites:   56738038\n",
      "      (expanded to length 100bp)\n",
      "- control file #2 not provided -\n",
      "  Background pileup value: 1.638469\n",
      "Peak-calling parameters:\n",
      "  Genome length: 3209286105bp\n",
      "  Significance threshold: -log(q) > 1.301\n",
      "  Min. AUC: 20.000\n",
      "  Max. gap between sites: 100bp\n",
      "Peaks identified: 174085 (79964653bp)\n",
      "Processing experimental file #0: /data/hodges_lab/ATAC-STARR_B-cells/data/ATAC-STARR/bams/individual_replicates/GM12878inLCL8664_DNA_Rep1.unique.n-sorted.bam\n",
      "  BAM records analyzed:   30562477\n",
      "    Paired alignments:    30562477\n",
      "      \"orphan\" alns:            97\n",
      "    Unpaired alignments:         0\n",
      "  Fragments analyzed:     15281190\n",
      "    Full fragments:       15281190\n",
      "    ATAC-seq cut sites:   30562380\n",
      "      (expanded to length 100bp)\n",
      "- control file #0 not provided -\n",
      "  Background pileup value: 0.890166\n",
      "Processing experimental file #1: /data/hodges_lab/ATAC-STARR_B-cells/data/ATAC-STARR/bams/individual_replicates/GM12878inLCL8664_DNA_Rep2.unique.n-sorted.bam\n",
      "  BAM records analyzed:   31357675\n",
      "    Paired alignments:    31357675\n",
      "      \"orphan\" alns:           115\n",
      "    Unpaired alignments:         0\n",
      "  Fragments analyzed:     15678780\n",
      "    Full fragments:       15678780\n",
      "    ATAC-seq cut sites:   31357560\n",
      "      (expanded to length 100bp)\n",
      "- control file #1 not provided -\n",
      "  Background pileup value: 0.916715\n",
      "Processing experimental file #2: /data/hodges_lab/ATAC-STARR_B-cells/data/ATAC-STARR/bams/individual_replicates/GM12878inLCL8664_DNA_Rep3.unique.n-sorted.bam\n",
      "Warning! Read A00252:248:HNFJ3DSX2:3:1163:25427:9956 prevented from extending below 0 on chr14_GL000225v1_random\n",
      "Warning! Read A00252:248:HNFJ3DSX2:3:1326:6696:27618 prevented from extending below 0 on chr4_GL000008v2_random\n",
      "Warning! Read A00252:248:HNFJ3DSX2:3:1402:14778:21731 prevented from extending past 392061 on chrUn_KI270442v1\n",
      "Warning! Read A00252:248:HNFJ3DSX2:3:1442:18439:18834 prevented from extending past 75005 on chr6_KI270802v1_alt\n",
      "Warning! Read A00252:248:HNFJ3DSX2:3:1549:9842:9643 prevented from extending past 112505 on chrUn_KI270438v1\n",
      "Warning! Read A00252:248:HNFJ3DSX2:3:1643:15447:8390 prevented from extending past 392061 on chrUn_KI270442v1\n",
      "Warning! Read A00252:248:HNFJ3DSX2:3:2101:7798:30624 prevented from extending past 38054 on chr9_KI270718v1_random\n",
      "Warning! Read A00252:248:HNFJ3DSX2:3:2230:17879:33019 prevented from extending past 5796 on chrUn_KI270591v1\n",
      "Warning! Read A00252:248:HNFJ3DSX2:3:2324:16821:7733 prevented from extending past 75005 on chr6_KI270802v1_alt\n",
      "Warning! Read A00252:248:HNFJ3DSX2:4:1126:2465:4288 prevented from extending below 0 on chrUn_KI270544v1\n",
      "Warning! Read A00252:248:HNFJ3DSX2:4:1212:15221:4586 prevented from extending past 38054 on chr9_KI270718v1_random\n",
      "Warning! Read A00252:248:HNFJ3DSX2:4:1266:17689:14685 prevented from extending past 75005 on chr6_KI270802v1_alt\n",
      "Warning! Read A00252:248:HNFJ3DSX2:4:1268:10954:6997 prevented from extending below 0 on chr17_GL000205v2_random\n",
      "Warning! Read A00252:248:HNFJ3DSX2:4:1331:10945:32784 prevented from extending past 112505 on chrUn_KI270438v1\n",
      "Warning! Read A00252:248:HNFJ3DSX2:4:1370:31060:30671 prevented from extending past 75005 on chr6_KI270802v1_alt\n",
      "Warning! Read A00252:248:HNFJ3DSX2:4:1464:30219:13463 prevented from extending past 112505 on chrUn_KI270438v1\n",
      "Warning! Read A00252:248:HNFJ3DSX2:4:1465:8070:31814 prevented from extending below 0 on chrUn_KI270330v1\n",
      "Warning! Read A00252:248:HNFJ3DSX2:4:1515:20193:25316 prevented from extending past 38054 on chr9_KI270718v1_random\n",
      "Warning! Read A00252:248:HNFJ3DSX2:4:1556:6958:12007 prevented from extending below 0 on chrUn_KI270511v1\n",
      "Warning! Read A00252:248:HNFJ3DSX2:4:1574:3016:36276 prevented from extending past 75005 on chr6_KI270802v1_alt\n",
      "Warning! Read A00252:248:HNFJ3DSX2:4:1654:9164:36182 prevented from extending past 38054 on chr9_KI270718v1_random\n",
      "Warning! Read A00252:248:HNFJ3DSX2:4:2123:28565:21308 prevented from extending past 38054 on chr9_KI270718v1_random\n",
      "Warning! Read A00252:248:HNFJ3DSX2:4:2141:9742:28416 prevented from extending past 112505 on chrUn_KI270438v1\n",
      "Warning! Read A00252:248:HNFJ3DSX2:4:2509:23873:10958 prevented from extending past 75005 on chr6_KI270802v1_alt\n",
      "Warning! Read A00252:248:HNFJ3DSX2:4:2551:5819:19680 prevented from extending past 75005 on chr6_KI270802v1_alt\n",
      "Warning! Read A00252:248:HNFJ3DSX2:4:2605:13792:22592 prevented from extending below 0 on chrX_KI270880v1_alt\n",
      "  BAM records analyzed:   55124976\n",
      "    Paired alignments:    55124976\n",
      "      \"orphan\" alns:           268\n",
      "    Unpaired alignments:         0\n",
      "  Fragments analyzed:     27562354\n",
      "    Full fragments:       27562354\n",
      "    ATAC-seq cut sites:   55124708\n",
      "      (expanded to length 100bp)\n",
      "- control file #2 not provided -\n",
      "  Background pileup value: 1.608122\n",
      "Peak-calling parameters:\n",
      "  Genome length: 3209286105bp\n",
      "  Significance threshold: -log(q) > 1.301\n",
      "  Min. AUC: 20.000\n",
      "  Max. gap between sites: 100bp\n",
      "Peaks identified: 176421 (80053654bp)\n",
      "Processing experimental file #0: /data/hodges_lab/ATAC-STARR_B-cells/data/ATAC-STARR/bams/individual_replicates/LCL8664inGM12878_DNA_Rep1.unique.n-sorted.bam\n",
      "Warning! Read A00758:133:HNK2CDSXY:2:1205:26711:10770 prevented from extending past 77137495 on chr20\n",
      "Warning! Read A00758:133:HNK2CDSXY:2:2123:17942:6104 prevented from extending past 77137495 on chr20\n",
      "Warning! Read A00758:133:HNK2CDSXY:3:2643:5104:12712 prevented from extending past 77137495 on chr20\n",
      "Warning! Read A00758:133:HNK2CDSXY:4:2262:3947:20791 prevented from extending past 77137495 on chr20\n",
      "  BAM records analyzed:   36852476\n",
      "    Paired alignments:    36852476\n",
      "    Unpaired alignments:         0\n",
      "  Fragments analyzed:     18426238\n",
      "    Full fragments:       18426238\n",
      "    ATAC-seq cut sites:   36852476\n",
      "      (expanded to length 100bp)\n",
      "- control file #0 not provided -\n",
      "  Background pileup value: 1.189050\n",
      "Processing experimental file #1: /data/hodges_lab/ATAC-STARR_B-cells/data/ATAC-STARR/bams/individual_replicates/LCL8664inGM12878_DNA_Rep2.unique.n-sorted.bam\n",
      "Warning! Read A00758:133:HNK2CDSXY:4:1555:27615:10895 prevented from extending past 77137495 on chr20\n",
      "Warning! Read A00758:133:HNK2CDSXY:4:2107:30834:17910 prevented from extending past 77137495 on chr20\n",
      "  BAM records analyzed:   35119644\n",
      "    Paired alignments:    35119644\n",
      "    Unpaired alignments:         0\n",
      "  Fragments analyzed:     17559822\n",
      "    Full fragments:       17559822\n",
      "    ATAC-seq cut sites:   35119644\n",
      "      (expanded to length 100bp)\n",
      "- control file #1 not provided -\n",
      "  Background pileup value: 1.126206\n",
      "Processing experimental file #2: /data/hodges_lab/ATAC-STARR_B-cells/data/ATAC-STARR/bams/individual_replicates/LCL8664inGM12878_DNA_Rep3.unique.n-sorted.bam\n",
      "Warning! Read A00252:248:HNFJ3DSX2:3:1119:1624:18991 prevented from extending below 0 on chrUn_NW_021162257v1\n",
      "Warning! Read A00252:248:HNFJ3DSX2:3:1123:7365:20509 prevented from extending past 68997 on chrX_NW_021160383v1_random\n",
      "Warning! Read A00252:248:HNFJ3DSX2:3:1126:29414:26005 prevented from extending below 0 on chrUn_NW_021162866v1\n",
      "Warning! Read A00252:248:HNFJ3DSX2:3:1141:12662:31187 prevented from extending below 0 on chrUn_NW_021160560v1\n",
      "Warning! Read A00252:248:HNFJ3DSX2:3:1145:28049:23923 prevented from extending past 738392 on chr4_NW_021160161v1_random\n",
      "Warning! Read A00252:248:HNFJ3DSX2:3:1155:8666:4163 prevented from extending past 738392 on chr4_NW_021160161v1_random\n",
      "Warning! Read A00252:248:HNFJ3DSX2:3:1165:3947:30060 prevented from extending past 85793 on chr4_NW_021160159v1_random\n",
      "Warning! Read A00252:248:HNFJ3DSX2:3:1174:18656:12853 prevented from extending below 0 on chrUn_NW_021160549v1\n",
      "Warning! Read A00252:248:HNFJ3DSX2:3:1203:3432:12477 prevented from extending past 51033 on chrUn_NW_021161670v1\n",
      "Warning! Read A00252:248:HNFJ3DSX2:3:1208:3866:18333 prevented from extending below 0 on chrUn_NW_021162584v1\n",
      "Warning! Read A00252:248:HNFJ3DSX2:3:1208:28203:28917 prevented from extending past 68997 on chrX_NW_021160383v1_random\n",
      "Warning! Read A00252:248:HNFJ3DSX2:3:1210:3658:13589 prevented from extending past 27694 on chrUn_NW_021161029v1\n",
      "Warning! Read A00252:248:HNFJ3DSX2:3:1245:25608:16313 prevented from extending below 0 on chrUn_NW_021161823v1\n",
      "Warning! Read A00252:248:HNFJ3DSX2:3:1250:21260:13886 prevented from extending past 20725 on chrUn_NW_021160682v1\n",
      "Warning! Read A00252:248:HNFJ3DSX2:3:1267:12029:29121 prevented from extending below 0 on chrUn_NW_021162360v1\n",
      "Warning! Read A00252:248:HNFJ3DSX2:3:1268:13937:5274 prevented from extending past 68997 on chrX_NW_021160383v1_random\n",
      "Warning! Read A00252:248:HNFJ3DSX2:3:1327:20690:5979 prevented from extending past 77137495 on chr20\n",
      "Warning! Read A00252:248:HNFJ3DSX2:3:1344:19904:32080 prevented from extending past 103309 on chrUn_NW_021162072v1\n",
      "Warning! Read A00252:248:HNFJ3DSX2:3:1349:31476:35243 prevented from extending below 0 on chrUn_NW_021161603v1\n",
      "Warning! Read A00252:248:HNFJ3DSX2:3:1352:9742:7153 prevented from extending below 0 on chrUn_NW_021160781v1\n",
      "Warning! Read A00252:248:HNFJ3DSX2:3:1366:21377:10551 prevented from extending past 77137495 on chr20\n",
      "Warning! Read A00252:248:HNFJ3DSX2:3:1407:17788:23093 prevented from extending below 0 on chrUn_NW_021161479v1\n",
      "Warning! Read A00252:248:HNFJ3DSX2:3:1453:12481:1689 prevented from extending below 0 on chrUn_NW_021160621v1\n",
      "Warning! Read A00252:248:HNFJ3DSX2:3:1470:19605:1689 prevented from extending past 738392 on chr4_NW_021160161v1_random\n",
      "Warning! Read A00252:248:HNFJ3DSX2:3:1473:25626:6104 prevented from extending past 85793 on chr4_NW_021160159v1_random\n",
      "Warning! Read A00252:248:HNFJ3DSX2:3:1505:31539:25144 prevented from extending past 68997 on chrX_NW_021160383v1_random\n",
      "Warning! Read A00252:248:HNFJ3DSX2:3:1511:16541:33332 prevented from extending past 2013 on chrUn_NW_021161959v1\n",
      "Warning! Read A00252:248:HNFJ3DSX2:3:1568:3676:31031 prevented from extending past 66457 on chrUn_NW_021161874v1\n",
      "Warning! Read A00252:248:HNFJ3DSX2:3:1572:21287:6042 prevented from extending below 0 on chrUn_NW_021162360v1\n",
      "Warning! Read A00252:248:HNFJ3DSX2:3:1621:21567:16892 prevented from extending below 0 on chr19_NW_021160363v1_random\n",
      "Warning! Read A00252:248:HNFJ3DSX2:3:1645:26286:2456 prevented from extending past 738392 on chr4_NW_021160161v1_random\n",
      "Warning! Read A00252:248:HNFJ3DSX2:3:1648:15230:23171 prevented from extending below 0 on chrUn_NW_021161816v1\n",
      "Warning! Read A00252:248:HNFJ3DSX2:3:1665:28420:13322 prevented from extending below 0 on chrUn_NW_021160518v1\n",
      "Warning! Read A00252:248:HNFJ3DSX2:3:2109:16550:9862 prevented from extending below 0 on chrUn_NW_021162794v1\n",
      "Warning! Read A00252:248:HNFJ3DSX2:3:2119:17589:35117 prevented from extending below 0 on chrUn_NW_021162165v1\n",
      "Warning! Read A00252:248:HNFJ3DSX2:3:2158:7835:34569 prevented from extending below 0 on chrUn_NW_021160715v1\n",
      "Warning! Read A00252:248:HNFJ3DSX2:3:2204:27489:24799 prevented from extending past 266033 on chrUn_NW_021162217v1\n",
      "Warning! Read A00252:248:HNFJ3DSX2:3:2206:14633:22232 prevented from extending below 0 on chrUn_NW_021162767v1\n",
      "Warning! Read A00252:248:HNFJ3DSX2:3:2215:23963:32158 prevented from extending past 29490 on chr10_NW_021160241v1_random\n",
      "Warning! Read A00252:248:HNFJ3DSX2:3:2238:28284:7764 prevented from extending past 66721 on chrUn_NW_021161899v1\n",
      "Warning! Read A00252:248:HNFJ3DSX2:3:2265:27407:18584 prevented from extending past 738392 on chr4_NW_021160161v1_random\n",
      "Warning! Read A00252:248:HNFJ3DSX2:3:2315:12156:34381 prevented from extending below 0 on chrUn_NW_021160717v1\n",
      "Warning! Read A00252:248:HNFJ3DSX2:3:2322:24180:18192 prevented from extending below 0 on chr3_NW_021160132v1_random\n",
      "Warning! Read A00252:248:HNFJ3DSX2:3:2337:14696:15796 prevented from extending past 738392 on chr4_NW_021160161v1_random\n",
      "Warning! Read A00252:248:HNFJ3DSX2:3:2346:3658:16532 prevented from extending below 0 on chrUn_NW_021162643v1\n",
      "Warning! Read A00252:248:HNFJ3DSX2:3:2350:15185:10974 prevented from extending below 0 on chrUn_NW_021160682v1\n",
      "Warning! Read A00252:248:HNFJ3DSX2:3:2362:3305:14920 prevented from extending below 0 on chrUn_NW_021162257v1\n",
      "Warning! Read A00252:248:HNFJ3DSX2:3:2366:27028:31015 prevented from extending below 0 on chrUn_NW_021161154v1\n",
      "Warning! Read A00252:248:HNFJ3DSX2:3:2404:2230:33661 prevented from extending past 77137495 on chr20\n",
      "Warning! Read A00252:248:HNFJ3DSX2:3:2448:14335:9565 prevented from extending past 68997 on chrX_NW_021160383v1_random\n",
      "Warning! Read A00252:248:HNFJ3DSX2:3:2448:22950:25770 prevented from extending past 99517758 on chr10\n",
      "Warning! Read A00252:248:HNFJ3DSX2:3:2451:25527:6934 prevented from extending past 12702 on chrUn_NW_021162807v1\n",
      "Warning! Read A00252:248:HNFJ3DSX2:3:2453:30309:33317 prevented from extending past 68997 on chrX_NW_021160383v1_random\n",
      "Warning! Read A00252:248:HNFJ3DSX2:3:2458:17255:33630 prevented from extending past 68997 on chrX_NW_021160383v1_random\n",
      "Warning! Read A00252:248:HNFJ3DSX2:3:2511:29559:17644 prevented from extending below 0 on chr7_NW_021160195v1_random\n",
      "Warning! Read A00252:248:HNFJ3DSX2:3:2517:11080:3709 prevented from extending below 0 on chrUn_NW_021160837v1\n",
      "Warning! Read A00252:248:HNFJ3DSX2:3:2524:20717:20024 prevented from extending past 85793 on chr4_NW_021160159v1_random\n",
      "Warning! Read A00252:248:HNFJ3DSX2:3:2531:10511:11209 prevented from extending past 68997 on chrX_NW_021160383v1_random\n",
      "Warning! Read A00252:248:HNFJ3DSX2:3:2547:13358:34303 prevented from extending past 68997 on chrX_NW_021160383v1_random\n",
      "Warning! Read A00252:248:HNFJ3DSX2:3:2554:28881:26459 prevented from extending below 0 on chrUn_NW_021162257v1\n",
      "Warning! Read A00252:248:HNFJ3DSX2:3:2571:25518:3599 prevented from extending past 77137495 on chr20\n",
      "Warning! Read A00252:248:HNFJ3DSX2:3:2616:2537:17910 prevented from extending past 68997 on chrX_NW_021160383v1_random\n",
      "Warning! Read A00252:248:HNFJ3DSX2:3:2634:8603:35462 prevented from extending past 738392 on chr4_NW_021160161v1_random\n",
      "Warning! Read A00252:248:HNFJ3DSX2:3:2644:19868:25692 prevented from extending past 68997 on chrX_NW_021160383v1_random\n",
      "Warning! Read A00252:248:HNFJ3DSX2:3:2654:20763:33818 prevented from extending past 68997 on chrX_NW_021160383v1_random\n",
      "Warning! Read A00252:248:HNFJ3DSX2:3:2655:25111:33270 prevented from extending past 24122 on chrUn_NW_021160822v1\n",
      "Warning! Read A00252:248:HNFJ3DSX2:4:1112:26829:1767 prevented from extending below 0 on chrUn_NW_021162595v1\n",
      "Warning! Read A00252:248:HNFJ3DSX2:4:1115:9164:4993 prevented from extending past 68997 on chrX_NW_021160383v1_random\n",
      "Warning! Read A00252:248:HNFJ3DSX2:4:1125:31340:2033 prevented from extending below 0 on chrUn_NW_021160837v1\n",
      "Warning! Read A00252:248:HNFJ3DSX2:4:1131:30499:7654 prevented from extending past 41983 on chrUn_NW_021162247v1\n",
      "Warning! Read A00252:248:HNFJ3DSX2:4:1134:31837:8437 prevented from extending past 85793 on chr4_NW_021160159v1_random\n",
      "Warning! Read A00252:248:HNFJ3DSX2:4:1219:12509:9408 prevented from extending past 85793 on chr4_NW_021160159v1_random\n",
      "Warning! Read A00252:248:HNFJ3DSX2:4:1221:8730:11193 prevented from extending past 48354 on chrUn_NW_021161699v1\n",
      "Warning! Read A00252:248:HNFJ3DSX2:4:1222:28574:7263 prevented from extending past 12382 on chrUn_NW_021162781v1\n",
      "Warning! Read A00252:248:HNFJ3DSX2:4:1226:17987:13135 prevented from extending past 52031 on chrUn_NW_021161676v1\n",
      "Warning! Read A00252:248:HNFJ3DSX2:4:1265:24749:28573 prevented from extending past 77137495 on chr20\n",
      "Warning! Read A00252:248:HNFJ3DSX2:4:1267:5538:11866 prevented from extending past 738392 on chr4_NW_021160161v1_random\n",
      "Warning! Read A00252:248:HNFJ3DSX2:4:1270:24523:33098 prevented from extending past 68997 on chrX_NW_021160383v1_random\n",
      "Warning! Read A00252:248:HNFJ3DSX2:4:1278:3242:3818 prevented from extending below 0 on chrUn_NW_021160837v1\n",
      "Warning! Read A00252:248:HNFJ3DSX2:4:1308:25916:33191 prevented from extending below 0 on chrUn_NW_021162360v1\n",
      "Warning! Read A00252:248:HNFJ3DSX2:4:1310:2184:13980 prevented from extending past 266033 on chrUn_NW_021162217v1\n",
      "Warning! Read A00252:248:HNFJ3DSX2:4:1325:13829:2988 prevented from extending below 0 on chrUn_NW_021162257v1\n",
      "Warning! Read A00252:248:HNFJ3DSX2:4:1334:20094:6637 prevented from extending below 0 on chrUn_NW_021160837v1\n",
      "Warning! Read A00252:248:HNFJ3DSX2:4:1350:15311:19085 prevented from extending below 0 on chrUn_NW_021160502v1\n",
      "Warning! Read A00252:248:HNFJ3DSX2:4:1359:23421:36448 prevented from extending below 0 on chrUn_NW_021162257v1\n",
      "Warning! Read A00252:248:HNFJ3DSX2:4:1362:9127:23625 prevented from extending below 0 on chrUn_NW_021162243v1\n",
      "Warning! Read A00252:248:HNFJ3DSX2:4:1414:5068:22670 prevented from extending below 0 on chr19_NW_021160369v1_random\n",
      "Warning! Read A00252:248:HNFJ3DSX2:4:1433:8070:14998 prevented from extending below 0 on chrUn_NW_021162257v1\n",
      "Warning! Read A00252:248:HNFJ3DSX2:4:1442:22046:12054 prevented from extending past 68997 on chrX_NW_021160383v1_random\n",
      "Warning! Read A00252:248:HNFJ3DSX2:4:1453:7102:28667 prevented from extending below 0 on chrUn_NW_021162257v1\n",
      "Warning! Read A00252:248:HNFJ3DSX2:4:1459:3414:26443 prevented from extending below 0 on chrUn_NW_021162170v1\n",
      "Warning! Read A00252:248:HNFJ3DSX2:4:1459:3414:26443 prevented from extending below 0 on chrUn_NW_021162170v1\n",
      "Warning! Read A00252:248:HNFJ3DSX2:4:1466:21142:28588 prevented from extending past 68997 on chrX_NW_021160383v1_random\n",
      "Warning! Read A00252:248:HNFJ3DSX2:4:1469:15383:12915 prevented from extending past 738392 on chr4_NW_021160161v1_random\n",
      "Warning! Read A00252:248:HNFJ3DSX2:4:1474:19063:14465 prevented from extending below 0 on chrUn_NW_021161649v1\n",
      "Warning! Read A00252:248:HNFJ3DSX2:4:1531:16532:12399 prevented from extending past 68997 on chrX_NW_021160383v1_random\n",
      "Warning! Read A00252:248:HNFJ3DSX2:4:1544:16613:17738 prevented from extending past 738392 on chr4_NW_021160161v1_random\n",
      "Warning! Read A00252:248:HNFJ3DSX2:4:1555:11659:28134 prevented from extending past 738392 on chr4_NW_021160161v1_random\n",
      "Warning! Read A00252:248:HNFJ3DSX2:4:1556:5177:34444 prevented from extending past 77137495 on chr20\n",
      "Warning! Read A00252:248:HNFJ3DSX2:4:1562:2239:15170 prevented from extending past 738392 on chr4_NW_021160161v1_random\n",
      "Warning! Read A00252:248:HNFJ3DSX2:4:1573:27145:24674 prevented from extending below 0 on chrUn_NW_021160837v1\n",
      "Warning! Read A00252:248:HNFJ3DSX2:4:1622:14877:18677 prevented from extending below 0 on chrUn_NW_021160696v1\n",
      "Warning! Read A00252:248:HNFJ3DSX2:4:1631:5249:10081 prevented from extending past 738392 on chr4_NW_021160161v1_random\n",
      "Warning! Read A00252:248:HNFJ3DSX2:4:1658:27715:4272 prevented from extending past 39850 on chrUn_NW_021160860v1\n",
      "Warning! Read A00252:248:HNFJ3DSX2:4:1677:9372:9361 prevented from extending past 85793 on chr4_NW_021160159v1_random\n",
      "Warning! Read A00252:248:HNFJ3DSX2:4:2106:28447:23390 prevented from extending past 594 on chrUn_NW_021162284v1\n",
      "Warning! Read A00252:248:HNFJ3DSX2:4:2108:25943:29951 prevented from extending below 0 on chr7_NW_021160195v1_random\n",
      "Warning! Read A00252:248:HNFJ3DSX2:4:2124:6370:4319 prevented from extending past 8920 on chrUn_NW_021162625v1\n",
      "Warning! Read A00252:248:HNFJ3DSX2:4:2126:18683:28463 prevented from extending past 6035 on chrUn_NW_021162346v1\n",
      "Warning! Read A00252:248:HNFJ3DSX2:4:2126:25301:20885 prevented from extending past 25922 on chrUn_NW_021160912v1\n",
      "Warning! Read A00252:248:HNFJ3DSX2:4:2126:25934:8453 prevented from extending past 41042 on chrUn_NW_021161451v1\n",
      "Warning! Read A00252:248:HNFJ3DSX2:4:2128:18096:27101 prevented from extending below 0 on chrUn_NW_021162840v1\n",
      "Warning! Read A00252:248:HNFJ3DSX2:4:2150:29143:26569 prevented from extending past 6035 on chrUn_NW_021162346v1\n",
      "Warning! Read A00252:248:HNFJ3DSX2:4:2168:9796:25316 prevented from extending below 0 on chrUn_NW_021161883v1\n",
      "Warning! Read A00252:248:HNFJ3DSX2:4:2214:16523:20588 prevented from extending past 13318 on chrUn_NW_021162844v1\n",
      "Warning! Read A00252:248:HNFJ3DSX2:4:2243:11957:4601 prevented from extending below 0 on chrUn_NW_021161849v1\n",
      "Warning! Read A00252:248:HNFJ3DSX2:4:2264:30463:14043 prevented from extending past 41042 on chrUn_NW_021161451v1\n",
      "Warning! Read A00252:248:HNFJ3DSX2:4:2304:18593:9799 prevented from extending past 41848 on chrUn_NW_021161462v1\n",
      "Warning! Read A00252:248:HNFJ3DSX2:4:2309:16685:32362 prevented from extending past 68997 on chrX_NW_021160383v1_random\n",
      "Warning! Read A00252:248:HNFJ3DSX2:4:2357:19397:28948 prevented from extending below 0 on chrUn_NW_021161741v1\n",
      "Warning! Read A00252:248:HNFJ3DSX2:4:2366:10538:35650 prevented from extending past 738392 on chr4_NW_021160161v1_random\n",
      "Warning! Read A00252:248:HNFJ3DSX2:4:2373:24171:1235 prevented from extending past 77137495 on chr20\n",
      "Warning! Read A00252:248:HNFJ3DSX2:4:2417:4707:29653 prevented from extending past 68997 on chrX_NW_021160383v1_random\n",
      "Warning! Read A00252:248:HNFJ3DSX2:4:2448:17164:35415 prevented from extending past 77137495 on chr20\n",
      "Warning! Read A00252:248:HNFJ3DSX2:4:2458:24026:18928 prevented from extending past 68997 on chrX_NW_021160383v1_random\n",
      "Warning! Read A00252:248:HNFJ3DSX2:4:2460:29559:35368 prevented from extending below 0 on chrUn_NW_021162086v1\n",
      "Warning! Read A00252:248:HNFJ3DSX2:4:2467:30300:27226 prevented from extending below 0 on chr14\n",
      "Warning! Read A00252:248:HNFJ3DSX2:4:2504:11912:27414 prevented from extending past 85793 on chr4_NW_021160159v1_random\n",
      "Warning! Read A00252:248:HNFJ3DSX2:4:2515:7437:19727 prevented from extending below 0 on chrUn_NW_021160549v1\n",
      "Warning! Read A00252:248:HNFJ3DSX2:4:2573:5728:2018 prevented from extending past 68997 on chrX_NW_021160383v1_random\n",
      "Warning! Read A00252:248:HNFJ3DSX2:4:2573:15727:25410 prevented from extending past 68997 on chrX_NW_021160383v1_random\n",
      "Warning! Read A00252:248:HNFJ3DSX2:4:2576:19678:26647 prevented from extending past 15859 on chrUn_NW_021162982v1\n",
      "Warning! Read A00252:248:HNFJ3DSX2:4:2606:11442:31234 prevented from extending below 0 on chr2_NW_021160123v1_random\n",
      "Warning! Read A00252:248:HNFJ3DSX2:4:2612:15546:22717 prevented from extending below 0 on chrUn_NW_021160690v1\n",
      "Warning! Read A00252:248:HNFJ3DSX2:4:2624:19578:34272 prevented from extending past 57200 on chrUn_NW_021161776v1\n",
      "Warning! Read A00252:248:HNFJ3DSX2:4:2635:12264:26115 prevented from extending below 0 on chrUn_NW_021160837v1\n",
      "Warning! Read A00252:248:HNFJ3DSX2:4:2638:25626:15123 prevented from extending past 1093 on chrUn_NW_021160935v1\n",
      "Warning! Read A00252:248:HNFJ3DSX2:4:2649:18719:13307 prevented from extending below 0 on chrUn_NW_021162099v1\n",
      "Warning! Read A00252:248:HNFJ3DSX2:4:2652:11921:33536 prevented from extending below 0 on chrUn_NW_021162257v1\n",
      "  BAM records analyzed:   56802194\n",
      "    Paired alignments:    56802194\n",
      "    Unpaired alignments:         0\n",
      "  Fragments analyzed:     28401097\n",
      "    Full fragments:       28401097\n",
      "    ATAC-seq cut sites:   56802194\n",
      "      (expanded to length 100bp)\n",
      "- control file #2 not provided -\n",
      "  Background pileup value: 1.819672\n",
      "Peak-calling parameters:\n",
      "  Genome length: 2971331530bp\n",
      "  Significance threshold: -log(q) > 1.301\n",
      "  Min. AUC: 20.000\n",
      "  Max. gap between sites: 100bp\n",
      "Peaks identified: 147396 (72017475bp)\n",
      "Processing experimental file #0: /data/hodges_lab/ATAC-STARR_B-cells/data/ATAC-STARR/bams/individual_replicates/LCL8664inLCL8664_DNA_Rep1.unique.n-sorted.bam\n",
      "Warning! Read A00252:145:HHCLYDSXY:1:2224:6696:32221 prevented from extending past 74474043 on chr18\n",
      "Warning! Read A00252:145:HHCLYDSXY:2:1449:16080:24737 prevented from extending past 77137495 on chr20\n",
      "Warning! Read A00252:145:HHCLYDSXY:2:1604:18801:30984 prevented from extending past 77137495 on chr20\n",
      "Warning! Read A00252:145:HHCLYDSXY:2:2235:22571:30311 prevented from extending past 99517758 on chr10\n",
      "Warning! Read A00252:145:HHCLYDSXY:2:2407:3721:24596 prevented from extending past 74474043 on chr18\n",
      "Warning! Read A00252:145:HHCLYDSXY:3:1674:15194:35415 prevented from extending past 77137495 on chr20\n",
      "Warning! Read A00252:145:HHCLYDSXY:4:1158:8929:19711 prevented from extending past 77137495 on chr20\n",
      "Warning! Read A00252:145:HHCLYDSXY:4:1356:25563:11882 prevented from extending past 77137495 on chr20\n",
      "Warning! Read A00252:145:HHCLYDSXY:4:1373:26793:34710 prevented from extending past 77137495 on chr20\n",
      "Warning! Read A00252:145:HHCLYDSXY:4:2118:14823:30671 prevented from extending past 77137495 on chr20\n",
      "  BAM records analyzed:   49421946\n",
      "    Paired alignments:    49421946\n",
      "    Unpaired alignments:         0\n",
      "  Fragments analyzed:     24710973\n",
      "    Full fragments:       24710973\n",
      "    ATAC-seq cut sites:   49421946\n",
      "      (expanded to length 100bp)\n",
      "- control file #0 not provided -\n",
      "  Background pileup value: 1.586354\n",
      "Processing experimental file #1: /data/hodges_lab/ATAC-STARR_B-cells/data/ATAC-STARR/bams/individual_replicates/LCL8664inLCL8664_DNA_Rep2.unique.n-sorted.bam\n",
      "Warning! Read A00252:145:HHCLYDSXY:1:2350:8368:25974 prevented from extending past 77137495 on chr20\n",
      "Warning! Read A00252:145:HHCLYDSXY:2:2361:4182:16157 prevented from extending past 77137495 on chr20\n",
      "Warning! Read A00252:145:HHCLYDSXY:2:2535:23674:23766 prevented from extending below 0 on chr14\n",
      "Warning! Read A00252:145:HHCLYDSXY:3:1271:6949:32064 prevented from extending past 77137495 on chr20\n",
      "Warning! Read A00252:145:HHCLYDSXY:3:2565:19334:31626 prevented from extending past 77137495 on chr20\n",
      "Warning! Read A00252:145:HHCLYDSXY:3:2626:25870:31923 prevented from extending past 77137495 on chr20\n",
      "Warning! Read A00252:145:HHCLYDSXY:4:2319:5520:4664 prevented from extending past 77137495 on chr20\n",
      "  BAM records analyzed:   46838672\n",
      "    Paired alignments:    46838672\n",
      "    Unpaired alignments:         0\n",
      "  Fragments analyzed:     23419336\n",
      "    Full fragments:       23419336\n",
      "    ATAC-seq cut sites:   46838672\n",
      "      (expanded to length 100bp)\n",
      "- control file #1 not provided -\n",
      "  Background pileup value: 1.504449\n",
      "Processing experimental file #2: /data/hodges_lab/ATAC-STARR_B-cells/data/ATAC-STARR/bams/individual_replicates/LCL8664inLCL8664_DNA_Rep3.unique.n-sorted.bam\n",
      "Warning! Read A00252:248:HNFJ3DSX2:3:1103:20925:24580 prevented from extending past 738392 on chr4_NW_021160161v1_random\n",
      "Warning! Read A00252:248:HNFJ3DSX2:3:1125:21187:28886 prevented from extending below 0 on chrUn_NW_021162770v1\n",
      "Warning! Read A00252:248:HNFJ3DSX2:3:1129:23836:4319 prevented from extending past 6035 on chrUn_NW_021162346v1\n",
      "Warning! Read A00252:248:HNFJ3DSX2:3:1146:14398:21856 prevented from extending below 0 on chrUn_NW_021160621v1\n",
      "Warning! Read A00252:248:HNFJ3DSX2:3:1154:6741:34178 prevented from extending past 48354 on chrUn_NW_021161699v1\n",
      "Warning! Read A00252:248:HNFJ3DSX2:3:1170:25418:16235 prevented from extending past 68997 on chrX_NW_021160383v1_random\n",
      "Warning! Read A00252:248:HNFJ3DSX2:3:1225:25889:9533 prevented from extending past 738392 on chr4_NW_021160161v1_random\n",
      "Warning! Read A00252:248:HNFJ3DSX2:3:1226:12002:5932 prevented from extending past 738392 on chr4_NW_021160161v1_random\n",
      "Warning! Read A00252:248:HNFJ3DSX2:3:1244:24605:8249 prevented from extending below 0 on chrUn_NW_021161649v1\n",
      "Warning! Read A00252:248:HNFJ3DSX2:3:1269:12373:11898 prevented from extending past 85793 on chr4_NW_021160159v1_random\n",
      "Warning! Read A00252:248:HNFJ3DSX2:3:1277:5204:18051 prevented from extending below 0 on chrUn_NW_021160682v1\n",
      "Warning! Read A00252:248:HNFJ3DSX2:3:1310:27434:7232 prevented from extending past 68997 on chrX_NW_021160383v1_random\n",
      "Warning! Read A00252:248:HNFJ3DSX2:3:1318:5620:23093 prevented from extending past 68997 on chrX_NW_021160383v1_random\n",
      "Warning! Read A00252:248:HNFJ3DSX2:3:1408:22327:18333 prevented from extending below 0 on chrUn_NW_021162584v1\n",
      "Warning! Read A00252:248:HNFJ3DSX2:3:1419:8811:37012 prevented from extending past 77137495 on chr20\n",
      "Warning! Read A00252:248:HNFJ3DSX2:3:1422:12427:29528 prevented from extending below 0 on chr1_NW_021160113v1_random\n",
      "Warning! Read A00252:248:HNFJ3DSX2:3:1431:26784:10645 prevented from extending past 68997 on chrX_NW_021160383v1_random\n",
      "Warning! Read A00252:248:HNFJ3DSX2:3:1436:30110:21073 prevented from extending past 68997 on chrX_NW_021160383v1_random\n",
      "Warning! Read A00252:248:HNFJ3DSX2:3:1444:22733:14967 prevented from extending below 0 on chrUn_NW_021162257v1\n",
      "Warning! Read A00252:248:HNFJ3DSX2:3:1444:31412:34194 prevented from extending below 0 on chrUn_NW_021161142v1\n",
      "Warning! Read A00252:248:HNFJ3DSX2:3:1452:27760:33285 prevented from extending past 68997 on chrX_NW_021160383v1_random\n",
      "Warning! Read A00252:248:HNFJ3DSX2:3:1453:25156:12555 prevented from extending below 0 on chr2_NW_021160123v1_random\n",
      "Warning! Read A00252:248:HNFJ3DSX2:3:1462:9353:20322 prevented from extending below 0 on chrUn_NW_021162170v1\n",
      "Warning! Read A00252:248:HNFJ3DSX2:3:1462:9353:20322 prevented from extending below 0 on chrUn_NW_021162170v1\n",
      "Warning! Read A00252:248:HNFJ3DSX2:3:1467:3061:30561 prevented from extending past 266033 on chrUn_NW_021162217v1\n",
      "Warning! Read A00252:248:HNFJ3DSX2:3:1471:3143:29637 prevented from extending below 0 on chrUn_NW_021160579v1\n",
      "Warning! Read A00252:248:HNFJ3DSX2:3:1509:6343:10222 prevented from extending below 0 on chrUn_NW_021161752v1\n",
      "Warning! Read A00252:248:HNFJ3DSX2:3:1518:7717:33771 prevented from extending past 77137495 on chr20\n",
      "Warning! Read A00252:248:HNFJ3DSX2:3:1523:26874:1720 prevented from extending past 68997 on chrX_NW_021160383v1_random\n",
      "Warning! Read A00252:248:HNFJ3DSX2:3:1531:25617:34585 prevented from extending past 738392 on chr4_NW_021160161v1_random\n",
      "Warning! Read A00252:248:HNFJ3DSX2:3:1538:13123:27414 prevented from extending past 68997 on chrX_NW_021160383v1_random\n",
      "Warning! Read A00252:248:HNFJ3DSX2:3:1547:29360:16235 prevented from extending past 266033 on chrUn_NW_021162217v1\n",
      "Warning! Read A00252:248:HNFJ3DSX2:3:1613:19388:36761 prevented from extending past 20725 on chrUn_NW_021160682v1\n",
      "Warning! Read A00252:248:HNFJ3DSX2:3:1614:8956:25989 prevented from extending past 738392 on chr4_NW_021160161v1_random\n",
      "Warning! Read A00252:248:HNFJ3DSX2:3:1624:16260:33223 prevented from extending below 0 on chrUn_NW_021161603v1\n",
      "Warning! Read A00252:248:HNFJ3DSX2:3:1630:2166:4460 prevented from extending below 0 on chrUn_NW_021162360v1\n",
      "Warning! Read A00252:248:HNFJ3DSX2:3:1631:20600:2597 prevented from extending past 68997 on chrX_NW_021160383v1_random\n",
      "Warning! Read A00252:248:HNFJ3DSX2:3:1660:22182:20744 prevented from extending below 0 on chrUn_NW_021162732v1\n",
      "Warning! Read A00252:248:HNFJ3DSX2:3:2111:16911:4758 prevented from extending below 0 on chrUn_NW_021162409v1\n",
      "Warning! Read A00252:248:HNFJ3DSX2:3:2150:29369:20635 prevented from extending below 0 on chrUn_NW_021162335v1\n",
      "Warning! Read A00252:248:HNFJ3DSX2:3:2152:16514:29904 prevented from extending below 0 on chrUn_NW_021160502v1\n",
      "Warning! Read A00252:248:HNFJ3DSX2:3:2152:25744:8343 prevented from extending past 25922 on chrUn_NW_021160912v1\n",
      "Warning! Read A00252:248:HNFJ3DSX2:3:2175:8892:28385 prevented from extending past 68997 on chrX_NW_021160383v1_random\n",
      "Warning! Read A00252:248:HNFJ3DSX2:3:2236:1353:15483 prevented from extending below 0 on chr2_NW_021160123v1_random\n",
      "Warning! Read A00252:248:HNFJ3DSX2:3:2239:19642:20134 prevented from extending past 44389 on chrUn_NW_021161603v1\n",
      "Warning! Read A00252:248:HNFJ3DSX2:3:2239:20021:10614 prevented from extending past 738392 on chr4_NW_021160161v1_random\n",
      "Warning! Read A00252:248:HNFJ3DSX2:3:2313:31738:23234 prevented from extending below 0 on chrUn_NW_021162595v1\n",
      "Warning! Read A00252:248:HNFJ3DSX2:3:2314:4309:29340 prevented from extending past 738392 on chr4_NW_021160161v1_random\n",
      "Warning! Read A00252:248:HNFJ3DSX2:3:2333:5466:4006 prevented from extending below 0 on chrUn_NW_021162794v1\n",
      "Warning! Read A00252:248:HNFJ3DSX2:3:2372:26033:12132 prevented from extending below 0 on chr1_NW_021160113v1_random\n",
      "Warning! Read A00252:248:HNFJ3DSX2:3:2417:3477:1783 prevented from extending past 13331 on chrUn_NW_021162843v1\n",
      "Warning! Read A00252:248:HNFJ3DSX2:3:2442:27091:2315 prevented from extending past 85793 on chr4_NW_021160159v1_random\n",
      "Warning! Read A00252:248:HNFJ3DSX2:3:2444:15682:20791 prevented from extending past 41983 on chrUn_NW_021162247v1\n",
      "Warning! Read A00252:248:HNFJ3DSX2:3:2463:3414:17237 prevented from extending below 0 on chrUn_NW_021160837v1\n",
      "Warning! Read A00252:248:HNFJ3DSX2:3:2465:7410:35211 prevented from extending below 0 on chrUn_NW_021161202v1\n",
      "Warning! Read A00252:248:HNFJ3DSX2:3:2465:7880:15702 prevented from extending past 41848 on chrUn_NW_021161462v1\n",
      "Warning! Read A00252:248:HNFJ3DSX2:3:2469:9498:14841 prevented from extending below 0 on chrUn_NW_021160837v1\n",
      "Warning! Read A00252:248:HNFJ3DSX2:3:2503:16902:14231 prevented from extending past 738392 on chr4_NW_021160161v1_random\n",
      "Warning! Read A00252:248:HNFJ3DSX2:3:2520:17047:11851 prevented from extending past 85793 on chr4_NW_021160159v1_random\n",
      "Warning! Read A00252:248:HNFJ3DSX2:3:2523:25988:5729 prevented from extending below 0 on chrUn_NW_021162360v1\n",
      "Warning! Read A00252:248:HNFJ3DSX2:3:2529:18231:1125 prevented from extending past 68997 on chrX_NW_021160383v1_random\n",
      "Warning! Read A00252:248:HNFJ3DSX2:3:2529:29062:22106 prevented from extending below 0 on chrUn_NW_021160837v1\n",
      "Warning! Read A00252:248:HNFJ3DSX2:3:2564:30789:5400 prevented from extending past 15570 on chrUn_NW_021162985v1\n",
      "Warning! Read A00252:248:HNFJ3DSX2:3:2613:6180:30514 prevented from extending past 77137495 on chr20\n",
      "Warning! Read A00252:248:HNFJ3DSX2:3:2617:24243:24001 prevented from extending below 0 on chrUn_NW_021160560v1\n",
      "Warning! Read A00252:248:HNFJ3DSX2:3:2618:22444:31501 prevented from extending past 12382 on chrUn_NW_021162781v1\n",
      "Warning! Read A00252:248:HNFJ3DSX2:3:2636:4453:20635 prevented from extending below 0 on chrUn_NW_021160837v1\n",
      "Warning! Read A00252:248:HNFJ3DSX2:3:2668:13720:19993 prevented from extending past 68997 on chrX_NW_021160383v1_random\n",
      "Warning! Read A00252:248:HNFJ3DSX2:3:2675:26811:12633 prevented from extending past 68997 on chrX_NW_021160383v1_random\n",
      "Warning! Read A00252:248:HNFJ3DSX2:4:1129:2022:11099 prevented from extending past 41042 on chrUn_NW_021161451v1\n",
      "Warning! Read A00252:248:HNFJ3DSX2:4:1131:2067:28776 prevented from extending past 68997 on chrX_NW_021160383v1_random\n",
      "Warning! Read A00252:248:HNFJ3DSX2:4:1134:7780:22263 prevented from extending past 68997 on chrX_NW_021160383v1_random\n",
      "Warning! Read A00252:248:HNFJ3DSX2:4:1138:3739:17018 prevented from extending past 13685 on chrUn_NW_021160550v1\n",
      "Warning! Read A00252:248:HNFJ3DSX2:4:1141:2465:26772 prevented from extending past 1229889 on chr3_NW_021160144v1_random\n",
      "Warning! Read A00252:248:HNFJ3DSX2:4:1169:23954:17143 prevented from extending below 0 on chrUn_NW_021162360v1\n",
      "Warning! Read A00252:248:HNFJ3DSX2:4:1174:28682:19288 prevented from extending below 0 on chrUn_NW_021162257v1\n",
      "Warning! Read A00252:248:HNFJ3DSX2:4:1202:29559:24878 prevented from extending below 0 on chr19_NW_021160369v1_random\n",
      "Warning! Read A00252:248:HNFJ3DSX2:4:1208:17626:16485 prevented from extending past 74474043 on chr18\n",
      "Warning! Read A00252:248:HNFJ3DSX2:4:1213:21070:26897 prevented from extending below 0 on chrUn_NW_021160549v1\n",
      "Warning! Read A00252:248:HNFJ3DSX2:4:1216:19849:36307 prevented from extending past 738392 on chr4_NW_021160161v1_random\n",
      "Warning! Read A00252:248:HNFJ3DSX2:4:1220:14118:11475 prevented from extending past 68997 on chrX_NW_021160383v1_random\n",
      "Warning! Read A00252:248:HNFJ3DSX2:4:1267:19434:19147 prevented from extending below 0 on chrUn_NW_021161741v1\n",
      "Warning! Read A00252:248:HNFJ3DSX2:4:1275:30653:16971 prevented from extending below 0 on chrUn_NW_021162165v1\n",
      "Warning! Read A00252:248:HNFJ3DSX2:4:1308:9299:18380 prevented from extending past 10982 on chrUn_NW_021162694v1\n",
      "Warning! Read A00252:248:HNFJ3DSX2:4:1316:27407:35274 prevented from extending past 738392 on chr4_NW_021160161v1_random\n",
      "Warning! Read A00252:248:HNFJ3DSX2:4:1323:9643:26428 prevented from extending past 738392 on chr4_NW_021160161v1_random\n",
      "Warning! Read A00252:248:HNFJ3DSX2:4:1341:30508:29872 prevented from extending below 0 on chr1_NW_021160113v1_random\n",
      "Warning! Read A00252:248:HNFJ3DSX2:4:1349:1886:16344 prevented from extending past 738392 on chr4_NW_021160161v1_random\n",
      "Warning! Read A00252:248:HNFJ3DSX2:4:1350:24288:7858 prevented from extending below 0 on chrUn_NW_021161537v1\n",
      "Warning! Read A00252:248:HNFJ3DSX2:4:1369:3341:15984 prevented from extending past 10629 on chrUn_NW_021162679v1\n",
      "Warning! Read A00252:248:HNFJ3DSX2:4:1402:19090:5901 prevented from extending past 27694 on chrUn_NW_021161029v1\n",
      "Warning! Read A00252:248:HNFJ3DSX2:4:1406:5502:31438 prevented from extending below 0 on chrUn_NW_021162257v1\n",
      "Warning! Read A00252:248:HNFJ3DSX2:4:1425:14082:32643 prevented from extending past 738392 on chr4_NW_021160161v1_random\n",
      "Warning! Read A00252:248:HNFJ3DSX2:4:1429:9453:29825 prevented from extending below 0 on chr7_NW_021160195v1_random\n",
      "Warning! Read A00252:248:HNFJ3DSX2:4:1438:1687:9142 prevented from extending below 0 on chrUn_NW_021161689v1\n",
      "Warning! Read A00252:248:HNFJ3DSX2:4:1454:5990:7513 prevented from extending past 738392 on chr4_NW_021160161v1_random\n",
      "Warning! Read A00252:248:HNFJ3DSX2:4:1456:17526:16282 prevented from extending past 13489 on chrUn_NW_021162854v1\n",
      "Warning! Read A00252:248:HNFJ3DSX2:4:1468:10257:25551 prevented from extending past 738392 on chr4_NW_021160161v1_random\n",
      "Warning! Read A00252:248:HNFJ3DSX2:4:1567:2211:3192 prevented from extending below 0 on chrUn_NW_021162767v1\n",
      "Warning! Read A00252:248:HNFJ3DSX2:4:1573:16749:6543 prevented from extending past 77137495 on chr20\n",
      "Warning! Read A00252:248:HNFJ3DSX2:4:1578:15646:31532 prevented from extending below 0 on chrUn_NW_021162086v1\n",
      "Warning! Read A00252:248:HNFJ3DSX2:4:1601:19714:10332 prevented from extending below 0 on chrUn_NW_021160690v1\n",
      "Warning! Read A00252:248:HNFJ3DSX2:4:1601:24930:12258 prevented from extending below 0 on chrUn_NW_021162643v1\n",
      "Warning! Read A00252:248:HNFJ3DSX2:4:1650:27263:9784 prevented from extending past 77137495 on chr20\n",
      "Warning! Read A00252:248:HNFJ3DSX2:4:1653:25780:8343 prevented from extending below 0 on chr19_NW_021160363v1_random\n",
      "Warning! Read A00252:248:HNFJ3DSX2:4:2102:6840:17503 prevented from extending past 85793 on chr4_NW_021160159v1_random\n",
      "Warning! Read A00252:248:HNFJ3DSX2:4:2105:32244:10708 prevented from extending below 0 on chrUn_NW_021162868v1\n",
      "Warning! Read A00252:248:HNFJ3DSX2:4:2107:3775:2487 prevented from extending past 68997 on chrX_NW_021160383v1_random\n",
      "Warning! Read A00252:248:HNFJ3DSX2:4:2111:5629:31563 prevented from extending below 0 on chrUn_NW_021162257v1\n",
      "Warning! Read A00252:248:HNFJ3DSX2:4:2114:4300:19335 prevented from extending below 0 on chrUn_NW_021160717v1\n",
      "Warning! Read A00252:248:HNFJ3DSX2:4:2128:16975:17519 prevented from extending past 16749 on chrUn_NW_021160436v1\n",
      "Warning! Read A00252:248:HNFJ3DSX2:4:2128:19045:24017 prevented from extending past 68997 on chrX_NW_021160383v1_random\n",
      "Warning! Read A00252:248:HNFJ3DSX2:4:2142:7093:34444 prevented from extending past 28037 on chrUn_NW_021160999v1\n",
      "Warning! Read A00252:248:HNFJ3DSX2:4:2142:11695:13792 prevented from extending past 17970 on chrUn_NW_021160532v1\n",
      "Warning! Read A00252:248:HNFJ3DSX2:4:2155:9109:7686 prevented from extending below 0 on chrUn_NW_021161816v1\n",
      "Warning! Read A00252:248:HNFJ3DSX2:4:2155:19515:31626 prevented from extending below 0 on chrUn_NW_021162081v1\n",
      "Warning! Read A00252:248:HNFJ3DSX2:4:2156:26973:16485 prevented from extending past 68997 on chrX_NW_021160383v1_random\n",
      "Warning! Read A00252:248:HNFJ3DSX2:4:2159:27335:16611 prevented from extending below 0 on chrUn_NW_021162840v1\n",
      "Warning! Read A00252:248:HNFJ3DSX2:4:2223:27299:18709 prevented from extending below 0 on chrUn_NW_021160549v1\n",
      "Warning! Read A00252:248:HNFJ3DSX2:4:2229:10583:34788 prevented from extending below 0 on chrUn_NW_021162257v1\n",
      "Warning! Read A00252:248:HNFJ3DSX2:4:2230:30960:36292 prevented from extending below 0 on chrUn_NW_021162723v1\n",
      "Warning! Read A00252:248:HNFJ3DSX2:4:2262:10366:4539 prevented from extending past 74474043 on chr18\n",
      "Warning! Read A00252:248:HNFJ3DSX2:4:2262:19352:23109 prevented from extending past 155517 on chrUn_NW_021162178v1\n",
      "Warning! Read A00252:248:HNFJ3DSX2:4:2264:16514:16877 prevented from extending past 68997 on chrX_NW_021160383v1_random\n",
      "Warning! Read A00252:248:HNFJ3DSX2:4:2265:21522:5979 prevented from extending past 68997 on chrX_NW_021160383v1_random\n",
      "Warning! Read A00252:248:HNFJ3DSX2:4:2275:5032:8484 prevented from extending below 0 on chrUn_NW_021162257v1\n",
      "Warning! Read A00252:248:HNFJ3DSX2:4:2313:8458:26475 prevented from extending below 0 on chrUn_NW_021160549v1\n",
      "Warning! Read A00252:248:HNFJ3DSX2:4:2332:12491:8218 prevented from extending below 0 on chrUn_NW_021162243v1\n",
      "Warning! Read A00252:248:HNFJ3DSX2:4:2419:17065:5682 prevented from extending past 85793 on chr4_NW_021160159v1_random\n",
      "Warning! Read A00252:248:HNFJ3DSX2:4:2435:9661:28244 prevented from extending past 6242 on chrUn_NW_021162374v1\n",
      "Warning! Read A00252:248:HNFJ3DSX2:4:2457:16866:15045 prevented from extending below 0 on chr7_NW_021160195v1_random\n",
      "Warning! Read A00252:248:HNFJ3DSX2:4:2461:11586:24690 prevented from extending below 0 on chr7_NW_021160195v1_random\n",
      "Warning! Read A00252:248:HNFJ3DSX2:4:2468:7563:25739 prevented from extending past 20725 on chrUn_NW_021160682v1\n",
      "Warning! Read A00252:248:HNFJ3DSX2:4:2527:25780:25942 prevented from extending below 0 on chrUn_NW_021162360v1\n",
      "Warning! Read A00252:248:HNFJ3DSX2:4:2577:15248:3067 prevented from extending below 0 on chrUn_NW_021162222v1\n",
      "Warning! Read A00252:248:HNFJ3DSX2:4:2617:29577:21151 prevented from extending past 738392 on chr4_NW_021160161v1_random\n",
      "Warning! Read A00252:248:HNFJ3DSX2:4:2637:16378:33301 prevented from extending past 77137495 on chr20\n",
      "Warning! Read A00252:248:HNFJ3DSX2:4:2645:28004:33207 prevented from extending past 738392 on chr4_NW_021160161v1_random\n",
      "Warning! Read A00252:248:HNFJ3DSX2:4:2651:25310:13135 prevented from extending past 51033 on chrUn_NW_021161670v1\n",
      "  BAM records analyzed:   54728788\n",
      "    Paired alignments:    54728788\n",
      "    Unpaired alignments:         0\n",
      "  Fragments analyzed:     27364394\n",
      "    Full fragments:       27364394\n",
      "    ATAC-seq cut sites:   54728788\n",
      "      (expanded to length 100bp)\n",
      "- control file #2 not provided -\n",
      "  Background pileup value: 1.756499\n",
      "Peak-calling parameters:\n",
      "  Genome length: 2971331530bp\n",
      "  Significance threshold: -log(q) > 1.301\n",
      "  Min. AUC: 20.000\n",
      "  Max. gap between sites: 100bp\n",
      "Peaks identified: 143295 (71003156bp)\n"
     ]
    }
   ],
   "source": [
    "%%bash\n",
    "INPUT_DIR='/data/hodges_lab/ATAC-STARR_B-cells/data/ATAC-STARR/bams/individual_replicates'\n",
    "OUTPUT_DIR='/data/hodges_lab/ATAC-STARR_B-cells/data/hansen-fong/chrAcc_peaks'\n",
    "\n",
    "if [ ! -d \"$OUTPUT_DIR\" ]; then\n",
    "    mkdir /data/hodges_lab/ATAC-STARR_B-cells/data/hansen-fong/chrAcc_peaks\n",
    "fi\n",
    "\n",
    "for i in GM12878inGM12878 GM12878inLCL8664 LCL8664inGM12878 LCL8664inLCL8664 \n",
    "do \n",
    "  #Call peaks\n",
    "  /home/hansetj1/Genrich/Genrich -t ${INPUT_DIR}/${i}_DNA_Rep1.unique.n-sorted.bam,${INPUT_DIR}/${i}_DNA_Rep2.unique.n-sorted.bam,${INPUT_DIR}/${i}_DNA_Rep3.unique.n-sorted.bam \\\n",
    "      -o ${OUTPUT_DIR}/${i}_DNA_genrich.narrowPeak -j -v\n",
    "done"
   ]
  },
  {
   "cell_type": "code",
   "execution_count": 1,
   "id": "5ee5d3b8",
   "metadata": {
    "scrolled": false
   },
   "outputs": [
    {
     "name": "stderr",
     "output_type": "stream",
     "text": [
      "\n",
      "\u001b[36m──\u001b[39m \u001b[1m\u001b[1mColumn specification\u001b[1m\u001b[22m \u001b[36m────────────────────────────────────────────────────────\u001b[39m\n",
      "cols(\n",
      "  chr = \u001b[31mcol_character()\u001b[39m,\n",
      "  start = \u001b[32mcol_double()\u001b[39m,\n",
      "  end = \u001b[32mcol_double()\u001b[39m,\n",
      "  name = \u001b[31mcol_character()\u001b[39m,\n",
      "  score = \u001b[32mcol_double()\u001b[39m,\n",
      "  strand = \u001b[31mcol_character()\u001b[39m,\n",
      "  signalValue = \u001b[32mcol_double()\u001b[39m,\n",
      "  pvalue = \u001b[32mcol_double()\u001b[39m,\n",
      "  qvalue = \u001b[32mcol_double()\u001b[39m,\n",
      "  peak = \u001b[32mcol_double()\u001b[39m\n",
      ")\n",
      "\n",
      "\n"
     ]
    },
    {
     "name": "stdout",
     "output_type": "stream",
     "text": [
      "[1] 0.01792605\n",
      "[1] 6.866719\n",
      "[1] \"Save location:  /data/hodges_lab/ATAC-STARR_B-cells/data/hansen-fong/chrAcc_peaks/GM12878inGM12878_DNA_genrich.filtered_1.8.narrowPeak\"\n"
     ]
    },
    {
     "name": "stderr",
     "output_type": "stream",
     "text": [
      "\n",
      "\u001b[36m──\u001b[39m \u001b[1m\u001b[1mColumn specification\u001b[1m\u001b[22m \u001b[36m────────────────────────────────────────────────────────\u001b[39m\n",
      "cols(\n",
      "  chr = \u001b[31mcol_character()\u001b[39m,\n",
      "  start = \u001b[32mcol_double()\u001b[39m,\n",
      "  end = \u001b[32mcol_double()\u001b[39m,\n",
      "  name = \u001b[31mcol_character()\u001b[39m,\n",
      "  score = \u001b[32mcol_double()\u001b[39m,\n",
      "  strand = \u001b[31mcol_character()\u001b[39m,\n",
      "  signalValue = \u001b[32mcol_double()\u001b[39m,\n",
      "  pvalue = \u001b[32mcol_double()\u001b[39m,\n",
      "  qvalue = \u001b[32mcol_double()\u001b[39m,\n",
      "  peak = \u001b[32mcol_double()\u001b[39m\n",
      ")\n",
      "\n",
      "\n"
     ]
    },
    {
     "name": "stdout",
     "output_type": "stream",
     "text": [
      "[1] 0.01779278\n",
      "[1] 6.971221\n",
      "[1] \"Save location:  /data/hodges_lab/ATAC-STARR_B-cells/data/hansen-fong/chrAcc_peaks/GM12878inLCL8664_DNA_genrich.filtered_1.8.narrowPeak\"\n"
     ]
    },
    {
     "name": "stderr",
     "output_type": "stream",
     "text": [
      "\n",
      "\u001b[36m──\u001b[39m \u001b[1m\u001b[1mColumn specification\u001b[1m\u001b[22m \u001b[36m────────────────────────────────────────────────────────\u001b[39m\n",
      "cols(\n",
      "  chr = \u001b[31mcol_character()\u001b[39m,\n",
      "  start = \u001b[32mcol_double()\u001b[39m,\n",
      "  end = \u001b[32mcol_double()\u001b[39m,\n",
      "  name = \u001b[31mcol_character()\u001b[39m,\n",
      "  score = \u001b[32mcol_double()\u001b[39m,\n",
      "  strand = \u001b[31mcol_character()\u001b[39m,\n",
      "  signalValue = \u001b[32mcol_double()\u001b[39m,\n",
      "  pvalue = \u001b[32mcol_double()\u001b[39m,\n",
      "  qvalue = \u001b[32mcol_double()\u001b[39m,\n",
      "  peak = \u001b[32mcol_double()\u001b[39m\n",
      ")\n",
      "\n",
      "\n"
     ]
    },
    {
     "name": "stdout",
     "output_type": "stream",
     "text": [
      "[1] 0.01780162\n",
      "[1] 5.629935\n",
      "[1] \"Save location:  /data/hodges_lab/ATAC-STARR_B-cells/data/hansen-fong/chrAcc_peaks/LCL8664inGM12878_DNA_genrich.filtered_1.8.narrowPeak\"\n"
     ]
    },
    {
     "name": "stderr",
     "output_type": "stream",
     "text": [
      "\n",
      "\u001b[36m──\u001b[39m \u001b[1m\u001b[1mColumn specification\u001b[1m\u001b[22m \u001b[36m────────────────────────────────────────────────────────\u001b[39m\n",
      "cols(\n",
      "  chr = \u001b[31mcol_character()\u001b[39m,\n",
      "  start = \u001b[32mcol_double()\u001b[39m,\n",
      "  end = \u001b[32mcol_double()\u001b[39m,\n",
      "  name = \u001b[31mcol_character()\u001b[39m,\n",
      "  score = \u001b[32mcol_double()\u001b[39m,\n",
      "  strand = \u001b[31mcol_character()\u001b[39m,\n",
      "  signalValue = \u001b[32mcol_double()\u001b[39m,\n",
      "  pvalue = \u001b[32mcol_double()\u001b[39m,\n",
      "  qvalue = \u001b[32mcol_double()\u001b[39m,\n",
      "  peak = \u001b[32mcol_double()\u001b[39m\n",
      ")\n",
      "\n",
      "\n"
     ]
    },
    {
     "name": "stdout",
     "output_type": "stream",
     "text": [
      "[1] 0.01791598\n",
      "[1] 5.364729\n",
      "[1] \"Save location:  /data/hodges_lab/ATAC-STARR_B-cells/data/hansen-fong/chrAcc_peaks/LCL8664inLCL8664_DNA_genrich.filtered_1.8.narrowPeak\"\n"
     ]
    }
   ],
   "source": [
    "#filter based on genomic coverage with R. Reduce peaks until they represent ~1,8% of the genome. 1.8% was empirically determeined. \n",
    "gs_filt <- function(bed_file) {\n",
    "    bed <- readr::read_tsv(bed_file, \n",
    "                    col_names = c(\"chr\", \"start\", \"end\", \"name\", \n",
    "                                  \"score\", \"strand\", \"signalValue\", \n",
    "                                  \"pvalue\", \"qvalue\", \"peak\")) \n",
    "    #remove the bottom 1% qvalue rank until genome size is 2%. \n",
    "    #qvalue column is -log10(q) so lowest values are least significant. \n",
    "    while (sum(bed$end-bed$start)/3e9 > 0.018) {\n",
    "        bed <- dplyr::slice_max(bed, prop = 0.97, order_by = qvalue)\n",
    "    }\n",
    "    print(sum(bed$end-bed$start)/3e9)\n",
    "    print(min(bed$qvalue))\n",
    "    print(paste0(\"Save location:  \", dirname(bed_file), \"/\", \n",
    "                                 tools::file_path_sans_ext(basename(bed_file)), \n",
    "                                 \".filtered_1.8.narrowPeak\"))\n",
    "    readr::write_tsv(bed, paste0(dirname(bed_file), \"/\", \n",
    "                                 tools::file_path_sans_ext(basename(bed_file)), \n",
    "                                 \".filtered_1.8.narrowPeak\"), col_names = FALSE)\n",
    "}\n",
    "\n",
    "DIR <- '/data/hodges_lab/ATAC-STARR_B-cells/data/hansen-fong/chrAcc_peaks'\n",
    "\n",
    "gs_filt(bed_file = paste0(DIR,\"/GM12878inGM12878_DNA_genrich.narrowPeak\"))\n",
    "gs_filt(bed_file = paste0(DIR,\"/GM12878inLCL8664_DNA_genrich.narrowPeak\"))\n",
    "gs_filt(bed_file = paste0(DIR,\"/LCL8664inGM12878_DNA_genrich.narrowPeak\"))\n",
    "gs_filt(bed_file = paste0(DIR,\"/LCL8664inLCL8664_DNA_genrich.narrowPeak\"))"
   ]
  },
  {
   "cell_type": "code",
   "execution_count": 2,
   "id": "8ab71bef",
   "metadata": {
    "scrolled": false
   },
   "outputs": [
    {
     "name": "stderr",
     "output_type": "stream",
     "text": [
      "── \u001b[1mAttaching packages\u001b[22m ─────────────────────────────────────── tidyverse 1.3.1 ──\n",
      "\n",
      "\u001b[32m✔\u001b[39m \u001b[34mggplot2\u001b[39m 3.3.5     \u001b[32m✔\u001b[39m \u001b[34mpurrr  \u001b[39m 0.3.4\n",
      "\u001b[32m✔\u001b[39m \u001b[34mtibble \u001b[39m 3.1.3     \u001b[32m✔\u001b[39m \u001b[34mdplyr  \u001b[39m 1.0.7\n",
      "\u001b[32m✔\u001b[39m \u001b[34mtidyr  \u001b[39m 1.1.3     \u001b[32m✔\u001b[39m \u001b[34mstringr\u001b[39m 1.4.0\n",
      "\u001b[32m✔\u001b[39m \u001b[34mreadr  \u001b[39m 1.4.0     \u001b[32m✔\u001b[39m \u001b[34mforcats\u001b[39m 0.5.1\n",
      "\n",
      "── \u001b[1mConflicts\u001b[22m ────────────────────────────────────────── tidyverse_conflicts() ──\n",
      "\u001b[31m✖\u001b[39m \u001b[34mdplyr\u001b[39m::\u001b[32mfilter()\u001b[39m masks \u001b[34mstats\u001b[39m::filter()\n",
      "\u001b[31m✖\u001b[39m \u001b[34mdplyr\u001b[39m::\u001b[32mlag()\u001b[39m    masks \u001b[34mstats\u001b[39m::lag()\n",
      "\n",
      "\n",
      "\u001b[36m──\u001b[39m \u001b[1m\u001b[1mColumn specification\u001b[1m\u001b[22m \u001b[36m────────────────────────────────────────────────────────\u001b[39m\n",
      "cols(\n",
      "  chr = \u001b[31mcol_character()\u001b[39m,\n",
      "  start = \u001b[32mcol_double()\u001b[39m,\n",
      "  end = \u001b[32mcol_double()\u001b[39m,\n",
      "  name = \u001b[31mcol_character()\u001b[39m,\n",
      "  score = \u001b[32mcol_double()\u001b[39m,\n",
      "  strand = \u001b[31mcol_character()\u001b[39m,\n",
      "  signalValue = \u001b[32mcol_double()\u001b[39m,\n",
      "  pvalue = \u001b[32mcol_double()\u001b[39m,\n",
      "  qvalue = \u001b[32mcol_double()\u001b[39m,\n",
      "  peak = \u001b[32mcol_double()\u001b[39m\n",
      ")\n",
      "\n",
      "\n"
     ]
    },
    {
     "name": "stdout",
     "output_type": "stream",
     "text": [
      "[1] \"Save location:  /data/hodges_lab/ATAC-STARR_B-cells/data/hansen-fong/chrAcc_peaks/GM12878inGM12878_DNA_genrich.filtered_1.8.noXY.narrowPeak\"\n"
     ]
    },
    {
     "name": "stderr",
     "output_type": "stream",
     "text": [
      "\n",
      "\u001b[36m──\u001b[39m \u001b[1m\u001b[1mColumn specification\u001b[1m\u001b[22m \u001b[36m────────────────────────────────────────────────────────\u001b[39m\n",
      "cols(\n",
      "  chr = \u001b[31mcol_character()\u001b[39m,\n",
      "  start = \u001b[32mcol_double()\u001b[39m,\n",
      "  end = \u001b[32mcol_double()\u001b[39m,\n",
      "  name = \u001b[31mcol_character()\u001b[39m,\n",
      "  score = \u001b[32mcol_double()\u001b[39m,\n",
      "  strand = \u001b[31mcol_character()\u001b[39m,\n",
      "  signalValue = \u001b[32mcol_double()\u001b[39m,\n",
      "  pvalue = \u001b[32mcol_double()\u001b[39m,\n",
      "  qvalue = \u001b[32mcol_double()\u001b[39m,\n",
      "  peak = \u001b[32mcol_double()\u001b[39m\n",
      ")\n",
      "\n",
      "\n"
     ]
    },
    {
     "name": "stdout",
     "output_type": "stream",
     "text": [
      "[1] \"Save location:  /data/hodges_lab/ATAC-STARR_B-cells/data/hansen-fong/chrAcc_peaks/GM12878inLCL8664_DNA_genrich.filtered_1.8.noXY.narrowPeak\"\n"
     ]
    },
    {
     "name": "stderr",
     "output_type": "stream",
     "text": [
      "\n",
      "\u001b[36m──\u001b[39m \u001b[1m\u001b[1mColumn specification\u001b[1m\u001b[22m \u001b[36m────────────────────────────────────────────────────────\u001b[39m\n",
      "cols(\n",
      "  chr = \u001b[31mcol_character()\u001b[39m,\n",
      "  start = \u001b[32mcol_double()\u001b[39m,\n",
      "  end = \u001b[32mcol_double()\u001b[39m,\n",
      "  name = \u001b[31mcol_character()\u001b[39m,\n",
      "  score = \u001b[32mcol_double()\u001b[39m,\n",
      "  strand = \u001b[31mcol_character()\u001b[39m,\n",
      "  signalValue = \u001b[32mcol_double()\u001b[39m,\n",
      "  pvalue = \u001b[32mcol_double()\u001b[39m,\n",
      "  qvalue = \u001b[32mcol_double()\u001b[39m,\n",
      "  peak = \u001b[32mcol_double()\u001b[39m\n",
      ")\n",
      "\n",
      "\n"
     ]
    },
    {
     "name": "stdout",
     "output_type": "stream",
     "text": [
      "[1] \"Save location:  /data/hodges_lab/ATAC-STARR_B-cells/data/hansen-fong/chrAcc_peaks/LCL8664inGM12878_DNA_genrich.filtered_1.8.noXY.narrowPeak\"\n"
     ]
    },
    {
     "name": "stderr",
     "output_type": "stream",
     "text": [
      "\n",
      "\u001b[36m──\u001b[39m \u001b[1m\u001b[1mColumn specification\u001b[1m\u001b[22m \u001b[36m────────────────────────────────────────────────────────\u001b[39m\n",
      "cols(\n",
      "  chr = \u001b[31mcol_character()\u001b[39m,\n",
      "  start = \u001b[32mcol_double()\u001b[39m,\n",
      "  end = \u001b[32mcol_double()\u001b[39m,\n",
      "  name = \u001b[31mcol_character()\u001b[39m,\n",
      "  score = \u001b[32mcol_double()\u001b[39m,\n",
      "  strand = \u001b[31mcol_character()\u001b[39m,\n",
      "  signalValue = \u001b[32mcol_double()\u001b[39m,\n",
      "  pvalue = \u001b[32mcol_double()\u001b[39m,\n",
      "  qvalue = \u001b[32mcol_double()\u001b[39m,\n",
      "  peak = \u001b[32mcol_double()\u001b[39m\n",
      ")\n",
      "\n",
      "\n"
     ]
    },
    {
     "name": "stdout",
     "output_type": "stream",
     "text": [
      "[1] \"Save location:  /data/hodges_lab/ATAC-STARR_B-cells/data/hansen-fong/chrAcc_peaks/LCL8664inLCL8664_DNA_genrich.filtered_1.8.noXY.narrowPeak\"\n"
     ]
    }
   ],
   "source": [
    "#remove sex chromosomes\n",
    "library(tidyverse)\n",
    "xy_filt <- function(bed_file) {\n",
    "    bed <- readr::read_tsv(bed_file, \n",
    "                    col_names = c(\"chr\", \"start\", \"end\", \"name\", \n",
    "                                  \"score\", \"strand\", \"signalValue\", \n",
    "                                  \"pvalue\", \"qvalue\", \"peak\")) %>% dplyr::filter(chr != \"chrX\" & chr != \"chrY\")\n",
    "    print(paste0(\"Save location:  \", dirname(bed_file), \"/\", \n",
    "                                 tools::file_path_sans_ext(basename(bed_file)), \n",
    "                                 \".noXY.narrowPeak\"))\n",
    "    readr::write_tsv(bed, paste0(dirname(bed_file), \"/\", \n",
    "                                 tools::file_path_sans_ext(basename(bed_file)), \n",
    "                                 \".noXY.narrowPeak\"), col_names = FALSE)\n",
    "}\n",
    "\n",
    "DIR <- '/data/hodges_lab/ATAC-STARR_B-cells/data/hansen-fong/chrAcc_peaks'\n",
    "\n",
    "xy_filt(bed_file = paste0(DIR,\"/GM12878inGM12878_DNA_genrich.filtered_1.8.narrowPeak\"))\n",
    "xy_filt(bed_file = paste0(DIR,\"/GM12878inLCL8664_DNA_genrich.filtered_1.8.narrowPeak\"))\n",
    "xy_filt(bed_file = paste0(DIR,\"/LCL8664inGM12878_DNA_genrich.filtered_1.8.narrowPeak\"))\n",
    "xy_filt(bed_file = paste0(DIR,\"/LCL8664inLCL8664_DNA_genrich.filtered_1.8.narrowPeak\"))"
   ]
  },
  {
   "cell_type": "code",
   "execution_count": 1,
   "id": "83f1e98a",
   "metadata": {
    "scrolled": false
   },
   "outputs": [
    {
     "name": "stdout",
     "output_type": "stream",
     "text": [
      "1\n",
      "chrX\t3814058\t3816868\tpeak_169448\t1000\t.\t34049.726562\t37.593567\t31.900402\t1005\n",
      "chrX\t47217214\t47219911\tpeak_171132\t1000\t.\t28316.712891\t36.12347\t30.988258\t902\n",
      "chrX\t16785701\t16787352\tpeak_169993\t1000\t.\t18464.96875\t35.909119\t30.849236\t608\n",
      "chrX\t153925278\t153929153\tpeak_173942\t1000\t.\t38581.640625\t35.734974\t30.725605\t3145\n",
      "chrX\t15854029\t15855752\tpeak_169950\t1000\t.\t19390.794922\t35.213326\t30.357962\t909\n",
      "chrX\t47650077\t47651402\tpeak_171183\t1000\t.\t20965.585938\t34.471096\t29.815199\t645\n",
      "chrX\t48801108\t48802855\tpeak_171253\t1000\t.\t24418.673828\t34.242386\t29.640779\t799\n",
      "chrX\t20141079\t20142307\tpeak_170232\t1000\t.\t14275.760742\t34.117649\t29.544703\t880\n",
      "chrX\t78103614\t78104527\tpeak_172099\t1000\t.\t12463.348633\t33.820297\t29.31414\t501\n",
      "chrX\t152830416\t152831580\tpeak_173843\t1000\t.\t13816.897461\t33.734005\t29.246952\t461\n",
      "2\n",
      "chrY\t5407481\t5409012\tpeak_143096\t1000\t.\t11374.475586\t25.717091\t22.417355\t538\n",
      "chrY\t7403410\t7406680\tpeak_143162\t1000\t.\t26325.771484\t24.118137\t20.963242\t1542\n",
      "chrY\t3578317\t3579311\tpeak_143088\t1000\t.\t9047.950195\t24.114254\t20.95965\t357\n",
      "chrY\t1189366\t1190815\tpeak_143046\t1000\t.\t12794.762695\t24.101259\t20.947784\t367\n",
      "chrY\t7330105\t7331080\tpeak_143139\t1000\t.\t7677.159668\t23.674292\t20.556585\t551\n",
      "chrY\t2575606\t2577194\tpeak_143076\t1000\t.\t10234.181641\t23.442932\t20.344177\t1151\n",
      "chrY\t5852766\t5853844\tpeak_143106\t1000\t.\t9872.03125\t23.071507\t20.002254\t592\n",
      "chrY\t2107977\t2109959\tpeak_143071\t1000\t.\t13762.541992\t22.410055\t19.391747\t615\n",
      "chrY\t238981\t240681\tpeak_143015\t1000\t.\t17028.375\t22.006737\t19.018417\t1377\n",
      "chrY\t6283845\t6284582\tpeak_143118\t1000\t.\t5388.440918\t21.827688\t18.852551\t391\n",
      "3\n",
      "4\n"
     ]
    }
   ],
   "source": [
    "%%bash \n",
    "cd /data/hodges_lab/ATAC-STARR_B-cells/data/hansen-fong/chrAcc_peaks\n",
    "#check this worked. \n",
    "echo \"1\"\n",
    "grep chrX GM12878inGM12878_DNA_genrich.filtered_1.8.narrowPeak | head\n",
    "echo \"2\"\n",
    "grep chrY LCL8664inLCL8664_DNA_genrich.filtered_1.8.narrowPeak | head\n",
    "echo \"3\"\n",
    "grep chrX GM12878inGM12878_DNA_genrich.filtered_1.8.noXY.narrowPeak | head\n",
    "echo \"4\"\n",
    "grep chrY LCL8664inLCL8664_DNA_genrich.filtered_1.8.noXY.narrowPeak | head"
   ]
  },
  {
   "cell_type": "code",
   "execution_count": 3,
   "id": "809423f1",
   "metadata": {
    "scrolled": true
   },
   "outputs": [
    {
     "name": "stdout",
     "output_type": "stream",
     "text": [
      "GG\n",
      "64154 GM12878inGM12878_DNA_genrich.filtered_1.8.narrowPeak\n",
      "62552 GM12878inGM12878_DNA_genrich.filtered_1.8.noXY.narrowPeak\n",
      "GL\n",
      "63441 GM12878inLCL8664_DNA_genrich.filtered_1.8.narrowPeak\n",
      "61861 GM12878inLCL8664_DNA_genrich.filtered_1.8.noXY.narrowPeak\n",
      "LG\n",
      "59758 LCL8664inGM12878_DNA_genrich.filtered_1.8.narrowPeak\n",
      "58259 LCL8664inGM12878_DNA_genrich.filtered_1.8.noXY.narrowPeak\n",
      "LL\n",
      "61552 LCL8664inLCL8664_DNA_genrich.filtered_1.8.narrowPeak\n",
      "59998 LCL8664inLCL8664_DNA_genrich.filtered_1.8.noXY.narrowPeak\n"
     ]
    }
   ],
   "source": [
    "%%bash\n",
    "#how many peaks were lost? Seems about ~1,500 in all cases. \n",
    "cd /data/hodges_lab/ATAC-STARR_B-cells/data/hansen-fong/chrAcc_peaks\n",
    "echo \"GG\"\n",
    "wc -l GM12878inGM12878_DNA_genrich.filtered_1.8.narrowPeak \n",
    "wc -l GM12878inGM12878_DNA_genrich.filtered_1.8.noXY.narrowPeak \n",
    "echo \"GL\"\n",
    "wc -l GM12878inLCL8664_DNA_genrich.filtered_1.8.narrowPeak \n",
    "wc -l GM12878inLCL8664_DNA_genrich.filtered_1.8.noXY.narrowPeak \n",
    "echo \"LG\"\n",
    "wc -l LCL8664inGM12878_DNA_genrich.filtered_1.8.narrowPeak \n",
    "wc -l LCL8664inGM12878_DNA_genrich.filtered_1.8.noXY.narrowPeak \n",
    "echo \"LL\"\n",
    "wc -l LCL8664inLCL8664_DNA_genrich.filtered_1.8.narrowPeak \n",
    "wc -l LCL8664inLCL8664_DNA_genrich.filtered_1.8.noXY.narrowPeak "
   ]
  },
  {
   "cell_type": "markdown",
   "id": "0f613f7c",
   "metadata": {},
   "source": [
    "### LiftOver RheMac peaks\n",
    "\n",
    "I need to be working in the same genome, so liftover the rheMac10 peaks to hg38 and save unmapped peaks."
   ]
  },
  {
   "cell_type": "code",
   "execution_count": 4,
   "id": "bd75bf25",
   "metadata": {
    "scrolled": false
   },
   "outputs": [
    {
     "name": "stderr",
     "output_type": "stream",
     "text": [
      "Reading liftover chains\n",
      "Mapping coordinates\n",
      "Reading liftover chains\n",
      "Mapping coordinates\n"
     ]
    }
   ],
   "source": [
    "%%bash\n",
    "DIR='/data/hodges_lab/ATAC-STARR_B-cells/data/hansen-fong/chrAcc_peaks'\n",
    "\n",
    "for i in LCL8664inGM12878 LCL8664inLCL8664\n",
    "do \n",
    "  #liftOver to hg38\n",
    "  MC='/data/hodges_lab/bin/map.chain/rheMac10ToHg38.over.chain.gz'\n",
    "  liftOver -bedPlus=6 -minMatch=0.90 ${DIR}/${i}_DNA_genrich.filtered_1.8.noXY.narrowPeak $MC \\\n",
    "  ${DIR}/${i}_DNA_genrich.filtered_1.8.noXY.hg38-from-rheMac10.narrowPeak \\\n",
    "  ${DIR}/${i}_DNA_genrich.filtered_1.8.noXY.hg38-from-rheMac10-unmapped.narrowPeak\n",
    "done "
   ]
  },
  {
   "cell_type": "code",
   "execution_count": 5,
   "id": "403f174a",
   "metadata": {
    "scrolled": false
   },
   "outputs": [
    {
     "name": "stdout",
     "output_type": "stream",
     "text": [
      "LG\n",
      "58259 LCL8664inGM12878_DNA_genrich.filtered_1.8.noXY.narrowPeak\n",
      "54098 LCL8664inGM12878_DNA_genrich.filtered_1.8.noXY.hg38-from-rheMac10.narrowPeak\n",
      "LL\n",
      "59998 LCL8664inLCL8664_DNA_genrich.filtered_1.8.noXY.narrowPeak\n",
      "55654 LCL8664inLCL8664_DNA_genrich.filtered_1.8.noXY.hg38-from-rheMac10.narrowPeak\n"
     ]
    }
   ],
   "source": [
    "%%bash\n",
    "#How many peaks were lost?\n",
    "cd /data/hodges_lab/ATAC-STARR_B-cells/data/hansen-fong/chrAcc_peaks\n",
    "echo \"LG\"\n",
    "wc -l LCL8664inGM12878_DNA_genrich.filtered_1.8.noXY.narrowPeak\n",
    "wc -l LCL8664inGM12878_DNA_genrich.filtered_1.8.noXY.hg38-from-rheMac10.narrowPeak\n",
    "\n",
    "echo \"LL\"\n",
    "wc -l LCL8664inLCL8664_DNA_genrich.filtered_1.8.noXY.narrowPeak\n",
    "wc -l LCL8664inLCL8664_DNA_genrich.filtered_1.8.noXY.hg38-from-rheMac10.narrowPeak"
   ]
  },
  {
   "cell_type": "markdown",
   "id": "1df70f20",
   "metadata": {},
   "source": [
    "### Merge peaksets"
   ]
  },
  {
   "cell_type": "code",
   "execution_count": 6,
   "id": "a02f2fd8",
   "metadata": {
    "scrolled": false
   },
   "outputs": [],
   "source": [
    "%%bash\n",
    "DIR='/data/hodges_lab/ATAC-STARR_B-cells/data/hansen-fong/chrAcc_peaks'\n",
    "cat ${DIR}/GM12878inGM12878_DNA_genrich.filtered_1.8.noXY.narrowPeak \\\n",
    "    ${DIR}/GM12878inLCL8664_DNA_genrich.filtered_1.8.noXY.narrowPeak \\\n",
    "    ${DIR}/LCL8664inGM12878_DNA_genrich.filtered_1.8.noXY.hg38-from-rheMac10.narrowPeak \\\n",
    "    ${DIR}/LCL8664inLCL8664_DNA_genrich.filtered_1.8.noXY.hg38-from-rheMac10.narrowPeak | \\\n",
    "    sort -k1,1 -k2,2n - | bedtools merge -i - > ${DIR}/merged_ChrAcc-peaks_1.8.noXY.hg38.bed"
   ]
  },
  {
   "cell_type": "code",
   "execution_count": 7,
   "id": "262b42bd",
   "metadata": {
    "scrolled": false
   },
   "outputs": [
    {
     "name": "stdout",
     "output_type": "stream",
     "text": [
      "89481 merged_ChrAcc-peaks_1.8.noXY.hg38.bed\n"
     ]
    }
   ],
   "source": [
    "%%bash\n",
    "#how many peaks is this?\n",
    "cd /data/hodges_lab/ATAC-STARR_B-cells/data/hansen-fong/chrAcc_peaks\n",
    "wc -l merged_ChrAcc-peaks_1.8.noXY.hg38.bed"
   ]
  },
  {
   "cell_type": "markdown",
   "id": "fa3b71ab",
   "metadata": {},
   "source": [
    "### Make sliding window  bins\n",
    "Make sliding windows to use for calling active and silent regions. More specifically, make 50bp windows with a 10bp step size and remove windows smaller than 50bp (generated on the ends of each region, but these ends are still covered due to the 10bp step size). This is done using the bedtools function _makewindows_."
   ]
  },
  {
   "cell_type": "code",
   "execution_count": 8,
   "id": "13ea9625",
   "metadata": {
    "scrolled": false
   },
   "outputs": [],
   "source": [
    "%%bash\n",
    "INPUT_DIR='/data/hodges_lab/ATAC-STARR_B-cells/data/hansen-fong/chrAcc_peaks'\n",
    "OUTPUT_DIR='/data/hodges_lab/ATAC-STARR_B-cells/data/hansen-fong/tiling_bins'\n",
    "\n",
    "#make sliding windows. Then filter by size and format to 4 column bed (assign bin_ID) with awk. \n",
    "bedtools makewindows -s 10 -w 50 -b ${INPUT_DIR}/merged_ChrAcc-peaks_1.8.noXY.hg38.bed | \\\n",
    "    awk 'BEGIN{OFS=FS=\"\\t\"}{if ($3-$2 == 50) print $1,$2,$3,\"bin_\"NR}' - > \\\n",
    "    ${OUTPUT_DIR}/Hansen-Fong_50bp-tiling-bins_1.8.3reps.hg38.bed"
   ]
  },
  {
   "cell_type": "code",
   "execution_count": 9,
   "id": "4b19c465",
   "metadata": {
    "scrolled": false
   },
   "outputs": [
    {
     "name": "stdout",
     "output_type": "stream",
     "text": [
      "7647996 Hansen-Fong_50bp-tiling-bins_1.8.3reps.hg38.bed\n"
     ]
    }
   ],
   "source": [
    "%%bash\n",
    "#how many bins are there?\n",
    "cd /data/hodges_lab/ATAC-STARR_B-cells/data/hansen-fong/tiling_bins\n",
    "wc -l Hansen-Fong_50bp-tiling-bins_1.8.3reps.hg38.bed"
   ]
  },
  {
   "cell_type": "code",
   "execution_count": 10,
   "id": "c8ae4800",
   "metadata": {
    "scrolled": false
   },
   "outputs": [
    {
     "name": "stderr",
     "output_type": "stream",
     "text": [
      "Reading liftover chains\n",
      "Mapping coordinates\n"
     ]
    }
   ],
   "source": [
    "%%bash\n",
    "OUTPUT_DIR='/data/hodges_lab/ATAC-STARR_B-cells/data/hansen-fong/tiling_bins'\n",
    "\n",
    "#liftOver bins to rheMac10\n",
    "liftOver -minMatch=0.90 ${OUTPUT_DIR}/Hansen-Fong_50bp-tiling-bins_1.8.3reps.hg38.bed \\\n",
    "    /data/hodges_lab/bin/map.chain/hg38ToRheMac10.over.chain.gz \\\n",
    "   ${OUTPUT_DIR}/Hansen-Fong_50bp-tiling-bins_1.8.3reps.rheMac10.bed \\\n",
    "   ${OUTPUT_DIR}/Hansen-Fong_50bp-tiling-bins_1.8.3reps.rheMac10-from-hg38-unmapped.bed"
   ]
  },
  {
   "cell_type": "code",
   "execution_count": 11,
   "id": "05da211e",
   "metadata": {
    "scrolled": false
   },
   "outputs": [
    {
     "name": "stdout",
     "output_type": "stream",
     "text": [
      "7647996 Hansen-Fong_50bp-tiling-bins_1.8.3reps.hg38.bed\n",
      "7101497 Hansen-Fong_50bp-tiling-bins_1.8.3reps.rheMac10.bed\n"
     ]
    }
   ],
   "source": [
    "%%bash\n",
    "#how many bins were lost in the liftOver?\n",
    "cd /data/hodges_lab/ATAC-STARR_B-cells/data/hansen-fong/tiling_bins\n",
    "wc -l Hansen-Fong_50bp-tiling-bins_1.8.3reps.hg38.bed\n",
    "wc -l Hansen-Fong_50bp-tiling-bins_1.8.3reps.rheMac10.bed"
   ]
  },
  {
   "cell_type": "markdown",
   "id": "2d150f2e",
   "metadata": {},
   "source": [
    "## Filter for mappability\n",
    "\n",
    "The first question is whether the 50bp bin is mappable between the two genomes in a 1:1 ratio without indels (as in the bin stays 50bp after liftOver). \n",
    "\n",
    "To do this, I will perform three filtering steps:\n",
    "\n",
    "1. Remove unmapped bins from liftover from the hg38 file. \n",
    "2. Remove bins where there the genomic size is not equivalent. \n",
    "3. Remove bins that map to multiple loci. This is not possible as the liftover -multiple option was NOT set. So only do the first two. "
   ]
  },
  {
   "cell_type": "code",
   "execution_count": 1,
   "id": "0efe923c",
   "metadata": {
    "scrolled": true
   },
   "outputs": [
    {
     "name": "stderr",
     "output_type": "stream",
     "text": [
      "── \u001b[1mAttaching packages\u001b[22m ─────────────────────────────────────── tidyverse 1.3.1 ──\n",
      "\n",
      "\u001b[32m✔\u001b[39m \u001b[34mggplot2\u001b[39m 3.3.5     \u001b[32m✔\u001b[39m \u001b[34mpurrr  \u001b[39m 0.3.4\n",
      "\u001b[32m✔\u001b[39m \u001b[34mtibble \u001b[39m 3.1.3     \u001b[32m✔\u001b[39m \u001b[34mdplyr  \u001b[39m 1.0.7\n",
      "\u001b[32m✔\u001b[39m \u001b[34mtidyr  \u001b[39m 1.1.3     \u001b[32m✔\u001b[39m \u001b[34mstringr\u001b[39m 1.4.0\n",
      "\u001b[32m✔\u001b[39m \u001b[34mreadr  \u001b[39m 1.4.0     \u001b[32m✔\u001b[39m \u001b[34mforcats\u001b[39m 0.5.1\n",
      "\n",
      "── \u001b[1mConflicts\u001b[22m ────────────────────────────────────────── tidyverse_conflicts() ──\n",
      "\u001b[31m✖\u001b[39m \u001b[34mdplyr\u001b[39m::\u001b[32mfilter()\u001b[39m masks \u001b[34mstats\u001b[39m::filter()\n",
      "\u001b[31m✖\u001b[39m \u001b[34mdplyr\u001b[39m::\u001b[32mlag()\u001b[39m    masks \u001b[34mstats\u001b[39m::lag()\n",
      "\n",
      "\n",
      "\u001b[36m──\u001b[39m \u001b[1m\u001b[1mColumn specification\u001b[1m\u001b[22m \u001b[36m────────────────────────────────────────────────────────\u001b[39m\n",
      "cols(\n",
      "  Chr = \u001b[31mcol_character()\u001b[39m,\n",
      "  Start = \u001b[32mcol_double()\u001b[39m,\n",
      "  End = \u001b[32mcol_double()\u001b[39m,\n",
      "  Bin_ID = \u001b[31mcol_character()\u001b[39m\n",
      ")\n",
      "\n",
      "\n",
      "\n",
      "\u001b[36m──\u001b[39m \u001b[1m\u001b[1mColumn specification\u001b[1m\u001b[22m \u001b[36m────────────────────────────────────────────────────────\u001b[39m\n",
      "cols(\n",
      "  Chr = \u001b[31mcol_character()\u001b[39m,\n",
      "  Start = \u001b[32mcol_double()\u001b[39m,\n",
      "  End = \u001b[32mcol_double()\u001b[39m,\n",
      "  Bin_ID = \u001b[31mcol_character()\u001b[39m\n",
      ")\n",
      "\n",
      "\n"
     ]
    }
   ],
   "source": [
    "library(tidyverse)\n",
    "\n",
    "dir <- \"/data/hodges_lab/ATAC-STARR_B-cells/data/hansen-fong/\"\n",
    "\n",
    "#Read in files\n",
    "hs <- read_tsv(paste0(dir, \"tiling_bins/Hansen-Fong_50bp-tiling-bins_1.8.3reps.hg38.bed\"), \n",
    "                 col_names = c(\"Chr\", \"Start\", \"End\", \"Bin_ID\")) %>% mutate(size=End-Start)\n",
    "mmu <- read_tsv(paste0(dir, \"tiling_bins/Hansen-Fong_50bp-tiling-bins_1.8.3reps.rheMac10.bed\"), \n",
    "                 col_names = c(\"Chr\", \"Start\", \"End\", \"Bin_ID\")) %>% mutate(size=End-Start)"
   ]
  },
  {
   "cell_type": "code",
   "execution_count": 2,
   "id": "7e83999f",
   "metadata": {
    "scrolled": false
   },
   "outputs": [],
   "source": [
    "#remove coordinates from macaque file\n",
    "mmu <- dplyr::select(mmu, -Chr, -Start, -End)\n",
    "\n",
    "#inner join to human file to get regions that mapped to mmu correctly\n",
    "hs_filt <- inner_join(hs, mmu, by=\"Bin_ID\")\n",
    "\n",
    "#remove regions that do not match size and then drop those columns to prep for write out. \n",
    "hs_filt_2 <- dplyr::filter(hs_filt, size.x==size.y) %>% dplyr::select(-size.x, -size.y)\n",
    "\n",
    "#write out hs filt2.\n",
    "dir <- \"/data/hodges_lab/ATAC-STARR_B-cells/data/hansen-fong/\"\n",
    "write_tsv(hs_filt_2, \n",
    "          paste0(dir, \"/filtered_bins/50bp-tiling-bins.map-filt.hg38.bed\"),\n",
    "          col_names = FALSE)"
   ]
  },
  {
   "cell_type": "code",
   "execution_count": 3,
   "id": "c51ed35b",
   "metadata": {
    "scrolled": false
   },
   "outputs": [
    {
     "name": "stdout",
     "output_type": "stream",
     "text": [
      "[1] 546499\n",
      "[1] 1452850\n"
     ]
    }
   ],
   "source": [
    "#how many bins were lost?\n",
    "#filter step 1:\n",
    "print(nrow(hs) - nrow(hs_filt))\n",
    "\n",
    "#filter step 2:\n",
    "print(nrow(hs_filt) - nrow(hs_filt_2)) "
   ]
  },
  {
   "cell_type": "code",
   "execution_count": 9,
   "id": "3504df4f",
   "metadata": {
    "scrolled": false
   },
   "outputs": [],
   "source": [
    "#Also write bins where we allow +/-2bp of difference in region size. \n",
    "\n",
    "#remove regions that do not match size and then drop those columns to prep for write out. \n",
    "hs_filt_3 <- dplyr::filter(hs_filt, abs(size.x-size.y) <= 2)  %>% dplyr::select(-size.x, -size.y)\n",
    "\n",
    "#write out hs filt3.\n",
    "dir <- \"/data/hodges_lab/ATAC-STARR_B-cells/data/hansen-fong/\"\n",
    "write_tsv(hs_filt_2, \n",
    "          paste0(dir, \"/filtered_bins/50bp-tiling-bins.map-filt-2bp.hg38.bed\"),\n",
    "          col_names = FALSE)"
   ]
  },
  {
   "cell_type": "code",
   "execution_count": 10,
   "id": "5bfda310",
   "metadata": {
    "scrolled": false
   },
   "outputs": [
    {
     "name": "stdout",
     "output_type": "stream",
     "text": [
      "[1] 552744\n"
     ]
    }
   ],
   "source": [
    "#how many bins were lost?\n",
    "#filter step 2 (2bp diff allowed):\n",
    "print(nrow(hs_filt) - nrow(hs_filt_3)) "
   ]
  },
  {
   "cell_type": "markdown",
   "id": "9166102c",
   "metadata": {},
   "source": [
    "## Differential Accessibility\n",
    "\n",
    "If a genomic locus is differentially accessible between the two plasmid libraries, it could be confounding. We therefore want to remove bins that are present in one sample but not the other. We also want to study these bins/regions as they would be interesting biologically speaking. \n",
    "\n",
    "Before looking at bins, get an idea of what the expectation should be based on the amount of ChrAcc peaks that overlap between the 4 samples. "
   ]
  },
  {
   "cell_type": "markdown",
   "id": "6f195e26",
   "metadata": {},
   "source": [
    "### Peak Overlap"
   ]
  },
  {
   "cell_type": "code",
   "execution_count": 1,
   "id": "8bd82a65",
   "metadata": {
    "scrolled": false
   },
   "outputs": [],
   "source": [
    "%%bash\n",
    "#Sort peak files\n",
    "cd /data/hodges_lab/ATAC-STARR_B-cells/data/hansen-fong/chrAcc_peaks\n",
    "for i in GM12878inGM12878_DNA_genrich.filtered_1.8.noXY LCL8664inLCL8664_DNA_genrich.filtered_1.8.noXY.hg38-from-rheMac10 \\\n",
    "GM12878inLCL8664_DNA_genrich.filtered_1.8.noXY LCL8664inGM12878_DNA_genrich.filtered_1.8.noXY.hg38-from-rheMac10\n",
    "do\n",
    "    sort -k1,1 -k2,2n ${i}.narrowPeak > tmp.txt\n",
    "    #overwrite peak file with sorted\n",
    "    mv tmp.txt ${i}.narrowPeak\n",
    "done"
   ]
  },
  {
   "cell_type": "code",
   "execution_count": 2,
   "id": "0299fddd",
   "metadata": {
    "scrolled": false
   },
   "outputs": [
    {
     "name": "stdout",
     "output_type": "stream",
     "text": [
      "intersection\tunion\tjaccard\tn_intersections\n",
      "26740705\t76064717\t0.351552\t30556\n",
      "intersection\tunion\tjaccard\tn_intersections\n",
      "26624660\t75939860\t0.350602\t30177\n",
      "intersection\tunion\tjaccard\tn_intersections\n",
      "26569850\t75845204\t0.350317\t30315\n",
      "intersection\tunion\tjaccard\tn_intersections\n",
      "26466333\t75707819\t0.349585\t29953\n",
      "intersection\tunion\tjaccard\tn_intersections\n",
      "49033091\t55531591\t0.882977\t60267\n",
      "intersection\tunion\tjaccard\tn_intersections\n",
      "47309143\t53105749\t0.890848\t52791\n"
     ]
    }
   ],
   "source": [
    "%%bash\n",
    "DIR='/data/hodges_lab/ATAC-STARR_B-cells/data/hansen-fong/chrAcc_peaks'\n",
    "\n",
    "#Compare GG and LL\n",
    "bedtools jaccard -a ${DIR}/GM12878inGM12878_DNA_genrich.filtered_1.8.noXY.narrowPeak \\\n",
    "    -b ${DIR}/LCL8664inLCL8664_DNA_genrich.filtered_1.8.noXY.hg38-from-rheMac10.narrowPeak\n",
    "\n",
    "#Compare GG and LG\n",
    "bedtools jaccard -a ${DIR}/GM12878inGM12878_DNA_genrich.filtered_1.8.noXY.narrowPeak \\\n",
    "    -b ${DIR}/LCL8664inGM12878_DNA_genrich.filtered_1.8.noXY.hg38-from-rheMac10.narrowPeak\n",
    "\n",
    "#Compare GL and LL\n",
    "bedtools jaccard -a ${DIR}/GM12878inLCL8664_DNA_genrich.filtered_1.8.noXY.narrowPeak \\\n",
    "    -b ${DIR}/LCL8664inLCL8664_DNA_genrich.filtered_1.8.noXY.hg38-from-rheMac10.narrowPeak\n",
    "\n",
    "#Compare GL and LG\n",
    "bedtools jaccard -a ${DIR}/GM12878inLCL8664_DNA_genrich.filtered_1.8.noXY.narrowPeak \\\n",
    "    -b ${DIR}/LCL8664inGM12878_DNA_genrich.filtered_1.8.noXY.hg38-from-rheMac10.narrowPeak\n",
    "    \n",
    "#Compare GG and GL\n",
    "bedtools jaccard -a ${DIR}/GM12878inGM12878_DNA_genrich.filtered_1.8.noXY.narrowPeak \\\n",
    "    -b ${DIR}/GM12878inLCL8664_DNA_genrich.filtered_1.8.noXY.narrowPeak\n",
    "\n",
    "#Compare LL and LG\n",
    "bedtools jaccard -a ${DIR}/LCL8664inLCL8664_DNA_genrich.filtered_1.8.noXY.hg38-from-rheMac10.narrowPeak \\\n",
    "    -b ${DIR}/LCL8664inGM12878_DNA_genrich.filtered_1.8.noXY.hg38-from-rheMac10.narrowPeak"
   ]
  },
  {
   "cell_type": "code",
   "execution_count": 3,
   "id": "73df1d36",
   "metadata": {
    "scrolled": false
   },
   "outputs": [
    {
     "name": "stdout",
     "output_type": "stream",
     "text": [
      "62552 GM12878inGM12878_DNA_genrich.filtered_1.8.noXY.narrowPeak\n",
      "55654 LCL8664inLCL8664_DNA_genrich.filtered_1.8.noXY.hg38-from-rheMac10.narrowPeak\n",
      "61861 GM12878inLCL8664_DNA_genrich.filtered_1.8.noXY.narrowPeak\n",
      "54098 LCL8664inGM12878_DNA_genrich.filtered_1.8.noXY.hg38-from-rheMac10.narrowPeak\n"
     ]
    }
   ],
   "source": [
    "%%bash\n",
    "cd /data/hodges_lab/ATAC-STARR_B-cells/data/hansen-fong/chrAcc_peaks\n",
    "for i in GM12878inGM12878_DNA_genrich.filtered_1.8.noXY LCL8664inLCL8664_DNA_genrich.filtered_1.8.noXY.hg38-from-rheMac10 \\\n",
    "GM12878inLCL8664_DNA_genrich.filtered_1.8.noXY LCL8664inGM12878_DNA_genrich.filtered_1.8.noXY.hg38-from-rheMac10\n",
    "do\n",
    "wc -l ${i}.narrowPeak\n",
    "done"
   ]
  },
  {
   "cell_type": "markdown",
   "id": "2bc91150",
   "metadata": {},
   "source": [
    "It looks like ~30,000 peaks overlap between each human-rhesus pairwise comparison. We should therefore expect to see about 20-30K peaks with differential accessibility. "
   ]
  },
  {
   "cell_type": "markdown",
   "id": "17db9140",
   "metadata": {},
   "source": [
    "### Split bins based on overlap with shared peaks"
   ]
  },
  {
   "cell_type": "code",
   "execution_count": 5,
   "id": "868f91dd",
   "metadata": {
    "scrolled": false
   },
   "outputs": [],
   "source": [
    "%%bash\n",
    "DIR='/data/hodges_lab/ATAC-STARR_B-cells/data/hansen-fong/chrAcc_peaks'\n",
    "#make a file that is shared across all 4 peaksets.\n",
    "bedtools intersect -a ${DIR}/GM12878inGM12878_DNA_genrich.filtered_1.8.noXY.narrowPeak \\\n",
    "    -b ${DIR}/LCL8664inLCL8664_DNA_genrich.filtered_1.8.noXY.hg38-from-rheMac10.narrowPeak | \\\n",
    "    bedtools intersect -a - -b ${DIR}/GM12878inLCL8664_DNA_genrich.filtered_1.8.noXY.narrowPeak | \\\n",
    "    bedtools intersect -a - -b ${DIR}/LCL8664inGM12878_DNA_genrich.filtered_1.8.noXY.hg38-from-rheMac10.narrowPeak > \\\n",
    "    ${DIR}/shared_peaks_by-intersect.bed"
   ]
  },
  {
   "cell_type": "code",
   "execution_count": 6,
   "id": "493dfef9",
   "metadata": {
    "scrolled": false
   },
   "outputs": [
    {
     "name": "stdout",
     "output_type": "stream",
     "text": [
      "29531 /data/hodges_lab/ATAC-STARR_B-cells/data/hansen-fong/chrAcc_peaks/shared_peaks_by-intersect.bed\n"
     ]
    }
   ],
   "source": [
    "%%bash\n",
    "#how many peaks?\n",
    "wc -l /data/hodges_lab/ATAC-STARR_B-cells/data/hansen-fong/chrAcc_peaks/shared_peaks_by-intersect.bed"
   ]
  },
  {
   "cell_type": "code",
   "execution_count": 7,
   "id": "03fcbc31",
   "metadata": {
    "scrolled": true
   },
   "outputs": [
    {
     "name": "stderr",
     "output_type": "stream",
     "text": [
      "\n",
      "\u001b[36m──\u001b[39m \u001b[1m\u001b[1mColumn specification\u001b[1m\u001b[22m \u001b[36m────────────────────────────────────────────────────────\u001b[39m\n",
      "cols(\n",
      "  chr = \u001b[31mcol_character()\u001b[39m,\n",
      "  start = \u001b[32mcol_double()\u001b[39m,\n",
      "  end = \u001b[32mcol_double()\u001b[39m\n",
      ")\n",
      "\n",
      "\n",
      "Warning message:\n",
      "“29531 parsing failures.\n",
      "row col  expected     actual                                                                                              file\n",
      "  1  -- 3 columns 10 columns '/data/hodges_lab/ATAC-STARR_B-cells/data/hansen-fong/chrAcc_peaks/shared_peaks_by-intersect.bed'\n",
      "  2  -- 3 columns 10 columns '/data/hodges_lab/ATAC-STARR_B-cells/data/hansen-fong/chrAcc_peaks/shared_peaks_by-intersect.bed'\n",
      "  3  -- 3 columns 10 columns '/data/hodges_lab/ATAC-STARR_B-cells/data/hansen-fong/chrAcc_peaks/shared_peaks_by-intersect.bed'\n",
      "  4  -- 3 columns 10 columns '/data/hodges_lab/ATAC-STARR_B-cells/data/hansen-fong/chrAcc_peaks/shared_peaks_by-intersect.bed'\n",
      "  5  -- 3 columns 10 columns '/data/hodges_lab/ATAC-STARR_B-cells/data/hansen-fong/chrAcc_peaks/shared_peaks_by-intersect.bed'\n",
      "... ... ......... .......... .................................................................................................\n",
      "See problems(...) for more details.\n",
      "”\n",
      "\n",
      "\u001b[36m──\u001b[39m \u001b[1m\u001b[1mColumn specification\u001b[1m\u001b[22m \u001b[36m────────────────────────────────────────────────────────\u001b[39m\n",
      "cols(\n",
      "  chr = \u001b[31mcol_character()\u001b[39m,\n",
      "  start = \u001b[32mcol_double()\u001b[39m,\n",
      "  end = \u001b[32mcol_double()\u001b[39m\n",
      ")\n",
      "\n",
      "\n",
      "Warning message:\n",
      "“62552 parsing failures.\n",
      "row col  expected     actual                                                                                                                          file\n",
      "  1  -- 3 columns 10 columns '/data/hodges_lab/ATAC-STARR_B-cells/data/hansen-fong/chrAcc_peaks/GM12878inGM12878_DNA_genrich.filtered_1.8.noXY.narrowPeak'\n",
      "  2  -- 3 columns 10 columns '/data/hodges_lab/ATAC-STARR_B-cells/data/hansen-fong/chrAcc_peaks/GM12878inGM12878_DNA_genrich.filtered_1.8.noXY.narrowPeak'\n",
      "  3  -- 3 columns 10 columns '/data/hodges_lab/ATAC-STARR_B-cells/data/hansen-fong/chrAcc_peaks/GM12878inGM12878_DNA_genrich.filtered_1.8.noXY.narrowPeak'\n",
      "  4  -- 3 columns 10 columns '/data/hodges_lab/ATAC-STARR_B-cells/data/hansen-fong/chrAcc_peaks/GM12878inGM12878_DNA_genrich.filtered_1.8.noXY.narrowPeak'\n",
      "  5  -- 3 columns 10 columns '/data/hodges_lab/ATAC-STARR_B-cells/data/hansen-fong/chrAcc_peaks/GM12878inGM12878_DNA_genrich.filtered_1.8.noXY.narrowPeak'\n",
      "... ... ......... .......... .............................................................................................................................\n",
      "See problems(...) for more details.\n",
      "”\n",
      "\n",
      "\u001b[36m──\u001b[39m \u001b[1m\u001b[1mColumn specification\u001b[1m\u001b[22m \u001b[36m────────────────────────────────────────────────────────\u001b[39m\n",
      "cols(\n",
      "  chr = \u001b[31mcol_character()\u001b[39m,\n",
      "  start = \u001b[32mcol_double()\u001b[39m,\n",
      "  end = \u001b[32mcol_double()\u001b[39m\n",
      ")\n",
      "\n",
      "\n",
      "Warning message:\n",
      "“59998 parsing failures.\n",
      "row col  expected     actual                                                                                                                          file\n",
      "  1  -- 3 columns 10 columns '/data/hodges_lab/ATAC-STARR_B-cells/data/hansen-fong/chrAcc_peaks/LCL8664inLCL8664_DNA_genrich.filtered_1.8.noXY.narrowPeak'\n",
      "  2  -- 3 columns 10 columns '/data/hodges_lab/ATAC-STARR_B-cells/data/hansen-fong/chrAcc_peaks/LCL8664inLCL8664_DNA_genrich.filtered_1.8.noXY.narrowPeak'\n",
      "  3  -- 3 columns 10 columns '/data/hodges_lab/ATAC-STARR_B-cells/data/hansen-fong/chrAcc_peaks/LCL8664inLCL8664_DNA_genrich.filtered_1.8.noXY.narrowPeak'\n",
      "  4  -- 3 columns 10 columns '/data/hodges_lab/ATAC-STARR_B-cells/data/hansen-fong/chrAcc_peaks/LCL8664inLCL8664_DNA_genrich.filtered_1.8.noXY.narrowPeak'\n",
      "  5  -- 3 columns 10 columns '/data/hodges_lab/ATAC-STARR_B-cells/data/hansen-fong/chrAcc_peaks/LCL8664inLCL8664_DNA_genrich.filtered_1.8.noXY.narrowPeak'\n",
      "... ... ......... .......... .............................................................................................................................\n",
      "See problems(...) for more details.\n",
      "”\n"
     ]
    }
   ],
   "source": [
    "#Size distribution of these peaks:\n",
    "library(tidyverse)\n",
    "\n",
    "shared <- read_tsv(\"/data/hodges_lab/ATAC-STARR_B-cells/data/hansen-fong/chrAcc_peaks/shared_peaks_by-intersect.bed\", \n",
    "                  col_names=c(\"chr\", \"start\", \"end\")) %>% mutate(Type = \"shared\")\n",
    "GG <- read_tsv(\"/data/hodges_lab/ATAC-STARR_B-cells/data/hansen-fong/chrAcc_peaks/GM12878inGM12878_DNA_genrich.filtered_1.8.noXY.narrowPeak\", \n",
    "                  col_names=c(\"chr\", \"start\", \"end\")) %>% mutate(Type = \"GG\")\n",
    "LL <- read_tsv(\"/data/hodges_lab/ATAC-STARR_B-cells/data/hansen-fong/chrAcc_peaks/LCL8664inLCL8664_DNA_genrich.filtered_1.8.noXY.narrowPeak\", \n",
    "                  col_names=c(\"chr\", \"start\", \"end\")) %>% mutate(Type = \"LL\")\n",
    "df <- rbind(shared,GG,LL)"
   ]
  },
  {
   "cell_type": "code",
   "execution_count": 8,
   "id": "ba37ad6f",
   "metadata": {
    "scrolled": true
   },
   "outputs": [
    {
     "name": "stderr",
     "output_type": "stream",
     "text": [
      "Warning message in regularize.values(x, y, ties, missing(ties), na.rm = na.rm):\n",
      "“collapsing to unique 'x' values”\n",
      "Warning message in regularize.values(x, y, ties, missing(ties), na.rm = na.rm):\n",
      "“collapsing to unique 'x' values”\n",
      "Warning message in regularize.values(x, y, ties, missing(ties), na.rm = na.rm):\n",
      "“collapsing to unique 'x' values”\n"
     ]
    },
    {
     "data": {
      "image/png": "[encoded data removed]",
      "text/plain": [
       "plot without title"
      ]
     },
     "metadata": {
      "image/png": {
       "height": 420,
       "width": 420
      }
     },
     "output_type": "display_data"
    }
   ],
   "source": [
    "ggplot(df, aes(y=end-start, x=Type, fill =Type)) +\n",
    "    geom_violin(draw_quantiles = c(0.5)) +\n",
    "    coord_cartesian(ylim = c(0,5000))"
   ]
  },
  {
   "cell_type": "code",
   "execution_count": 1,
   "id": "e46e06db",
   "metadata": {
    "scrolled": false
   },
   "outputs": [
    {
     "name": "stdout",
     "output_type": "stream",
     "text": [
      "chr1\t941182\t941232\tbin_1012\n",
      "chr1\t941192\t941242\tbin_1013\n",
      "chr1\t941202\t941252\tbin_1014\n",
      "chr1\t941212\t941262\tbin_1015\n",
      "chr1\t941222\t941272\tbin_1016\n",
      "chr1\t941232\t941282\tbin_1017\n",
      "chr1\t941242\t941292\tbin_1018\n",
      "chr1\t941252\t941302\tbin_1019\n",
      "chr1\t941262\t941312\tbin_1020\n",
      "chr1\t941272\t941322\tbin_1021\n"
     ]
    }
   ],
   "source": [
    "%%bash\n",
    "#obtain map-filtered bins that overlap this shared file. Set -u to write the original bins and preserve bin_ID. \n",
    "cd /data/hodges_lab/ATAC-STARR_B-cells/data/hansen-fong\n",
    "bedtools intersect -u -a filtered_bins/50bp-tiling-bins.map-filt.hg38.bed \\\n",
    "    -b /data/hodges_lab/ATAC-STARR_B-cells/data/hansen-fong/chrAcc_peaks/shared_peaks_by-intersect.bed > \\\n",
    "    filtered_bins/50bp-tiling-bins.map-filt.shared_by-intersect.hg38.bed\n",
    "\n",
    "#confirm bin_ID is preserved in output\n",
    "head filtered_bins/50bp-tiling-bins.map-filt.shared_by-intersect.hg38.bed"
   ]
  },
  {
   "cell_type": "code",
   "execution_count": 2,
   "id": "fe4accbc",
   "metadata": {
    "scrolled": false
   },
   "outputs": [
    {
     "name": "stdout",
     "output_type": "stream",
     "text": [
      "2028304 /data/hodges_lab/ATAC-STARR_B-cells/data/hansen-fong/filtered_bins/50bp-tiling-bins.map-filt.shared_by-intersect.hg38.bed\n"
     ]
    }
   ],
   "source": [
    "%%bash\n",
    "#how many bins?\n",
    "wc -l /data/hodges_lab/ATAC-STARR_B-cells/data/hansen-fong/filtered_bins/50bp-tiling-bins.map-filt.shared_by-intersect.hg38.bed"
   ]
  },
  {
   "cell_type": "code",
   "execution_count": 3,
   "id": "40b4bbb6",
   "metadata": {
    "scrolled": false
   },
   "outputs": [
    {
     "name": "stdout",
     "output_type": "stream",
     "text": [
      "1984354\n"
     ]
    }
   ],
   "source": [
    "%%bash\n",
    "cd /data/hodges_lab/ATAC-STARR_B-cells/data/hansen-fong/filtered_bins\n",
    "#how well do they match the other method?\n",
    "bedtools intersect -f 0.99 -a 50bp-tiling-bins.map-filt.shared_by-intersect.hg38.bed \\\n",
    "    -b 50bp-tiling-bins.map-filt.shared.hg38.bed | wc -l "
   ]
  },
  {
   "cell_type": "markdown",
   "id": "b1c28002",
   "metadata": {},
   "source": [
    "__Summary__ \n",
    "\n",
    "The \"by intersect\" method just feels right. I will use that in the activity analysis. "
   ]
  },
  {
   "cell_type": "code",
   "execution_count": 9,
   "id": "8aaae8ad",
   "metadata": {
    "scrolled": false
   },
   "outputs": [],
   "source": [
    "%%bash \n",
    "#Try sarah's union intersect method:\n",
    "cd /data/hodges_lab/ATAC-STARR_B-cells/data/hansen-fong/chrAcc_peaks # go to directory\n",
    "\n",
    "# take union of datasets. I.e. combine all regions in one file. filter for unique regions only\n",
    "cat GM12878inGM12878_DNA_genrich.filtered_1.8.noXY.narrowPeak \\\n",
    "LCL8664inLCL8664_DNA_genrich.filtered_1.8.noXY.hg38-from-rheMac10.narrowPeak \\\n",
    "GM12878inLCL8664_DNA_genrich.filtered_1.8.noXY.narrowPeak \\\n",
    "LCL8664inGM12878_DNA_genrich.filtered_1.8.noXY.hg38-from-rheMac10.narrowPeak | uniq | \\\n",
    "bedtools intersect -a - -b GM12878inGM12878_DNA_genrich.filtered_1.8.noXY.narrowPeak | \\\n",
    "bedtools intersect -a - -b LCL8664inLCL8664_DNA_genrich.filtered_1.8.noXY.hg38-from-rheMac10.narrowPeak | \\\n",
    "bedtools intersect -a - -b GM12878inLCL8664_DNA_genrich.filtered_1.8.noXY.narrowPeak | \\\n",
    "bedtools intersect -a - -b LCL8664inGM12878_DNA_genrich.filtered_1.8.noXY.hg38-from-rheMac10.narrowPeak > \\\n",
    "shared_peaks_by-intersect_union.bed  # do sequential intersections against union file. "
   ]
  },
  {
   "cell_type": "code",
   "execution_count": 10,
   "id": "f2c6801b",
   "metadata": {
    "scrolled": false
   },
   "outputs": [
    {
     "name": "stdout",
     "output_type": "stream",
     "text": [
      "120760 /data/hodges_lab/ATAC-STARR_B-cells/data/hansen-fong/chrAcc_peaks/shared_peaks_by-intersect_union.bed\n"
     ]
    }
   ],
   "source": [
    "%%bash\n",
    "#how many peaks?\n",
    "wc -l /data/hodges_lab/ATAC-STARR_B-cells/data/hansen-fong/chrAcc_peaks/shared_peaks_by-intersect_union.bed"
   ]
  },
  {
   "cell_type": "code",
   "execution_count": 11,
   "id": "5add1566",
   "metadata": {
    "scrolled": false
   },
   "outputs": [
    {
     "name": "stdout",
     "output_type": "stream",
     "text": [
      "2028304\n"
     ]
    }
   ],
   "source": [
    "%%bash\n",
    "#obtain map-filtered bins that overlap this shared file. Set -u to write the original bins and preserve bin_ID. \n",
    "cd /data/hodges_lab/ATAC-STARR_B-cells/data/hansen-fong\n",
    "bedtools intersect -u -a filtered_bins/50bp-tiling-bins.map-filt.hg38.bed \\\n",
    "    -b /data/hodges_lab/ATAC-STARR_B-cells/data/hansen-fong/chrAcc_peaks/shared_peaks_by-intersect_union.bed | wc -l"
   ]
  },
  {
   "cell_type": "markdown",
   "id": "5aca7670",
   "metadata": {},
   "source": [
    "Sarah's method gave the same number of bins!"
   ]
  },
  {
   "cell_type": "markdown",
   "id": "efb30e31",
   "metadata": {},
   "source": [
    "### Extract and process species-biased bins\n",
    "\n",
    "We want to study bins that are differentially accessible between the two cellular contexts. Since we used a simple bedtools intersect to get shared accessible bins I am going to extract species-specific bins in the following way:\n",
    "\n",
    "1. Human-specific bins must be \"accessible\" in both GG and GL meaning they overlap called peaks in both contexts.\n",
    "2. Bins that match this criteria will then be anti-joined with the shared bins by Bin_ID so that only bins that are not contained in the shared set are analyzed.\n",
    "\n",
    "Vice-versa for rhesus and LL/LG."
   ]
  },
  {
   "cell_type": "code",
   "execution_count": 1,
   "id": "c162cf1b",
   "metadata": {
    "scrolled": false
   },
   "outputs": [],
   "source": [
    "%%bash\n",
    "DIR='/data/hodges_lab/ATAC-STARR_B-cells/data/hansen-fong/chrAcc_peaks/3_noXY-filtered_peaks'\n",
    "BINS='/data/hodges_lab/ATAC-STARR_B-cells/data/hansen-fong/ATAC-STARR_bins/2_mappability-filtered_bins'\n",
    "OUT='/data/hodges_lab/ATAC-STARR_B-cells/data/hansen-fong/ATAC-STARR_bins/bin-analysis_input+output'\n",
    "\n",
    "bedtools intersect -u -a ${BINS}/50bp-tiling-bins.map-filt-2bp.hg38.bed \\\n",
    "    -b ${DIR}/GM12878inGM12878_DNA_genrich.filtered_1.8.noXY.narrowPeak | \\\n",
    "    bedtools intersect -u -a - -b ${DIR}/GM12878inLCL8664_DNA_genrich.filtered_1.8.noXY.narrowPeak > \\\n",
    "    ${OUT}/GM12878-accessible_bins.bed"
   ]
  },
  {
   "cell_type": "code",
   "execution_count": 1,
   "id": "fc3c7668",
   "metadata": {
    "scrolled": true
   },
   "outputs": [
    {
     "name": "stderr",
     "output_type": "stream",
     "text": [
      "── \u001b[1mAttaching packages\u001b[22m ─────────────────────────────────────── tidyverse 1.3.1 ──\n",
      "\n",
      "\u001b[32m✔\u001b[39m \u001b[34mggplot2\u001b[39m 3.3.5     \u001b[32m✔\u001b[39m \u001b[34mpurrr  \u001b[39m 0.3.4\n",
      "\u001b[32m✔\u001b[39m \u001b[34mtibble \u001b[39m 3.1.3     \u001b[32m✔\u001b[39m \u001b[34mdplyr  \u001b[39m 1.0.7\n",
      "\u001b[32m✔\u001b[39m \u001b[34mtidyr  \u001b[39m 1.1.3     \u001b[32m✔\u001b[39m \u001b[34mstringr\u001b[39m 1.4.0\n",
      "\u001b[32m✔\u001b[39m \u001b[34mreadr  \u001b[39m 1.4.0     \u001b[32m✔\u001b[39m \u001b[34mforcats\u001b[39m 0.5.1\n",
      "\n",
      "── \u001b[1mConflicts\u001b[22m ────────────────────────────────────────── tidyverse_conflicts() ──\n",
      "\u001b[31m✖\u001b[39m \u001b[34mdplyr\u001b[39m::\u001b[32mfilter()\u001b[39m masks \u001b[34mstats\u001b[39m::filter()\n",
      "\u001b[31m✖\u001b[39m \u001b[34mdplyr\u001b[39m::\u001b[32mlag()\u001b[39m    masks \u001b[34mstats\u001b[39m::lag()\n",
      "\n",
      "\n",
      "\u001b[36m──\u001b[39m \u001b[1m\u001b[1mColumn specification\u001b[1m\u001b[22m \u001b[36m────────────────────────────────────────────────────────\u001b[39m\n",
      "cols(\n",
      "  chr = \u001b[31mcol_character()\u001b[39m,\n",
      "  start = \u001b[32mcol_double()\u001b[39m,\n",
      "  end = \u001b[32mcol_double()\u001b[39m,\n",
      "  Bin_ID = \u001b[31mcol_character()\u001b[39m\n",
      ")\n",
      "\n",
      "\n"
     ]
    }
   ],
   "source": [
    "library(tidyverse)\n",
    "\n",
    "dir <- \"/data/hodges_lab/ATAC-STARR_B-cells/data/hansen-fong/ATAC-STARR_bins/\"\n",
    "\n",
    "shared <- read_tsv(paste0(dir,\"3_diff-acc-filtered_bins/50bp-tiling-bins.map-filt.shared_by-intersect.hg38.bed\"), \n",
    "                         col_names = c(\"chr\", \"start\", \"end\", \"Bin_ID\"))"
   ]
  },
  {
   "cell_type": "code",
   "execution_count": 2,
   "id": "7583be66",
   "metadata": {
    "scrolled": false
   },
   "outputs": [
    {
     "name": "stderr",
     "output_type": "stream",
     "text": [
      "\n",
      "\u001b[36m──\u001b[39m \u001b[1m\u001b[1mColumn specification\u001b[1m\u001b[22m \u001b[36m────────────────────────────────────────────────────────\u001b[39m\n",
      "cols(\n",
      "  chr = \u001b[31mcol_character()\u001b[39m,\n",
      "  start = \u001b[32mcol_double()\u001b[39m,\n",
      "  end = \u001b[32mcol_double()\u001b[39m,\n",
      "  Bin_ID = \u001b[31mcol_character()\u001b[39m\n",
      ")\n",
      "\n",
      "\n"
     ]
    }
   ],
   "source": [
    "dir <- \"/data/hodges_lab/ATAC-STARR_B-cells/data/hansen-fong/ATAC-STARR_bins/bin-analysis_input+output\"\n",
    "\n",
    "G_acc <- read_tsv(paste0(dir,\"/GM12878-accessible_bins.bed\"), \n",
    "                         col_names = c(\"chr\", \"start\", \"end\", \"Bin_ID\"))"
   ]
  },
  {
   "cell_type": "code",
   "execution_count": 7,
   "id": "5ce810e6",
   "metadata": {
    "scrolled": false
   },
   "outputs": [],
   "source": [
    "#anti_join\n",
    "GG_specific <- anti_join(G_acc, shared, by=\"Bin_ID\")"
   ]
  },
  {
   "cell_type": "code",
   "execution_count": 9,
   "id": "eb70dfed",
   "metadata": {
    "scrolled": false
   },
   "outputs": [],
   "source": [
    "#Writeout\n",
    "dir <- \"/data/hodges_lab/ATAC-STARR_B-cells/data/hansen-fong/ATAC-STARR_bins/3_diff-acc-filtered_bins\"\n",
    "write_tsv(GG_specific, paste0(dir, \"/50bp-tiling-bins.map-filt.human-specific_by-intersect.hg38.bed\"),col_names = FALSE)"
   ]
  },
  {
   "cell_type": "code",
   "execution_count": 1,
   "id": "522c6aa5",
   "metadata": {
    "scrolled": false
   },
   "outputs": [],
   "source": [
    "%%bash\n",
    "#Rhesus specific\n",
    "DIR='/data/hodges_lab/ATAC-STARR_B-cells/data/hansen-fong/chrAcc_peaks/3_noXY-filtered_peaks'\n",
    "BINS='/data/hodges_lab/ATAC-STARR_B-cells/data/hansen-fong/ATAC-STARR_bins/2_mappability-filtered_bins'\n",
    "OUT='/data/hodges_lab/ATAC-STARR_B-cells/data/hansen-fong/ATAC-STARR_bins/bin-analysis_input+output'\n",
    "\n",
    "bedtools intersect -u -a ${BINS}/50bp-tiling-bins.map-filt-2bp.hg38.bed \\\n",
    "    -b ${DIR}/LCL8664inLCL8664_DNA_genrich.filtered_1.8.noXY.hg38-from-rheMac10.narrowPeak | \\\n",
    "    bedtools intersect -u -a - -b ${DIR}/LCL8664inGM12878_DNA_genrich.filtered_1.8.noXY.hg38-from-rheMac10.narrowPeak > \\\n",
    "    ${OUT}/LCL8664-accessible_bins.bed"
   ]
  },
  {
   "cell_type": "code",
   "execution_count": 1,
   "id": "c56f25bc",
   "metadata": {
    "collapsed": true,
    "scrolled": false
   },
   "outputs": [
    {
     "name": "stderr",
     "output_type": "stream",
     "text": [
      "── \u001b[1mAttaching packages\u001b[22m ─────────────────────────────────────── tidyverse 1.3.1 ──\n",
      "\n",
      "\u001b[32m✔\u001b[39m \u001b[34mggplot2\u001b[39m 3.3.5     \u001b[32m✔\u001b[39m \u001b[34mpurrr  \u001b[39m 0.3.4\n",
      "\u001b[32m✔\u001b[39m \u001b[34mtibble \u001b[39m 3.1.3     \u001b[32m✔\u001b[39m \u001b[34mdplyr  \u001b[39m 1.0.7\n",
      "\u001b[32m✔\u001b[39m \u001b[34mtidyr  \u001b[39m 1.1.3     \u001b[32m✔\u001b[39m \u001b[34mstringr\u001b[39m 1.4.0\n",
      "\u001b[32m✔\u001b[39m \u001b[34mreadr  \u001b[39m 1.4.0     \u001b[32m✔\u001b[39m \u001b[34mforcats\u001b[39m 0.5.1\n",
      "\n",
      "── \u001b[1mConflicts\u001b[22m ────────────────────────────────────────── tidyverse_conflicts() ──\n",
      "\u001b[31m✖\u001b[39m \u001b[34mdplyr\u001b[39m::\u001b[32mfilter()\u001b[39m masks \u001b[34mstats\u001b[39m::filter()\n",
      "\u001b[31m✖\u001b[39m \u001b[34mdplyr\u001b[39m::\u001b[32mlag()\u001b[39m    masks \u001b[34mstats\u001b[39m::lag()\n",
      "\n",
      "\n",
      "\u001b[36m──\u001b[39m \u001b[1m\u001b[1mColumn specification\u001b[1m\u001b[22m \u001b[36m────────────────────────────────────────────────────────\u001b[39m\n",
      "cols(\n",
      "  chr = \u001b[31mcol_character()\u001b[39m,\n",
      "  start = \u001b[32mcol_double()\u001b[39m,\n",
      "  end = \u001b[32mcol_double()\u001b[39m,\n",
      "  Bin_ID = \u001b[31mcol_character()\u001b[39m\n",
      ")\n",
      "\n",
      "\n"
     ]
    }
   ],
   "source": [
    "library(tidyverse)\n",
    "\n",
    "dir <- \"/data/hodges_lab/ATAC-STARR_B-cells/data/hansen-fong/ATAC-STARR_bins/\"\n",
    "\n",
    "shared <- read_tsv(paste0(dir,\"3_diff-acc-filtered_bins/50bp-tiling-bins.map-filt.shared_by-intersect.hg38.bed\"), \n",
    "                         col_names = c(\"chr\", \"start\", \"end\", \"Bin_ID\"))"
   ]
  },
  {
   "cell_type": "code",
   "execution_count": 2,
   "id": "2d6a5f81",
   "metadata": {
    "scrolled": false
   },
   "outputs": [
    {
     "name": "stderr",
     "output_type": "stream",
     "text": [
      "\n",
      "\u001b[36m──\u001b[39m \u001b[1m\u001b[1mColumn specification\u001b[1m\u001b[22m \u001b[36m────────────────────────────────────────────────────────\u001b[39m\n",
      "cols(\n",
      "  chr = \u001b[31mcol_character()\u001b[39m,\n",
      "  start = \u001b[32mcol_double()\u001b[39m,\n",
      "  end = \u001b[32mcol_double()\u001b[39m,\n",
      "  Bin_ID = \u001b[31mcol_character()\u001b[39m\n",
      ")\n",
      "\n",
      "\n"
     ]
    }
   ],
   "source": [
    "dir <- \"/data/hodges_lab/ATAC-STARR_B-cells/data/hansen-fong/ATAC-STARR_bins/bin-analysis_input+output\"\n",
    "\n",
    "L_acc <- read_tsv(paste0(dir,\"/LCL8664-accessible_bins.bed\"), \n",
    "                         col_names = c(\"chr\", \"start\", \"end\", \"Bin_ID\"))"
   ]
  },
  {
   "cell_type": "code",
   "execution_count": 4,
   "id": "4374d2b7",
   "metadata": {
    "scrolled": false
   },
   "outputs": [],
   "source": [
    "#anti_join\n",
    "LL_specific <- anti_join(L_acc, shared, by=\"Bin_ID\")"
   ]
  },
  {
   "cell_type": "code",
   "execution_count": 5,
   "id": "99b6cb27",
   "metadata": {
    "scrolled": false
   },
   "outputs": [],
   "source": [
    "#Writeout\n",
    "dir <- \"/data/hodges_lab/ATAC-STARR_B-cells/data/hansen-fong/ATAC-STARR_bins/3_diff-acc-filtered_bins\"\n",
    "write_tsv(LL_specific, paste0(dir, \"/50bp-tiling-bins.map-filt.rhesus-specific_by-intersect.hg38.bed\"),col_names = FALSE)"
   ]
  },
  {
   "cell_type": "code",
   "execution_count": 1,
   "id": "cb8140d4",
   "metadata": {
    "scrolled": false
   },
   "outputs": [
    {
     "name": "stdout",
     "output_type": "stream",
     "text": [
      "2028304 /data/hodges_lab/ATAC-STARR_B-cells/data/hansen-fong/ATAC-STARR_bins/3_diff-acc-filtered_bins/50bp-tiling-bins.map-filt.shared_by-intersect.hg38.bed\n",
      "1637474 /data/hodges_lab/ATAC-STARR_B-cells/data/hansen-fong/ATAC-STARR_bins/3_diff-acc-filtered_bins/50bp-tiling-bins.map-filt.human-specific_by-intersect.hg38.bed\n",
      "1548583 /data/hodges_lab/ATAC-STARR_B-cells/data/hansen-fong/ATAC-STARR_bins/3_diff-acc-filtered_bins/50bp-tiling-bins.map-filt.rhesus-specific_by-intersect.hg38.bed\n"
     ]
    }
   ],
   "source": [
    "%%bash\n",
    "#how many bins were parsed?\n",
    "DATA=\"/data/hodges_lab/ATAC-STARR_B-cells/data/hansen-fong/ATAC-STARR_bins/3_diff-acc-filtered_bins\"\n",
    "wc -l ${DATA}/50bp-tiling-bins.map-filt.shared_by-intersect.hg38.bed\n",
    "wc -l ${DATA}/50bp-tiling-bins.map-filt.human-specific_by-intersect.hg38.bed\n",
    "wc -l ${DATA}/50bp-tiling-bins.map-filt.rhesus-specific_by-intersect.hg38.bed"
   ]
  },
  {
   "cell_type": "code",
   "execution_count": 25,
   "id": "0a86eeac",
   "metadata": {
    "scrolled": false
   },
   "outputs": [
    {
     "data": {
      "text/html": [
       "5214361"
      ],
      "text/latex": [
       "5214361"
      ],
      "text/markdown": [
       "5214361"
      ],
      "text/plain": [
       "[1] 5214361"
      ]
     },
     "metadata": {},
     "output_type": "display_data"
    },
    {
     "data": {
      "text/html": [
       "0.388984191926873"
      ],
      "text/latex": [
       "0.388984191926873"
      ],
      "text/markdown": [
       "0.388984191926873"
      ],
      "text/plain": [
       "[1] 0.3889842"
      ]
     },
     "metadata": {},
     "output_type": "display_data"
    },
    {
     "data": {
      "text/html": [
       "0.314031575489307"
      ],
      "text/latex": [
       "0.314031575489307"
      ],
      "text/markdown": [
       "0.314031575489307"
      ],
      "text/plain": [
       "[1] 0.3140316"
      ]
     },
     "metadata": {},
     "output_type": "display_data"
    },
    {
     "data": {
      "text/html": [
       "0.29698423258382"
      ],
      "text/latex": [
       "0.29698423258382"
      ],
      "text/markdown": [
       "0.29698423258382"
      ],
      "text/plain": [
       "[1] 0.2969842"
      ]
     },
     "metadata": {},
     "output_type": "display_data"
    }
   ],
   "source": [
    "#what are the percentages?\n",
    "sum <- 2028304 + 1637474 + 1548583\n",
    "sum\n",
    "2028304/sum\n",
    "1637474/sum\n",
    "1548583/sum"
   ]
  },
  {
   "cell_type": "code",
   "execution_count": 23,
   "id": "6658e38d",
   "metadata": {
    "scrolled": true
   },
   "outputs": [
    {
     "data": {
      "image/png": "[encoded data removed]",
      "text/plain": [
       "plot without title"
      ]
     },
     "metadata": {
      "image/png": {
       "height": 420,
       "width": 420
      }
     },
     "output_type": "display_data"
    }
   ],
   "source": [
    "#plot donut of bins that are diff accessible\n",
    "library(tidyverse)\n",
    "\n",
    "plotDonut <- function(data){\n",
    "    # Compute percentages\n",
    "    data$fraction <- data$count / sum(data$count)\n",
    "    # Compute the cumulative percentages (top of each rectangle)\n",
    "    data$ymax <- cumsum(data$fraction)\n",
    "    # Compute the bottom of each rectangle\n",
    "    data$ymin <- c(0, head(data$ymax, n=-1))\n",
    "    # Compute label position\n",
    "    data$labelPosition <- (data$ymax + data$ymin) / 2\n",
    "    # Compute a good label\n",
    "    data$label <- paste0(data$category, \"\\n value: \", data$count)\n",
    "    # Make the plot\n",
    "    p <- ggplot(data, aes(ymax=ymax, ymin=ymin, xmax=4, xmin=3, fill=category)) +\n",
    "      geom_rect(color = \"black\") +\n",
    "      scale_fill_manual(values = c(\"#4682B4\", \"#AE6885\", \"#9FADBD\")) +\n",
    "      coord_polar(theta=\"y\") +\n",
    "      xlim(c(2, 4)) +\n",
    "      theme_void(base_size = 8) +\n",
    "      theme(legend.title = element_blank())\n",
    "    return(p)\n",
    "}\n",
    "\n",
    "#build df\n",
    "df <- data.frame(count = c(2028304, 1637474, 1548583), \n",
    "                category = c(\"shared accessible bins\\n(2,028,304)\", \"human-biased accessible bins\\n(1,637,474)\",\n",
    "                             \"rhesus-biased accessible bins\\n(1,548,583)\"))\n",
    "\n",
    "#Execute function.\n",
    "p <- plotDonut(data = df)\n",
    "p"
   ]
  },
  {
   "cell_type": "code",
   "execution_count": 24,
   "id": "7b7860ea",
   "metadata": {
    "scrolled": false
   },
   "outputs": [],
   "source": [
    "res_dir <- '/data/hodges_lab/ATAC-STARR_B-cells/results/results_human-evolution/'\n",
    "ggsave(p, filename = paste0(res_dir, \"/diff-accessibility_bins_donut.pdf\"), device = cairo_pdf, width = 3, height = 3)"
   ]
  },
  {
   "cell_type": "code",
   "execution_count": 2,
   "id": "75296d77",
   "metadata": {
    "scrolled": false
   },
   "outputs": [],
   "source": [
    "%%bash\n",
    "#merge into 5-count regions\n",
    "DIR='/data/hodges_lab/ATAC-STARR_B-cells/data/hansen-fong/ATAC-STARR_bins/3_diff-acc-filtered_bins'\n",
    "\n",
    "bedtools merge -c 1 -o count -i ${DIR}/50bp-tiling-bins.map-filt.shared_by-intersect.hg38.bed | \\\n",
    "awk '{OFS=FS=\"\\t\"}{if ($4>=5) print $1,$2,$3}' - > ${DIR}/50bp-tiling-bins.map-filt.shared_by-intersect.merged.hg38.bed \n",
    "\n",
    "bedtools merge -c 1 -o count -i ${DIR}/50bp-tiling-bins.map-filt.human-specific_by-intersect.hg38.bed | \\\n",
    "awk '{OFS=FS=\"\\t\"}{if ($4>=5) print $1,$2,$3}' - > ${DIR}/50bp-tiling-bins.map-filt.human-specific_by-intersect.merged.hg38.bed \n",
    "\n",
    "bedtools merge -c 1 -o count -i ${DIR}/50bp-tiling-bins.map-filt.rhesus-specific_by-intersect.hg38.bed | \\\n",
    "awk '{OFS=FS=\"\\t\"}{if ($4>=5) print $1,$2,$3}' - > ${DIR}/50bp-tiling-bins.map-filt.rheus-specific_by-intersect.merged.hg38.bed "
   ]
  },
  {
   "cell_type": "code",
   "execution_count": 4,
   "id": "3b08c362",
   "metadata": {
    "scrolled": false
   },
   "outputs": [
    {
     "name": "stdout",
     "output_type": "stream",
     "text": [
      "86099 /data/hodges_lab/ATAC-STARR_B-cells/data/hansen-fong/ATAC-STARR_bins/3_diff-acc-filtered_bins/50bp-tiling-bins.map-filt.shared_by-intersect.merged.hg38.bed\n",
      "84729 /data/hodges_lab/ATAC-STARR_B-cells/data/hansen-fong/ATAC-STARR_bins/3_diff-acc-filtered_bins/50bp-tiling-bins.map-filt.human-specific_by-intersect.merged.hg38.bed\n",
      "78008 /data/hodges_lab/ATAC-STARR_B-cells/data/hansen-fong/ATAC-STARR_bins/3_diff-acc-filtered_bins/50bp-tiling-bins.map-filt.rheus-specific_by-intersect.merged.hg38.bed\n"
     ]
    }
   ],
   "source": [
    "%%bash\n",
    "DIR='/data/hodges_lab/ATAC-STARR_B-cells/data/hansen-fong/ATAC-STARR_bins/3_diff-acc-filtered_bins'\n",
    "#how many merged bins?\n",
    "wc -l ${DIR}/50bp-tiling-bins.map-filt.shared_by-intersect.merged.hg38.bed \n",
    "wc -l ${DIR}/50bp-tiling-bins.map-filt.human-specific_by-intersect.merged.hg38.bed\n",
    "wc -l ${DIR}/50bp-tiling-bins.map-filt.rheus-specific_by-intersect.merged.hg38.bed"
   ]
  },
  {
   "cell_type": "markdown",
   "id": "fd2f4cf4",
   "metadata": {},
   "source": [
    "### Create CHRACC section in ini"
   ]
  },
  {
   "cell_type": "code",
   "execution_count": null,
   "id": "5f8b5bfb",
   "metadata": {},
   "outputs": [],
   "source": [
    "#function\n",
    "append_section_to_ini <- function(ini_file, new_section) {\n",
    "    if (is.list(new_section)) {\n",
    "        ini <- ini::read.ini(ini_file)\n",
    "        ini <- c(ini,new_section)\n",
    "        ini::write.ini(x=ini, filepath=ini_file)\n",
    "    } else {\n",
    "        print('new_section is not a list')\n",
    "    }\n",
    "}\n",
    "\n",
    "#list of key-value pairs\n",
    "CHRACC <- list(ind_dir='/data/hodges_lab/ATAC-STARR_B-cells/data/hansen-fong/chrAcc_peaks/3_noXY-filtered_peaks',\n",
    "               shared_dir='/data/hodges_lab/ATAC-STARR_B-cells/data/hansen-fong/chrAcc_peaks/shared_peaks', \n",
    "               hu_peaks_hg38='/data/hodges_lab/ATAC-STARR_B-cells/data/hansen-fong/chrAcc_peaks/3_noXY-filtered_peaks/GM12878inGM12878_DNA_genrich.filtered_1.8.noXY.narrowPeak',\n",
    "               ma_peaks_hg38='/data/hodges_lab/ATAC-STARR_B-cells/data/hansen-fong/chrAcc_peaks/3_noXY-filtered_peaks/LCL8664inLCL8664_DNA_genrich.filtered_1.8.noXY.hg38-from-rheMac10.narrowPeak',\n",
    "               ma_peaks_rhemac10='/data/hodges_lab/ATAC-STARR_B-cells/data/hansen-fong/chrAcc_peaks/3_noXY-filtered_peaks/LCL8664inLCL8664_DNA_genrich.filtered_1.8.noXY.narrowPeak')\n",
    "\n",
    "#list of section, resulting in list of list.\n",
    "new_section <- list(CHRACC=CHRACC)\n",
    "\n",
    "#write ini\n",
    "append_section_to_ini(\"../config.ini\", new_section)"
   ]
  },
  {
   "cell_type": "markdown",
   "id": "16094819",
   "metadata": {},
   "source": [
    "## Regulatory Activity\n",
    "\n",
    "To do this, follow the strategy employed in the NAR manuscript. In brief, this means assigning RNA and DNA readcounts to each bin with featureCounts then calling as active, or neutral/silent with DESeq2. Like the ChrAcc section above, we'll use the SAF files as input. "
   ]
  },
  {
   "cell_type": "markdown",
   "id": "1880b21c",
   "metadata": {},
   "source": [
    "### Make Counts"
   ]
  },
  {
   "cell_type": "code",
   "execution_count": 1,
   "id": "5930018d",
   "metadata": {
    "scrolled": true
   },
   "outputs": [
    {
     "name": "stderr",
     "output_type": "stream",
     "text": [
      "\n",
      "        ==========     _____ _    _ ____  _____  ______          _____  \n",
      "        =====         / ____| |  | |  _ \\|  __ \\|  ____|   /\\   |  __ \\ \n",
      "          =====      | (___ | |  | | |_) | |__) | |__     /  \\  | |  | |\n",
      "            ====      \\___ \\| |  | |  _ <|  _  /|  __|   / /\\ \\ | |  | |\n",
      "              ====    ____) | |__| | |_) | | \\ \\| |____ / ____ \\| |__| |\n",
      "        ==========   |_____/ \\____/|____/|_|  \\_\\______/_/    \\_\\_____/\n",
      "\t  v2.0.1\n",
      "\n",
      "//========================== featureCounts setting ===========================\\\\\n",
      "||                                                                            ||\n",
      "||             Input files : 6 BAM files                                      ||\n",
      "||                           o GM12878inGM12878_DNA_Rep1.filtered.n-sorte ... ||\n",
      "||                           o GM12878inGM12878_DNA_Rep2.filtered.n-sorte ... ||\n",
      "||                           o GM12878inGM12878_DNA_Rep3.filtered.n-sorte ... ||\n",
      "||                           o GM12878inGM12878_RNA_Rep1.filtered.n-sorte ... ||\n",
      "||                           o GM12878inGM12878_RNA_Rep2.filtered.n-sorte ... ||\n",
      "||                           o GM12878inGM12878_RNA_Rep3.filtered.n-sorte ... ||\n",
      "||                                                                            ||\n",
      "||             Output file : Hansen-Fong_50bp-tiling-bins_1.8.GM12878inGM ... ||\n",
      "||                 Summary : Hansen-Fong_50bp-tiling-bins_1.8.GM12878inGM ... ||\n",
      "||              Annotation : Hansen-Fong_50bp-tiling-bins_1.8.3reps.hg38. ... ||\n",
      "||      Dir for temp files : /data/hodges_lab/ATAC-STARR_B-cells/data/han ... ||\n",
      "||                                                                            ||\n",
      "||                 Threads : 12                                               ||\n",
      "||                   Level : meta-feature level                               ||\n",
      "||              Paired-end : yes                                              ||\n",
      "||      Multimapping reads : not counted                                      ||\n",
      "|| Multi-overlapping reads : counted                                          ||\n",
      "||   Min overlapping bases : 1                                                ||\n",
      "||                                                                            ||\n",
      "||          Chimeric reads : counted                                          ||\n",
      "||        Both ends mapped : required                                         ||\n",
      "||                                                                            ||\n",
      "\\\\============================================================================//\n",
      "\n",
      "//================================= Running ==================================\\\\\n",
      "||                                                                            ||\n",
      "|| Load annotation file Hansen-Fong_50bp-tiling-bins_1.8.3reps.hg38.saf ...   ||\n",
      "||    Features : 7647996                                                      ||\n",
      "||    Meta-features : 7647996                                                 ||\n",
      "||    Chromosomes/contigs : 29                                                ||\n",
      "||                                                                            ||\n",
      "|| Process BAM file GM12878inGM12878_DNA_Rep1.filtered.n-sorted.bam...        ||\n",
      "||    Paired-end reads are included.                                          ||\n",
      "||    Total alignments : 30787318                                             ||\n",
      "||    Successfully assigned alignments : 22500070 (73.1%)                     ||\n",
      "||    Running time : 1.03 minutes                                             ||\n",
      "||                                                                            ||\n",
      "|| Process BAM file GM12878inGM12878_DNA_Rep2.filtered.n-sorted.bam...        ||\n",
      "||    Paired-end reads are included.                                          ||\n",
      "||    Total alignments : 26516260                                             ||\n",
      "||    Successfully assigned alignments : 19504163 (73.6%)                     ||\n",
      "||    Running time : 0.82 minutes                                             ||\n",
      "||                                                                            ||\n",
      "|| Process BAM file GM12878inGM12878_DNA_Rep3.filtered.n-sorted.bam...        ||\n",
      "||    Paired-end reads are included.                                          ||\n",
      "||    Total alignments : 44022564                                             ||\n",
      "||    Successfully assigned alignments : 31820061 (72.3%)                     ||\n",
      "||    Running time : 1.21 minutes                                             ||\n",
      "||                                                                            ||\n",
      "|| Process BAM file GM12878inGM12878_RNA_Rep1.filtered.n-sorted.bam...        ||\n",
      "||    Paired-end reads are included.                                          ||\n",
      "||    Total alignments : 56277949                                             ||\n",
      "||    Successfully assigned alignments : 39829413 (70.8%)                     ||\n",
      "||    Running time : 2.02 minutes                                             ||\n",
      "||                                                                            ||\n",
      "|| Process BAM file GM12878inGM12878_RNA_Rep2.filtered.n-sorted.bam...        ||\n",
      "||    Paired-end reads are included.                                          ||\n",
      "||    Total alignments : 67921622                                             ||\n",
      "||    Successfully assigned alignments : 48084191 (70.8%)                     ||\n",
      "||    Running time : 1.97 minutes                                             ||\n",
      "||                                                                            ||\n",
      "|| Process BAM file GM12878inGM12878_RNA_Rep3.filtered.n-sorted.bam...        ||\n",
      "||    Paired-end reads are included.                                          ||\n",
      "||    Total alignments : 56069968                                             ||\n",
      "||    Successfully assigned alignments : 39501730 (70.5%)                     ||\n",
      "||    Running time : 2.65 minutes                                             ||\n",
      "||                                                                            ||\n",
      "|| Write the final count table.                                               ||\n",
      "|| Write the read assignment summary.                                         ||\n",
      "||                                                                            ||\n",
      "|| Summary of counting results can be found in file \"/data/hodges_lab/ATAC-S  ||\n",
      "|| TARR_B-cells/data/hansen-fong/activity-score-intermediates/Hansen-Fong_50  ||\n",
      "|| bp-tiling-bins_1.8.GM12878inGM12878.activity-counts.tsv.summary\"           ||\n",
      "||                                                                            ||\n",
      "\\\\============================================================================//\n",
      "\n",
      "\n",
      "        ==========     _____ _    _ ____  _____  ______          _____  \n",
      "        =====         / ____| |  | |  _ \\|  __ \\|  ____|   /\\   |  __ \\ \n",
      "          =====      | (___ | |  | | |_) | |__) | |__     /  \\  | |  | |\n",
      "            ====      \\___ \\| |  | |  _ <|  _  /|  __|   / /\\ \\ | |  | |\n",
      "              ====    ____) | |__| | |_) | | \\ \\| |____ / ____ \\| |__| |\n",
      "        ==========   |_____/ \\____/|____/|_|  \\_\\______/_/    \\_\\_____/\n",
      "\t  v2.0.1\n",
      "\n",
      "//========================== featureCounts setting ===========================\\\\\n",
      "||                                                                            ||\n",
      "||             Input files : 6 BAM files                                      ||\n",
      "||                           o GM12878inLCL8664_DNA_Rep1.filtered.n-sorte ... ||\n",
      "||                           o GM12878inLCL8664_DNA_Rep2.filtered.n-sorte ... ||\n",
      "||                           o GM12878inLCL8664_DNA_Rep3.filtered.n-sorte ... ||\n",
      "||                           o GM12878inLCL8664_RNA_Rep1.filtered.n-sorte ... ||\n",
      "||                           o GM12878inLCL8664_RNA_Rep2.filtered.n-sorte ... ||\n",
      "||                           o GM12878inLCL8664_RNA_Rep3.filtered.n-sorte ... ||\n",
      "||                                                                            ||\n",
      "||             Output file : Hansen-Fong_50bp-tiling-bins_1.8.GM12878inLC ... ||\n",
      "||                 Summary : Hansen-Fong_50bp-tiling-bins_1.8.GM12878inLC ... ||\n",
      "||              Annotation : Hansen-Fong_50bp-tiling-bins_1.8.3reps.hg38. ... ||\n",
      "||      Dir for temp files : /data/hodges_lab/ATAC-STARR_B-cells/data/han ... ||\n",
      "||                                                                            ||\n",
      "||                 Threads : 12                                               ||\n",
      "||                   Level : meta-feature level                               ||\n",
      "||              Paired-end : yes                                              ||\n",
      "||      Multimapping reads : not counted                                      ||\n",
      "|| Multi-overlapping reads : counted                                          ||\n",
      "||   Min overlapping bases : 1                                                ||\n",
      "||                                                                            ||\n",
      "||          Chimeric reads : counted                                          ||\n",
      "||        Both ends mapped : required                                         ||\n",
      "||                                                                            ||\n",
      "\\\\============================================================================//\n",
      "\n",
      "//================================= Running ==================================\\\\\n",
      "||                                                                            ||\n",
      "|| Load annotation file Hansen-Fong_50bp-tiling-bins_1.8.3reps.hg38.saf ...   ||\n",
      "||    Features : 7647996                                                      ||\n",
      "||    Meta-features : 7647996                                                 ||\n",
      "||    Chromosomes/contigs : 29                                                ||\n",
      "||                                                                            ||\n",
      "|| Process BAM file GM12878inLCL8664_DNA_Rep1.filtered.n-sorted.bam...        ||\n",
      "||    Paired-end reads are included.                                          ||\n",
      "||    Total alignments : 19900533                                             ||\n",
      "||    Successfully assigned alignments : 14414781 (72.4%)                     ||\n",
      "||    Running time : 0.70 minutes                                             ||\n",
      "||                                                                            ||\n",
      "|| Process BAM file GM12878inLCL8664_DNA_Rep2.filtered.n-sorted.bam...        ||\n",
      "||    Paired-end reads are included.                                          ||\n",
      "||    Total alignments : 20913880                                             ||\n",
      "||    Successfully assigned alignments : 15110367 (72.3%)                     ||\n",
      "||    Running time : 0.99 minutes                                             ||\n",
      "||                                                                            ||\n",
      "|| Process BAM file GM12878inLCL8664_DNA_Rep3.filtered.n-sorted.bam...        ||\n",
      "||    Paired-end reads are included.                                          ||\n",
      "||    Total alignments : 45185843                                             ||\n",
      "||    Successfully assigned alignments : 32415283 (71.7%)                     ||\n",
      "||    Running time : 2.44 minutes                                             ||\n",
      "||                                                                            ||\n",
      "|| Process BAM file GM12878inLCL8664_RNA_Rep1.filtered.n-sorted.bam...        ||\n",
      "||    Paired-end reads are included.                                          ||\n",
      "||    Total alignments : 76371495                                             ||\n",
      "||    Successfully assigned alignments : 54320796 (71.1%)                     ||\n",
      "||    Running time : 1.97 minutes                                             ||\n",
      "||                                                                            ||\n",
      "|| Process BAM file GM12878inLCL8664_RNA_Rep2.filtered.n-sorted.bam...        ||\n",
      "||    Paired-end reads are included.                                          ||\n",
      "||    Total alignments : 48275861                                             ||\n",
      "||    Successfully assigned alignments : 34013537 (70.5%)                     ||\n",
      "||    Running time : 1.41 minutes                                             ||\n",
      "||                                                                            ||\n",
      "|| Process BAM file GM12878inLCL8664_RNA_Rep3.filtered.n-sorted.bam...        ||\n",
      "||    Paired-end reads are included.                                          ||\n",
      "||    Total alignments : 80445822                                             ||\n",
      "||    Successfully assigned alignments : 56193252 (69.9%)                     ||\n",
      "||    Running time : 2.57 minutes                                             ||\n",
      "||                                                                            ||\n",
      "|| Write the final count table.                                               ||\n",
      "|| Write the read assignment summary.                                         ||\n",
      "||                                                                            ||\n",
      "|| Summary of counting results can be found in file \"/data/hodges_lab/ATAC-S  ||\n",
      "|| TARR_B-cells/data/hansen-fong/activity-score-intermediates/Hansen-Fong_50  ||\n",
      "|| bp-tiling-bins_1.8.GM12878inLCL8664.activity-counts.tsv.summary\"           ||\n",
      "||                                                                            ||\n",
      "\\\\============================================================================//\n",
      "\n",
      "\n",
      "        ==========     _____ _    _ ____  _____  ______          _____  \n",
      "        =====         / ____| |  | |  _ \\|  __ \\|  ____|   /\\   |  __ \\ \n",
      "          =====      | (___ | |  | | |_) | |__) | |__     /  \\  | |  | |\n",
      "            ====      \\___ \\| |  | |  _ <|  _  /|  __|   / /\\ \\ | |  | |\n",
      "              ====    ____) | |__| | |_) | | \\ \\| |____ / ____ \\| |__| |\n",
      "        ==========   |_____/ \\____/|____/|_|  \\_\\______/_/    \\_\\_____/\n",
      "\t  v2.0.1\n",
      "\n",
      "//========================== featureCounts setting ===========================\\\\\n",
      "||                                                                            ||\n",
      "||             Input files : 6 BAM files                                      ||\n",
      "||                           o LCL8664inGM12878_DNA_Rep1.filtered.n-sorte ... ||\n",
      "||                           o LCL8664inGM12878_DNA_Rep2.filtered.n-sorte ... ||\n",
      "||                           o LCL8664inGM12878_DNA_Rep3.filtered.n-sorte ... ||\n",
      "||                           o LCL8664inGM12878_RNA_Rep1.filtered.n-sorte ... ||\n",
      "||                           o LCL8664inGM12878_RNA_Rep2.filtered.n-sorte ... ||\n",
      "||                           o LCL8664inGM12878_RNA_Rep3.filtered.n-sorte ... ||\n",
      "||                                                                            ||\n",
      "||             Output file : Hansen-Fong_50bp-tiling-bins_1.8.LCL8664inGM ... ||\n",
      "||                 Summary : Hansen-Fong_50bp-tiling-bins_1.8.LCL8664inGM ... ||\n",
      "||              Annotation : Hansen-Fong_50bp-tiling-bins_1.8.3reps.rheMa ... ||\n",
      "||      Dir for temp files : /data/hodges_lab/ATAC-STARR_B-cells/data/han ... ||\n",
      "||                                                                            ||\n",
      "||                 Threads : 12                                               ||\n",
      "||                   Level : meta-feature level                               ||\n",
      "||              Paired-end : yes                                              ||\n",
      "||      Multimapping reads : not counted                                      ||\n",
      "|| Multi-overlapping reads : counted                                          ||\n",
      "||   Min overlapping bases : 1                                                ||\n",
      "||                                                                            ||\n",
      "||          Chimeric reads : counted                                          ||\n",
      "||        Both ends mapped : required                                         ||\n",
      "||                                                                            ||\n",
      "\\\\============================================================================//\n",
      "\n",
      "//================================= Running ==================================\\\\\n",
      "||                                                                            ||\n",
      "|| Load annotation file Hansen-Fong_50bp-tiling-bins_1.8.3reps.rheMac10.s ... ||\n",
      "||    Features : 7101497                                                      ||\n",
      "||    Meta-features : 7101497                                                 ||\n",
      "||    Chromosomes/contigs : 55                                                ||\n",
      "||                                                                            ||\n",
      "|| Process BAM file LCL8664inGM12878_DNA_Rep1.filtered.n-sorted.bam...        ||\n",
      "||    Paired-end reads are included.                                          ||\n",
      "||    Total alignments : 29386089                                             ||\n",
      "||    Successfully assigned alignments : 20668336 (70.3%)                     ||\n",
      "||    Running time : 0.95 minutes                                             ||\n",
      "||                                                                            ||\n",
      "|| Process BAM file LCL8664inGM12878_DNA_Rep2.filtered.n-sorted.bam...        ||\n",
      "||    Paired-end reads are included.                                          ||\n",
      "||    Total alignments : 27715038                                             ||\n",
      "||    Successfully assigned alignments : 20204750 (72.9%)                     ||\n",
      "||    Running time : 0.64 minutes                                             ||\n",
      "||                                                                            ||\n",
      "|| Process BAM file LCL8664inGM12878_DNA_Rep3.filtered.n-sorted.bam...        ||\n",
      "||    Paired-end reads are included.                                          ||\n",
      "||    Total alignments : 63765040                                             ||\n",
      "||    Successfully assigned alignments : 45908374 (72.0%)                     ||\n",
      "||    Running time : 1.61 minutes                                             ||\n",
      "||                                                                            ||\n",
      "|| Process BAM file LCL8664inGM12878_RNA_Rep1.filtered.n-sorted.bam...        ||\n",
      "||    Paired-end reads are included.                                          ||\n",
      "||    Total alignments : 61449240                                             ||\n",
      "||    Successfully assigned alignments : 42507142 (69.2%)                     ||\n",
      "||    Running time : 1.54 minutes                                             ||\n",
      "||                                                                            ||\n",
      "|| Process BAM file LCL8664inGM12878_RNA_Rep2.filtered.n-sorted.bam...        ||\n",
      "||    Paired-end reads are included.                                          ||\n",
      "||    Total alignments : 90959076                                             ||\n",
      "||    Successfully assigned alignments : 63687073 (70.0%)                     ||\n",
      "||    Running time : 2.17 minutes                                             ||\n",
      "||                                                                            ||\n",
      "|| Process BAM file LCL8664inGM12878_RNA_Rep3.filtered.n-sorted.bam...        ||\n",
      "||    Paired-end reads are included.                                          ||\n",
      "||    Total alignments : 40992904                                             ||\n",
      "||    Successfully assigned alignments : 27674458 (67.5%)                     ||\n",
      "||    Running time : 1.02 minutes                                             ||\n",
      "||                                                                            ||\n",
      "|| Write the final count table.                                               ||\n",
      "|| Write the read assignment summary.                                         ||\n",
      "||                                                                            ||\n",
      "|| Summary of counting results can be found in file \"/data/hodges_lab/ATAC-S  ||\n",
      "|| TARR_B-cells/data/hansen-fong/activity-score-intermediates/Hansen-Fong_50  ||\n",
      "|| bp-tiling-bins_1.8.LCL8664inGM12878.activity-counts.tsv.summary\"           ||\n",
      "||                                                                            ||\n",
      "\\\\============================================================================//\n",
      "\n",
      "\n",
      "        ==========     _____ _    _ ____  _____  ______          _____  \n",
      "        =====         / ____| |  | |  _ \\|  __ \\|  ____|   /\\   |  __ \\ \n",
      "          =====      | (___ | |  | | |_) | |__) | |__     /  \\  | |  | |\n",
      "            ====      \\___ \\| |  | |  _ <|  _  /|  __|   / /\\ \\ | |  | |\n",
      "              ====    ____) | |__| | |_) | | \\ \\| |____ / ____ \\| |__| |\n",
      "        ==========   |_____/ \\____/|____/|_|  \\_\\______/_/    \\_\\_____/\n",
      "\t  v2.0.1\n",
      "\n",
      "//========================== featureCounts setting ===========================\\\\\n",
      "||                                                                            ||\n",
      "||             Input files : 6 BAM files                                      ||\n",
      "||                           o LCL8664inLCL8664_DNA_Rep1.filtered.n-sorte ... ||\n",
      "||                           o LCL8664inLCL8664_DNA_Rep2.filtered.n-sorte ... ||\n",
      "||                           o LCL8664inLCL8664_DNA_Rep3.filtered.n-sorte ... ||\n",
      "||                           o LCL8664inLCL8664_RNA_Rep1.filtered.n-sorte ... ||\n",
      "||                           o LCL8664inLCL8664_RNA_Rep2.filtered.n-sorte ... ||\n",
      "||                           o LCL8664inLCL8664_RNA_Rep3.filtered.n-sorte ... ||\n",
      "||                                                                            ||\n",
      "||             Output file : Hansen-Fong_50bp-tiling-bins_1.8.LCL8664inLC ... ||\n",
      "||                 Summary : Hansen-Fong_50bp-tiling-bins_1.8.LCL8664inLC ... ||\n",
      "||              Annotation : Hansen-Fong_50bp-tiling-bins_1.8.3reps.rheMa ... ||\n",
      "||      Dir for temp files : /data/hodges_lab/ATAC-STARR_B-cells/data/han ... ||\n",
      "||                                                                            ||\n",
      "||                 Threads : 12                                               ||\n",
      "||                   Level : meta-feature level                               ||\n",
      "||              Paired-end : yes                                              ||\n",
      "||      Multimapping reads : not counted                                      ||\n",
      "|| Multi-overlapping reads : counted                                          ||\n",
      "||   Min overlapping bases : 1                                                ||\n",
      "||                                                                            ||\n",
      "||          Chimeric reads : counted                                          ||\n",
      "||        Both ends mapped : required                                         ||\n",
      "||                                                                            ||\n",
      "\\\\============================================================================//\n",
      "\n",
      "//================================= Running ==================================\\\\\n",
      "||                                                                            ||\n",
      "|| Load annotation file Hansen-Fong_50bp-tiling-bins_1.8.3reps.rheMac10.s ... ||\n",
      "||    Features : 7101497                                                      ||\n",
      "||    Meta-features : 7101497                                                 ||\n",
      "||    Chromosomes/contigs : 55                                                ||\n",
      "||                                                                            ||\n",
      "|| Process BAM file LCL8664inLCL8664_DNA_Rep1.filtered.n-sorted.bam...        ||\n",
      "||    Paired-end reads are included.                                          ||\n",
      "||    Total alignments : 44369368                                             ||\n",
      "||    Successfully assigned alignments : 33070483 (74.5%)                     ||\n",
      "||    Running time : 0.99 minutes                                             ||\n",
      "||                                                                            ||\n",
      "|| Process BAM file LCL8664inLCL8664_DNA_Rep2.filtered.n-sorted.bam...        ||\n",
      "||    Paired-end reads are included.                                          ||\n",
      "||    Total alignments : 40092750                                             ||\n",
      "||    Successfully assigned alignments : 29573199 (73.8%)                     ||\n",
      "||    Running time : 0.95 minutes                                             ||\n",
      "||                                                                            ||\n",
      "|| Process BAM file LCL8664inLCL8664_DNA_Rep3.filtered.n-sorted.bam...        ||\n",
      "||    Paired-end reads are included.                                          ||\n",
      "||    Total alignments : 58574208                                             ||\n",
      "||    Successfully assigned alignments : 42143214 (71.9%)                     ||\n",
      "||    Running time : 1.49 minutes                                             ||\n",
      "||                                                                            ||\n",
      "|| Process BAM file LCL8664inLCL8664_RNA_Rep1.filtered.n-sorted.bam...        ||\n",
      "||    Paired-end reads are included.                                          ||\n",
      "||    Total alignments : 81554321                                             ||\n",
      "||    Successfully assigned alignments : 57301823 (70.3%)                     ||\n",
      "||    Running time : 2.23 minutes                                             ||\n",
      "||                                                                            ||\n",
      "|| Process BAM file LCL8664inLCL8664_RNA_Rep2.filtered.n-sorted.bam...        ||\n",
      "||    Paired-end reads are included.                                          ||\n",
      "||    Total alignments : 104514467                                            ||\n",
      "||    Successfully assigned alignments : 72016147 (68.9%)                     ||\n",
      "||    Running time : 2.50 minutes                                             ||\n",
      "||                                                                            ||\n",
      "|| Process BAM file LCL8664inLCL8664_RNA_Rep3.filtered.n-sorted.bam...        ||\n",
      "||    Paired-end reads are included.                                          ||\n",
      "||    Total alignments : 136748095                                            ||\n",
      "||    Successfully assigned alignments : 95024833 (69.5%)                     ||\n",
      "||    Running time : 4.77 minutes                                             ||\n",
      "||                                                                            ||\n",
      "|| Write the final count table.                                               ||\n",
      "|| Write the read assignment summary.                                         ||\n",
      "||                                                                            ||\n",
      "|| Summary of counting results can be found in file \"/data/hodges_lab/ATAC-S  ||\n",
      "|| TARR_B-cells/data/hansen-fong/activity-score-intermediates/Hansen-Fong_50  ||\n",
      "|| bp-tiling-bins_1.8.LCL8664inLCL8664.activity-counts.tsv.summary\"           ||\n",
      "||                                                                            ||\n",
      "\\\\============================================================================//\n",
      "\n"
     ]
    }
   ],
   "source": [
    "%%bash\n",
    "\n",
    "#Generate counts for the orignial bin files and then intersct with the shared accessibility and map filterd bins later. \n",
    "\n",
    "BIN='/data/hodges_lab/ATAC-STARR_B-cells/bin_human-evolution/tyler'\n",
    "DATA='/data/hodges_lab/ATAC-STARR_B-cells/data/hansen-fong'\n",
    "BAM='/data/hodges_lab/ATAC-STARR_B-cells/data/ATAC-STARR/bams/individual_replicates'\n",
    "\n",
    "#hg38\n",
    "for i in GM12878inGM12878 GM12878inLCL8664\n",
    "do\n",
    "featureCounts -p -O -B --minOverlap 1 -T 12 -F SAF -a ${DATA}/tiling_bins/Hansen-Fong_50bp-tiling-bins_1.8.3reps.hg38.saf \\\n",
    "    -o ${DATA}/activity-score-intermediates/Hansen-Fong_50bp-tiling-bins_1.8.${i}.activity-counts.tsv \\\n",
    "    ${BAM}/${i}_DNA_Rep1.filtered.n-sorted.bam \\\n",
    "    ${BAM}/${i}_DNA_Rep2.filtered.n-sorted.bam \\\n",
    "    ${BAM}/${i}_DNA_Rep3.filtered.n-sorted.bam \\\n",
    "    ${BAM}/${i}_RNA_Rep1.filtered.n-sorted.bam \\\n",
    "    ${BAM}/${i}_RNA_Rep2.filtered.n-sorted.bam \\\n",
    "    ${BAM}/${i}_RNA_Rep3.filtered.n-sorted.bam \n",
    "done \n",
    "\n",
    "#rheMac10\n",
    "for i in LCL8664inGM12878 LCL8664inLCL8664\n",
    "do\n",
    "featureCounts -p -O -B --minOverlap 1 -T 12 -F SAF -a ${DATA}/tiling_bins/Hansen-Fong_50bp-tiling-bins_1.8.3reps.rheMac10.saf \\\n",
    "    -o ${DATA}/activity-score-intermediates/Hansen-Fong_50bp-tiling-bins_1.8.${i}.activity-counts.tsv \\\n",
    "    ${BAM}/${i}_DNA_Rep1.filtered.n-sorted.bam \\\n",
    "    ${BAM}/${i}_DNA_Rep2.filtered.n-sorted.bam \\\n",
    "    ${BAM}/${i}_DNA_Rep3.filtered.n-sorted.bam \\\n",
    "    ${BAM}/${i}_RNA_Rep1.filtered.n-sorted.bam \\\n",
    "    ${BAM}/${i}_RNA_Rep2.filtered.n-sorted.bam \\\n",
    "    ${BAM}/${i}_RNA_Rep3.filtered.n-sorted.bam\n",
    "done "
   ]
  },
  {
   "cell_type": "markdown",
   "id": "a1a7124a",
   "metadata": {},
   "source": [
    "### Intersect counts with filtered/shared bins"
   ]
  },
  {
   "cell_type": "code",
   "execution_count": 9,
   "id": "9a749d41",
   "metadata": {
    "ExecuteTime": {
     "end_time": "2022-03-24T16:15:28.321954Z",
     "start_time": "2022-03-24T16:15:27.275Z"
    },
    "scrolled": true
   },
   "outputs": [
    {
     "name": "stderr",
     "output_type": "stream",
     "text": [
      "\u001b[1mRows: \u001b[22m\u001b[34m2028304\u001b[39m \u001b[1mColumns: \u001b[22m\u001b[34m4\u001b[39m\n",
      "\n",
      "\u001b[36m──\u001b[39m \u001b[1mColumn specification\u001b[22m \u001b[36m────────────────────────────────────────────────────────\u001b[39m\n",
      "\u001b[1mDelimiter:\u001b[22m \"\\t\"\n",
      "\u001b[31mchr\u001b[39m (2): chr, Bin_ID\n",
      "\u001b[32mdbl\u001b[39m (2): start, end\n",
      "\n",
      "\n",
      "\u001b[36mℹ\u001b[39m Use `spec()` to retrieve the full column specification for this data.\n",
      "\u001b[36mℹ\u001b[39m Specify the column types or set `show_col_types = FALSE` to quiet this message.\n",
      "\n"
     ]
    }
   ],
   "source": [
    "library(tidyverse)\n",
    "\n",
    "dir <- '/data/hodges_lab/ATAC-STARR_B-cells/data/hansen-fong/ATAC-STARR_bins/3_diff-acc-filtered_bins/'\n",
    "\n",
    "#read in filtered and shared bins\n",
    "filtered_bins <- read_tsv(paste0(dir,\"50bp-tiling-bins.map-filt.shared_by-intersect.hg38.bed\"), \n",
    "                         col_names = c(\"chr\", \"start\", \"end\", \"Bin_ID\"))"
   ]
  },
  {
   "cell_type": "code",
   "execution_count": 2,
   "id": "e1f49734",
   "metadata": {
    "scrolled": false
   },
   "outputs": [],
   "source": [
    "#read in GG counts, inner_join with filtered bins, remove zero-count bints and convert to matrix. \n",
    "GG <- read_tsv(paste0(dir,\"/activity-score-intermediates/Hansen-Fong_50bp-tiling-bins_1.8.GM12878inGM12878.activity-counts.tsv\"),\n",
    "               col_names = c(\"Bin_ID\", \"Chr\", \"Start\", \"End\", \"Strand\", \"Length\", \"DNA1\", \"DNA2\", \"DNA3\", \"RNA1\", \"RNA2\", \"RNA3\"), \n",
    "               col_types = \"cciiciiiiiii\", skip = 2) %>% \n",
    "    inner_join(filtered_bins, by = \"Bin_ID\") %>% \n",
    "    dplyr::select(-Chr, -Start, -End, -Strand, -Length, -chr, -start, -end) %>% \n",
    "    column_to_rownames(var = \"Bin_ID\") %>% \n",
    "    filter_if(is.numeric, all_vars((.) != 0)) %>%\n",
    "    as.matrix()"
   ]
  },
  {
   "cell_type": "code",
   "execution_count": 3,
   "id": "4864c089",
   "metadata": {
    "scrolled": false
   },
   "outputs": [],
   "source": [
    "#read in GL counts, inner_join with filtered bins, remove zero-count bints and convert to matrix. \n",
    "GL <- read_tsv(paste0(dir,\"/activity-score-intermediates/Hansen-Fong_50bp-tiling-bins_1.8.GM12878inLCL8664.activity-counts.tsv\"),\n",
    "               col_names = c(\"Bin_ID\", \"Chr\", \"Start\", \"End\", \"Strand\", \"Length\", \"DNA1\", \"DNA2\", \"DNA3\", \"RNA1\", \"RNA2\", \"RNA3\"), \n",
    "               col_types = \"cciiciiiiiii\", skip = 2) %>% \n",
    "    inner_join(filtered_bins, by = \"Bin_ID\") %>% \n",
    "    dplyr::select(-Chr, -Start, -End, -Strand, -Length, -chr, -start, -end) %>% \n",
    "    column_to_rownames(var = \"Bin_ID\") %>% \n",
    "    filter_if(is.numeric, all_vars((.) != 0)) %>%\n",
    "    as.matrix()"
   ]
  },
  {
   "cell_type": "code",
   "execution_count": 4,
   "id": "8b19a55b",
   "metadata": {
    "scrolled": false
   },
   "outputs": [],
   "source": [
    "#read in LG counts, inner_join with filtered bins, remove zero-count bints and convert to matrix. \n",
    "LG <- read_tsv(paste0(dir,\"/activity-score-intermediates/Hansen-Fong_50bp-tiling-bins_1.8.LCL8664inGM12878.activity-counts.tsv\"),\n",
    "               col_names = c(\"Bin_ID\", \"Chr\", \"Start\", \"End\", \"Strand\", \"Length\", \"DNA1\", \"DNA2\", \"DNA3\", \"RNA1\", \"RNA2\", \"RNA3\"), \n",
    "               col_types = \"cciiciiiiiii\", skip = 2) %>% \n",
    "    inner_join(filtered_bins, by = \"Bin_ID\") %>% \n",
    "    dplyr::select(-Chr, -Start, -End, -Strand, -Length, -chr, -start, -end) %>% \n",
    "    column_to_rownames(var = \"Bin_ID\") %>% \n",
    "    filter_if(is.numeric, all_vars((.) != 0)) %>%\n",
    "    as.matrix()"
   ]
  },
  {
   "cell_type": "code",
   "execution_count": 5,
   "id": "8b969910",
   "metadata": {
    "scrolled": false
   },
   "outputs": [],
   "source": [
    "#read in LL counts, inner_join with filtered bins, remove zero-count bints and convert to matrix. \n",
    "LL <- read_tsv(paste0(dir,\"/activity-score-intermediates/Hansen-Fong_50bp-tiling-bins_1.8.LCL8664inLCL8664.activity-counts.tsv\"),\n",
    "               col_names = c(\"Bin_ID\", \"Chr\", \"Start\", \"End\", \"Strand\", \"Length\", \"DNA1\", \"DNA2\", \"DNA3\", \"RNA1\", \"RNA2\", \"RNA3\"), \n",
    "               col_types = \"cciiciiiiiii\", skip = 2) %>% \n",
    "    inner_join(filtered_bins, by = \"Bin_ID\") %>% \n",
    "    dplyr::select(-Chr, -Start, -End, -Strand, -Length, -chr, -start, -end) %>% \n",
    "    column_to_rownames(var = \"Bin_ID\") %>% \n",
    "    filter_if(is.numeric, all_vars((.) != 0)) %>%\n",
    "    as.matrix()"
   ]
  },
  {
   "cell_type": "code",
   "execution_count": 6,
   "id": "2f6083f9",
   "metadata": {
    "scrolled": false
   },
   "outputs": [
    {
     "data": {
      "text/html": [
       "1957485"
      ],
      "text/latex": [
       "1957485"
      ],
      "text/markdown": [
       "1957485"
      ],
      "text/plain": [
       "[1] 1957485"
      ]
     },
     "metadata": {},
     "output_type": "display_data"
    },
    {
     "data": {
      "text/html": [
       "2012836"
      ],
      "text/latex": [
       "2012836"
      ],
      "text/markdown": [
       "2012836"
      ],
      "text/plain": [
       "[1] 2012836"
      ]
     },
     "metadata": {},
     "output_type": "display_data"
    },
    {
     "data": {
      "text/html": [
       "2003742"
      ],
      "text/latex": [
       "2003742"
      ],
      "text/markdown": [
       "2003742"
      ],
      "text/plain": [
       "[1] 2003742"
      ]
     },
     "metadata": {},
     "output_type": "display_data"
    },
    {
     "data": {
      "text/html": [
       "2019529"
      ],
      "text/latex": [
       "2019529"
      ],
      "text/markdown": [
       "2019529"
      ],
      "text/plain": [
       "[1] 2019529"
      ]
     },
     "metadata": {},
     "output_type": "display_data"
    }
   ],
   "source": [
    "#check bin count. They differ due to 0 value. \n",
    "nrow(GG)\n",
    "nrow(GL)\n",
    "nrow(LG)\n",
    "nrow(LL)"
   ]
  },
  {
   "cell_type": "markdown",
   "id": "16cf1a5c",
   "metadata": {},
   "source": [
    "### Score Bins for Activity with DESeq2"
   ]
  },
  {
   "cell_type": "code",
   "execution_count": 7,
   "id": "dcd06afd",
   "metadata": {
    "scrolled": true
   },
   "outputs": [
    {
     "name": "stderr",
     "output_type": "stream",
     "text": [
      "Loading required package: S4Vectors\n",
      "\n",
      "Loading required package: stats4\n",
      "\n",
      "Loading required package: BiocGenerics\n",
      "\n",
      "Loading required package: parallel\n",
      "\n",
      "\n",
      "Attaching package: ‘BiocGenerics’\n",
      "\n",
      "\n",
      "The following objects are masked from ‘package:parallel’:\n",
      "\n",
      "    clusterApply, clusterApplyLB, clusterCall, clusterEvalQ,\n",
      "    clusterExport, clusterMap, parApply, parCapply, parLapply,\n",
      "    parLapplyLB, parRapply, parSapply, parSapplyLB\n",
      "\n",
      "\n",
      "The following objects are masked from ‘package:dplyr’:\n",
      "\n",
      "    combine, intersect, setdiff, union\n",
      "\n",
      "\n",
      "The following objects are masked from ‘package:stats’:\n",
      "\n",
      "    IQR, mad, sd, var, xtabs\n",
      "\n",
      "\n",
      "The following objects are masked from ‘package:base’:\n",
      "\n",
      "    anyDuplicated, append, as.data.frame, basename, cbind, colnames,\n",
      "    dirname, do.call, duplicated, eval, evalq, Filter, Find, get, grep,\n",
      "    grepl, intersect, is.unsorted, lapply, Map, mapply, match, mget,\n",
      "    order, paste, pmax, pmax.int, pmin, pmin.int, Position, rank,\n",
      "    rbind, Reduce, rownames, sapply, setdiff, sort, table, tapply,\n",
      "    union, unique, unsplit, which.max, which.min\n",
      "\n",
      "\n",
      "\n",
      "Attaching package: ‘S4Vectors’\n",
      "\n",
      "\n",
      "The following objects are masked from ‘package:dplyr’:\n",
      "\n",
      "    first, rename\n",
      "\n",
      "\n",
      "The following object is masked from ‘package:tidyr’:\n",
      "\n",
      "    expand\n",
      "\n",
      "\n",
      "The following objects are masked from ‘package:base’:\n",
      "\n",
      "    expand.grid, I, unname\n",
      "\n",
      "\n",
      "Loading required package: IRanges\n",
      "\n",
      "\n",
      "Attaching package: ‘IRanges’\n",
      "\n",
      "\n",
      "The following objects are masked from ‘package:dplyr’:\n",
      "\n",
      "    collapse, desc, slice\n",
      "\n",
      "\n",
      "The following object is masked from ‘package:purrr’:\n",
      "\n",
      "    reduce\n",
      "\n",
      "\n",
      "Loading required package: GenomicRanges\n",
      "\n",
      "Loading required package: GenomeInfoDb\n",
      "\n",
      "Loading required package: SummarizedExperiment\n",
      "\n",
      "Loading required package: MatrixGenerics\n",
      "\n",
      "Loading required package: matrixStats\n",
      "\n",
      "\n",
      "Attaching package: ‘matrixStats’\n",
      "\n",
      "\n",
      "The following object is masked from ‘package:dplyr’:\n",
      "\n",
      "    count\n",
      "\n",
      "\n",
      "\n",
      "Attaching package: ‘MatrixGenerics’\n",
      "\n",
      "\n",
      "The following objects are masked from ‘package:matrixStats’:\n",
      "\n",
      "    colAlls, colAnyNAs, colAnys, colAvgsPerRowSet, colCollapse,\n",
      "    colCounts, colCummaxs, colCummins, colCumprods, colCumsums,\n",
      "    colDiffs, colIQRDiffs, colIQRs, colLogSumExps, colMadDiffs,\n",
      "    colMads, colMaxs, colMeans2, colMedians, colMins, colOrderStats,\n",
      "    colProds, colQuantiles, colRanges, colRanks, colSdDiffs, colSds,\n",
      "    colSums2, colTabulates, colVarDiffs, colVars, colWeightedMads,\n",
      "    colWeightedMeans, colWeightedMedians, colWeightedSds,\n",
      "    colWeightedVars, rowAlls, rowAnyNAs, rowAnys, rowAvgsPerColSet,\n",
      "    rowCollapse, rowCounts, rowCummaxs, rowCummins, rowCumprods,\n",
      "    rowCumsums, rowDiffs, rowIQRDiffs, rowIQRs, rowLogSumExps,\n",
      "    rowMadDiffs, rowMads, rowMaxs, rowMeans2, rowMedians, rowMins,\n",
      "    rowOrderStats, rowProds, rowQuantiles, rowRanges, rowRanks,\n",
      "    rowSdDiffs, rowSds, rowSums2, rowTabulates, rowVarDiffs, rowVars,\n",
      "    rowWeightedMads, rowWeightedMeans, rowWeightedMedians,\n",
      "    rowWeightedSds, rowWeightedVars\n",
      "\n",
      "\n",
      "Loading required package: Biobase\n",
      "\n",
      "Welcome to Bioconductor\n",
      "\n",
      "    Vignettes contain introductory material; view with\n",
      "    'browseVignettes()'. To cite Bioconductor, see\n",
      "    'citation(\"Biobase\")', and for packages 'citation(\"pkgname\")'.\n",
      "\n",
      "\n",
      "\n",
      "Attaching package: ‘Biobase’\n",
      "\n",
      "\n",
      "The following object is masked from ‘package:MatrixGenerics’:\n",
      "\n",
      "    rowMedians\n",
      "\n",
      "\n",
      "The following objects are masked from ‘package:matrixStats’:\n",
      "\n",
      "    anyMissing, rowMedians\n",
      "\n",
      "\n"
     ]
    }
   ],
   "source": [
    "#prep for DESeq2\n",
    "library(DESeq2)\n",
    "library(BiocParallel)\n",
    "\n",
    "register(MulticoreParam(12))\n",
    "\n",
    "# Prepare dataframe of sample info\n",
    "condition <- c(\"DNA\", \"DNA\", \"DNA\", \"RNA\", \"RNA\", \"RNA\")\n",
    "RNames <- c(\"DNA1\", \"DNA2\", \"DNA3\", \"RNA1\", \"RNA2\", \"RNA3\")\n",
    "coldata <- data.frame(row.names = RNames, condition)"
   ]
  },
  {
   "cell_type": "code",
   "execution_count": 8,
   "id": "77e77ec8",
   "metadata": {
    "scrolled": true
   },
   "outputs": [
    {
     "name": "stdout",
     "output_type": "stream",
     "text": [
      "[1] TRUE\n"
     ]
    },
    {
     "name": "stderr",
     "output_type": "stream",
     "text": [
      "Warning message in DESeqDataSet(se, design = design, ignoreRank):\n",
      "“some variables in design formula are characters, converting to factors”\n",
      "estimating size factors\n",
      "\n",
      "estimating dispersions\n",
      "\n",
      "gene-wise dispersion estimates: 12 workers\n",
      "\n",
      "mean-dispersion relationship\n",
      "\n",
      "final dispersion estimates, fitting model and testing: 12 workers\n",
      "\n"
     ]
    }
   ],
   "source": [
    "##GG - DESeq\n",
    "\n",
    "#Check that coldata matches cts. Output should read as \"TRUE\". \n",
    "print(all(rownames(coldata) == colnames(GG)))\n",
    "\n",
    "#Set up experimental design for DEseq2\n",
    "dds <- DESeqDataSetFromMatrix(countData = GG, colData = coldata, design = ~ condition)\n",
    "\n",
    "#differential expression analysis. Use local fit.  \n",
    "dds <- DESeq(dds, fitType=\"local\", parallel=TRUE, BPPARAM=MulticoreParam(12))\n",
    "\n",
    "#Extract results: RNA/DNA. \n",
    "res <- results(dds, name=\"condition_RNA_vs_DNA\", parallel=TRUE, BPPARAM=MulticoreParam(12))\n",
    "\n",
    "#save dds and res objects for extracting correlation and other all bin data. \n",
    "save(dds, file = paste0(dir, \"/activity-score-intermediates/GG_dds.Rdata\"))\n",
    "save(res, file = paste0(dir, \"/activity-score-intermediates/GG_res.Rdata\"))"
   ]
  },
  {
   "cell_type": "code",
   "execution_count": 9,
   "id": "6d964fec",
   "metadata": {
    "scrolled": false
   },
   "outputs": [],
   "source": [
    "## GG - assign padj and l2fc values to analyzed bins\n",
    "\n",
    "#Convert to df and add Bin_ID column from rownames. \n",
    "res_df <- as.data.frame(res) %>% rownames_to_column(var = \"Bin_ID\")\n",
    "\n",
    "#add positional information using left_join with filtered_bins (is already 0-based coordinates) and format to 3+bed file. \n",
    "bed <- left_join(res_df, filtered_bins, by = \"Bin_ID\") %>% \n",
    "    dplyr::select(chr, start, end, Bin_ID, log2FoldChange, padj)\n",
    "\n",
    "#Write bed file.\n",
    "write_tsv(bed, paste0(dir,\"/scored_bins/GG_activity_1.8.hg38.bed\"), col_names = FALSE)"
   ]
  },
  {
   "cell_type": "code",
   "execution_count": 10,
   "id": "a327746f",
   "metadata": {
    "scrolled": true
   },
   "outputs": [
    {
     "name": "stdout",
     "output_type": "stream",
     "text": [
      "[1] TRUE\n"
     ]
    },
    {
     "name": "stderr",
     "output_type": "stream",
     "text": [
      "Warning message in DESeqDataSet(se, design = design, ignoreRank):\n",
      "“some variables in design formula are characters, converting to factors”\n",
      "estimating size factors\n",
      "\n",
      "estimating dispersions\n",
      "\n",
      "gene-wise dispersion estimates: 12 workers\n",
      "\n",
      "mean-dispersion relationship\n",
      "\n",
      "final dispersion estimates, fitting model and testing: 12 workers\n",
      "\n"
     ]
    }
   ],
   "source": [
    "##LL - DESeq\n",
    "\n",
    "#Check that coldata matches cts. Output should read as \"TRUE\". \n",
    "print(all(rownames(coldata) == colnames(LL)))\n",
    "\n",
    "#Set up experimental design for DEseq2\n",
    "dds <- DESeqDataSetFromMatrix(countData = LL, colData = coldata, design = ~ condition)\n",
    "\n",
    "#differential expression analysis. Use local fit.  \n",
    "dds <- DESeq(dds, fitType=\"local\", parallel=TRUE, BPPARAM=MulticoreParam(12))\n",
    "\n",
    "#Extract results: RNA/DNA. \n",
    "res <- results(dds, name=\"condition_RNA_vs_DNA\", parallel=TRUE, BPPARAM=MulticoreParam(12))\n",
    "\n",
    "#save dds and res objects for extracting correlation and other all bin data. \n",
    "save(dds, file = paste0(dir, \"/activity-score-intermediates/LL_dds.Rdata\"))\n",
    "save(res, file = paste0(dir, \"/activity-score-intermediates/LL_res.Rdata\"))"
   ]
  },
  {
   "cell_type": "code",
   "execution_count": 11,
   "id": "de3e3539",
   "metadata": {
    "scrolled": false
   },
   "outputs": [],
   "source": [
    "## LL - assign padj and l2fc values to analyzed bins\n",
    "\n",
    "#Convert to df and add Bin_ID column from rownames. \n",
    "res_df <- as.data.frame(res) %>% rownames_to_column(var = \"Bin_ID\")\n",
    "\n",
    "#add positional information using left_join with filtered_bins (is already 0-based coordinates) and format to 3+bed file. \n",
    "bed <- left_join(res_df, filtered_bins, by = \"Bin_ID\") %>% \n",
    "    dplyr::select(chr, start, end, Bin_ID, log2FoldChange, padj)\n",
    "\n",
    "#Write bed file.\n",
    "write_tsv(bed, paste0(dir,\"/scored_bins/LL_activity_1.8.hg38.bed\"), col_names = FALSE)"
   ]
  },
  {
   "cell_type": "code",
   "execution_count": 12,
   "id": "0930c8c8",
   "metadata": {
    "scrolled": true
   },
   "outputs": [
    {
     "name": "stdout",
     "output_type": "stream",
     "text": [
      "[1] TRUE\n"
     ]
    },
    {
     "name": "stderr",
     "output_type": "stream",
     "text": [
      "Warning message in DESeqDataSet(se, design = design, ignoreRank):\n",
      "“some variables in design formula are characters, converting to factors”\n",
      "estimating size factors\n",
      "\n",
      "estimating dispersions\n",
      "\n",
      "gene-wise dispersion estimates: 12 workers\n",
      "\n",
      "mean-dispersion relationship\n",
      "\n",
      "final dispersion estimates, fitting model and testing: 12 workers\n",
      "\n"
     ]
    }
   ],
   "source": [
    "##LG - DESeq\n",
    "\n",
    "#Check that coldata matches cts. Output should read as \"TRUE\". \n",
    "print(all(rownames(coldata) == colnames(LG)))\n",
    "\n",
    "#Set up experimental design for DEseq2\n",
    "dds <- DESeqDataSetFromMatrix(countData = LG, colData = coldata, design = ~ condition)\n",
    "\n",
    "#differential expression analysis. Use local fit.  \n",
    "dds <- DESeq(dds, fitType=\"local\", parallel=TRUE, BPPARAM=MulticoreParam(12))\n",
    "\n",
    "#Extract results: RNA/DNA. \n",
    "res <- results(dds, name=\"condition_RNA_vs_DNA\", parallel=TRUE, BPPARAM=MulticoreParam(12))\n",
    "\n",
    "#save dds and res objects for extracting correlation and other all bin data. \n",
    "save(dds, file = paste0(dir, \"/activity-score-intermediates/LG_dds.Rdata\"))\n",
    "save(res, file = paste0(dir, \"/activity-score-intermediates/LG_res.Rdata\"))"
   ]
  },
  {
   "cell_type": "code",
   "execution_count": 13,
   "id": "3ae6edda",
   "metadata": {
    "scrolled": false
   },
   "outputs": [],
   "source": [
    "## LG - assign padj and l2fc values to analyzed bins\n",
    "\n",
    "#Convert to df and add Bin_ID column from rownames. \n",
    "res_df <- as.data.frame(res) %>% rownames_to_column(var = \"Bin_ID\")\n",
    "\n",
    "#add positional information using left_join with filtered_bins (is already 0-based coordinates) and format to 3+bed file. \n",
    "bed <- left_join(res_df, filtered_bins, by = \"Bin_ID\") %>% \n",
    "    dplyr::select(chr, start, end, Bin_ID, log2FoldChange, padj)\n",
    "\n",
    "#Write bed file.\n",
    "write_tsv(bed, paste0(dir,\"/scored_bins/LG_activity_1.8.hg38.bed\"), col_names = FALSE)"
   ]
  },
  {
   "cell_type": "code",
   "execution_count": 14,
   "id": "bfc1e3b0",
   "metadata": {
    "scrolled": false
   },
   "outputs": [
    {
     "name": "stdout",
     "output_type": "stream",
     "text": [
      "[1] TRUE\n"
     ]
    },
    {
     "name": "stderr",
     "output_type": "stream",
     "text": [
      "Warning message in DESeqDataSet(se, design = design, ignoreRank):\n",
      "“some variables in design formula are characters, converting to factors”\n",
      "estimating size factors\n",
      "\n",
      "estimating dispersions\n",
      "\n",
      "gene-wise dispersion estimates: 12 workers\n",
      "\n",
      "mean-dispersion relationship\n",
      "\n",
      "final dispersion estimates, fitting model and testing: 12 workers\n",
      "\n"
     ]
    }
   ],
   "source": [
    "##GL - DESeq\n",
    "\n",
    "#Check that coldata matches cts. Output should read as \"TRUE\". \n",
    "print(all(rownames(coldata) == colnames(GL)))\n",
    "\n",
    "#Set up experimental design for DEseq2\n",
    "dds <- DESeqDataSetFromMatrix(countData = GL, colData = coldata, design = ~ condition)\n",
    "\n",
    "#differential expression analysis. Use local fit.  \n",
    "dds <- DESeq(dds, fitType=\"local\", parallel=TRUE, BPPARAM=MulticoreParam(12))\n",
    "\n",
    "#Extract results: RNA/DNA. \n",
    "res <- results(dds, name=\"condition_RNA_vs_DNA\", parallel=TRUE, BPPARAM=MulticoreParam(12))\n",
    "\n",
    "#save dds and res objects for extracting correlation and other all bin data. \n",
    "save(dds, file = paste0(dir, \"/activity-score-intermediates/GL_dds.Rdata\"))\n",
    "save(res, file = paste0(dir, \"/activity-score-intermediates/GL_res.Rdata\"))"
   ]
  },
  {
   "cell_type": "code",
   "execution_count": 15,
   "id": "22924bf7",
   "metadata": {
    "scrolled": false
   },
   "outputs": [],
   "source": [
    "## GL - assign padj and l2fc values to analyzed bins\n",
    "\n",
    "#Convert to df and add Bin_ID column from rownames. \n",
    "res_df <- as.data.frame(res) %>% rownames_to_column(var = \"Bin_ID\")\n",
    "\n",
    "#add positional information using left_join with filtered_bins (is already 0-based coordinates) and format to 3+bed file. \n",
    "bed <- left_join(res_df, filtered_bins, by = \"Bin_ID\") %>% \n",
    "    dplyr::select(chr, start, end, Bin_ID, log2FoldChange, padj)\n",
    "\n",
    "#Write bed file.\n",
    "write_tsv(bed, paste0(dir,\"/scored_bins/GL_activity_1.8.hg38.bed\"), col_names = FALSE)"
   ]
  },
  {
   "cell_type": "markdown",
   "id": "14d33ab7",
   "metadata": {
    "heading_collapsed": true
   },
   "source": [
    "### Correlation between replicates\n",
    "\n",
    "Do this using deeptools rather than with the method I did in the paper"
   ]
  },
  {
   "cell_type": "code",
   "execution_count": 14,
   "id": "17d425a9",
   "metadata": {
    "hidden": true,
    "scrolled": true
   },
   "outputs": [
    {
     "name": "stdout",
     "output_type": "stream",
     "text": [
      "#!/bin/bash\n",
      "#SBATCH --time=24:00:00\n",
      "#SBATCH --mem=64G\n",
      "#SBATCH --cpus-per-task=8\n",
      "#SBATCH --mail-type=ALL\n",
      "#SBATCH --mail-user=tyler.j.hansen@vanderbilt.edu\n",
      "\n",
      "BAM_DIR='/data/hodges_lab/ATAC-STARR_B-cells/data/ATAC-STARR/bams/individual_replicates'\n",
      "RES_DIR='/data/hodges_lab/ATAC-STARR_B-cells/results/results_human-evolution/replicate_correlation'\n",
      "\n",
      "for i in GM12878inGM12878 GM12878inLCL8664 LCL8664inGM12878 LCL8664inLCL8664\n",
      "do\n",
      "\tmultiBamSummary bins -p 8 --bamfiles ${BAM_DIR}/${i}_DNA_Rep{1..3}.filtered.pos-sorted.bam -e -o ${RES_DIR}/${i}-DNA_correlation_1kb_bins.npz --binSize 1000\n",
      "\n",
      "\tmultiBamSummary bins -p 8 --bamfiles ${BAM_DIR}/${i}_RNA_Rep{1..3}.filtered.pos-sorted.bam -e -o ${RES_DIR}/${i}-RNA_correlation_1kb_bins.npz --binSize 1000\n",
      "done\n",
      "Submitted batch job 36042761\n"
     ]
    }
   ],
   "source": [
    "%%bash\n",
    "cat correlation_deeptools.slrm\n",
    "sbatch correlation_deeptools.slrm"
   ]
  },
  {
   "cell_type": "code",
   "execution_count": 11,
   "id": "f5b43036",
   "metadata": {
    "hidden": true,
    "scrolled": false
   },
   "outputs": [
    {
     "name": "stderr",
     "output_type": "stream",
     "text": [
      "\n",
      "Outliers were detected in the data. Consider using the --removeOutliers parameter to avoid a bias in the pearson correlation.\n",
      "\n",
      "Outliers were detected in the data. Consider using the --removeOutliers parameter to avoid a bias in the pearson correlation.\n",
      "\n",
      "Outliers were detected in the data. Consider using the --removeOutliers parameter to avoid a bias in the pearson correlation.\n",
      "\n",
      "Outliers were detected in the data. Consider using the --removeOutliers parameter to avoid a bias in the pearson correlation.\n"
     ]
    }
   ],
   "source": [
    "%%bash\n",
    "#plot DNA files vs each other for each sample\n",
    "RES_DIR='/data/hodges_lab/ATAC-STARR_B-cells/results/results_human-evolution/replicate_correlation'\n",
    "\n",
    "for i in GM12878inGM12878 GM12878inLCL8664 LCL8664inGM12878 LCL8664inLCL8664\n",
    "do\n",
    "    plotCorrelation -in ${RES_DIR}/${i}-DNA_correlation_1kb_bins.npz \\\n",
    "    --corMethod pearson --skipZeros \\\n",
    "    --plotTitle \"${i}\" \\\n",
    "    --whatToPlot scatterplot --plotFile ${RES_DIR}/${i}_DNA_PearsonCorr.pdf \\\n",
    "    --labels DNA1 DNA2 DNA3     \n",
    "done"
   ]
  },
  {
   "cell_type": "code",
   "execution_count": 12,
   "id": "9696eedb",
   "metadata": {
    "hidden": true,
    "scrolled": false
   },
   "outputs": [
    {
     "name": "stderr",
     "output_type": "stream",
     "text": [
      "\n",
      "Outliers were detected in the data. Consider using the --removeOutliers parameter to avoid a bias in the pearson correlation.\n",
      "\n",
      "Outliers were detected in the data. Consider using the --removeOutliers parameter to avoid a bias in the pearson correlation.\n",
      "\n",
      "Outliers were detected in the data. Consider using the --removeOutliers parameter to avoid a bias in the pearson correlation.\n",
      "\n",
      "Outliers were detected in the data. Consider using the --removeOutliers parameter to avoid a bias in the pearson correlation.\n"
     ]
    }
   ],
   "source": [
    "%%bash\n",
    "#plot RNA files vs each other for each sample\n",
    "RES_DIR='/data/hodges_lab/ATAC-STARR_B-cells/results/results_human-evolution/replicate_correlation'\n",
    "\n",
    "for i in GM12878inGM12878 GM12878inLCL8664 LCL8664inGM12878 LCL8664inLCL8664\n",
    "do\n",
    "    plotCorrelation -in ${RES_DIR}/${i}-RNA_correlation_1kb_bins.npz \\\n",
    "    --corMethod pearson --skipZeros \\\n",
    "    --plotTitle \"${i}\" \\\n",
    "    --whatToPlot scatterplot --plotFile ${RES_DIR}/${i}_RNA_PearsonCorr.pdf \\\n",
    "    --labels RNA1 RNA2 RNA3     \n",
    "done"
   ]
  },
  {
   "cell_type": "markdown",
   "id": "d4be4271",
   "metadata": {},
   "source": [
    "### Threshold bins by padj rank to get about 10,000 active regions in all 4 conditions"
   ]
  },
  {
   "cell_type": "code",
   "execution_count": 1,
   "id": "4c4f2002",
   "metadata": {
    "ExecuteTime": {
     "end_time": "2022-06-28T18:39:38.943800Z",
     "start_time": "2022-06-28T18:39:26.800Z"
    },
    "scrolled": true
   },
   "outputs": [
    {
     "name": "stderr",
     "output_type": "stream",
     "text": [
      "── \u001b[1mAttaching packages\u001b[22m ─────────────────────────────────────── tidyverse 1.3.1 ──\n",
      "\n",
      "\u001b[32m✔\u001b[39m \u001b[34mggplot2\u001b[39m 3.3.5     \u001b[32m✔\u001b[39m \u001b[34mpurrr  \u001b[39m 0.3.4\n",
      "\u001b[32m✔\u001b[39m \u001b[34mtibble \u001b[39m 3.1.6     \u001b[32m✔\u001b[39m \u001b[34mdplyr  \u001b[39m 1.0.7\n",
      "\u001b[32m✔\u001b[39m \u001b[34mtidyr  \u001b[39m 1.2.0     \u001b[32m✔\u001b[39m \u001b[34mstringr\u001b[39m 1.4.0\n",
      "\u001b[32m✔\u001b[39m \u001b[34mreadr  \u001b[39m 2.1.2     \u001b[32m✔\u001b[39m \u001b[34mforcats\u001b[39m 0.5.1\n",
      "\n",
      "── \u001b[1mConflicts\u001b[22m ────────────────────────────────────────── tidyverse_conflicts() ──\n",
      "\u001b[31m✖\u001b[39m \u001b[34mdplyr\u001b[39m::\u001b[32mfilter()\u001b[39m  masks \u001b[34mstats\u001b[39m::filter()\n",
      "\u001b[31m✖\u001b[39m \u001b[34mpurrr\u001b[39m::\u001b[32mflatten()\u001b[39m masks \u001b[34mjsonlite\u001b[39m::flatten()\n",
      "\u001b[31m✖\u001b[39m \u001b[34mdplyr\u001b[39m::\u001b[32mlag()\u001b[39m     masks \u001b[34mstats\u001b[39m::lag()\n",
      "\n",
      "\u001b[1mRows: \u001b[22m\u001b[34m1957485\u001b[39m \u001b[1mColumns: \u001b[22m\u001b[34m6\u001b[39m\n",
      "\n",
      "\u001b[36m──\u001b[39m \u001b[1mColumn specification\u001b[22m \u001b[36m────────────────────────────────────────────────────────\u001b[39m\n",
      "\u001b[1mDelimiter:\u001b[22m \"\\t\"\n",
      "\u001b[31mchr\u001b[39m (2): chr, Bin_ID\n",
      "\u001b[32mdbl\u001b[39m (4): start, end, log2FoldChange, padj\n",
      "\n",
      "\n",
      "\u001b[36mℹ\u001b[39m Use `spec()` to retrieve the full column specification for this data.\n",
      "\u001b[36mℹ\u001b[39m Specify the column types or set `show_col_types = FALSE` to quiet this message.\n",
      "\n",
      "\u001b[1mRows: \u001b[22m\u001b[34m2012836\u001b[39m \u001b[1mColumns: \u001b[22m\u001b[34m6\u001b[39m\n",
      "\n",
      "\u001b[36m──\u001b[39m \u001b[1mColumn specification\u001b[22m \u001b[36m────────────────────────────────────────────────────────\u001b[39m\n",
      "\u001b[1mDelimiter:\u001b[22m \"\\t\"\n",
      "\u001b[31mchr\u001b[39m (2): chr, Bin_ID\n",
      "\u001b[32mdbl\u001b[39m (4): start, end, log2FoldChange, padj\n",
      "\n",
      "\n",
      "\u001b[36mℹ\u001b[39m Use `spec()` to retrieve the full column specification for this data.\n",
      "\u001b[36mℹ\u001b[39m Specify the column types or set `show_col_types = FALSE` to quiet this message.\n",
      "\n",
      "\u001b[1mRows: \u001b[22m\u001b[34m2003742\u001b[39m \u001b[1mColumns: \u001b[22m\u001b[34m6\u001b[39m\n",
      "\n",
      "\u001b[36m──\u001b[39m \u001b[1mColumn specification\u001b[22m \u001b[36m────────────────────────────────────────────────────────\u001b[39m\n",
      "\u001b[1mDelimiter:\u001b[22m \"\\t\"\n",
      "\u001b[31mchr\u001b[39m (2): chr, Bin_ID\n",
      "\u001b[32mdbl\u001b[39m (4): start, end, log2FoldChange, padj\n",
      "\n",
      "\n",
      "\u001b[36mℹ\u001b[39m Use `spec()` to retrieve the full column specification for this data.\n",
      "\u001b[36mℹ\u001b[39m Specify the column types or set `show_col_types = FALSE` to quiet this message.\n",
      "\n",
      "\u001b[1mRows: \u001b[22m\u001b[34m2019529\u001b[39m \u001b[1mColumns: \u001b[22m\u001b[34m6\u001b[39m\n",
      "\n",
      "\u001b[36m──\u001b[39m \u001b[1mColumn specification\u001b[22m \u001b[36m────────────────────────────────────────────────────────\u001b[39m\n",
      "\u001b[1mDelimiter:\u001b[22m \"\\t\"\n",
      "\u001b[31mchr\u001b[39m (2): chr, Bin_ID\n",
      "\u001b[32mdbl\u001b[39m (4): start, end, log2FoldChange, padj\n",
      "\n",
      "\n",
      "\u001b[36mℹ\u001b[39m Use `spec()` to retrieve the full column specification for this data.\n",
      "\u001b[36mℹ\u001b[39m Specify the column types or set `show_col_types = FALSE` to quiet this message.\n",
      "\n"
     ]
    }
   ],
   "source": [
    "library(tidyverse)\n",
    "\n",
    "dir <- '/data/hodges_lab/ATAC-STARR_B-cells/data/hansen-fong/ATAC-STARR_bins/bin-analysis_input+output/activity_DESeq2_IO/'\n",
    "\n",
    "#read in activity scored bins. \n",
    "GG <- read_tsv(paste0(dir,\"GG_activity_1.8.hg38.bed\"), col_names = c(\"chr\", \"start\", \"end\", \"Bin_ID\", \"log2FoldChange\", \"padj\"))\n",
    "GL <- read_tsv(paste0(dir,\"GL_activity_1.8.hg38.bed\"), col_names = c(\"chr\", \"start\", \"end\", \"Bin_ID\", \"log2FoldChange\", \"padj\"))\n",
    "LG <- read_tsv(paste0(dir,\"LG_activity_1.8.hg38.bed\"), col_names = c(\"chr\", \"start\", \"end\", \"Bin_ID\", \"log2FoldChange\", \"padj\"))\n",
    "LL <- read_tsv(paste0(dir,\"LL_activity_1.8.hg38.bed\"), col_names = c(\"chr\", \"start\", \"end\", \"Bin_ID\", \"log2FoldChange\", \"padj\"))"
   ]
  },
  {
   "cell_type": "code",
   "execution_count": 2,
   "id": "47969bbc",
   "metadata": {
    "ExecuteTime": {
     "end_time": "2022-06-28T18:39:41.244801Z",
     "start_time": "2022-06-28T18:39:26.806Z"
    },
    "scrolled": false
   },
   "outputs": [],
   "source": [
    "GG_active <- filter(GG, log2FoldChange > 0) %>% slice_min(padj, n = 148200)\n",
    "LG_active <- filter(LG, log2FoldChange > 0) %>% slice_min(padj, n = 146880)\n",
    "GL_active <- filter(GL, log2FoldChange > 0) %>% slice_min(padj, n = 157210)\n",
    "LL_active <- filter(LL, log2FoldChange > 0) %>% slice_min(padj, n = 158750)"
   ]
  },
  {
   "cell_type": "code",
   "execution_count": 3,
   "id": "d4ba423f",
   "metadata": {
    "ExecuteTime": {
     "end_time": "2022-06-28T18:39:42.416923Z",
     "start_time": "2022-06-28T18:39:26.812Z"
    }
   },
   "outputs": [
    {
     "name": "stderr",
     "output_type": "stream",
     "text": [
      "Joining, by = c(\"chr\", \"start\", \"end\", \"Bin_ID\", \"log2FoldChange\", \"padj\")\n",
      "\n",
      "Joining, by = c(\"chr\", \"start\", \"end\", \"Bin_ID\", \"log2FoldChange\", \"padj\")\n",
      "\n",
      "Joining, by = c(\"chr\", \"start\", \"end\", \"Bin_ID\", \"log2FoldChange\", \"padj\")\n",
      "\n",
      "Joining, by = c(\"chr\", \"start\", \"end\", \"Bin_ID\", \"log2FoldChange\", \"padj\")\n",
      "\n"
     ]
    }
   ],
   "source": [
    "#write inactive bins also\n",
    "GG_inactive <- anti_join(GG, GG_active)\n",
    "LG_inactive <- anti_join(LG, LG_active)\n",
    "GL_inactive <- anti_join(GL, GL_active)\n",
    "LL_inactive <- anti_join(LL, LL_active)"
   ]
  },
  {
   "cell_type": "code",
   "execution_count": 3,
   "id": "0a6f8eb7",
   "metadata": {
    "ExecuteTime": {
     "end_time": "2022-04-20T17:18:32.406532Z",
     "start_time": "2022-04-20T17:18:13.748Z"
    },
    "scrolled": false
   },
   "outputs": [
    {
     "data": {
      "text/html": [
       "148200"
      ],
      "text/latex": [
       "148200"
      ],
      "text/markdown": [
       "148200"
      ],
      "text/plain": [
       "[1] 148200"
      ]
     },
     "metadata": {},
     "output_type": "display_data"
    },
    {
     "data": {
      "text/html": [
       "146880"
      ],
      "text/latex": [
       "146880"
      ],
      "text/markdown": [
       "146880"
      ],
      "text/plain": [
       "[1] 146880"
      ]
     },
     "metadata": {},
     "output_type": "display_data"
    },
    {
     "data": {
      "text/html": [
       "157210"
      ],
      "text/latex": [
       "157210"
      ],
      "text/markdown": [
       "157210"
      ],
      "text/plain": [
       "[1] 157210"
      ]
     },
     "metadata": {},
     "output_type": "display_data"
    },
    {
     "data": {
      "text/html": [
       "158750"
      ],
      "text/latex": [
       "158750"
      ],
      "text/markdown": [
       "158750"
      ],
      "text/plain": [
       "[1] 158750"
      ]
     },
     "metadata": {},
     "output_type": "display_data"
    }
   ],
   "source": [
    "#verify this worked\n",
    "nrow(GG_active)\n",
    "nrow(LG_active)\n",
    "nrow(GL_active)\n",
    "nrow(LL_active)"
   ]
  },
  {
   "cell_type": "code",
   "execution_count": 4,
   "id": "50357a73",
   "metadata": {
    "ExecuteTime": {
     "end_time": "2022-04-20T17:18:32.455129Z",
     "start_time": "2022-04-20T17:18:13.754Z"
    },
    "scrolled": false
   },
   "outputs": [
    {
     "data": {
      "text/html": [
       "0.0820461155644404"
      ],
      "text/latex": [
       "0.0820461155644404"
      ],
      "text/markdown": [
       "0.0820461155644404"
      ],
      "text/plain": [
       "[1] 0.08204612"
      ]
     },
     "metadata": {},
     "output_type": "display_data"
    },
    {
     "data": {
      "text/html": [
       "0.0635182384069065"
      ],
      "text/latex": [
       "0.0635182384069065"
      ],
      "text/markdown": [
       "0.0635182384069065"
      ],
      "text/plain": [
       "[1] 0.06351824"
      ]
     },
     "metadata": {},
     "output_type": "display_data"
    },
    {
     "data": {
      "text/html": [
       "0.109955505507553"
      ],
      "text/latex": [
       "0.109955505507553"
      ],
      "text/markdown": [
       "0.109955505507553"
      ],
      "text/plain": [
       "[1] 0.1099555"
      ]
     },
     "metadata": {},
     "output_type": "display_data"
    },
    {
     "data": {
      "text/html": [
       "0.0256894241858457"
      ],
      "text/latex": [
       "0.0256894241858457"
      ],
      "text/markdown": [
       "0.0256894241858457"
      ],
      "text/plain": [
       "[1] 0.02568942"
      ]
     },
     "metadata": {},
     "output_type": "display_data"
    }
   ],
   "source": [
    "#what are the padj values for each case?\n",
    "max(GG_active$padj)\n",
    "max(GL_active$padj)\n",
    "max(LG_active$padj)\n",
    "max(LL_active$padj)"
   ]
  },
  {
   "cell_type": "code",
   "execution_count": 5,
   "id": "1ee59d3e",
   "metadata": {
    "ExecuteTime": {
     "end_time": "2022-04-20T17:18:32.865819Z",
     "start_time": "2022-04-20T17:18:13.758Z"
    }
   },
   "outputs": [],
   "source": [
    "#write out \n",
    "dir <- \"/data/hodges_lab/ATAC-STARR_B-cells/data/hansen-fong/ATAC-STARR_bins/4_activity-filtered_bins/top_10K_regions\"\n",
    "\n",
    "GG_active %>% select(chr, start, end) %>% write_tsv(paste0(dir, \"/GG_active.bins.bed\"), col_names = FALSE)\n",
    "GL_active %>% select(chr, start, end) %>% write_tsv(paste0(dir, \"/GL_active.bins.bed\"), col_names = FALSE)\n",
    "LG_active %>% select(chr, start, end) %>% write_tsv(paste0(dir, \"/LG_active.bins.bed\"), col_names = FALSE)\n",
    "LL_active %>% select(chr, start, end) %>% write_tsv(paste0(dir, \"/LL_active.bins.bed\"), col_names = FALSE)"
   ]
  },
  {
   "cell_type": "code",
   "execution_count": 4,
   "id": "617289e4",
   "metadata": {
    "ExecuteTime": {
     "end_time": "2022-06-28T18:40:08.374431Z",
     "start_time": "2022-06-28T18:40:06.611Z"
    }
   },
   "outputs": [],
   "source": [
    "#write out \n",
    "dir <- \"/data/hodges_lab/ATAC-STARR_B-cells/data/hansen-fong/ATAC-STARR_bins/4_activity-filtered_bins/top_10K_regions\"\n",
    "\n",
    "GG_inactive %>% select(chr, start, end) %>% write_tsv(paste0(dir, \"/GG_inactive.bins.bed\"), col_names = FALSE)\n",
    "GL_inactive %>% select(chr, start, end) %>% write_tsv(paste0(dir, \"/GL_inactive.bins.bed\"), col_names = FALSE)\n",
    "LG_inactive %>% select(chr, start, end) %>% write_tsv(paste0(dir, \"/LG_inactive.bins.bed\"), col_names = FALSE)\n",
    "LL_inactive %>% select(chr, start, end) %>% write_tsv(paste0(dir, \"/LL_inactive.bins.bed\"), col_names = FALSE)"
   ]
  },
  {
   "cell_type": "code",
   "execution_count": 1,
   "id": "d508b26c",
   "metadata": {
    "ExecuteTime": {
     "end_time": "2022-04-20T17:19:12.549112Z",
     "start_time": "2022-04-20T17:19:02.662689Z"
    }
   },
   "outputs": [
    {
     "name": "stdout",
     "output_type": "stream",
     "text": [
      "GG_active.bins.bed\n",
      "10006\n",
      "GL_active.bins.bed\n",
      "10009\n",
      "LG_active.bins.bed\n",
      "10004\n",
      "LL_active.bins.bed\n",
      "10001\n"
     ]
    }
   ],
   "source": [
    "#bash\n",
    "cd /data/hodges_lab/ATAC-STARR_B-cells/data/hansen-fong/ATAC-STARR_bins/4_activity-filtered_bins/top_10K_regions\n",
    "\n",
    "for i in *\n",
    "do\n",
    "    echo $i\n",
    "    sort -k1,1 -k2,2n $i | bedtools merge -c 1 -o count -i - | awk '{OFS=FS=\"\\t\"}{if ($4>=5) print}' - | wc -l\n",
    "done"
   ]
  },
  {
   "cell_type": "code",
   "execution_count": 1,
   "id": "fd5631cd",
   "metadata": {
    "ExecuteTime": {
     "end_time": "2022-04-20T18:14:26.881054Z",
     "start_time": "2022-04-20T18:14:16.231410Z"
    }
   },
   "outputs": [],
   "source": [
    "#write:\n",
    "cd /data/hodges_lab/ATAC-STARR_B-cells/data/hansen-fong/ATAC-STARR_bins/4_activity-filtered_bins/top_10K_regions\n",
    "\n",
    "sort -k1,1 -k2,2n GG_active.bins.bed | bedtools merge -c 1 -o count -i - | \\\n",
    "    awk '{OFS=FS=\"\\t\"}{if ($4>=5) print $1,$2,$3}' - > GG_active.regions.bed\n",
    "    \n",
    "sort -k1,1 -k2,2n GL_active.bins.bed | bedtools merge -c 1 -o count -i - | \\\n",
    "    awk '{OFS=FS=\"\\t\"}{if ($4>=5) print $1,$2,$3}' - > GL_active.regions.bed\n",
    "    \n",
    "sort -k1,1 -k2,2n LG_active.bins.bed | bedtools merge -c 1 -o count -i - | \\\n",
    "    awk '{OFS=FS=\"\\t\"}{if ($4>=5) print $1,$2,$3}' - > LG_active.regions.bed\n",
    "    \n",
    "sort -k1,1 -k2,2n LL_active.bins.bed | bedtools merge -c 1 -o count -i - | \\\n",
    "    awk '{OFS=FS=\"\\t\"}{if ($4>=5) print $1,$2,$3}' - > LL_active.regions.bed"
   ]
  },
  {
   "cell_type": "markdown",
   "id": "66a7ff49",
   "metadata": {},
   "source": [
    "### Create ACTIVITY section to config"
   ]
  },
  {
   "cell_type": "code",
   "execution_count": 1,
   "id": "994fd17a",
   "metadata": {
    "ExecuteTime": {
     "end_time": "2022-04-20T17:25:24.565024Z",
     "start_time": "2022-04-20T17:25:25.031Z"
    }
   },
   "outputs": [],
   "source": [
    "#function\n",
    "append_section_to_ini <- function(ini_file, new_section) {\n",
    "    if (is.list(new_section)) {\n",
    "        ini <- ini::read.ini(ini_file)\n",
    "        ini <- c(ini,new_section)\n",
    "        ini::write.ini(x=ini, filepath=ini_file)\n",
    "    } else {\n",
    "        print('new_section is not a list')\n",
    "    }\n",
    "}\n",
    "\n",
    "#list of key-value pairs\n",
    "ACTIVITY <- list(dir='/data/hodges_lab/ATAC-STARR_B-cells/data/hansen-fong/ATAC-STARR_bins/4_activity-filtered_bins/top_10K_regions/', \n",
    "               HH_active_regions='/data/hodges_lab/ATAC-STARR_B-cells/data/hansen-fong/ATAC-STARR_bins/4_activity-filtered_bins/top_10K_regions/GG_active.regions.bed',\n",
    "               HM_active_regions='/data/hodges_lab/ATAC-STARR_B-cells/data/hansen-fong/ATAC-STARR_bins/4_activity-filtered_bins/top_10K_regions/GL_active.regions.bed',\n",
    "               MH_active_regions='/data/hodges_lab/ATAC-STARR_B-cells/data/hansen-fong/ATAC-STARR_bins/4_activity-filtered_bins/top_10K_regions/LG_active.regions.bed',\n",
    "               MM_active_regions='/data/hodges_lab/ATAC-STARR_B-cells/data/hansen-fong/ATAC-STARR_bins/4_activity-filtered_bins/top_10K_regions/LL_active.regions.bed', \n",
    "               HH_active_bins='/data/hodges_lab/ATAC-STARR_B-cells/data/hansen-fong/ATAC-STARR_bins/4_activity-filtered_bins/top_10K_regions/GG_active.bins.bed',\n",
    "               HM_active_bins='/data/hodges_lab/ATAC-STARR_B-cells/data/hansen-fong/ATAC-STARR_bins/4_activity-filtered_bins/top_10K_regions/GL_active.bins.bed',\n",
    "               MH_active_bins='/data/hodges_lab/ATAC-STARR_B-cells/data/hansen-fong/ATAC-STARR_bins/4_activity-filtered_bins/top_10K_regions/LG_active.bins.bed',\n",
    "               MM_active_bins='/data/hodges_lab/ATAC-STARR_B-cells/data/hansen-fong/ATAC-STARR_bins/4_activity-filtered_bins/top_10K_regions/LL_active.bins.bed')\n",
    "\n",
    "#list of section, resulting in list of list.\n",
    "new_section <- list(ACTIVITY=ACTIVITY)\n",
    "\n",
    "#write ini\n",
    "append_section_to_ini(\"../config.ini\", new_section)"
   ]
  },
  {
   "cell_type": "markdown",
   "id": "dae2adf0",
   "metadata": {},
   "source": [
    "## Annotation of Active Regions"
   ]
  },
  {
   "cell_type": "code",
   "execution_count": 2,
   "id": "8e386bb1",
   "metadata": {
    "ExecuteTime": {
     "end_time": "2022-07-13T15:26:20.039039Z",
     "start_time": "2022-07-13T15:26:05.969Z"
    }
   },
   "outputs": [],
   "source": [
    "suppressPackageStartupMessages(library(tidyverse))\n",
    "suppressPackageStartupMessages(library(magrittr))\n",
    "suppressPackageStartupMessages(library(ChIPseeker))\n",
    "suppressPackageStartupMessages(library(TxDb.Hsapiens.UCSC.hg38.knownGene))\n",
    "ini <- ini::read.ini(\"../config.ini\")"
   ]
  },
  {
   "cell_type": "code",
   "execution_count": 3,
   "id": "2e646f12",
   "metadata": {
    "ExecuteTime": {
     "end_time": "2022-07-13T15:26:47.125508Z",
     "start_time": "2022-07-13T15:26:47.837Z"
    }
   },
   "outputs": [],
   "source": [
    "my_function <- function(peak) {\n",
    "    ChIPseeker::annotatePeak(peak, tssRegion = c(-2000, 1000), \n",
    "                 TxDb = TxDb.Hsapiens.UCSC.hg38.knownGene,\n",
    "                 level = \"gene\",\n",
    "                 assignGenomicAnnotation = TRUE,\n",
    "                 addFlankGeneInfo = TRUE)\n",
    "}"
   ]
  },
  {
   "cell_type": "code",
   "execution_count": 4,
   "id": "b2b020e3",
   "metadata": {
    "ExecuteTime": {
     "end_time": "2022-07-13T15:28:15.792424Z",
     "start_time": "2022-07-13T15:27:05.820Z"
    }
   },
   "outputs": [
    {
     "name": "stdout",
     "output_type": "stream",
     "text": [
      ">> loading peak file...\t\t\t\t 2022-07-13 10:27:05 AM \n",
      ">> preparing features information...\t\t 2022-07-13 10:27:05 AM \n"
     ]
    },
    {
     "name": "stderr",
     "output_type": "stream",
     "text": [
      "  1655 genes were dropped because they have exons located on both strands\n",
      "  of the same reference sequence or on more than one reference sequence,\n",
      "  so cannot be represented by a single genomic range.\n",
      "  Use 'single.strand.genes.only=FALSE' to get all the genes in a\n",
      "  GRangesList object, or use suppressMessages() to suppress this message.\n",
      "\n"
     ]
    },
    {
     "name": "stdout",
     "output_type": "stream",
     "text": [
      ">> identifying nearest features...\t\t 2022-07-13 10:27:08 AM \n",
      ">> calculating distance from peak to TSS...\t 2022-07-13 10:27:08 AM \n",
      ">> assigning genomic annotation...\t\t 2022-07-13 10:27:08 AM \n",
      ">> adding flank feature information from peaks...\t 2022-07-13 10:27:46 AM \n",
      ">> assigning chromosome lengths\t\t\t 2022-07-13 10:27:49 AM \n",
      ">> done...\t\t\t\t\t 2022-07-13 10:27:49 AM \n",
      ">> loading peak file...\t\t\t\t 2022-07-13 10:27:49 AM \n",
      ">> preparing features information...\t\t 2022-07-13 10:27:49 AM \n",
      ">> identifying nearest features...\t\t 2022-07-13 10:27:49 AM \n",
      ">> calculating distance from peak to TSS...\t 2022-07-13 10:27:49 AM \n",
      ">> assigning genomic annotation...\t\t 2022-07-13 10:27:49 AM \n",
      ">> adding flank feature information from peaks...\t 2022-07-13 10:27:54 AM \n",
      ">> assigning chromosome lengths\t\t\t 2022-07-13 10:27:57 AM \n",
      ">> done...\t\t\t\t\t 2022-07-13 10:27:57 AM \n",
      ">> loading peak file...\t\t\t\t 2022-07-13 10:27:57 AM \n",
      ">> preparing features information...\t\t 2022-07-13 10:27:57 AM \n",
      ">> identifying nearest features...\t\t 2022-07-13 10:27:57 AM \n",
      ">> calculating distance from peak to TSS...\t 2022-07-13 10:27:57 AM \n",
      ">> assigning genomic annotation...\t\t 2022-07-13 10:27:57 AM \n",
      ">> adding flank feature information from peaks...\t 2022-07-13 10:28:04 AM \n",
      ">> assigning chromosome lengths\t\t\t 2022-07-13 10:28:06 AM \n",
      ">> done...\t\t\t\t\t 2022-07-13 10:28:06 AM \n",
      ">> loading peak file...\t\t\t\t 2022-07-13 10:28:06 AM \n",
      ">> preparing features information...\t\t 2022-07-13 10:28:06 AM \n",
      ">> identifying nearest features...\t\t 2022-07-13 10:28:06 AM \n",
      ">> calculating distance from peak to TSS...\t 2022-07-13 10:28:07 AM \n",
      ">> assigning genomic annotation...\t\t 2022-07-13 10:28:07 AM \n",
      ">> adding flank feature information from peaks...\t 2022-07-13 10:28:12 AM \n",
      ">> assigning chromosome lengths\t\t\t 2022-07-13 10:28:15 AM \n",
      ">> done...\t\t\t\t\t 2022-07-13 10:28:15 AM \n"
     ]
    }
   ],
   "source": [
    "hh <- my_function(ini$ACTIVITY$hh_active_regions)\n",
    "hm <- my_function(ini$ACTIVITY$hm_active_regions)\n",
    "mh <- my_function(ini$ACTIVITY$mh_active_regions)\n",
    "mm <- my_function(ini$ACTIVITY$mm_active_regions)"
   ]
  },
  {
   "cell_type": "code",
   "execution_count": 7,
   "id": "033a38a2",
   "metadata": {
    "ExecuteTime": {
     "end_time": "2022-07-13T15:29:59.276955Z",
     "start_time": "2022-07-13T15:29:59.140Z"
    }
   },
   "outputs": [
    {
     "name": "stderr",
     "output_type": "stream",
     "text": [
      "Scale for 'fill' is already present. Adding another scale for 'fill', which\n",
      "will replace the existing scale.\n",
      "\n"
     ]
    },
    {
     "data": {
      "image/png": "[encoded data removed]",
      "text/plain": [
       "plot without title"
      ]
     },
     "metadata": {
      "image/png": {
       "height": 240,
       "width": 240
      }
     },
     "output_type": "display_data"
    }
   ],
   "source": [
    "#annotation plots: \n",
    "addSmallLegend <- function(myPlot, pointSize = 3, textSize = 6, spaceLegend = 0.5) {\n",
    "    myPlot +\n",
    "        guides(shape = guide_legend(override.aes = list(size = pointSize)),\n",
    "               color = guide_legend(override.aes = list(size = pointSize))) +\n",
    "        theme(legend.title = element_text(size = textSize), \n",
    "              legend.text  = element_text(size = textSize),\n",
    "              legend.key.size = unit(spaceLegend, \"lines\"))\n",
    "}\n",
    "\n",
    "p <- plotAnnoBar(list(HH_active = hh, HM_active = hm, MH_active = mh, MM_active = mm))\n",
    "\n",
    "options(repr.plot.width = 4, repr.plot.height = 4)\n",
    "p2 <- p + theme_classic() + theme(legend.position = \"bottom\") +  \n",
    "    scale_fill_viridis_d(option = \"mako\") \n",
    "p3 <- addSmallLegend(p2)\n",
    "p3\n",
    "ggsave(plot = p3, filename = paste0(ini$ACTIVITY$plots, \"/TSS-distribution.pdf\"), device=cairo_pdf, height = 4, width = 4)"
   ]
  },
  {
   "cell_type": "markdown",
   "id": "0c59cc22",
   "metadata": {},
   "source": [
    "## Activity signal across replicates for +/- active bins"
   ]
  },
  {
   "cell_type": "code",
   "execution_count": 1,
   "id": "bf37c373",
   "metadata": {
    "ExecuteTime": {
     "end_time": "2022-06-29T02:51:05.313569Z",
     "start_time": "2022-06-29T02:15:03.252486Z"
    }
   },
   "outputs": [],
   "source": [
    "# HH\n",
    "BINS_DIR=$(read-ini ../config.ini ACTIVITY dir)\n",
    "R1=$(read-ini ../config.ini ACTIVITY_BW hh_r1)\n",
    "R2=$(read-ini ../config.ini ACTIVITY_BW hh_r2)\n",
    "R3=$(read-ini ../config.ini ACTIVITY_BW hh_r3)\n",
    "PLOT_DIR=$(read-ini ../config.ini ACTIVITY plots)\n",
    "\n",
    "#subsample inactive\n",
    "shuf -n 150000 ${BINS_DIR}/GG_inactive.bins.bed > ${BINS_DIR}/GG_inactive.bins.sub.bed\n",
    "\n",
    "computeMatrix reference-point -S $R1 $R2 $R3 \\\n",
    "    -R ${BINS_DIR}/GG_active.bins.bed ${BINS_DIR}/GG_inactive.bins.sub.bed \\\n",
    "    -a 500 -b 500 --referencePoint center --binSize 25 --missingDataAsZero -p 4 \\\n",
    "    -o ${PLOT_DIR}/matrix_HH_activity.gz\n",
    "    \n",
    "#plot heatmap from matricies.\n",
    "plotHeatmap -m ${PLOT_DIR}/matrix_HH_activity.gz \\\n",
    "    -o ${PLOT_DIR}/heatmap_HH_activity.pdf \\\n",
    "    --dpi 300 --plotFileFormat pdf --sortRegions no \\\n",
    "    --refPointLabel center \\\n",
    "    --regionsLabel \"active\" \"inactive\" \\\n",
    "    --colorMap RdBu \\\n",
    "    --zMin -0.5 \\\n",
    "    --zMax 0.5 \\\n",
    "    --samplesLabel \"Rep1\" \"Rep2\" \"Rep3\" \\\n",
    "    --heatmapHeight 4.5 --heatmapWidth 1 --whatToShow 'heatmap and colorbar'"
   ]
  },
  {
   "cell_type": "code",
   "execution_count": 2,
   "id": "eb9c2522",
   "metadata": {
    "ExecuteTime": {
     "end_time": "2022-06-29T03:41:20.923027Z",
     "start_time": "2022-06-29T03:05:12.168103Z"
    }
   },
   "outputs": [],
   "source": [
    "# MM\n",
    "BINS_DIR=$(read-ini ../config.ini ACTIVITY dir)\n",
    "R1=$(read-ini ../config.ini ACTIVITY_BW mm_r1)\n",
    "R2=$(read-ini ../config.ini ACTIVITY_BW mm_r2)\n",
    "R3=$(read-ini ../config.ini ACTIVITY_BW mm_r3)\n",
    "PLOT_DIR=$(read-ini ../config.ini ACTIVITY plots)\n",
    "\n",
    "#subsample inactive\n",
    "shuf -n 150000 ${BINS_DIR}/LL_inactive.bins.bed > ${BINS_DIR}/LL_inactive.bins.sub.bed\n",
    "\n",
    "computeMatrix reference-point -S $R1 $R2 $R3 \\\n",
    "    -R ${BINS_DIR}/LL_active.bins.bed ${BINS_DIR}/LL_inactive.bins.sub.bed \\\n",
    "    -a 500 -b 500 --referencePoint center --binSize 25 --missingDataAsZero -p 4 \\\n",
    "    -o ${PLOT_DIR}/matrix_LL_activity.gz\n",
    "    \n",
    "#plot heatmap from matricies.\n",
    "plotHeatmap -m ${PLOT_DIR}/matrix_LL_activity.gz \\\n",
    "    -o ${PLOT_DIR}/heatmap_LL_activity.pdf \\\n",
    "    --dpi 300 --plotFileFormat pdf --sortRegions no \\\n",
    "    --refPointLabel center \\\n",
    "    --regionsLabel \"active\" \"inactive\" \\\n",
    "    --colorMap RdBu \\\n",
    "    --zMin -0.5 \\\n",
    "    --zMax 0.5 \\\n",
    "    --samplesLabel \"Rep1\" \"Rep2\" \"Rep3\" \\\n",
    "    --heatmapHeight 4.5 --heatmapWidth 1 --whatToShow 'heatmap and colorbar'"
   ]
  },
  {
   "cell_type": "code",
   "execution_count": 3,
   "id": "562a60af",
   "metadata": {
    "ExecuteTime": {
     "end_time": "2022-06-29T04:15:44.605249Z",
     "start_time": "2022-06-29T03:41:20.925644Z"
    }
   },
   "outputs": [],
   "source": [
    "# MH\n",
    "BINS_DIR=$(read-ini ../config.ini ACTIVITY dir)\n",
    "R1=$(read-ini ../config.ini ACTIVITY_BW mh_r1)\n",
    "R2=$(read-ini ../config.ini ACTIVITY_BW mh_r2)\n",
    "R3=$(read-ini ../config.ini ACTIVITY_BW mh_r3)\n",
    "PLOT_DIR=$(read-ini ../config.ini ACTIVITY plots)\n",
    "\n",
    "#subsample inactive\n",
    "shuf -n 150000 ${BINS_DIR}/LG_inactive.bins.bed > ${BINS_DIR}/LG_inactive.bins.sub.bed\n",
    "\n",
    "computeMatrix reference-point -S $R1 $R2 $R3 \\\n",
    "    -R ${BINS_DIR}/LG_active.bins.bed ${BINS_DIR}/LG_inactive.bins.sub.bed \\\n",
    "    -a 500 -b 500 --referencePoint center --binSize 25 --missingDataAsZero -p 4 \\\n",
    "    -o ${PLOT_DIR}/matrix_LG_activity.gz\n",
    "    \n",
    "#plot heatmap from matricies.\n",
    "plotHeatmap -m ${PLOT_DIR}/matrix_LG_activity.gz \\\n",
    "    -o ${PLOT_DIR}/heatmap_LG_activity.pdf \\\n",
    "    --dpi 300 --plotFileFormat pdf --sortRegions no \\\n",
    "    --refPointLabel center \\\n",
    "    --regionsLabel \"active\" \"inactive\" \\\n",
    "    --colorMap RdBu \\\n",
    "    --zMin -0.5 \\\n",
    "    --zMax 0.5 \\\n",
    "    --samplesLabel \"Rep1\" \"Rep2\" \"Rep3\" \\\n",
    "    --heatmapHeight 4.5 --heatmapWidth 1 --whatToShow 'heatmap and colorbar'"
   ]
  },
  {
   "cell_type": "code",
   "execution_count": 4,
   "id": "288e4d86",
   "metadata": {
    "ExecuteTime": {
     "end_time": "2022-06-29T04:49:06.310647Z",
     "start_time": "2022-06-29T04:15:44.608110Z"
    }
   },
   "outputs": [],
   "source": [
    "# HM\n",
    "BINS_DIR=$(read-ini ../config.ini ACTIVITY dir)\n",
    "R1=$(read-ini ../config.ini ACTIVITY_BW hm_r1)\n",
    "R2=$(read-ini ../config.ini ACTIVITY_BW hm_r2)\n",
    "R3=$(read-ini ../config.ini ACTIVITY_BW hm_r3)\n",
    "PLOT_DIR=$(read-ini ../config.ini ACTIVITY plots)\n",
    "\n",
    "#subsample inactive\n",
    "shuf -n 150000 ${BINS_DIR}/GL_inactive.bins.bed > ${BINS_DIR}/GL_inactive.bins.sub.bed\n",
    "\n",
    "computeMatrix reference-point -S $R1 $R2 $R3 \\\n",
    "    -R ${BINS_DIR}/GL_active.bins.bed ${BINS_DIR}/GL_inactive.bins.sub.bed \\\n",
    "    -a 500 -b 500 --referencePoint center --binSize 25 --missingDataAsZero -p 4 \\\n",
    "    -o ${PLOT_DIR}/matrix_GL_activity.gz\n",
    "    \n",
    "#plot heatmap from matricies.\n",
    "plotHeatmap -m ${PLOT_DIR}/matrix_GL_activity.gz \\\n",
    "    -o ${PLOT_DIR}/heatmap_GL_activity.pdf \\\n",
    "    --dpi 300 --plotFileFormat pdf --sortRegions no \\\n",
    "    --refPointLabel center \\\n",
    "    --regionsLabel \"active\" \"inactive\" \\\n",
    "    --colorMap RdBu \\\n",
    "    --zMin -0.5 \\\n",
    "    --zMax 0.5 \\\n",
    "    --samplesLabel \"Rep1\" \"Rep2\" \"Rep3\" \\\n",
    "    --heatmapHeight 4.5 --heatmapWidth 1 --whatToShow 'heatmap and colorbar'"
   ]
  },
  {
   "cell_type": "markdown",
   "id": "e63fcd89",
   "metadata": {},
   "source": [
    " ## Bar Chart of Counts"
   ]
  },
  {
   "cell_type": "code",
   "execution_count": 15,
   "id": "065b91f2",
   "metadata": {
    "ExecuteTime": {
     "end_time": "2022-07-13T15:48:51.955392Z",
     "start_time": "2022-07-13T15:48:52.526Z"
    }
   },
   "outputs": [],
   "source": [
    "ini <- ini::read.ini(\"../config.ini\")"
   ]
  },
  {
   "cell_type": "code",
   "execution_count": 18,
   "id": "5c754152",
   "metadata": {
    "ExecuteTime": {
     "end_time": "2022-07-13T15:49:42.053686Z",
     "start_time": "2022-07-13T15:49:42.405Z"
    }
   },
   "outputs": [
    {
     "data": {
      "image/png": "[encoded data removed]",
      "text/plain": [
       "plot without title"
      ]
     },
     "metadata": {
      "image/png": {
       "height": 120,
       "width": 150
      }
     },
     "output_type": "display_data"
    }
   ],
   "source": [
    "#r kernel\n",
    "options(repr.plot.width = 2.5, repr.plot.height = 2)\n",
    "\n",
    "df <- data.frame(condition = c(\"HH\", \"HM\", \"MH\", \"MM\"), \n",
    "    value = c(10006, 10009, 10004, 10001))\n",
    "\n",
    "library(tidyverse)\n",
    "\n",
    "p <- ggplot(df, aes(x = condition, y = value, fill = condition)) +\n",
    "  geom_segment(aes(x = condition, xend = condition, y = 0, yend = value), color = \"black\") +\n",
    "  geom_point(size=5, alpha=1, shape=21, stroke=2, color = \"grey\") +\n",
    "  scale_fill_viridis_d(option = \"mako\") +\n",
    "  theme_classic() +\n",
    "  theme(\n",
    "    panel.grid.major.x = element_blank(),\n",
    "    axis.ticks.x = element_blank(),\n",
    "    legend.position = \"none\"\n",
    "  ) +\n",
    "  xlab(\"\") +\n",
    "  ylab(\"# active regions\") +\n",
    "  coord_cartesian(ylim = c(0, 12000))\n",
    "p\n",
    "\n",
    "ggsave(plot = p, filename = paste0(ini$ACTIVITY$plots, \"/active_region_counts.pdf\"), device = cairo_pdf, width = 2.5, height = 2)"
   ]
  },
  {
   "cell_type": "code",
   "execution_count": 24,
   "id": "fe4786a0",
   "metadata": {
    "ExecuteTime": {
     "end_time": "2022-06-29T21:06:34.965435Z",
     "start_time": "2022-06-29T21:06:34.709Z"
    }
   },
   "outputs": [
    {
     "data": {
      "image/png": "[encoded data removed]",
      "text/plain": [
       "plot without title"
      ]
     },
     "metadata": {
      "image/png": {
       "height": 120,
       "width": 240
      }
     },
     "output_type": "display_data"
    }
   ],
   "source": [
    "#r kernel\n",
    "options(repr.plot.width = 4, repr.plot.height = 2)\n",
    "\n",
    "df <- data.frame(condition = c(\"HH\", \"HM\", \"MH\", \"MM\"), \n",
    "    value = c(148200, 157210, 146800, 158750))\n",
    "\n",
    "library(tidyverse)\n",
    "\n",
    "ggplot(df, aes(x = condition, y = value, fill = condition)) +\n",
    "  geom_segment(aes(x = condition, xend = condition, y = 0, yend = value), color = \"black\") +\n",
    "  geom_point(size=5, alpha=1, shape=21, stroke=2, color = \"grey\") +\n",
    "  scale_fill_viridis_d(option = \"mako\") +\n",
    "  theme_light() +\n",
    "  theme(\n",
    "    panel.grid.major.x = element_blank(),\n",
    "    axis.ticks.x = element_blank()\n",
    "  ) +\n",
    "  xlab(\"\") +\n",
    "  ylab(\"# active bins\") +\n",
    "  coord_cartesian(ylim = c(0, 180000))"
   ]
  },
  {
   "cell_type": "code",
   "execution_count": 29,
   "id": "37e6f157",
   "metadata": {
    "ExecuteTime": {
     "end_time": "2022-06-29T21:08:25.946390Z",
     "start_time": "2022-06-29T21:08:25.777Z"
    }
   },
   "outputs": [
    {
     "data": {
      "image/png": "[encoded data removed]",
      "text/plain": [
       "plot without title"
      ]
     },
     "metadata": {
      "image/png": {
       "height": 120,
       "width": 240
      }
     },
     "output_type": "display_data"
    }
   ],
   "source": [
    "#r kernel\n",
    "options(repr.plot.width = 4, repr.plot.height = 2)\n",
    "\n",
    "df <- data.frame(condition = c(\"HH\", \"HM\", \"MH\", \"MM\"), \n",
    "    value = c(0.0820, 0.0635, 0.110, 0.0257))\n",
    "\n",
    "library(tidyverse)\n",
    "\n",
    "ggplot(df, aes(x = condition, y = -log10(value), fill = condition)) +\n",
    "  geom_segment(aes(x = condition, xend = condition, y = 0, yend = -log10(value)), color = \"black\") +\n",
    "  geom_point(size=5, alpha=1, shape=21, stroke=2, color = \"grey\") +\n",
    "  scale_fill_viridis_d(option = \"mako\") +\n",
    "  theme_light() +\n",
    "  theme(\n",
    "    panel.grid.major.x = element_blank(),\n",
    "    axis.ticks.x = element_blank()\n",
    "  ) +\n",
    "  xlab(\"\") +\n",
    "  ylab(\"-log10 padj threshold\") +\n",
    "  coord_cartesian(ylim = c(0, 2))"
   ]
  },
  {
   "cell_type": "markdown",
   "id": "796729a7",
   "metadata": {},
   "source": [
    "## Complexity barchart"
   ]
  },
  {
   "cell_type": "code",
   "execution_count": 1,
   "id": "134c9d14",
   "metadata": {
    "ExecuteTime": {
     "end_time": "2022-06-30T13:57:12.943950Z",
     "start_time": "2022-06-30T13:57:08.454Z"
    }
   },
   "outputs": [
    {
     "name": "stderr",
     "output_type": "stream",
     "text": [
      "Warning message in system(\"timedatectl\", intern = TRUE):\n",
      "“running command 'timedatectl' had status 1”\n",
      "── \u001b[1mAttaching packages\u001b[22m ─────────────────────────────────────── tidyverse 1.3.1 ──\n",
      "\n",
      "\u001b[32m✔\u001b[39m \u001b[34mggplot2\u001b[39m 3.3.5     \u001b[32m✔\u001b[39m \u001b[34mpurrr  \u001b[39m 0.3.4\n",
      "\u001b[32m✔\u001b[39m \u001b[34mtibble \u001b[39m 3.1.6     \u001b[32m✔\u001b[39m \u001b[34mdplyr  \u001b[39m 1.0.7\n",
      "\u001b[32m✔\u001b[39m \u001b[34mtidyr  \u001b[39m 1.2.0     \u001b[32m✔\u001b[39m \u001b[34mstringr\u001b[39m 1.4.0\n",
      "\u001b[32m✔\u001b[39m \u001b[34mreadr  \u001b[39m 2.1.2     \u001b[32m✔\u001b[39m \u001b[34mforcats\u001b[39m 0.5.1\n",
      "\n",
      "── \u001b[1mConflicts\u001b[22m ────────────────────────────────────────── tidyverse_conflicts() ──\n",
      "\u001b[31m✖\u001b[39m \u001b[34mdplyr\u001b[39m::\u001b[32mfilter()\u001b[39m  masks \u001b[34mstats\u001b[39m::filter()\n",
      "\u001b[31m✖\u001b[39m \u001b[34mpurrr\u001b[39m::\u001b[32mflatten()\u001b[39m masks \u001b[34mjsonlite\u001b[39m::flatten()\n",
      "\u001b[31m✖\u001b[39m \u001b[34mdplyr\u001b[39m::\u001b[32mlag()\u001b[39m     masks \u001b[34mstats\u001b[39m::lag()\n",
      "\n"
     ]
    }
   ],
   "source": [
    "ini <- ini::read.ini(\"../config.ini\")\n",
    "library(tidyverse)"
   ]
  },
  {
   "cell_type": "code",
   "execution_count": 36,
   "id": "ccfb8740",
   "metadata": {
    "ExecuteTime": {
     "end_time": "2022-06-30T14:32:58.469193Z",
     "start_time": "2022-06-30T14:32:58.356Z"
    }
   },
   "outputs": [
    {
     "data": {
      "image/png": "[encoded data removed]",
      "text/plain": [
       "plot without title"
      ]
     },
     "metadata": {
      "image/png": {
       "height": 360,
       "width": 360
      }
     },
     "output_type": "display_data"
    }
   ],
   "source": [
    "#r kernel\n",
    "options(repr.plot.width = 6, repr.plot.height = 6)\n",
    "\n",
    "#from picard\n",
    "df <- data.frame(condition = c(\"HH\", \"HM\", \"MH\", \"MM\",\"HH\", \"HM\", \"MH\", \"MM\",\"HH\", \"HM\", \"MH\", \"MM\",\n",
    "                               \"HH\", \"HM\", \"MH\", \"MM\",\"HH\", \"HM\", \"MH\", \"MM\",\"HH\", \"HM\", \"MH\", \"MM\"),\n",
    "                 replicate = c(\"Rep1\", \"Rep1\", \"Rep1\", \"Rep1\",\"Rep2\", \"Rep2\", \"Rep2\", \"Rep2\",\"Rep3\", \"Rep3\", \"Rep3\", \"Rep3\",\n",
    "                               \"Rep1\", \"Rep1\", \"Rep1\", \"Rep1\",\"Rep2\", \"Rep2\", \"Rep2\", \"Rep2\",\"Rep3\", \"Rep3\", \"Rep3\", \"Rep3\"),\n",
    "                 type = c(\"DNA\", \"DNA\", \"DNA\", \"DNA\", \"DNA\", \"DNA\", \"DNA\", \"DNA\", \"DNA\", \"DNA\", \"DNA\", \"DNA\",\n",
    "                          \"RNA\", \"RNA\", \"RNA\", \"RNA\", \"RNA\", \"RNA\", \"RNA\", \"RNA\", \"RNA\", \"RNA\", \"RNA\", \"RNA\"),\n",
    "                 complexity = c(54680528, 42170654, 32190943, 37439747, \n",
    "                                52116814, 40239996, 31334721, 37225215, \n",
    "                                46975957, 42466812, 33607308, 33227805, \n",
    "                                12724596, 40815821, 15541262, 20193934, \n",
    "                                9344860, 17723397, 13567216, 28147891, \n",
    "                                9310556, 41440883, 9704257, 36893121))\n",
    "\n",
    "library(tidyverse)\n",
    "\n",
    "p <- ggplot(df, aes(x = condition, y = complexity/1e6, fill = replicate)) +\n",
    "  #geom_segment(aes(x = condition, xend = condition, y = 0, yend = complexity), color = \"black\", position = position_dodge(width = 1)) +\n",
    "  geom_linerange(aes(xmin = condition, xmax = condition, ymin = 0, ymax = complexity/1e6), color = \"black\", position = position_dodge(width = 0.5)) +\n",
    "  geom_point(size=5, alpha=1, shape=21, stroke=1, color = \"grey\", position = position_dodge(width = 0.5)) +\n",
    "  facet_grid(type~., ) +\n",
    "  scale_fill_viridis_d(option = \"mako\") +\n",
    "  theme_bw() +\n",
    "  theme(\n",
    "    panel.grid.major.x = element_blank(),\n",
    "    axis.ticks.x = element_blank()\n",
    "  ) +\n",
    "  ylab(\"Estimated Library Complexity (in millions)\") +\n",
    "  coord_cartesian(ylim = c(0, 60))\n",
    "\n",
    "p\n",
    "\n",
    "ggsave(p, filename = paste0(ini$ACTIVITY$plots, \"/complexity_lollipop.pdf\"), device = cairo_pdf, width = 6, height = 6)"
   ]
  },
  {
   "cell_type": "markdown",
   "id": "794741b5",
   "metadata": {},
   "source": [
    "## Threshold effect on cis/trans differential activity"
   ]
  },
  {
   "cell_type": "markdown",
   "id": "af3455bd",
   "metadata": {},
   "source": [
    "### Top 50K regions"
   ]
  },
  {
   "cell_type": "code",
   "execution_count": 1,
   "id": "2c8da0b1",
   "metadata": {
    "ExecuteTime": {
     "end_time": "2022-06-30T16:38:12.517508Z",
     "start_time": "2022-06-30T16:38:02.361Z"
    },
    "scrolled": true
   },
   "outputs": [
    {
     "name": "stderr",
     "output_type": "stream",
     "text": [
      "Warning message in system(\"timedatectl\", intern = TRUE):\n",
      "“running command 'timedatectl' had status 1”\n",
      "── \u001b[1mAttaching packages\u001b[22m ─────────────────────────────────────── tidyverse 1.3.1 ──\n",
      "\n",
      "\u001b[32m✔\u001b[39m \u001b[34mggplot2\u001b[39m 3.3.5     \u001b[32m✔\u001b[39m \u001b[34mpurrr  \u001b[39m 0.3.4\n",
      "\u001b[32m✔\u001b[39m \u001b[34mtibble \u001b[39m 3.1.6     \u001b[32m✔\u001b[39m \u001b[34mdplyr  \u001b[39m 1.0.7\n",
      "\u001b[32m✔\u001b[39m \u001b[34mtidyr  \u001b[39m 1.2.0     \u001b[32m✔\u001b[39m \u001b[34mstringr\u001b[39m 1.4.0\n",
      "\u001b[32m✔\u001b[39m \u001b[34mreadr  \u001b[39m 2.1.2     \u001b[32m✔\u001b[39m \u001b[34mforcats\u001b[39m 0.5.1\n",
      "\n",
      "── \u001b[1mConflicts\u001b[22m ────────────────────────────────────────── tidyverse_conflicts() ──\n",
      "\u001b[31m✖\u001b[39m \u001b[34mdplyr\u001b[39m::\u001b[32mfilter()\u001b[39m masks \u001b[34mstats\u001b[39m::filter()\n",
      "\u001b[31m✖\u001b[39m \u001b[34mdplyr\u001b[39m::\u001b[32mlag()\u001b[39m    masks \u001b[34mstats\u001b[39m::lag()\n",
      "\n"
     ]
    }
   ],
   "source": [
    "library(tidyverse)\n",
    "ini <- ini::read.ini(\"../config.ini\")\n",
    "\n",
    "dir <- '/data/hodges_lab/ATAC-STARR_B-cells/data/hansen-fong/ATAC-STARR_bins/bin-analysis_input+output/activity_DESeq2_IO/'\n",
    "\n",
    "#read in activity scored bins. \n",
    "GG <- read_tsv(paste0(dir,\"GG_activity_1.8.hg38.bed\"), col_names = c(\"chr\", \"start\", \"end\", \"Bin_ID\", \"log2FoldChange\", \"padj\"), show_col_types = FALSE)\n",
    "GL <- read_tsv(paste0(dir,\"GL_activity_1.8.hg38.bed\"), col_names = c(\"chr\", \"start\", \"end\", \"Bin_ID\", \"log2FoldChange\", \"padj\"), show_col_types = FALSE)\n",
    "LG <- read_tsv(paste0(dir,\"LG_activity_1.8.hg38.bed\"), col_names = c(\"chr\", \"start\", \"end\", \"Bin_ID\", \"log2FoldChange\", \"padj\"), show_col_types = FALSE)\n",
    "LL <- read_tsv(paste0(dir,\"LL_activity_1.8.hg38.bed\"), col_names = c(\"chr\", \"start\", \"end\", \"Bin_ID\", \"log2FoldChange\", \"padj\"), show_col_types = FALSE)"
   ]
  },
  {
   "cell_type": "code",
   "execution_count": 2,
   "id": "40308442",
   "metadata": {
    "ExecuteTime": {
     "end_time": "2022-06-30T16:38:17.595561Z",
     "start_time": "2022-06-30T16:38:02.367Z"
    }
   },
   "outputs": [],
   "source": [
    "GG_active <- filter(GG, log2FoldChange > 0) %>% slice_min(padj, n = 860000)\n",
    "GL_active <- filter(GL, log2FoldChange > 0) %>% slice_min(padj, n = 860000)\n",
    "LG_active <- filter(LG, log2FoldChange > 0) %>% slice_min(padj, n = 880000)\n",
    "LL_active <- filter(LL, log2FoldChange > 0) %>% slice_min(padj, n = 900000)"
   ]
  },
  {
   "cell_type": "code",
   "execution_count": 3,
   "id": "bfceddeb",
   "metadata": {
    "ExecuteTime": {
     "end_time": "2022-06-30T16:38:17.642516Z",
     "start_time": "2022-06-30T16:38:02.372Z"
    }
   },
   "outputs": [
    {
     "data": {
      "text/html": [
       "0.827576818444192"
      ],
      "text/latex": [
       "0.827576818444192"
      ],
      "text/markdown": [
       "0.827576818444192"
      ],
      "text/plain": [
       "[1] 0.8275768"
      ]
     },
     "metadata": {},
     "output_type": "display_data"
    },
    {
     "data": {
      "text/html": [
       "0.919825575881513"
      ],
      "text/latex": [
       "0.919825575881513"
      ],
      "text/markdown": [
       "0.919825575881513"
      ],
      "text/plain": [
       "[1] 0.9198256"
      ]
     },
     "metadata": {},
     "output_type": "display_data"
    },
    {
     "data": {
      "text/html": [
       "0.863447741355672"
      ],
      "text/latex": [
       "0.863447741355672"
      ],
      "text/markdown": [
       "0.863447741355672"
      ],
      "text/plain": [
       "[1] 0.8634477"
      ]
     },
     "metadata": {},
     "output_type": "display_data"
    },
    {
     "data": {
      "text/html": [
       "0.814970457157112"
      ],
      "text/latex": [
       "0.814970457157112"
      ],
      "text/markdown": [
       "0.814970457157112"
      ],
      "text/plain": [
       "[1] 0.8149705"
      ]
     },
     "metadata": {},
     "output_type": "display_data"
    }
   ],
   "source": [
    "#what are the padj values for each case?\n",
    "max(GG_active$padj)\n",
    "max(GL_active$padj)\n",
    "max(LG_active$padj)\n",
    "max(LL_active$padj)"
   ]
  },
  {
   "cell_type": "code",
   "execution_count": 4,
   "id": "c6650934",
   "metadata": {
    "ExecuteTime": {
     "end_time": "2022-06-30T16:38:18.308296Z",
     "start_time": "2022-06-30T16:38:02.376Z"
    }
   },
   "outputs": [],
   "source": [
    "#write out \n",
    "dir <- \"/data/hodges_lab/ATAC-STARR_B-cells/data/hansen-fong/ATAC-STARR_bins/4_activity-filtered_bins/top_10K_regions/threshold_testing\"\n",
    "\n",
    "GG_active %>% select(chr, start, end) %>% write_tsv(paste0(dir, \"/GG_active.bins.50k.bed\"), col_names = FALSE)\n",
    "GL_active %>% select(chr, start, end) %>% write_tsv(paste0(dir, \"/GL_active.bins.50k.bed\"), col_names = FALSE)\n",
    "LG_active %>% select(chr, start, end) %>% write_tsv(paste0(dir, \"/LG_active.bins.50k.bed\"), col_names = FALSE)\n",
    "LL_active %>% select(chr, start, end) %>% write_tsv(paste0(dir, \"/LL_active.bins.50k.bed\"), col_names = FALSE)"
   ]
  },
  {
   "cell_type": "code",
   "execution_count": 2,
   "id": "e5634291",
   "metadata": {
    "ExecuteTime": {
     "end_time": "2022-06-30T16:40:22.150650Z",
     "start_time": "2022-06-30T16:39:51.974486Z"
    }
   },
   "outputs": [
    {
     "name": "stdout",
     "output_type": "stream",
     "text": [
      "GG_active.bins.50k.bed\n",
      "50788\n",
      "GL_active.bins.50k.bed\n",
      "49345\n",
      "LG_active.bins.50k.bed\n",
      "51388\n",
      "LL_active.bins.50k.bed\n",
      "50895\n"
     ]
    }
   ],
   "source": [
    "#bash\n",
    "cd /data/hodges_lab/ATAC-STARR_B-cells/data/hansen-fong/ATAC-STARR_bins/4_activity-filtered_bins/top_10K_regions/threshold_testing\n",
    "\n",
    "for i in *50k.bed\n",
    "do\n",
    "    echo $i\n",
    "    sort -k1,1 -k2,2n $i | bedtools merge -c 1 -o count -i - | awk '{OFS=FS=\"\\t\"}{if ($4>=5) print}' - | wc -l\n",
    "done"
   ]
  },
  {
   "cell_type": "code",
   "execution_count": 3,
   "id": "72b674f8",
   "metadata": {
    "ExecuteTime": {
     "end_time": "2022-06-30T16:41:01.882143Z",
     "start_time": "2022-06-30T16:40:30.274956Z"
    }
   },
   "outputs": [],
   "source": [
    "#write:\n",
    "cd /data/hodges_lab/ATAC-STARR_B-cells/data/hansen-fong/ATAC-STARR_bins/4_activity-filtered_bins/top_10K_regions/threshold_testing\n",
    "\n",
    "sort -k1,1 -k2,2n GG_active.bins.50k.bed | bedtools merge -c 1 -o count -i - | \\\n",
    "    awk '{OFS=FS=\"\\t\"}{if ($4>=5) print $1,$2,$3}' - > GG_active.regions.50k.bed\n",
    "    \n",
    "sort -k1,1 -k2,2n GL_active.bins.50k.bed | bedtools merge -c 1 -o count -i - | \\\n",
    "    awk '{OFS=FS=\"\\t\"}{if ($4>=5) print $1,$2,$3}' - > GL_active.regions.50k.bed\n",
    "    \n",
    "sort -k1,1 -k2,2n LG_active.bins.50k.bed | bedtools merge -c 1 -o count -i - | \\\n",
    "    awk '{OFS=FS=\"\\t\"}{if ($4>=5) print $1,$2,$3}' - > LG_active.regions.50k.bed\n",
    "    \n",
    "sort -k1,1 -k2,2n LL_active.bins.50k.bed | bedtools merge -c 1 -o count -i - | \\\n",
    "    awk '{OFS=FS=\"\\t\"}{if ($4>=5) print $1,$2,$3}' - > LL_active.regions.50k.bed"
   ]
  },
  {
   "cell_type": "markdown",
   "id": "d842a969",
   "metadata": {},
   "source": [
    "### Top 25K regions"
   ]
  },
  {
   "cell_type": "code",
   "execution_count": 1,
   "id": "78166264",
   "metadata": {
    "ExecuteTime": {
     "end_time": "2022-06-30T16:42:07.981869Z",
     "start_time": "2022-06-30T16:41:58.823Z"
    },
    "scrolled": false
   },
   "outputs": [
    {
     "name": "stderr",
     "output_type": "stream",
     "text": [
      "Warning message in system(\"timedatectl\", intern = TRUE):\n",
      "“running command 'timedatectl' had status 1”\n",
      "── \u001b[1mAttaching packages\u001b[22m ─────────────────────────────────────── tidyverse 1.3.1 ──\n",
      "\n",
      "\u001b[32m✔\u001b[39m \u001b[34mggplot2\u001b[39m 3.3.5     \u001b[32m✔\u001b[39m \u001b[34mpurrr  \u001b[39m 0.3.4\n",
      "\u001b[32m✔\u001b[39m \u001b[34mtibble \u001b[39m 3.1.6     \u001b[32m✔\u001b[39m \u001b[34mdplyr  \u001b[39m 1.0.7\n",
      "\u001b[32m✔\u001b[39m \u001b[34mtidyr  \u001b[39m 1.2.0     \u001b[32m✔\u001b[39m \u001b[34mstringr\u001b[39m 1.4.0\n",
      "\u001b[32m✔\u001b[39m \u001b[34mreadr  \u001b[39m 2.1.2     \u001b[32m✔\u001b[39m \u001b[34mforcats\u001b[39m 0.5.1\n",
      "\n",
      "── \u001b[1mConflicts\u001b[22m ────────────────────────────────────────── tidyverse_conflicts() ──\n",
      "\u001b[31m✖\u001b[39m \u001b[34mdplyr\u001b[39m::\u001b[32mfilter()\u001b[39m  masks \u001b[34mstats\u001b[39m::filter()\n",
      "\u001b[31m✖\u001b[39m \u001b[34mpurrr\u001b[39m::\u001b[32mflatten()\u001b[39m masks \u001b[34mjsonlite\u001b[39m::flatten()\n",
      "\u001b[31m✖\u001b[39m \u001b[34mdplyr\u001b[39m::\u001b[32mlag()\u001b[39m     masks \u001b[34mstats\u001b[39m::lag()\n",
      "\n"
     ]
    }
   ],
   "source": [
    "library(tidyverse)\n",
    "ini <- ini::read.ini(\"../config.ini\")\n",
    "\n",
    "dir <- '/data/hodges_lab/ATAC-STARR_B-cells/data/hansen-fong/ATAC-STARR_bins/bin-analysis_input+output/activity_DESeq2_IO/'\n",
    "\n",
    "#read in activity scored bins. \n",
    "GG <- read_tsv(paste0(dir,\"GG_activity_1.8.hg38.bed\"), col_names = c(\"chr\", \"start\", \"end\", \"Bin_ID\", \"log2FoldChange\", \"padj\"), show_col_types = FALSE)\n",
    "GL <- read_tsv(paste0(dir,\"GL_activity_1.8.hg38.bed\"), col_names = c(\"chr\", \"start\", \"end\", \"Bin_ID\", \"log2FoldChange\", \"padj\"), show_col_types = FALSE)\n",
    "LG <- read_tsv(paste0(dir,\"LG_activity_1.8.hg38.bed\"), col_names = c(\"chr\", \"start\", \"end\", \"Bin_ID\", \"log2FoldChange\", \"padj\"), show_col_types = FALSE)\n",
    "LL <- read_tsv(paste0(dir,\"LL_activity_1.8.hg38.bed\"), col_names = c(\"chr\", \"start\", \"end\", \"Bin_ID\", \"log2FoldChange\", \"padj\"), show_col_types = FALSE)"
   ]
  },
  {
   "cell_type": "code",
   "execution_count": 2,
   "id": "de9c9d40",
   "metadata": {
    "ExecuteTime": {
     "end_time": "2022-06-30T16:42:12.011518Z",
     "start_time": "2022-06-30T16:41:58.829Z"
    }
   },
   "outputs": [],
   "source": [
    "GG_active <- filter(GG, log2FoldChange > 0) %>% slice_min(padj, n = 400000)\n",
    "GL_active <- filter(GL, log2FoldChange > 0) %>% slice_min(padj, n = 400000)\n",
    "LG_active <- filter(LG, log2FoldChange > 0) %>% slice_min(padj, n = 400000)\n",
    "LL_active <- filter(LL, log2FoldChange > 0) %>% slice_min(padj, n = 400000)"
   ]
  },
  {
   "cell_type": "code",
   "execution_count": 3,
   "id": "05bb9d7b",
   "metadata": {
    "ExecuteTime": {
     "end_time": "2022-06-30T16:42:12.050335Z",
     "start_time": "2022-06-30T16:41:58.833Z"
    }
   },
   "outputs": [
    {
     "data": {
      "text/html": [
       "0.363245383998234"
      ],
      "text/latex": [
       "0.363245383998234"
      ],
      "text/markdown": [
       "0.363245383998234"
      ],
      "text/plain": [
       "[1] 0.3632454"
      ]
     },
     "metadata": {},
     "output_type": "display_data"
    },
    {
     "data": {
      "text/html": [
       "0.370313070986294"
      ],
      "text/latex": [
       "0.370313070986294"
      ],
      "text/markdown": [
       "0.370313070986294"
      ],
      "text/plain": [
       "[1] 0.3703131"
      ]
     },
     "metadata": {},
     "output_type": "display_data"
    },
    {
     "data": {
      "text/html": [
       "0.415048579372855"
      ],
      "text/latex": [
       "0.415048579372855"
      ],
      "text/markdown": [
       "0.415048579372855"
      ],
      "text/plain": [
       "[1] 0.4150486"
      ]
     },
     "metadata": {},
     "output_type": "display_data"
    },
    {
     "data": {
      "text/html": [
       "0.201358658597739"
      ],
      "text/latex": [
       "0.201358658597739"
      ],
      "text/markdown": [
       "0.201358658597739"
      ],
      "text/plain": [
       "[1] 0.2013587"
      ]
     },
     "metadata": {},
     "output_type": "display_data"
    }
   ],
   "source": [
    "#what are the padj values for each case?\n",
    "max(GG_active$padj)\n",
    "max(GL_active$padj)\n",
    "max(LG_active$padj)\n",
    "max(LL_active$padj)"
   ]
  },
  {
   "cell_type": "code",
   "execution_count": 4,
   "id": "e377faa5",
   "metadata": {
    "ExecuteTime": {
     "end_time": "2022-06-30T16:42:12.515609Z",
     "start_time": "2022-06-30T16:41:58.838Z"
    }
   },
   "outputs": [],
   "source": [
    "#write out \n",
    "dir <- \"/data/hodges_lab/ATAC-STARR_B-cells/data/hansen-fong/ATAC-STARR_bins/4_activity-filtered_bins/top_10K_regions/threshold_testing\"\n",
    "\n",
    "GG_active %>% select(chr, start, end) %>% write_tsv(paste0(dir, \"/GG_active.bins.25k.bed\"), col_names = FALSE)\n",
    "GL_active %>% select(chr, start, end) %>% write_tsv(paste0(dir, \"/GL_active.bins.25k.bed\"), col_names = FALSE)\n",
    "LG_active %>% select(chr, start, end) %>% write_tsv(paste0(dir, \"/LG_active.bins.25k.bed\"), col_names = FALSE)\n",
    "LL_active %>% select(chr, start, end) %>% write_tsv(paste0(dir, \"/LL_active.bins.25k.bed\"), col_names = FALSE)"
   ]
  },
  {
   "cell_type": "code",
   "execution_count": 1,
   "id": "b05a177c",
   "metadata": {
    "ExecuteTime": {
     "end_time": "2022-06-30T16:42:54.441094Z",
     "start_time": "2022-06-30T16:42:37.358689Z"
    }
   },
   "outputs": [
    {
     "name": "stdout",
     "output_type": "stream",
     "text": [
      "GG_active.bins.25k.bed\n",
      "25876\n",
      "GL_active.bins.25k.bed\n",
      "24822\n",
      "LG_active.bins.25k.bed\n",
      "25765\n",
      "LL_active.bins.25k.bed\n",
      "24624\n"
     ]
    }
   ],
   "source": [
    "#bash\n",
    "cd /data/hodges_lab/ATAC-STARR_B-cells/data/hansen-fong/ATAC-STARR_bins/4_activity-filtered_bins/top_10K_regions/threshold_testing\n",
    "\n",
    "for i in *25k.bed\n",
    "do\n",
    "    echo $i\n",
    "    sort -k1,1 -k2,2n $i | bedtools merge -c 1 -o count -i - | awk '{OFS=FS=\"\\t\"}{if ($4>=5) print}' - | wc -l\n",
    "done"
   ]
  },
  {
   "cell_type": "code",
   "execution_count": 2,
   "id": "dd57b4df",
   "metadata": {
    "ExecuteTime": {
     "end_time": "2022-06-30T16:43:16.777576Z",
     "start_time": "2022-06-30T16:42:57.796429Z"
    }
   },
   "outputs": [],
   "source": [
    "#write:\n",
    "cd /data/hodges_lab/ATAC-STARR_B-cells/data/hansen-fong/ATAC-STARR_bins/4_activity-filtered_bins/top_10K_regions/threshold_testing\n",
    "\n",
    "sort -k1,1 -k2,2n GG_active.bins.25k.bed | bedtools merge -c 1 -o count -i - | \\\n",
    "    awk '{OFS=FS=\"\\t\"}{if ($4>=5) print $1,$2,$3}' - > GG_active.regions.25k.bed\n",
    "    \n",
    "sort -k1,1 -k2,2n GL_active.bins.25k.bed | bedtools merge -c 1 -o count -i - | \\\n",
    "    awk '{OFS=FS=\"\\t\"}{if ($4>=5) print $1,$2,$3}' - > GL_active.regions.25k.bed\n",
    "    \n",
    "sort -k1,1 -k2,2n LG_active.bins.25k.bed | bedtools merge -c 1 -o count -i - | \\\n",
    "    awk '{OFS=FS=\"\\t\"}{if ($4>=5) print $1,$2,$3}' - > LG_active.regions.25k.bed\n",
    "    \n",
    "sort -k1,1 -k2,2n LL_active.bins.25k.bed | bedtools merge -c 1 -o count -i - | \\\n",
    "    awk '{OFS=FS=\"\\t\"}{if ($4>=5) print $1,$2,$3}' - > LL_active.regions.25k.bed"
   ]
  },
  {
   "cell_type": "markdown",
   "id": "cb4e4355",
   "metadata": {},
   "source": [
    "### Top 5K regions"
   ]
  },
  {
   "cell_type": "code",
   "execution_count": 1,
   "id": "a10c90aa",
   "metadata": {
    "ExecuteTime": {
     "end_time": "2022-06-30T16:48:35.170629Z",
     "start_time": "2022-06-30T16:48:24.715Z"
    },
    "scrolled": false
   },
   "outputs": [
    {
     "name": "stderr",
     "output_type": "stream",
     "text": [
      "Warning message in system(\"timedatectl\", intern = TRUE):\n",
      "“running command 'timedatectl' had status 1”\n",
      "── \u001b[1mAttaching packages\u001b[22m ─────────────────────────────────────── tidyverse 1.3.1 ──\n",
      "\n",
      "\u001b[32m✔\u001b[39m \u001b[34mggplot2\u001b[39m 3.3.5     \u001b[32m✔\u001b[39m \u001b[34mpurrr  \u001b[39m 0.3.4\n",
      "\u001b[32m✔\u001b[39m \u001b[34mtibble \u001b[39m 3.1.6     \u001b[32m✔\u001b[39m \u001b[34mdplyr  \u001b[39m 1.0.7\n",
      "\u001b[32m✔\u001b[39m \u001b[34mtidyr  \u001b[39m 1.2.0     \u001b[32m✔\u001b[39m \u001b[34mstringr\u001b[39m 1.4.0\n",
      "\u001b[32m✔\u001b[39m \u001b[34mreadr  \u001b[39m 2.1.2     \u001b[32m✔\u001b[39m \u001b[34mforcats\u001b[39m 0.5.1\n",
      "\n",
      "── \u001b[1mConflicts\u001b[22m ────────────────────────────────────────── tidyverse_conflicts() ──\n",
      "\u001b[31m✖\u001b[39m \u001b[34mdplyr\u001b[39m::\u001b[32mfilter()\u001b[39m  masks \u001b[34mstats\u001b[39m::filter()\n",
      "\u001b[31m✖\u001b[39m \u001b[34mpurrr\u001b[39m::\u001b[32mflatten()\u001b[39m masks \u001b[34mjsonlite\u001b[39m::flatten()\n",
      "\u001b[31m✖\u001b[39m \u001b[34mdplyr\u001b[39m::\u001b[32mlag()\u001b[39m     masks \u001b[34mstats\u001b[39m::lag()\n",
      "\n"
     ]
    }
   ],
   "source": [
    "library(tidyverse)\n",
    "ini <- ini::read.ini(\"../config.ini\")\n",
    "\n",
    "dir <- '/data/hodges_lab/ATAC-STARR_B-cells/data/hansen-fong/ATAC-STARR_bins/bin-analysis_input+output/activity_DESeq2_IO/'\n",
    "\n",
    "#read in activity scored bins. \n",
    "GG <- read_tsv(paste0(dir,\"GG_activity_1.8.hg38.bed\"), col_names = c(\"chr\", \"start\", \"end\", \"Bin_ID\", \"log2FoldChange\", \"padj\"), show_col_types = FALSE)\n",
    "GL <- read_tsv(paste0(dir,\"GL_activity_1.8.hg38.bed\"), col_names = c(\"chr\", \"start\", \"end\", \"Bin_ID\", \"log2FoldChange\", \"padj\"), show_col_types = FALSE)\n",
    "LG <- read_tsv(paste0(dir,\"LG_activity_1.8.hg38.bed\"), col_names = c(\"chr\", \"start\", \"end\", \"Bin_ID\", \"log2FoldChange\", \"padj\"), show_col_types = FALSE)\n",
    "LL <- read_tsv(paste0(dir,\"LL_activity_1.8.hg38.bed\"), col_names = c(\"chr\", \"start\", \"end\", \"Bin_ID\", \"log2FoldChange\", \"padj\"), show_col_types = FALSE)"
   ]
  },
  {
   "cell_type": "code",
   "execution_count": 2,
   "id": "b210cc3e",
   "metadata": {
    "ExecuteTime": {
     "end_time": "2022-06-30T16:48:38.436368Z",
     "start_time": "2022-06-30T16:48:24.720Z"
    }
   },
   "outputs": [],
   "source": [
    "GG_active <- filter(GG, log2FoldChange > 0) %>% slice_min(padj, n = 74000)\n",
    "GL_active <- filter(GL, log2FoldChange > 0) %>% slice_min(padj, n = 79000)\n",
    "LG_active <- filter(LG, log2FoldChange > 0) %>% slice_min(padj, n = 71000)\n",
    "LL_active <- filter(LL, log2FoldChange > 0) %>% slice_min(padj, n = 79000)"
   ]
  },
  {
   "cell_type": "code",
   "execution_count": 3,
   "id": "d823de76",
   "metadata": {
    "ExecuteTime": {
     "end_time": "2022-06-30T16:48:38.469141Z",
     "start_time": "2022-06-30T16:48:24.724Z"
    }
   },
   "outputs": [
    {
     "data": {
      "text/html": [
       "0.0200734242351819"
      ],
      "text/latex": [
       "0.0200734242351819"
      ],
      "text/markdown": [
       "0.0200734242351819"
      ],
      "text/plain": [
       "[1] 0.02007342"
      ]
     },
     "metadata": {},
     "output_type": "display_data"
    },
    {
     "data": {
      "text/html": [
       "0.00734504942249425"
      ],
      "text/latex": [
       "0.00734504942249425"
      ],
      "text/markdown": [
       "0.00734504942249425"
      ],
      "text/plain": [
       "[1] 0.007345049"
      ]
     },
     "metadata": {},
     "output_type": "display_data"
    },
    {
     "data": {
      "text/html": [
       "0.0304141023720782"
      ],
      "text/latex": [
       "0.0304141023720782"
      ],
      "text/markdown": [
       "0.0304141023720782"
      ],
      "text/plain": [
       "[1] 0.0304141"
      ]
     },
     "metadata": {},
     "output_type": "display_data"
    },
    {
     "data": {
      "text/html": [
       "0.0030903519916936"
      ],
      "text/latex": [
       "0.0030903519916936"
      ],
      "text/markdown": [
       "0.0030903519916936"
      ],
      "text/plain": [
       "[1] 0.003090352"
      ]
     },
     "metadata": {},
     "output_type": "display_data"
    }
   ],
   "source": [
    "#what are the padj values for each case?\n",
    "max(GG_active$padj)\n",
    "max(GL_active$padj)\n",
    "max(LG_active$padj)\n",
    "max(LL_active$padj)"
   ]
  },
  {
   "cell_type": "code",
   "execution_count": 4,
   "id": "aefced19",
   "metadata": {
    "ExecuteTime": {
     "end_time": "2022-06-30T16:48:39.034497Z",
     "start_time": "2022-06-30T16:48:24.729Z"
    }
   },
   "outputs": [],
   "source": [
    "#write out \n",
    "dir <- \"/data/hodges_lab/ATAC-STARR_B-cells/data/hansen-fong/ATAC-STARR_bins/4_activity-filtered_bins/top_10K_regions/threshold_testing\"\n",
    "\n",
    "GG_active %>% select(chr, start, end) %>% write_tsv(paste0(dir, \"/GG_active.bins.5k.bed\"), col_names = FALSE)\n",
    "GL_active %>% select(chr, start, end) %>% write_tsv(paste0(dir, \"/GL_active.bins.5k.bed\"), col_names = FALSE)\n",
    "LG_active %>% select(chr, start, end) %>% write_tsv(paste0(dir, \"/LG_active.bins.5k.bed\"), col_names = FALSE)\n",
    "LL_active %>% select(chr, start, end) %>% write_tsv(paste0(dir, \"/LL_active.bins.5k.bed\"), col_names = FALSE)"
   ]
  },
  {
   "cell_type": "code",
   "execution_count": 1,
   "id": "761e4419",
   "metadata": {
    "ExecuteTime": {
     "end_time": "2022-06-30T16:49:43.446225Z",
     "start_time": "2022-06-30T16:49:37.306269Z"
    }
   },
   "outputs": [
    {
     "name": "stdout",
     "output_type": "stream",
     "text": [
      "GG_active.bins.5k.bed\n",
      "4988\n",
      "GL_active.bins.5k.bed\n",
      "5078\n",
      "LG_active.bins.5k.bed\n",
      "4981\n",
      "LL_active.bins.5k.bed\n",
      "5039\n"
     ]
    }
   ],
   "source": [
    "#bash\n",
    "cd /data/hodges_lab/ATAC-STARR_B-cells/data/hansen-fong/ATAC-STARR_bins/4_activity-filtered_bins/top_10K_regions/threshold_testing\n",
    "\n",
    "for i in *.5k.bed\n",
    "do\n",
    "    echo $i\n",
    "    sort -k1,1 -k2,2n $i | bedtools merge -c 1 -o count -i - | awk '{OFS=FS=\"\\t\"}{if ($4>=5) print}' - | wc -l\n",
    "done"
   ]
  },
  {
   "cell_type": "code",
   "execution_count": 2,
   "id": "5232fcb3",
   "metadata": {
    "ExecuteTime": {
     "end_time": "2022-06-30T16:49:59.837184Z",
     "start_time": "2022-06-30T16:49:53.379968Z"
    }
   },
   "outputs": [],
   "source": [
    "#write:\n",
    "cd /data/hodges_lab/ATAC-STARR_B-cells/data/hansen-fong/ATAC-STARR_bins/4_activity-filtered_bins/top_10K_regions/threshold_testing\n",
    "\n",
    "sort -k1,1 -k2,2n GG_active.bins.5k.bed | bedtools merge -c 1 -o count -i - | \\\n",
    "    awk '{OFS=FS=\"\\t\"}{if ($4>=5) print $1,$2,$3}' - > GG_active.regions.5k.bed\n",
    "    \n",
    "sort -k1,1 -k2,2n GL_active.bins.5k.bed | bedtools merge -c 1 -o count -i - | \\\n",
    "    awk '{OFS=FS=\"\\t\"}{if ($4>=5) print $1,$2,$3}' - > GL_active.regions.5k.bed\n",
    "    \n",
    "sort -k1,1 -k2,2n LG_active.bins.5k.bed | bedtools merge -c 1 -o count -i - | \\\n",
    "    awk '{OFS=FS=\"\\t\"}{if ($4>=5) print $1,$2,$3}' - > LG_active.regions.5k.bed\n",
    "    \n",
    "sort -k1,1 -k2,2n LL_active.bins.5k.bed | bedtools merge -c 1 -o count -i - | \\\n",
    "    awk '{OFS=FS=\"\\t\"}{if ($4>=5) print $1,$2,$3}' - > LL_active.regions.5k.bed"
   ]
  },
  {
   "cell_type": "markdown",
   "id": "87537810",
   "metadata": {},
   "source": [
    "### Compare thresholds on cis and trans effects numbers"
   ]
  },
  {
   "cell_type": "code",
   "execution_count": 1,
   "id": "02c24146",
   "metadata": {
    "ExecuteTime": {
     "end_time": "2022-10-03T16:11:28.374740Z",
     "start_time": "2022-10-03T16:11:20.845984Z"
    }
   },
   "outputs": [
    {
     "name": "stdout",
     "output_type": "stream",
     "text": [
      "34281\n",
      "10995\n",
      "1424\n",
      "16507\n",
      "14881\n",
      "3564\n",
      "17135\n",
      "13771\n",
      "3633\n"
     ]
    }
   ],
   "source": [
    "cd /data/hodges_lab/ATAC-STARR_B-cells/data/hansen-fong/ATAC-STARR_bins/4_activity-filtered_bins/top_10K_regions/threshold_testing\n",
    "\n",
    "#HH vs MM\n",
    "\n",
    "#Cons active count\n",
    "bedtools intersect -u -f 0.5 -F 0.5 -e -a GG_active.regions.50k.bed -b LL_active.regions.50k.bed | wc -l \n",
    "bedtools intersect -u -f 0.5 -F 0.5 -e -a GG_active.regions.25k.bed -b LL_active.regions.25k.bed | wc -l \n",
    "bedtools intersect -u -f 0.5 -F 0.5 -e -a GG_active.regions.5k.bed -b LL_active.regions.5k.bed | wc -l \n",
    "\n",
    "#HH_specific count and write\n",
    "bedtools intersect -v -f 0.5 -F 0.5 -e -a GG_active.regions.50k.bed -b LL_active.regions.50k.bed | wc -l\n",
    "bedtools intersect -v -f 0.5 -F 0.5 -e -a GG_active.regions.25k.bed -b LL_active.regions.25k.bed | wc -l \n",
    "bedtools intersect -v -f 0.5 -F 0.5 -e -a GG_active.regions.5k.bed -b LL_active.regions.5k.bed | wc -l \n",
    "\n",
    "bedtools intersect -v -f 0.5 -F 0.5 -e -a GG_active.regions.50k.bed -b LL_active.regions.50k.bed > hh-specific.50k.bed\n",
    "bedtools intersect -v -f 0.5 -F 0.5 -e -a GG_active.regions.25k.bed -b LL_active.regions.25k.bed > hh-specific.25k.bed\n",
    "bedtools intersect -v -f 0.5 -F 0.5 -e -a GG_active.regions.5k.bed -b LL_active.regions.5k.bed > hh-specific.5k.bed \n",
    "\n",
    "#write MM regions that do not overlap\n",
    "bedtools intersect -v -f 0.5 -F 0.5 -e -b GG_active.regions.50k.bed -a LL_active.regions.50k.bed | wc -l\n",
    "bedtools intersect -v -f 0.5 -F 0.5 -e -b GG_active.regions.25k.bed -a LL_active.regions.25k.bed | wc -l \n",
    "bedtools intersect -v -f 0.5 -F 0.5 -e -b GG_active.regions.5k.bed -a LL_active.regions.5k.bed | wc -l \n",
    "\n",
    "bedtools intersect -v -f 0.5 -F 0.5 -e -b GG_active.regions.50k.bed -a LL_active.regions.50k.bed > mm-specific.50k.bed\n",
    "bedtools intersect -v -f 0.5 -F 0.5 -e -b GG_active.regions.25k.bed -a LL_active.regions.25k.bed > mm-specific.25k.bed\n",
    "bedtools intersect -v -f 0.5 -F 0.5 -e -b GG_active.regions.5k.bed -a LL_active.regions.5k.bed > mm-specific.5k.bed "
   ]
  },
  {
   "cell_type": "code",
   "execution_count": 2,
   "id": "8d30327d",
   "metadata": {
    "ExecuteTime": {
     "end_time": "2022-10-03T16:11:31.676200Z",
     "start_time": "2022-10-03T16:11:28.379245Z"
    }
   },
   "outputs": [
    {
     "name": "stdout",
     "output_type": "stream",
     "text": [
      "8576\n",
      "10695\n",
      "3058\n",
      "8863\n",
      "8891\n",
      "2569\n"
     ]
    }
   ],
   "source": [
    "# Cis effects\n",
    "\n",
    "bedtools intersect -v -f 0.5 -F 0.5 -e -a hh-specific.50k.bed -b LG_active.regions.50k.bed | wc -l\n",
    "bedtools intersect -v -f 0.5 -F 0.5 -e -a hh-specific.25k.bed -b LG_active.regions.25k.bed | wc -l\n",
    "bedtools intersect -v -f 0.5 -F 0.5 -e -a hh-specific.5k.bed -b LG_active.regions.5k.bed | wc -l\n",
    "\n",
    "bedtools intersect -v -f 0.5 -F 0.5 -e -a mm-specific.50k.bed -b GL_active.regions.50k.bed | wc -l\n",
    "bedtools intersect -v -f 0.5 -F 0.5 -e -a mm-specific.25k.bed -b GL_active.regions.25k.bed | wc -l\n",
    "bedtools intersect -v -f 0.5 -F 0.5 -e -a mm-specific.5k.bed -b GL_active.regions.5k.bed | wc -l"
   ]
  },
  {
   "cell_type": "code",
   "execution_count": 3,
   "id": "ecc55443",
   "metadata": {
    "ExecuteTime": {
     "end_time": "2022-10-03T16:11:33.294689Z",
     "start_time": "2022-10-03T16:11:31.679870Z"
    }
   },
   "outputs": [
    {
     "name": "stdout",
     "output_type": "stream",
     "text": [
      "9370\n",
      "10613\n",
      "2913\n",
      "7347\n",
      "8947\n",
      "2782\n"
     ]
    }
   ],
   "source": [
    "# trans effects\n",
    "\n",
    "bedtools intersect -v -f 0.5 -F 0.5 -e -a hh-specific.50k.bed -b GL_active.regions.50k.bed | wc -l\n",
    "bedtools intersect -v -f 0.5 -F 0.5 -e -a hh-specific.25k.bed -b GL_active.regions.25k.bed | wc -l\n",
    "bedtools intersect -v -f 0.5 -F 0.5 -e -a hh-specific.5k.bed -b GL_active.regions.5k.bed | wc -l\n",
    "\n",
    "bedtools intersect -v -f 0.5 -F 0.5 -e -a mm-specific.50k.bed -b LG_active.regions.50k.bed | wc -l\n",
    "bedtools intersect -v -f 0.5 -F 0.5 -e -a mm-specific.25k.bed -b LG_active.regions.25k.bed | wc -l\n",
    "bedtools intersect -v -f 0.5 -F 0.5 -e -a mm-specific.5k.bed -b LG_active.regions.5k.bed | wc -l"
   ]
  },
  {
   "cell_type": "code",
   "execution_count": 1,
   "id": "b6d146fc",
   "metadata": {
    "ExecuteTime": {
     "end_time": "2022-10-03T16:18:36.477628Z",
     "start_time": "2022-10-03T16:18:32.168Z"
    }
   },
   "outputs": [
    {
     "name": "stderr",
     "output_type": "stream",
     "text": [
      "── \u001b[1mAttaching packages\u001b[22m ─────────────────────────────────────── tidyverse 1.3.1 ──\n",
      "\n",
      "\u001b[32m✔\u001b[39m \u001b[34mggplot2\u001b[39m 3.3.5     \u001b[32m✔\u001b[39m \u001b[34mpurrr  \u001b[39m 0.3.4\n",
      "\u001b[32m✔\u001b[39m \u001b[34mtibble \u001b[39m 3.1.6     \u001b[32m✔\u001b[39m \u001b[34mdplyr  \u001b[39m 1.0.7\n",
      "\u001b[32m✔\u001b[39m \u001b[34mtidyr  \u001b[39m 1.2.0     \u001b[32m✔\u001b[39m \u001b[34mstringr\u001b[39m 1.4.0\n",
      "\u001b[32m✔\u001b[39m \u001b[34mreadr  \u001b[39m 2.1.2     \u001b[32m✔\u001b[39m \u001b[34mforcats\u001b[39m 0.5.1\n",
      "\n",
      "── \u001b[1mConflicts\u001b[22m ────────────────────────────────────────── tidyverse_conflicts() ──\n",
      "\u001b[31m✖\u001b[39m \u001b[34mtidyr\u001b[39m::\u001b[32mextract()\u001b[39m   masks \u001b[34mmagrittr\u001b[39m::extract()\n",
      "\u001b[31m✖\u001b[39m \u001b[34mdplyr\u001b[39m::\u001b[32mfilter()\u001b[39m    masks \u001b[34mstats\u001b[39m::filter()\n",
      "\u001b[31m✖\u001b[39m \u001b[34mpurrr\u001b[39m::\u001b[32mflatten()\u001b[39m   masks \u001b[34mjsonlite\u001b[39m::flatten()\n",
      "\u001b[31m✖\u001b[39m \u001b[34mdplyr\u001b[39m::\u001b[32mlag()\u001b[39m       masks \u001b[34mstats\u001b[39m::lag()\n",
      "\u001b[31m✖\u001b[39m \u001b[34mpurrr\u001b[39m::\u001b[32mset_names()\u001b[39m masks \u001b[34mmagrittr\u001b[39m::set_names()\n",
      "\n"
     ]
    },
    {
     "data": {
      "image/png": "[encoded data removed]",
      "text/plain": [
       "plot without title"
      ]
     },
     "metadata": {
      "image/png": {
       "height": 600,
       "width": 360
      }
     },
     "output_type": "display_data"
    }
   ],
   "source": [
    "#r kernel\n",
    "options(repr.plot.width = 6, repr.plot.height = 10)\n",
    "ini <- ini::read.ini(\"../config.ini\")\n",
    "library(magrittr)\n",
    "library(tidyverse)\n",
    "\n",
    "#from picard\n",
    "df <- data.frame(threshold = c(\"50k\", \"25k\", \"10k\", \"5k\", \n",
    "                               \"50k\", \"25k\", \"10k\", \"5k\",\n",
    "                               \"50k\", \"25k\", \"10k\", \"5k\",\n",
    "                               \"50k\", \"25k\", \"10k\", \"5k\",\n",
    "                               \"50k\", \"25k\", \"10k\", \"5k\",\n",
    "                               \"50k\", \"25k\", \"10k\", \"5k\",\n",
    "                               \"50k\", \"25k\", \"10k\", \"5k\"),\n",
    "                 region_type = c(\"cons_active\", \"cons_active\", \"cons_active\", \"cons_active\",\n",
    "                                 \"HH-specific\", \"HH-specific\", \"HH-specific\", \"HH-specific\",\n",
    "                                 \"MM-specific\", \"MM-specific\", \"MM-specific\", \"MM-specific\",\n",
    "                                 \"HH-cis\", \"HH-cis\", \"HH-cis\", \"HH-cis\",\n",
    "                                 \"HH-trans\", \"HH-trans\", \"HH-trans\", \"HH-trans\",\n",
    "                                 \"MM-cis\", \"MM-cis\", \"MM-cis\", \"MM-cis\",\n",
    "                                 \"MM-trans\", \"MM-trans\", \"MM-trans\", \"MM-trans\"),\n",
    "                 region_count = c(34281, 10995, 3034, 1424,\n",
    "                                  16507, 14881, 6922, 3564,\n",
    "                                  17135, 13771, 6941, 3633,\n",
    "                                  8576, 10695, 5745, 3058,\n",
    "                                  9370, 10613, 5443, 2913,\n",
    "                                  8863, 8891, 5034, 2569,\n",
    "                                  7347, 8947, 5165, 2782))\n",
    "\n",
    "df$threshold %<>% factor(levels = c(\"50k\", \"25k\", \"10k\", \"5k\"))\n",
    "df$region_type %<>% factor(levels = c(\"cons_active\", \"HH-specific\", \"MM-specific\", \"HH-cis\", \"HH-trans\", \"MM-cis\", \"MM-trans\"))\n",
    "\n",
    "p <- ggplot(df, aes(x = region_type, y = region_count, fill = region_type)) +\n",
    "  geom_col(color = \"black\") +\n",
    "  facet_wrap(~threshold, scales = \"free\", ncol = 1) +\n",
    "  scale_fill_viridis_d(option = \"viridis\") +\n",
    "  theme_bw() +\n",
    "  theme(\n",
    "    panel.grid.major.x = element_blank(),\n",
    "    axis.ticks.x = element_blank(), \n",
    "    legend.position = \"none\"\n",
    "  ) +\n",
    "  xlab(\"\") +\n",
    "  ylab(\"region count\")\n",
    "\n",
    "p\n",
    "\n",
    "ggsave(p, filename = paste0(ini$ACTIVITY$plots, \"/threshold_region_counts.pdf\"), device = cairo_pdf, width = 6, height = 10)"
   ]
  },
  {
   "cell_type": "code",
   "execution_count": 40,
   "id": "8dcecb59",
   "metadata": {
    "ExecuteTime": {
     "end_time": "2022-06-30T17:54:02.634554Z",
     "start_time": "2022-06-30T17:54:02.591Z"
    }
   },
   "outputs": [
    {
     "data": {
      "image/png": "[encoded data removed]",
      "text/plain": [
       "plot without title"
      ]
     },
     "metadata": {
      "image/png": {
       "height": 180,
       "width": 360
      }
     },
     "output_type": "display_data"
    }
   ],
   "source": [
    "#r kernel\n",
    "options(repr.plot.width = 6, repr.plot.height = 3)\n",
    "ini <- ini::read.ini(\"../config.ini\")\n",
    "library(magrittr)\n",
    "library(tidyverse)\n",
    "\n",
    "#from picard\n",
    "df <- data.frame(threshold = c(\"50k\", \"25k\", \"10k\", \"5k\",\n",
    "                               \"50k\", \"25k\", \"10k\", \"5k\",\n",
    "                               \"50k\", \"25k\", \"10k\", \"5k\",\n",
    "                               \"50k\", \"25k\", \"10k\", \"5k\"),\n",
    "                 condition = c(\"HH\", \"HH\", \"HH\", \"HH\",\n",
    "                               \"HM\", \"HM\", \"HM\", \"HM\",\n",
    "                               \"MH\", \"MH\", \"MH\", \"MH\",\n",
    "                               \"MM\", \"MM\", \"MM\", \"MM\"),\n",
    "                 padj = c(0.828, 0.363, 0.0820, 0.0201,\n",
    "                          0.920, 0.370, 0.0635, 0.00735,\n",
    "                          0.863, 0.415, 0.110, 0.0304,\n",
    "                          0.815, 0.201, 0.0257, 0.00309))\n",
    "\n",
    "df$threshold %<>% factor(levels = c(\"50k\", \"25k\", \"10k\", \"5k\"))\n",
    "\n",
    "p <- ggplot(df, aes(x = threshold, y = padj, fill = condition)) +\n",
    "  geom_linerange(aes(xmin = threshold, xmax = threshold, ymin = 0, ymax = padj), color = \"black\", position = position_dodge(width = 0.5)) +\n",
    "  geom_point(size=5, alpha=1, shape=21, stroke=1, color = \"grey\", position = position_dodge(width = 0.5)) +\n",
    "  scale_fill_viridis_d(option = \"mako\") +\n",
    "  scale_y_continuous(breaks = seq(from = 0, to = 1, by = 0.1)) +\n",
    "  theme_bw() +\n",
    "  theme(\n",
    "    panel.grid.major.x = element_blank(),\n",
    "    axis.ticks.x = element_blank()\n",
    "  ) +\n",
    "  ylab(\"BH adjusted pvalue threshold\") +\n",
    "  xlab(\"\") +\n",
    "  coord_cartesian(ylim = c(0, 1))\n",
    "\n",
    "p\n",
    "\n",
    "ggsave(p, filename = paste0(ini$ACTIVITY$plots, \"/threshold_padj.pdf\"), device = cairo_pdf, width = 6, height = 3)"
   ]
  }
 ],
 "metadata": {
  "kernelspec": {
   "display_name": "R",
   "language": "R",
   "name": "ir"
  },
  "language_info": {
   "codemirror_mode": "r",
   "file_extension": ".r",
   "mimetype": "text/x-r-source",
   "name": "R",
   "pygments_lexer": "r",
   "version": "4.1.2"
  },
  "notify_time": "5",
  "toc": {
   "base_numbering": 1,
   "nav_menu": {},
   "number_sections": true,
   "sideBar": true,
   "skip_h1_title": true,
   "title_cell": "Table of Contents",
   "title_sidebar": "Contents",
   "toc_cell": false,
   "toc_position": {
    "height": "calc(100% - 180px)",
    "left": "10px",
    "top": "150px",
    "width": "265px"
   },
   "toc_section_display": false,
   "toc_window_display": true
  },
  "varInspector": {
   "cols": {
    "lenName": 16,
    "lenType": 16,
    "lenVar": 40
   },
   "kernels_config": {
    "python": {
     "delete_cmd_postfix": "",
     "delete_cmd_prefix": "del ",
     "library": "var_list.py",
     "varRefreshCmd": "print(var_dic_list())"
    },
    "r": {
     "delete_cmd_postfix": ") ",
     "delete_cmd_prefix": "rm(",
     "library": "var_list.r",
     "varRefreshCmd": "cat(var_dic_list()) "
    }
   },
   "position": {
    "height": "361.818px",
    "left": "715.801px",
    "right": "20px",
    "top": "183.98px",
    "width": "350px"
   },
   "types_to_exclude": [
    "module",
    "function",
    "builtin_function_or_method",
    "instance",
    "_Feature"
   ],
   "window_display": false
  }
 },
 "nbformat": 4,
 "nbformat_minor": 5
}
