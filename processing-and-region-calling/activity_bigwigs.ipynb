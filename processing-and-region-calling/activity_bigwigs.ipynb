{
 "cells": [
  {
   "cell_type": "markdown",
   "id": "e67d3080",
   "metadata": {},
   "source": [
    "# Create files for heatmapping"
   ]
  },
  {
   "cell_type": "markdown",
   "id": "ca33557a",
   "metadata": {},
   "source": [
    "## Generate bigwig files for each replicate "
   ]
  },
  {
   "cell_type": "code",
   "execution_count": 2,
   "id": "07912206",
   "metadata": {
    "deletable": false,
    "editable": false,
    "run_control": {
     "frozen": true
    },
    "scrolled": true
   },
   "outputs": [
    {
     "name": "stdout",
     "output_type": "stream",
     "text": [
      "#!/bin/bash\n",
      "#SBATCH --mail-user=tyler.j.hansen@vanderbilt.edu\n",
      "#SBATCH --mail-type=ALL\n",
      "#SBATCH --cpus-per-task=12\n",
      "#SBATCH --time=24:00:00\n",
      "#SBATCH --mem=128G\n",
      "#######################################################\n",
      "#Tyler Hansen | 12.15.2021\n",
      "#This script generates signal files for my ATAC-STARR replicates. \n",
      "\n",
      "#software\n",
      "module load Anaconda3\n",
      "source activate jupyter #see repo for required software and conda clone. \n",
      "\n",
      "#Paths\n",
      "BAM_DIR='/data/hodges_lab/ATAC-STARR_B-cells/data/ATAC-STARR/bams/individual_replicates'\n",
      "OUT_DIR='/data/hodges_lab/ATAC-STARR_B-cells/results/results_human-evolution/activity_bigwigs'\n",
      "\n",
      "for i in GM12878inGM12878 GM12878inLCL8664 LCL8664inGM12878 LCL8664inLCL8664\n",
      "do\n",
      "    for j in Rep1 Rep2 Rep3\n",
      "    do\n",
      "        python3 generate_ATAC-STARR_bigwig.py -d ${BAM_DIR}/${i}_DNA_${j}.filtered.pos-sorted.bam \\\n",
      "            -r ${BAM_DIR}/${i}_RNA_${j}.filtered.pos-sorted.bam -n ${i}_${j} \\\n",
      "            -o $OUT_DIR -bs 10 -p 12\n",
      "    done\n",
      "doneSubmitted batch job 36056053\n"
     ]
    }
   ],
   "source": [
    "%%bash \n",
    "cat generate_activity_bigwigs.slrm\n",
    "sbatch generate_activity_bigwigs.slrm"
   ]
  },
  {
   "cell_type": "code",
   "execution_count": 4,
   "id": "0dc72488",
   "metadata": {
    "deletable": false,
    "editable": false,
    "run_control": {
     "frozen": true
    },
    "scrolled": true
   },
   "outputs": [
    {
     "name": "stdout",
     "output_type": "stream",
     "text": [
      "usage: generate_ATAC-STARR_bigwig.py [-h] [-d DNA_BAM] [-r RNA_BAM] [-n NAME]\n",
      "                                     [-o OUT_DIR] [-bs BIN_SIZE] [-p THREADS]\n",
      "\n",
      "Generate ATAC-STARR bigWig\n",
      "\n",
      "required arguments:\n",
      "  -d DNA_BAM, --DNA_bam DNA_BAM\n",
      "                        reisolated plasmid DNA bam file\n",
      "  -r RNA_BAM, --RNA_bam RNA_BAM\n",
      "                        reporter RNA bam file\n",
      "  -n NAME, --name NAME  name of file prefix for output files\n",
      "  -o OUT_DIR, --out_dir OUT_DIR\n",
      "                        output directory\n",
      "\n",
      "optional arguments:\n",
      "  -h, --help            show this help message and exit\n",
      "  -bs BIN_SIZE, --bin_size BIN_SIZE\n",
      "                        binsize parameter for the bigwig generation (default:\n",
      "                        50bp)\n",
      "  -p THREADS, --threads THREADS\n",
      "                        number of threads (default: 1)\n"
     ]
    }
   ],
   "source": [
    "%%bash\n",
    "#The script above uses a python script I wrote. Here is its functionallity: \n",
    "python3 generate_ATAC-STARR_bigwig.py --help"
   ]
  },
  {
   "cell_type": "markdown",
   "id": "1f764637",
   "metadata": {},
   "source": [
    "## LiftOver rheMac10 bigwigs to hg38"
   ]
  },
  {
   "cell_type": "code",
   "execution_count": 14,
   "id": "1e27b83d",
   "metadata": {
    "ExecuteTime": {
     "end_time": "2021-12-17T16:01:37.354491Z",
     "start_time": "2021-12-17T15:42:23.935643Z"
    },
    "deletable": false,
    "editable": false,
    "run_control": {
     "frozen": true
    },
    "scrolled": false
   },
   "outputs": [],
   "source": [
    "%%bash\n",
    "#first remove extra chr names from bigwig. These do no handle well with crossmap\n",
    "\n",
    "DIR='/data/hodges_lab/ATAC-STARR_B-cells/results/results_human-evolution/activity_bigwigs'\n",
    "\n",
    "#stop on any error\n",
    "set -ue\n",
    "\n",
    "for name in LCL8664inLCL8664 LCL8664inGM12878\n",
    "do\n",
    "    for rep in Rep1 Rep2 Rep3\n",
    "    do\n",
    "        for file in RNA-to-DNA_log2 RNA-to-DNA_subtract DNA-coverage RNA-coverage\n",
    "        do\n",
    "            #VARIABLES\n",
    "            A=${DIR}/${name}_${rep}_${file}.bw\n",
    "            B=${DIR}/${name}_${rep}_${file}.bedGraph\n",
    "            C=${DIR}/${name}_${rep}_${file}.filtered.bedGraph\n",
    "            D=${DIR}/${name}_${rep}_${file}.filtered.bw\n",
    "\n",
    "            #convert to bedgraph\n",
    "            bigWigToBedGraph $A $B\n",
    "\n",
    "            #filter to remove anything not normal\n",
    "            awk '$1 !~ /_/' $B > $C\n",
    "\n",
    "            #convert back to bigwig\n",
    "            bedGraphToBigWig $C /home/hansetj1/chrom.sizes/rheMac10.chrom.sizes $D\n",
    "        done\n",
    "    done\n",
    "done"
   ]
  },
  {
   "cell_type": "code",
   "execution_count": 17,
   "id": "09d7812c",
   "metadata": {
    "ExecuteTime": {
     "end_time": "2021-12-17T19:13:21.937131Z",
     "start_time": "2021-12-17T19:13:21.823433Z"
    },
    "code_folding": [],
    "deletable": false,
    "editable": false,
    "run_control": {
     "frozen": true
    },
    "scrolled": true
   },
   "outputs": [
    {
     "name": "stdout",
     "output_type": "stream",
     "text": [
      "#!/bin/bash\n",
      "#SBATCH --mail-user=tyler.j.hansen@vanderbilt.edu\n",
      "#SBATCH --mail-type=ALL\n",
      "#SBATCH --cpus-per-task=1\n",
      "#SBATCH --time=72:00:00\n",
      "#SBATCH --mem=32G\n",
      "#######################################################\n",
      "#Tyler Hansen | 12.15.2021\n",
      "#This script generates signal files for my ATAC-STARR replicates. \n",
      "\n",
      "#software\n",
      "module load Anaconda3\n",
      "source activate jupyter \n",
      "\n",
      "#stop on any error and write out commands as they execute\n",
      "set -ue\n",
      "\n",
      "#Variables\n",
      "CHAIN='/data/hodges_lab/bin/map.chain/rheMac10ToHg38.over.chain.gz'\n",
      "DIR='/data/hodges_lab/ATAC-STARR_B-cells/results/results_human-evolution/activity_bigwigs'\n",
      "\n",
      "#do for comparison files first and then run on individual files\n",
      "for name in LCL8664inGM12878 LCL8664inLCL8664\n",
      "do \n",
      "    for rep in Rep1 Rep2 Rep3\n",
      "    do\n",
      "        for comparison in log2 subtract\n",
      "        do\n",
      "            #set file variables\n",
      "            IN=${DIR}/${name}_${rep}_RNA-to-DNA_${comparison}.filtered.bw\n",
      "            OUT=${DIR}/${name}_${rep}_RNA-to-DNA_${comparison}.filtered.hg38-crossmap #leave extension off. It will add one. \n",
      "            #convert using crossmap.\n",
      "            CrossMap.py bigwig $CHAIN $IN $OUT\n",
      "        done\n",
      "    done\n",
      "done\n",
      "\n",
      "for name in LCL8664inGM12878 LCL8664inLCL8664\n",
      "do \n",
      "    for rep in Rep_1 Rep_2 Rep_3\n",
      "    do\n",
      "        for type in DNA RNA\n",
      "        do\n",
      "            #set file variables\n",
      "            IN=${DIR}/${name}_${rep}_${type}-coverage.filtered.bw\n",
      "            OUT=${DIR}/${DIR}/${name}_${rep}_${type}-coverage.filtered.hg38-crossmap #leave extension off. It wioll add one. \n",
      "            #convert using crossmap.\n",
      "            CrossMap.py bigwig $CHAIN $IN $OUT\n",
      "        done\n",
      "    done\n",
      "doneSubmitted batch job 36101697\n"
     ]
    }
   ],
   "source": [
    "%%bash\n",
    "cat crossmap_bigwigs.slrm\n",
    "sbatch crossmap_bigwigs.slrm"
   ]
  },
  {
   "cell_type": "markdown",
   "id": "864e8c51",
   "metadata": {},
   "source": [
    "## Add to config.ini"
   ]
  },
  {
   "cell_type": "code",
   "execution_count": 1,
   "id": "af84f539",
   "metadata": {
    "ExecuteTime": {
     "end_time": "2022-04-21T21:20:07.355533Z",
     "start_time": "2022-04-21T21:19:55.309Z"
    }
   },
   "outputs": [],
   "source": [
    "#function\n",
    "append_section_to_ini <- function(ini_file, new_section) {\n",
    "    if (is.list(new_section)) {\n",
    "        ini <- ini::read.ini(ini_file)\n",
    "        ini <- c(ini,new_section)\n",
    "        ini::write.ini(x=ini, filepath=ini_file)\n",
    "    } else {\n",
    "        print('new_section is not a list')\n",
    "    }\n",
    "}\n",
    "\n",
    "#list of key-value pairs\n",
    "ACTIVITY_BW <- list(dir='/data/hodges_lab/ATAC-STARR_B-cells/results/results_human-evolution/activity_bigwigs', \n",
    "                      HH_merged='/data/hodges_lab/ATAC-STARR_B-cells/results/results_human-evolution/activity_bigwigs/GM12878inGM12878_merged_RNA-to-DNA_log2.bw', \n",
    "                      HM_merged='/data/hodges_lab/ATAC-STARR_B-cells/results/results_human-evolution/activity_bigwigs/GM12878inLCL8664_merged_RNA-to-DNA_log2.bw', \n",
    "                      MH_merged='/data/hodges_lab/ATAC-STARR_B-cells/results/results_human-evolution/activity_bigwigs/LCL8664inGM12878_merged_RNA-to-DNA_log2.filtered.hg38-crossmap.bw',\n",
    "                      MM_merged='/data/hodges_lab/ATAC-STARR_B-cells/results/results_human-evolution/activity_bigwigs/LCL8664inLCL8664_merged_RNA-to-DNA_log2.filtered.hg38-crossmap.bw', \n",
    "                      HH_R1='/data/hodges_lab/ATAC-STARR_B-cells/results/results_human-evolution/activity_bigwigs/GM12878inGM12878_Rep1_RNA-to-DNA_log2.bw',\n",
    "                      HH_R2='/data/hodges_lab/ATAC-STARR_B-cells/results/results_human-evolution/activity_bigwigs/GM12878inGM12878_Rep2_RNA-to-DNA_log2.bw',\n",
    "                      HH_R3='/data/hodges_lab/ATAC-STARR_B-cells/results/results_human-evolution/activity_bigwigs/GM12878inGM12878_Rep3_RNA-to-DNA_log2.bw',\n",
    "                      HM_R1='/data/hodges_lab/ATAC-STARR_B-cells/results/results_human-evolution/activity_bigwigs/GM12878inLCL8664_Rep1_RNA-to-DNA_log2.bw',\n",
    "                      HM_R2='/data/hodges_lab/ATAC-STARR_B-cells/results/results_human-evolution/activity_bigwigs/GM12878inLCL8664_Rep2_RNA-to-DNA_log2.bw',\n",
    "                      HM_R3='/data/hodges_lab/ATAC-STARR_B-cells/results/results_human-evolution/activity_bigwigs/GM12878inLCL8664_Rep3_RNA-to-DNA_log2.bw',\n",
    "                      MH_R1='/data/hodges_lab/ATAC-STARR_B-cells/results/results_human-evolution/activity_bigwigs/LCL8664inGM12878_Rep1_RNA-to-DNA_log2.filtered.hg38-crossmap.bw',\n",
    "                      MH_R2='/data/hodges_lab/ATAC-STARR_B-cells/results/results_human-evolution/activity_bigwigs/LCL8664inGM12878_Rep2_RNA-to-DNA_log2.filtered.hg38-crossmap.bw',\n",
    "                      MH_R3='/data/hodges_lab/ATAC-STARR_B-cells/results/results_human-evolution/activity_bigwigs/LCL8664inGM12878_Rep3_RNA-to-DNA_log2.filtered.hg38-crossmap.bw',\n",
    "                      MM_R1='/data/hodges_lab/ATAC-STARR_B-cells/results/results_human-evolution/activity_bigwigs/LCL8664inLCL8664_Rep1_RNA-to-DNA_log2.filtered.hg38-crossmap.bw',\n",
    "                      MM_R2='/data/hodges_lab/ATAC-STARR_B-cells/results/results_human-evolution/activity_bigwigs/LCL8664inLCL8664_Rep2_RNA-to-DNA_log2.filtered.hg38-crossmap.bw',\n",
    "                      MM_R3='/data/hodges_lab/ATAC-STARR_B-cells/results/results_human-evolution/activity_bigwigs/LCL8664inLCL8664_Rep3_RNA-to-DNA_log2.filtered.hg38-crossmap.bw')\n",
    "\n",
    "#list of section, resulting in list of list.\n",
    "new_section <- list(ACTIVITY_BW=ACTIVITY_BW)\n",
    "\n",
    "#write ini\n",
    "append_section_to_ini(\"../config.ini\", new_section)"
   ]
  }
 ],
 "metadata": {
  "kernelspec": {
   "display_name": "R",
   "language": "R",
   "name": "ir"
  },
  "language_info": {
   "codemirror_mode": "r",
   "file_extension": ".r",
   "mimetype": "text/x-r-source",
   "name": "R",
   "pygments_lexer": "r",
   "version": "4.1.2"
  },
  "notify_time": "5",
  "toc": {
   "base_numbering": 1,
   "nav_menu": {},
   "number_sections": true,
   "sideBar": true,
   "skip_h1_title": true,
   "title_cell": "Table of Contents",
   "title_sidebar": "Contents",
   "toc_cell": false,
   "toc_position": {
    "height": "calc(100% - 180px)",
    "left": "10px",
    "top": "150px",
    "width": "265px"
   },
   "toc_section_display": false,
   "toc_window_display": true
  },
  "varInspector": {
   "cols": {
    "lenName": 16,
    "lenType": 16,
    "lenVar": 40
   },
   "kernels_config": {
    "python": {
     "delete_cmd_postfix": "",
     "delete_cmd_prefix": "del ",
     "library": "var_list.py",
     "varRefreshCmd": "print(var_dic_list())"
    },
    "r": {
     "delete_cmd_postfix": ") ",
     "delete_cmd_prefix": "rm(",
     "library": "var_list.r",
     "varRefreshCmd": "cat(var_dic_list()) "
    }
   },
   "position": {
    "height": "361.818px",
    "left": "715.801px",
    "right": "20px",
    "top": "183.98px",
    "width": "350px"
   },
   "types_to_exclude": [
    "module",
    "function",
    "builtin_function_or_method",
    "instance",
    "_Feature"
   ],
   "window_display": false
  }
 },
 "nbformat": 4,
 "nbformat_minor": 5
}
